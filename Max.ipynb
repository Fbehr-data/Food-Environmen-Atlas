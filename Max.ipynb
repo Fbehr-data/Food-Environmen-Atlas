{
 "cells": [
  {
   "cell_type": "markdown",
   "metadata": {},
   "source": [
    "# Baseline model notebook\n",
    "*by Max*\n",
    "\n",
    "In this notebook I'll atempt to create a simple baseline model for our data.\n",
    "The first step is to connect the Google Drive, import the modules and load the data. "
   ]
  },
  {
   "cell_type": "markdown",
   "metadata": {},
   "source": [
    "Import the modules, set the working directories and load the data."
   ]
  },
  {
   "cell_type": "code",
   "execution_count": 1,
   "metadata": {},
   "outputs": [],
   "source": [
    "# Import the needed modules\n",
    "import numpy as np\n",
    "import pandas as pd"
   ]
  },
  {
   "cell_type": "code",
   "execution_count": 47,
   "metadata": {},
   "outputs": [],
   "source": [
    "# Set the directory of the data \n",
    "OUTPUT_DIR = './data'\n",
    "# Load the base data from the CSV files\n",
    "df_meta = pd.read_csv(f'{OUTPUT_DIR}/meta_data_fields_bands.csv')\n",
    "df = pd.read_csv(f'{OUTPUT_DIR}/mean_band_perField_perDate.csv')"
   ]
  },
  {
   "cell_type": "code",
   "execution_count": 49,
   "metadata": {},
   "outputs": [
    {
     "data": {
      "text/html": [
       "<div>\n",
       "<style scoped>\n",
       "    .dataframe tbody tr th:only-of-type {\n",
       "        vertical-align: middle;\n",
       "    }\n",
       "\n",
       "    .dataframe tbody tr th {\n",
       "        vertical-align: top;\n",
       "    }\n",
       "\n",
       "    .dataframe thead th {\n",
       "        text-align: right;\n",
       "    }\n",
       "</style>\n",
       "<table border=\"1\" class=\"dataframe\">\n",
       "  <thead>\n",
       "    <tr style=\"text-align: right;\">\n",
       "      <th></th>\n",
       "      <th>field_id</th>\n",
       "      <th>tile_id</th>\n",
       "      <th>label</th>\n",
       "      <th>dates</th>\n",
       "    </tr>\n",
       "  </thead>\n",
       "  <tbody>\n",
       "    <tr>\n",
       "      <th>0</th>\n",
       "      <td>1</td>\n",
       "      <td>2171</td>\n",
       "      <td>4</td>\n",
       "      <td>[numpy.datetime64('2017-04-01T00:00:00.0000000...</td>\n",
       "    </tr>\n",
       "    <tr>\n",
       "      <th>1</th>\n",
       "      <td>2</td>\n",
       "      <td>1703</td>\n",
       "      <td>7</td>\n",
       "      <td>[numpy.datetime64('2017-04-01T00:00:00.0000000...</td>\n",
       "    </tr>\n",
       "    <tr>\n",
       "      <th>2</th>\n",
       "      <td>3</td>\n",
       "      <td>2214</td>\n",
       "      <td>6</td>\n",
       "      <td>[numpy.datetime64('2017-04-01T00:00:00.0000000...</td>\n",
       "    </tr>\n",
       "    <tr>\n",
       "      <th>3</th>\n",
       "      <td>4</td>\n",
       "      <td>2526</td>\n",
       "      <td>8</td>\n",
       "      <td>[numpy.datetime64('2017-04-01T00:00:00.0000000...</td>\n",
       "    </tr>\n",
       "    <tr>\n",
       "      <th>4</th>\n",
       "      <td>6</td>\n",
       "      <td>544</td>\n",
       "      <td>4</td>\n",
       "      <td>[numpy.datetime64('2017-04-01T00:00:00.0000000...</td>\n",
       "    </tr>\n",
       "  </tbody>\n",
       "</table>\n",
       "</div>"
      ],
      "text/plain": [
       "   field_id  tile_id  label                                              dates\n",
       "0         1     2171      4  [numpy.datetime64('2017-04-01T00:00:00.0000000...\n",
       "1         2     1703      7  [numpy.datetime64('2017-04-01T00:00:00.0000000...\n",
       "2         3     2214      6  [numpy.datetime64('2017-04-01T00:00:00.0000000...\n",
       "3         4     2526      8  [numpy.datetime64('2017-04-01T00:00:00.0000000...\n",
       "4         6      544      4  [numpy.datetime64('2017-04-01T00:00:00.0000000..."
      ]
     },
     "execution_count": 49,
     "metadata": {},
     "output_type": "execute_result"
    }
   ],
   "source": [
    "df_meta.head()"
   ]
  },
  {
   "cell_type": "code",
   "execution_count": 50,
   "metadata": {},
   "outputs": [
    {
     "data": {
      "text/html": [
       "<div>\n",
       "<style scoped>\n",
       "    .dataframe tbody tr th:only-of-type {\n",
       "        vertical-align: middle;\n",
       "    }\n",
       "\n",
       "    .dataframe tbody tr th {\n",
       "        vertical-align: top;\n",
       "    }\n",
       "\n",
       "    .dataframe thead th {\n",
       "        text-align: right;\n",
       "    }\n",
       "</style>\n",
       "<table border=\"1\" class=\"dataframe\">\n",
       "  <thead>\n",
       "    <tr style=\"text-align: right;\">\n",
       "      <th></th>\n",
       "      <th>field_id</th>\n",
       "      <th>date</th>\n",
       "      <th>label</th>\n",
       "      <th>B02</th>\n",
       "      <th>B03</th>\n",
       "      <th>B04</th>\n",
       "      <th>B08</th>\n",
       "      <th>B11</th>\n",
       "      <th>B12</th>\n",
       "      <th>CLM</th>\n",
       "    </tr>\n",
       "  </thead>\n",
       "  <tbody>\n",
       "    <tr>\n",
       "      <th>0</th>\n",
       "      <td>1</td>\n",
       "      <td>2017-04-01</td>\n",
       "      <td>4</td>\n",
       "      <td>21.934084</td>\n",
       "      <td>29.180065</td>\n",
       "      <td>35.554660</td>\n",
       "      <td>62.490353</td>\n",
       "      <td>68.39710</td>\n",
       "      <td>46.040190</td>\n",
       "      <td>253.770100</td>\n",
       "    </tr>\n",
       "    <tr>\n",
       "      <th>1</th>\n",
       "      <td>1</td>\n",
       "      <td>2017-04-11</td>\n",
       "      <td>4</td>\n",
       "      <td>14.844051</td>\n",
       "      <td>23.114147</td>\n",
       "      <td>30.607718</td>\n",
       "      <td>58.736336</td>\n",
       "      <td>73.43569</td>\n",
       "      <td>48.863342</td>\n",
       "      <td>0.000000</td>\n",
       "    </tr>\n",
       "    <tr>\n",
       "      <th>2</th>\n",
       "      <td>1</td>\n",
       "      <td>2017-04-21</td>\n",
       "      <td>4</td>\n",
       "      <td>13.385852</td>\n",
       "      <td>21.596462</td>\n",
       "      <td>29.223473</td>\n",
       "      <td>57.065918</td>\n",
       "      <td>73.66881</td>\n",
       "      <td>49.313503</td>\n",
       "      <td>0.000000</td>\n",
       "    </tr>\n",
       "    <tr>\n",
       "      <th>3</th>\n",
       "      <td>1</td>\n",
       "      <td>2017-05-01</td>\n",
       "      <td>4</td>\n",
       "      <td>15.408361</td>\n",
       "      <td>22.471062</td>\n",
       "      <td>29.371382</td>\n",
       "      <td>56.434082</td>\n",
       "      <td>71.05788</td>\n",
       "      <td>46.557877</td>\n",
       "      <td>36.897106</td>\n",
       "    </tr>\n",
       "    <tr>\n",
       "      <th>4</th>\n",
       "      <td>1</td>\n",
       "      <td>2017-05-11</td>\n",
       "      <td>4</td>\n",
       "      <td>54.829582</td>\n",
       "      <td>65.739550</td>\n",
       "      <td>72.906750</td>\n",
       "      <td>95.672030</td>\n",
       "      <td>66.14791</td>\n",
       "      <td>58.643085</td>\n",
       "      <td>255.000000</td>\n",
       "    </tr>\n",
       "  </tbody>\n",
       "</table>\n",
       "</div>"
      ],
      "text/plain": [
       "   field_id        date  label        B02        B03        B04        B08  \\\n",
       "0         1  2017-04-01      4  21.934084  29.180065  35.554660  62.490353   \n",
       "1         1  2017-04-11      4  14.844051  23.114147  30.607718  58.736336   \n",
       "2         1  2017-04-21      4  13.385852  21.596462  29.223473  57.065918   \n",
       "3         1  2017-05-01      4  15.408361  22.471062  29.371382  56.434082   \n",
       "4         1  2017-05-11      4  54.829582  65.739550  72.906750  95.672030   \n",
       "\n",
       "        B11        B12         CLM  \n",
       "0  68.39710  46.040190  253.770100  \n",
       "1  73.43569  48.863342    0.000000  \n",
       "2  73.66881  49.313503    0.000000  \n",
       "3  71.05788  46.557877   36.897106  \n",
       "4  66.14791  58.643085  255.000000  "
      ]
     },
     "execution_count": 50,
     "metadata": {},
     "output_type": "execute_result"
    }
   ],
   "source": [
    "df.head()"
   ]
  },
  {
   "cell_type": "markdown",
   "metadata": {},
   "source": [
    "Convert the absolute date to relative date in form of days since april."
   ]
  },
  {
   "cell_type": "code",
   "execution_count": 29,
   "metadata": {},
   "outputs": [],
   "source": [
    "# Convert the date column to datetime object\n",
    "df['date'] = pd.to_datetime(df['date'])#\n",
    "# Calculate the days from april as column to get a relative time\n",
    "df['days_from_april_days'] =  df['date'] - pd.to_datetime('2017-04-01')\n",
    "df['days_from_april_days'] = df['days_from_april_days'].dt.days"
   ]
  },
  {
   "cell_type": "markdown",
   "metadata": {},
   "source": [
    "## Baseline Model\n",
    "\n",
    "For the first base model, we only worked on the mean bands for each field and chose a RandomForest classifier, as this is a commonly used model for raster data. \n",
    "\n",
    "We chose the F1 score and Accuracy as metrics, since the main goal is to correctly identify as many plants as possible. Neither FP nor FN are particularly bad or good, hence the harmonic mean F1. In addition, we also have an eye on the cross-entropy, because later we will deal with the probabilities with which a class is assigned to a field. "
   ]
  },
  {
   "cell_type": "markdown",
   "metadata": {},
   "source": [
    "Here we do the train-test-split of the data."
   ]
  },
  {
   "cell_type": "code",
   "execution_count": 30,
   "metadata": {},
   "outputs": [],
   "source": [
    "# Set a random seed\n",
    "RSEED = 42\n",
    "np.random.seed(RSEED)"
   ]
  },
  {
   "cell_type": "code",
   "execution_count": 31,
   "metadata": {},
   "outputs": [],
   "source": [
    "# Split train and test\n",
    "# Use the field_ids to split the data to train and test\n",
    "train_size = 0.7\n",
    "\n",
    "n_fields = df['field_id'].nunique()\n",
    "train_fields = np.random.choice(df['field_id'].unique(), int(n_fields * train_size), replace=False)\n",
    "test_fields = df['field_id'].unique()[~np.in1d(df['field_id'].unique(), train_fields)]"
   ]
  },
  {
   "cell_type": "code",
   "execution_count": 32,
   "metadata": {},
   "outputs": [],
   "source": [
    "X_train = df[df['field_id'].isin(train_fields)]\n",
    "X_train = X_train.drop(columns=['label', 'field_id', 'date'])\n",
    "\n",
    "X_test = df[df['field_id'].isin(test_fields)]\n",
    "X_test = X_test.drop(columns=['label', 'field_id', 'date'])\n",
    "\n",
    "y_train = df[df['field_id'].isin(train_fields)]['label']\n",
    "y_train = y_train.astype(int)\n",
    "y_test = df[df['field_id'].isin(test_fields)]['label']"
   ]
  },
  {
   "cell_type": "code",
   "execution_count": null,
   "metadata": {},
   "outputs": [],
   "source": [
    "labels = y_train.unique()"
   ]
  },
  {
   "cell_type": "markdown",
   "metadata": {},
   "source": [
    "Here the modelling is done."
   ]
  },
  {
   "cell_type": "code",
   "execution_count": 35,
   "metadata": {},
   "outputs": [
    {
     "name": "stderr",
     "output_type": "stream",
     "text": [
      "[Parallel(n_jobs=-1)]: Using backend ThreadingBackend with 8 concurrent workers.\n",
      "[Parallel(n_jobs=-1)]: Done  34 tasks      | elapsed:  1.9min\n"
     ]
    }
   ],
   "source": [
    "from sklearn.ensemble import RandomForestClassifier\n",
    "# Fitting the RF model\n",
    "rf = RandomForestClassifier(random_state = RSEED, n_jobs = -1, verbose=1)\n",
    "rf.fit(X_train, y_train)"
   ]
  },
  {
   "cell_type": "code",
   "execution_count": null,
   "metadata": {},
   "outputs": [],
   "source": [
    "y_pred_train = rf.predict(X_train)\n",
    "y_pred_test = rf.predict(X_test)"
   ]
  },
  {
   "cell_type": "code",
   "execution_count": null,
   "metadata": {},
   "outputs": [],
   "source": [
    "y_proba_train = rf.predict_proba(X_train)\n",
    "y_proba_test = rf.predict_proba(X_test)"
   ]
  },
  {
   "cell_type": "markdown",
   "metadata": {},
   "source": [
    "And the results of our first model. "
   ]
  },
  {
   "cell_type": "code",
   "execution_count": null,
   "metadata": {},
   "outputs": [],
   "source": [
    "from sklearn.metrics import accuracy_score, f1_score, log_loss\n",
    "\n",
    "print(f'Accuracy on train data: {accuracy_score(y_train, y_pred_train)}')\n",
    "print(f'Accuracy on test data: {accuracy_score(y_test, y_pred_test)}')\n",
    "print('---'*10)\n",
    "print(f'F1-score on train data: {f1_score(y_train, y_pred_train, average=\"macro\")}')\n",
    "print(f'F1-score on test data: {f1_score(y_test, y_pred_test, average=\"macro\")}')\n",
    "print('---'*10)\n",
    "print(f'Cross-entropy on train data: {log_loss(y_train, y_proba_train, labels=labels)}')\n",
    "print(f'Cross-entropy on test data: {log_loss(y_test, y_proba_test, labels=labels)}')\n",
    "print('---'*10)"
   ]
  }
 ],
 "metadata": {
  "kernelspec": {
   "display_name": "Python 3.9.8 ('.venv': venv)",
   "language": "python",
   "name": "python3"
  },
  "language_info": {
   "codemirror_mode": {
    "name": "ipython",
    "version": 3
   },
   "file_extension": ".py",
   "mimetype": "text/x-python",
   "name": "python",
   "nbconvert_exporter": "python",
   "pygments_lexer": "ipython3",
   "version": "3.9.8"
  },
  "orig_nbformat": 4,
  "vscode": {
   "interpreter": {
    "hash": "4f09b4927e4ba45dbad33b3bb266e4177c67ff52e8879550fc4abd145d1e96f6"
   }
  }
 },
 "nbformat": 4,
 "nbformat_minor": 2
}
