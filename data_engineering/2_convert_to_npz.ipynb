{
 "cells": [
  {
   "cell_type": "markdown",
   "metadata": {},
   "source": [
    "# Extracting and saving the field data\n",
    "This notebook is meant to extract the pixel information of each field for each band and each available time point."
   ]
  },
  {
   "cell_type": "code",
   "execution_count": 1,
   "metadata": {},
   "outputs": [],
   "source": [
    "# import the needed modules\n",
    "import os, sys, pickle, multiprocessing\n",
    "import concurrent.futures\n",
    "import numpy as np, pandas as pd\n",
    "import rasterio\n",
    "from pathlib import Path\n",
    "from collections import OrderedDict\n",
    "from tqdm.auto import tqdm\n",
    "from extract_function import extract_s2"
   ]
  },
  {
   "cell_type": "code",
   "execution_count": 2,
   "metadata": {},
   "outputs": [],
   "source": [
    "# Set the directories\n",
    "DATA_DIR = '../data'\n",
    "\n",
    "OUTPUT_DIR = f'{DATA_DIR}/images'\n",
    "os.makedirs(OUTPUT_DIR,exist_ok=True)\n",
    "OUTPUT_DIR_BANDS = f'{OUTPUT_DIR}/bands-raw' \n",
    "os.makedirs(OUTPUT_DIR_BANDS,exist_ok=True)\n",
    "DOWNLOAD_S2 = OrderedDict({\n",
    "    'B01': False,\n",
    "    'B02': True,    #Blue\n",
    "    'B03': True,    #Green\n",
    "    'B04': True,    #Red\n",
    "    'B05': False,\n",
    "    'B06': False,\n",
    "    'B07': False,\n",
    "    'B08': True,    #NIR\n",
    "    'B8A': False,   #NIR2\n",
    "    'B09': False,\n",
    "    'B11': True,    #SWIR1\n",
    "    'B12': True,    #SWIR2\n",
    "    'CLM': True\n",
    "})"
   ]
  },
  {
   "cell_type": "code",
   "execution_count": 3,
   "metadata": {},
   "outputs": [],
   "source": [
    "# Load the data\n",
    "df_images = pd.read_csv(f'{OUTPUT_DIR}/images_info_data.csv')\n",
    "df_images['date'] = df_images.datetime.astype(np.datetime64)\n",
    "bands = [k for k,v in DOWNLOAD_S2.items() if v==True]"
   ]
  },
  {
   "cell_type": "markdown",
   "metadata": {},
   "source": [
    "Here we extract the filed information of the tile data and save the information of each field as a .npz file. To speed it up, we use a multiprocess aproach. \n",
    "The function used to extract the data is in the engineering_functions.py."
   ]
  },
  {
   "cell_type": "code",
   "execution_count": 14,
   "metadata": {},
   "outputs": [
    {
     "name": "stdout",
     "output_type": "stream",
     "text": [
      "extracting data from 2650 tiles for bands ['B02', 'B03', 'B04', 'B08', 'B11', 'B12', 'CLM']\n",
      "processesing on : 8 cpus\n",
      "Task # 1 process tiles 331\n",
      "Task # 2 process tiles 331\n",
      "Task # 3 process tiles 331\n",
      "Task # 4 process tiles 332\n",
      "Task # 5 process tiles 331\n",
      "Task # 6 process tiles 331\n",
      "Task # 7 process tiles 331\n",
      "Task # 8 process tiles 332\n"
     ]
    },
    {
     "name": "stderr",
     "output_type": "stream",
     "text": [
      "100%|██████████| 331/331 [1:07:03<00:00, 12.15s/it]\n",
      "100%|██████████| 331/331 [1:07:46<00:00, 12.29s/it]\n",
      "100%|██████████| 331/331 [1:08:55<00:00, 12.49s/it]\n",
      "100%|██████████| 331/331 [1:09:44<00:00, 12.64s/it]\n",
      "100%|██████████| 331/331 [1:09:50<00:00, 12.66s/it]\n",
      "100%|██████████| 332/332 [1:10:01<00:00, 12.66s/it]\n",
      "100%|██████████| 331/331 [1:11:41<00:00, 12.99s/it]\n",
      "100%|██████████| 332/332 [1:12:01<00:00, 13.02s/it]\n"
     ]
    }
   ],
   "source": [
    "# Create a sorted dataframe by the tile ids\n",
    "tile_ids = sorted(df_images.tile_id.unique())\n",
    "print(f'extracting data from {len(tile_ids)} tiles for bands {bands}')\n",
    "\n",
    "# Check the number of CPU cores\n",
    "num_processes = multiprocessing.cpu_count()\n",
    "print(f'processesing on : {num_processes} cpus')\n",
    "\n",
    "# Create a pool of processes equal to the number of cores\n",
    "pool = multiprocessing.Pool(num_processes)\n",
    "# Calculate the number of tiles each core must process\n",
    "tiles_per_process = len(tile_ids) / num_processes\n",
    "# Create the a number of tile id batches equal to the number of cores\n",
    "batches = []\n",
    "for num_process in range(1, num_processes + 1):\n",
    "    start_index = (num_process - 1) * tiles_per_process + 1\n",
    "    end_index = num_process * tiles_per_process\n",
    "    start_index = int(start_index)\n",
    "    end_index = int(end_index)\n",
    "    sublist = tile_ids[start_index - 1:end_index]\n",
    "    batches.append((sublist,))\n",
    "    print(f\"Task # {num_process} process tiles {len(sublist)}\")\n",
    "\n",
    "# Set up the processes with the extract function and the given tile id batch \n",
    "results = []\n",
    "for batch in batches:\n",
    "    results.append(pool.apply_async(extract_s2, args=batch))\n",
    "\n",
    "# Start the processes and catch the results\n",
    "all_results = []\n",
    "for result in results:\n",
    "    df = result.get()\n",
    "    all_results.append(df)"
   ]
  },
  {
   "cell_type": "markdown",
   "metadata": {},
   "source": [
    "After processing and saving the field data we now save the meta data to all the files in a pickle file."
   ]
  },
  {
   "cell_type": "code",
   "execution_count": 15,
   "metadata": {},
   "outputs": [
    {
     "name": "stdout",
     "output_type": "stream",
     "text": [
      "Training bands saved to ../data/images\n",
      "Training metadata saved to ../data/images/meta_data_fields_bands.pkl\n"
     ]
    }
   ],
   "source": [
    "# Create a data frame from the meta data results and save it as pickle file\n",
    "df_meta = pd.concat(all_results)\n",
    "df_meta = df_meta.sort_values(by=['field_id']).reset_index(drop=True)\n",
    "df_meta.to_csv(f'{DATA_DIR}/meta_data_fields_bands.csv', index=False)\n",
    "df_meta.to_pickle(f'{DATA_DIR}/meta_data_fields_bands.pkl')\n",
    "\n",
    "print(f'Training bands saved to {OUTPUT_DIR_BANDS}')\n",
    "print(f'Training metadata saved to {DATA_DIR}/meta_data_fields_bands.pkl')"
   ]
  },
  {
   "cell_type": "markdown",
   "metadata": {},
   "source": [
    "---\n",
    "### Testing area\n",
    "Don't run these cells, they were for me to figure out how the extract function in the extract_data.py works!"
   ]
  },
  {
   "cell_type": "code",
   "execution_count": null,
   "metadata": {},
   "outputs": [],
   "source": [
    "fields = []\n",
    "labels = []\n",
    "dates = []\n",
    "tiles = []\n",
    "\n",
    "for tile_id in tqdm(tile_ids):\n",
    "    df_tile = df_images[df_images['tile_id']==tile_id]\n",
    "    tile_dates = sorted(df_tile[df_tile['satellite_platform']=='s2']['date'].unique())\n",
    "    \n",
    "    ARR = {}\n",
    "    for band in bands:\n",
    "        band_arr = []\n",
    "        for date in tile_dates:\n",
    "            src = rasterio.open(df_tile[(df_tile['date']==date) & (df_tile['asset']==band)]['file_path'].values[0])\n",
    "            band_arr.append(src.read(1))\n",
    "        ARR[band] = np.array(band_arr,dtype='float32')\n",
    "\n",
    "    multi_band_arr = np.stack(list(ARR.values())).astype(np.float32)\n",
    "    multi_band_arr = multi_band_arr.transpose(2,3,0,1) # w, h, bands, dates\n",
    "    label_src = rasterio.open(df_tile[df_tile['asset']=='labels']['file_path'].values[0])\n",
    "    label_array = label_src.read(1)\n",
    "    field_src = rasterio.open(df_tile[df_tile['asset']=='field_ids']['file_path'].values[0])\n",
    "    fields_arr = field_src.read(1) #fields in tile"
   ]
  },
  {
   "cell_type": "code",
   "execution_count": 69,
   "metadata": {},
   "outputs": [
    {
     "data": {
      "text/plain": [
       "(38, 256, 256)"
      ]
     },
     "execution_count": 69,
     "metadata": {},
     "output_type": "execute_result"
    }
   ],
   "source": [
    "ARR['B02'].shape"
   ]
  },
  {
   "cell_type": "code",
   "execution_count": 72,
   "metadata": {},
   "outputs": [
    {
     "data": {
      "text/plain": [
       "(1, 38, 256, 256)"
      ]
     },
     "execution_count": 72,
     "metadata": {},
     "output_type": "execute_result"
    }
   ],
   "source": [
    "multi_band_arr = np.stack(list(ARR.values())).astype(np.float32)\n",
    "multi_band_arr.shape"
   ]
  },
  {
   "cell_type": "code",
   "execution_count": 73,
   "metadata": {},
   "outputs": [
    {
     "data": {
      "text/plain": [
       "(256, 256, 1, 38)"
      ]
     },
     "execution_count": 73,
     "metadata": {},
     "output_type": "execute_result"
    }
   ],
   "source": [
    "multi_band_arr = multi_band_arr.transpose(2,3,0,1)\n",
    "multi_band_arr.shape"
   ]
  },
  {
   "cell_type": "code",
   "execution_count": 76,
   "metadata": {},
   "outputs": [
    {
     "data": {
      "text/plain": [
       "(256, 256)"
      ]
     },
     "execution_count": 76,
     "metadata": {},
     "output_type": "execute_result"
    }
   ],
   "source": [
    "label_src = rasterio.open(df_tile[df_tile['asset']=='labels']['file_path'].values[0])\n",
    "label_array = label_src.read(1)\n",
    "label_array.shape"
   ]
  },
  {
   "cell_type": "code",
   "execution_count": 12,
   "metadata": {},
   "outputs": [
    {
     "data": {
      "text/plain": [
       "array([[69605, 69605, 69605, ...,     0,     0,     0],\n",
       "       [69605, 69605, 69605, ...,     0,     0,     0],\n",
       "       [    0,     0,     0, ...,     0,     0,     0],\n",
       "       ...,\n",
       "       [70941, 70941, 70941, ...,     0,     0,     0],\n",
       "       [70941, 70941, 70941, ...,     0,     0,     0],\n",
       "       [    0,     0,     0, ...,     0,     0,     0]], dtype=uint32)"
      ]
     },
     "execution_count": 12,
     "metadata": {},
     "output_type": "execute_result"
    }
   ],
   "source": [
    "field_src = rasterio.open(df_tile[df_tile['asset']=='field_ids']['file_path'].values[0])\n",
    "fields_arr = field_src.read(1) #fields in tile\n",
    "fields_arr"
   ]
  },
  {
   "cell_type": "code",
   "execution_count": 104,
   "metadata": {},
   "outputs": [
    {
     "name": "stdout",
     "output_type": "stream",
     "text": [
      "mask____\n",
      "50\n",
      "multi____\n",
      "(256, 256, 1, 38)\n",
      "patch____\n",
      "(50, 1, 38)\n",
      "mask____\n",
      "269\n",
      "multi____\n",
      "(256, 256, 1, 38)\n",
      "patch____\n",
      "(269, 1, 38)\n",
      "mask____\n",
      "31\n",
      "multi____\n",
      "(256, 256, 1, 38)\n",
      "patch____\n",
      "(31, 1, 38)\n",
      "mask____\n",
      "99\n",
      "multi____\n",
      "(256, 256, 1, 38)\n",
      "patch____\n",
      "(99, 1, 38)\n",
      "mask____\n",
      "94\n",
      "multi____\n",
      "(256, 256, 1, 38)\n",
      "patch____\n",
      "(94, 1, 38)\n",
      "mask____\n",
      "6\n",
      "multi____\n",
      "(256, 256, 1, 38)\n",
      "patch____\n",
      "(6, 1, 38)\n",
      "mask____\n",
      "600\n",
      "multi____\n",
      "(256, 256, 1, 38)\n",
      "patch____\n",
      "(600, 1, 38)\n",
      "mask____\n",
      "202\n",
      "multi____\n",
      "(256, 256, 1, 38)\n",
      "patch____\n",
      "(202, 1, 38)\n",
      "mask____\n",
      "353\n",
      "multi____\n",
      "(256, 256, 1, 38)\n",
      "patch____\n",
      "(353, 1, 38)\n",
      "mask____\n",
      "26\n",
      "multi____\n",
      "(256, 256, 1, 38)\n",
      "patch____\n",
      "(26, 1, 38)\n",
      "mask____\n",
      "2\n",
      "multi____\n",
      "(256, 256, 1, 38)\n",
      "patch____\n",
      "(2, 1, 38)\n",
      "mask____\n",
      "22\n",
      "multi____\n",
      "(256, 256, 1, 38)\n",
      "patch____\n",
      "(22, 1, 38)\n",
      "mask____\n",
      "222\n",
      "multi____\n",
      "(256, 256, 1, 38)\n",
      "patch____\n",
      "(222, 1, 38)\n",
      "mask____\n",
      "67\n",
      "multi____\n",
      "(256, 256, 1, 38)\n",
      "patch____\n",
      "(67, 1, 38)\n",
      "mask____\n",
      "668\n",
      "multi____\n",
      "(256, 256, 1, 38)\n",
      "patch____\n",
      "(668, 1, 38)\n",
      "mask____\n",
      "958\n",
      "multi____\n",
      "(256, 256, 1, 38)\n",
      "patch____\n",
      "(958, 1, 38)\n",
      "mask____\n",
      "296\n",
      "multi____\n",
      "(256, 256, 1, 38)\n",
      "patch____\n",
      "(296, 1, 38)\n",
      "mask____\n",
      "105\n",
      "multi____\n",
      "(256, 256, 1, 38)\n",
      "patch____\n",
      "(105, 1, 38)\n",
      "mask____\n",
      "132\n",
      "multi____\n",
      "(256, 256, 1, 38)\n",
      "patch____\n",
      "(132, 1, 38)\n",
      "mask____\n",
      "111\n",
      "multi____\n",
      "(256, 256, 1, 38)\n",
      "patch____\n",
      "(111, 1, 38)\n",
      "mask____\n",
      "108\n",
      "multi____\n",
      "(256, 256, 1, 38)\n",
      "patch____\n",
      "(108, 1, 38)\n",
      "mask____\n",
      "181\n",
      "multi____\n",
      "(256, 256, 1, 38)\n",
      "patch____\n",
      "(181, 1, 38)\n",
      "mask____\n",
      "72\n",
      "multi____\n",
      "(256, 256, 1, 38)\n",
      "patch____\n",
      "(72, 1, 38)\n",
      "mask____\n",
      "33\n",
      "multi____\n",
      "(256, 256, 1, 38)\n",
      "patch____\n",
      "(33, 1, 38)\n",
      "mask____\n",
      "205\n",
      "multi____\n",
      "(256, 256, 1, 38)\n",
      "patch____\n",
      "(205, 1, 38)\n",
      "mask____\n",
      "877\n",
      "multi____\n",
      "(256, 256, 1, 38)\n",
      "patch____\n",
      "(877, 1, 38)\n",
      "mask____\n",
      "46\n",
      "multi____\n",
      "(256, 256, 1, 38)\n",
      "patch____\n",
      "(46, 1, 38)\n",
      "mask____\n",
      "386\n",
      "multi____\n",
      "(256, 256, 1, 38)\n",
      "patch____\n",
      "(386, 1, 38)\n",
      "mask____\n",
      "382\n",
      "multi____\n",
      "(256, 256, 1, 38)\n",
      "patch____\n",
      "(382, 1, 38)\n",
      "mask____\n",
      "166\n",
      "multi____\n",
      "(256, 256, 1, 38)\n",
      "patch____\n",
      "(166, 1, 38)\n",
      "mask____\n",
      "8\n",
      "multi____\n",
      "(256, 256, 1, 38)\n",
      "patch____\n",
      "(8, 1, 38)\n",
      "mask____\n",
      "10\n",
      "multi____\n",
      "(256, 256, 1, 38)\n",
      "patch____\n",
      "(10, 1, 38)\n",
      "mask____\n",
      "56\n",
      "multi____\n",
      "(256, 256, 1, 38)\n",
      "patch____\n",
      "(56, 1, 38)\n"
     ]
    }
   ],
   "source": [
    "for field_id in np.unique(fields_arr):\n",
    "    if field_id==0:\n",
    "        continue\n",
    "    mask = fields_arr==field_id\n",
    "    field_label = np.unique(label_array[mask])\n",
    "    field_label = [l for l in field_label if l!=0]\n",
    "\n",
    "    if len(field_label)==1: \n",
    "        field_label = field_label[0]\n",
    "        patch = multi_band_arr[mask]\n",
    "        print('mask____')\n",
    "        print(np.count_nonzero(mask))\n",
    "        print('multi____')\n",
    "        print(multi_band_arr.shape)\n",
    "        print('patch____')\n",
    "        print(patch.shape)"
   ]
  },
  {
   "cell_type": "markdown",
   "metadata": {},
   "source": [
    "This part is for experimentation with arrays."
   ]
  },
  {
   "cell_type": "code",
   "execution_count": 61,
   "metadata": {},
   "outputs": [
    {
     "name": "stdout",
     "output_type": "stream",
     "text": [
      "(2, 3, 4)\n"
     ]
    },
    {
     "data": {
      "text/plain": [
       "array([[[ 1,  2,  3,  4],\n",
       "        [ 5,  6,  7,  8],\n",
       "        [ 9, 10, 23, 12]],\n",
       "\n",
       "       [[13, 14, 15, 16],\n",
       "        [17, 18, 19, 20],\n",
       "        [21, 22, 23, 24]]])"
      ]
     },
     "execution_count": 61,
     "metadata": {},
     "output_type": "execute_result"
    }
   ],
   "source": [
    "arr = np.array([\n",
    "                [[1, 2, 3, 4], [5, 6, 7, 8], [9, 10, 23, 12]], \n",
    "                [[13, 14, 15, 16], [17, 18, 19, 20], [21, 22, 23, 24],]\n",
    "                ])\n",
    "print(arr.shape)\n",
    "arr"
   ]
  },
  {
   "cell_type": "markdown",
   "metadata": {},
   "source": [
    "In this test array we have 2 big array, each contains 3 sub array, and each of the sub array has 4 entries.\n",
    "This is the same structure as the npz arrays per field have:\n",
    "- We have for each pixel of the field a big array. \n",
    "- Each of these pixel arrays contains 7 band arrays. \n",
    "- And each of these band arrays contains a value for each date.\n",
    "\n",
    "The next step is to transpose the big array with the sub arrays.\n",
    "Or in terms of the npz arrays per field:\n",
    "- We change the pixels and the bands position"
   ]
  },
  {
   "cell_type": "code",
   "execution_count": 62,
   "metadata": {},
   "outputs": [
    {
     "name": "stdout",
     "output_type": "stream",
     "text": [
      "(3, 2, 4)\n"
     ]
    },
    {
     "data": {
      "text/plain": [
       "array([[[ 1,  2,  3,  4],\n",
       "        [13, 14, 15, 16]],\n",
       "\n",
       "       [[ 5,  6,  7,  8],\n",
       "        [17, 18, 19, 20]],\n",
       "\n",
       "       [[ 9, 10, 23, 12],\n",
       "        [21, 22, 23, 24]]])"
      ]
     },
     "execution_count": 62,
     "metadata": {},
     "output_type": "execute_result"
    }
   ],
   "source": [
    "arr_T = arr.transpose(1,0,2)\n",
    "print(arr_T.shape)\n",
    "arr_T"
   ]
  },
  {
   "cell_type": "markdown",
   "metadata": {},
   "source": [
    "Then now we can easily access the single bands, for example the third like this:"
   ]
  },
  {
   "cell_type": "code",
   "execution_count": 63,
   "metadata": {},
   "outputs": [
    {
     "name": "stdout",
     "output_type": "stream",
     "text": [
      "(2, 4)\n"
     ]
    },
    {
     "data": {
      "text/plain": [
       "array([[ 9, 10, 23, 12],\n",
       "       [21, 22, 23, 24]])"
      ]
     },
     "execution_count": 63,
     "metadata": {},
     "output_type": "execute_result"
    }
   ],
   "source": [
    "band = arr_T[2]\n",
    "print(band.shape)\n",
    "band"
   ]
  },
  {
   "cell_type": "markdown",
   "metadata": {},
   "source": [
    "However we lost one dimension by that, what makes it impossible to transpose the data in a way we could work with that."
   ]
  },
  {
   "cell_type": "code",
   "execution_count": 64,
   "metadata": {},
   "outputs": [
    {
     "name": "stdout",
     "output_type": "stream",
     "text": [
      "(1, 2, 4)\n"
     ]
    },
    {
     "data": {
      "text/plain": [
       "array([[[ 9, 10, 23, 12],\n",
       "        [21, 22, 23, 24]]])"
      ]
     },
     "execution_count": 64,
     "metadata": {},
     "output_type": "execute_result"
    }
   ],
   "source": [
    "band = np.expand_dims(arr_T[2],axis=0)\n",
    "print(band.shape)\n",
    "band"
   ]
  },
  {
   "cell_type": "markdown",
   "metadata": {},
   "source": [
    "And now we just transpose the data back to the old way."
   ]
  },
  {
   "cell_type": "code",
   "execution_count": 65,
   "metadata": {},
   "outputs": [
    {
     "name": "stdout",
     "output_type": "stream",
     "text": [
      "(2, 1, 4)\n"
     ]
    },
    {
     "data": {
      "text/plain": [
       "array([[[ 9, 10, 23, 12]],\n",
       "\n",
       "       [[21, 22, 23, 24]]])"
      ]
     },
     "execution_count": 65,
     "metadata": {},
     "output_type": "execute_result"
    }
   ],
   "source": [
    "band = band.transpose(1,0,2)\n",
    "print(band.shape)\n",
    "band"
   ]
  },
  {
   "cell_type": "markdown",
   "metadata": {},
   "source": [
    "And we can calculate the mode or mean over all pixels for each band for each date."
   ]
  },
  {
   "cell_type": "code",
   "execution_count": 80,
   "metadata": {},
   "outputs": [
    {
     "name": "stdout",
     "output_type": "stream",
     "text": [
      "(2, 3, 4)\n"
     ]
    },
    {
     "data": {
      "text/plain": [
       "array([[[ 1,  2,  3,  4],\n",
       "        [ 5,  6,  7,  8],\n",
       "        [ 9, 10, 23, 12]],\n",
       "\n",
       "       [[13, 14, 15, 16],\n",
       "        [17, 18, 19, 20],\n",
       "        [21, 22, 23, 24]]])"
      ]
     },
     "execution_count": 80,
     "metadata": {},
     "output_type": "execute_result"
    }
   ],
   "source": [
    "print(arr.shape)\n",
    "arr"
   ]
  },
  {
   "cell_type": "code",
   "execution_count": 67,
   "metadata": {},
   "outputs": [
    {
     "name": "stdout",
     "output_type": "stream",
     "text": [
      "(3, 4)\n"
     ]
    },
    {
     "data": {
      "text/plain": [
       "array([[ 7.,  8.,  9., 10.],\n",
       "       [11., 12., 13., 14.],\n",
       "       [15., 16., 23., 18.]])"
      ]
     },
     "execution_count": 67,
     "metadata": {},
     "output_type": "execute_result"
    }
   ],
   "source": [
    "# This is the mean of all field pixels for each band (here the rows)\n",
    "mean = np.mean(arr,axis=0)\n",
    "print(mean.shape)\n",
    "mean"
   ]
  },
  {
   "cell_type": "code",
   "execution_count": 97,
   "metadata": {},
   "outputs": [
    {
     "name": "stdout",
     "output_type": "stream",
     "text": [
      "(3, 4)\n"
     ]
    },
    {
     "data": {
      "text/plain": [
       "array([[ 1,  2,  3,  4],\n",
       "       [ 5,  6,  7,  8],\n",
       "       [ 9, 10, 23, 12]])"
      ]
     },
     "execution_count": 97,
     "metadata": {},
     "output_type": "execute_result"
    }
   ],
   "source": [
    "from scipy import stats\n",
    "# This is the mode of all field pixels for each band (here the rows)\n",
    "mode = stats.mode(arr)\n",
    "print(np.squeeze(mode[0], axis=0).shape)\n",
    "np.squeeze(mode[0], axis=0)"
   ]
  },
  {
   "cell_type": "code",
   "execution_count": 98,
   "metadata": {},
   "outputs": [
    {
     "name": "stdout",
     "output_type": "stream",
     "text": [
      "[[[ 9 10 23 12]]\n",
      "\n",
      " [[21 22 23 24]]]\n",
      "(1, 4)\n"
     ]
    },
    {
     "data": {
      "text/plain": [
       "array([[ 9, 10, 23, 12]])"
      ]
     },
     "execution_count": 98,
     "metadata": {},
     "output_type": "execute_result"
    }
   ],
   "source": [
    "print(band)\n",
    "mode = stats.mode(band)\n",
    "print(np.squeeze(mode[0],axis=0).shape)\n",
    "np.squeeze(mode[0],axis=0)"
   ]
  }
 ],
 "metadata": {
  "kernelspec": {
   "display_name": "Python 3.9.8 ('.venv': venv)",
   "language": "python",
   "name": "python3"
  },
  "language_info": {
   "codemirror_mode": {
    "name": "ipython",
    "version": 3
   },
   "file_extension": ".py",
   "mimetype": "text/x-python",
   "name": "python",
   "nbconvert_exporter": "python",
   "pygments_lexer": "ipython3",
   "version": "3.9.8"
  },
  "orig_nbformat": 4,
  "vscode": {
   "interpreter": {
    "hash": "4f09b4927e4ba45dbad33b3bb266e4177c67ff52e8879550fc4abd145d1e96f6"
   }
  }
 },
 "nbformat": 4,
 "nbformat_minor": 2
}
