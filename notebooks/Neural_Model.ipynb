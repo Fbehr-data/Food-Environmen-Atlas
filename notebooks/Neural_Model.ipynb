{
 "cells": [
  {
   "cell_type": "code",
   "execution_count": 37,
   "metadata": {},
   "outputs": [],
   "source": [
    "import numpy as np\n",
    "import pandas as pd\n",
    "import matplotlib.pyplot as plt\n",
    "import seaborn as sns\n",
    "from scipy import stats \n",
    "from sklearn.linear_model import LinearRegression\n",
    "from sklearn.model_selection import train_test_split\n",
    "from sklearn.linear_model import LogisticRegression\n",
    "from sklearn.metrics import confusion_matrix, classification_report, accuracy_score\n",
    "\n",
    "\n",
    "import tensorflow as tf\n",
    "\n",
    "from sklearn.preprocessing import LabelEncoder\n",
    "from sklearn.preprocessing import StandardScaler\n",
    "\n",
    "from tensorflow.keras import layers\n",
    "from tensorflow.keras import regularizers\n",
    "\n",
    "from sklearn.datasets import make_circles\n",
    "from keras.models import Sequential\n",
    "from keras.layers import Dense\n",
    "\n",
    "from sklearn.metrics import r2_score\n",
    "from sklearn.preprocessing import LabelEncoder \n",
    "\n",
    "\n",
    "%matplotlib inline"
   ]
  },
  {
   "cell_type": "code",
   "execution_count": 2,
   "metadata": {},
   "outputs": [],
   "source": [
    "df = pd.read_csv(\"data/Train.csv\")"
   ]
  },
  {
   "cell_type": "code",
   "execution_count": 3,
   "metadata": {},
   "outputs": [
    {
     "data": {
      "text/html": [
       "<div>\n",
       "<style scoped>\n",
       "    .dataframe tbody tr th:only-of-type {\n",
       "        vertical-align: middle;\n",
       "    }\n",
       "\n",
       "    .dataframe tbody tr th {\n",
       "        vertical-align: top;\n",
       "    }\n",
       "\n",
       "    .dataframe thead th {\n",
       "        text-align: right;\n",
       "    }\n",
       "</style>\n",
       "<table border=\"1\" class=\"dataframe\">\n",
       "  <thead>\n",
       "    <tr style=\"text-align: right;\">\n",
       "      <th></th>\n",
       "      <th>field_id</th>\n",
       "      <th>B02_04</th>\n",
       "      <th>B02_05</th>\n",
       "      <th>B02_06</th>\n",
       "      <th>B02_07</th>\n",
       "      <th>B02_08</th>\n",
       "      <th>B02_09</th>\n",
       "      <th>B02_10</th>\n",
       "      <th>B02_11</th>\n",
       "      <th>B03_04</th>\n",
       "      <th>...</th>\n",
       "      <th>WET_11</th>\n",
       "      <th>PVR_04</th>\n",
       "      <th>PVR_05</th>\n",
       "      <th>PVR_06</th>\n",
       "      <th>PVR_07</th>\n",
       "      <th>PVR_08</th>\n",
       "      <th>PVR_09</th>\n",
       "      <th>PVR_10</th>\n",
       "      <th>PVR_11</th>\n",
       "      <th>label</th>\n",
       "    </tr>\n",
       "  </thead>\n",
       "  <tbody>\n",
       "    <tr>\n",
       "      <th>0</th>\n",
       "      <td>1</td>\n",
       "      <td>16.721329</td>\n",
       "      <td>24.704984</td>\n",
       "      <td>143.294212</td>\n",
       "      <td>120.819938</td>\n",
       "      <td>44.800108</td>\n",
       "      <td>16.204582</td>\n",
       "      <td>84.610932</td>\n",
       "      <td>71.071544</td>\n",
       "      <td>24.630225</td>\n",
       "      <td>...</td>\n",
       "      <td>1.962072</td>\n",
       "      <td>-0.129347</td>\n",
       "      <td>-0.118203</td>\n",
       "      <td>-0.027443</td>\n",
       "      <td>0.040792</td>\n",
       "      <td>0.171888</td>\n",
       "      <td>0.038998</td>\n",
       "      <td>-0.064742</td>\n",
       "      <td>-0.069020</td>\n",
       "      <td>4</td>\n",
       "    </tr>\n",
       "    <tr>\n",
       "      <th>1</th>\n",
       "      <td>2</td>\n",
       "      <td>32.724639</td>\n",
       "      <td>55.923914</td>\n",
       "      <td>125.333332</td>\n",
       "      <td>69.246375</td>\n",
       "      <td>40.289855</td>\n",
       "      <td>40.369565</td>\n",
       "      <td>56.710145</td>\n",
       "      <td>121.275364</td>\n",
       "      <td>42.333333</td>\n",
       "      <td>...</td>\n",
       "      <td>7.068886</td>\n",
       "      <td>-0.146733</td>\n",
       "      <td>-0.087567</td>\n",
       "      <td>-0.032327</td>\n",
       "      <td>0.022328</td>\n",
       "      <td>0.115969</td>\n",
       "      <td>-0.060363</td>\n",
       "      <td>-0.128947</td>\n",
       "      <td>-0.093419</td>\n",
       "      <td>7</td>\n",
       "    </tr>\n",
       "    <tr>\n",
       "      <th>2</th>\n",
       "      <td>4</td>\n",
       "      <td>32.280353</td>\n",
       "      <td>34.968543</td>\n",
       "      <td>154.134656</td>\n",
       "      <td>98.110374</td>\n",
       "      <td>37.219647</td>\n",
       "      <td>16.107616</td>\n",
       "      <td>37.224062</td>\n",
       "      <td>49.027595</td>\n",
       "      <td>43.079471</td>\n",
       "      <td>...</td>\n",
       "      <td>-27.280756</td>\n",
       "      <td>-0.123696</td>\n",
       "      <td>-0.118763</td>\n",
       "      <td>-0.029688</td>\n",
       "      <td>0.046448</td>\n",
       "      <td>0.043605</td>\n",
       "      <td>0.055476</td>\n",
       "      <td>-0.027601</td>\n",
       "      <td>-0.118679</td>\n",
       "      <td>8</td>\n",
       "    </tr>\n",
       "    <tr>\n",
       "      <th>3</th>\n",
       "      <td>6</td>\n",
       "      <td>18.155303</td>\n",
       "      <td>31.757102</td>\n",
       "      <td>145.524621</td>\n",
       "      <td>108.803978</td>\n",
       "      <td>60.709280</td>\n",
       "      <td>33.967330</td>\n",
       "      <td>53.688447</td>\n",
       "      <td>106.650568</td>\n",
       "      <td>28.818182</td>\n",
       "      <td>...</td>\n",
       "      <td>11.352537</td>\n",
       "      <td>-0.118640</td>\n",
       "      <td>-0.073378</td>\n",
       "      <td>-0.001560</td>\n",
       "      <td>0.080290</td>\n",
       "      <td>0.042376</td>\n",
       "      <td>0.018127</td>\n",
       "      <td>0.021250</td>\n",
       "      <td>0.000732</td>\n",
       "      <td>4</td>\n",
       "    </tr>\n",
       "    <tr>\n",
       "      <th>4</th>\n",
       "      <td>8</td>\n",
       "      <td>24.826734</td>\n",
       "      <td>79.171811</td>\n",
       "      <td>105.283333</td>\n",
       "      <td>74.694014</td>\n",
       "      <td>68.673711</td>\n",
       "      <td>13.678272</td>\n",
       "      <td>50.742448</td>\n",
       "      <td>111.811466</td>\n",
       "      <td>39.079529</td>\n",
       "      <td>...</td>\n",
       "      <td>5.653202</td>\n",
       "      <td>-0.209057</td>\n",
       "      <td>-0.126597</td>\n",
       "      <td>-0.055015</td>\n",
       "      <td>-0.009886</td>\n",
       "      <td>0.056202</td>\n",
       "      <td>-0.122661</td>\n",
       "      <td>-0.154477</td>\n",
       "      <td>-0.103681</td>\n",
       "      <td>8</td>\n",
       "    </tr>\n",
       "  </tbody>\n",
       "</table>\n",
       "<p>5 rows × 74 columns</p>\n",
       "</div>"
      ],
      "text/plain": [
       "   field_id     B02_04     B02_05      B02_06      B02_07     B02_08  \\\n",
       "0         1  16.721329  24.704984  143.294212  120.819938  44.800108   \n",
       "1         2  32.724639  55.923914  125.333332   69.246375  40.289855   \n",
       "2         4  32.280353  34.968543  154.134656   98.110374  37.219647   \n",
       "3         6  18.155303  31.757102  145.524621  108.803978  60.709280   \n",
       "4         8  24.826734  79.171811  105.283333   74.694014  68.673711   \n",
       "\n",
       "      B02_09     B02_10      B02_11     B03_04  ...     WET_11    PVR_04  \\\n",
       "0  16.204582  84.610932   71.071544  24.630225  ...   1.962072 -0.129347   \n",
       "1  40.369565  56.710145  121.275364  42.333333  ...   7.068886 -0.146733   \n",
       "2  16.107616  37.224062   49.027595  43.079471  ... -27.280756 -0.123696   \n",
       "3  33.967330  53.688447  106.650568  28.818182  ...  11.352537 -0.118640   \n",
       "4  13.678272  50.742448  111.811466  39.079529  ...   5.653202 -0.209057   \n",
       "\n",
       "     PVR_05    PVR_06    PVR_07    PVR_08    PVR_09    PVR_10    PVR_11  label  \n",
       "0 -0.118203 -0.027443  0.040792  0.171888  0.038998 -0.064742 -0.069020      4  \n",
       "1 -0.087567 -0.032327  0.022328  0.115969 -0.060363 -0.128947 -0.093419      7  \n",
       "2 -0.118763 -0.029688  0.046448  0.043605  0.055476 -0.027601 -0.118679      8  \n",
       "3 -0.073378 -0.001560  0.080290  0.042376  0.018127  0.021250  0.000732      4  \n",
       "4 -0.126597 -0.055015 -0.009886  0.056202 -0.122661 -0.154477 -0.103681      8  \n",
       "\n",
       "[5 rows x 74 columns]"
      ]
     },
     "execution_count": 3,
     "metadata": {},
     "output_type": "execute_result"
    }
   ],
   "source": [
    "df.head()"
   ]
  },
  {
   "cell_type": "code",
   "execution_count": 4,
   "metadata": {},
   "outputs": [
    {
     "data": {
      "text/plain": [
       "(152379, 74)"
      ]
     },
     "execution_count": 4,
     "metadata": {},
     "output_type": "execute_result"
    }
   ],
   "source": [
    "df.shape"
   ]
  },
  {
   "cell_type": "code",
   "execution_count": null,
   "metadata": {},
   "outputs": [],
   "source": [
    "df.info"
   ]
  },
  {
   "cell_type": "code",
   "execution_count": 6,
   "metadata": {},
   "outputs": [
    {
     "data": {
      "text/plain": [
       "field_id    0\n",
       "B02_04      0\n",
       "B02_05      0\n",
       "B02_06      0\n",
       "B02_07      0\n",
       "           ..\n",
       "PVR_08      0\n",
       "PVR_09      0\n",
       "PVR_10      0\n",
       "PVR_11      0\n",
       "label       0\n",
       "Length: 74, dtype: int64"
      ]
     },
     "execution_count": 6,
     "metadata": {},
     "output_type": "execute_result"
    }
   ],
   "source": [
    "df.isnull().sum()"
   ]
  },
  {
   "cell_type": "code",
   "execution_count": 7,
   "metadata": {},
   "outputs": [
    {
     "data": {
      "text/plain": [
       "<AxesSubplot:xlabel='label', ylabel='count'>"
      ]
     },
     "execution_count": 7,
     "metadata": {},
     "output_type": "execute_result"
    },
    {
     "data": {
      "image/png": "[encoded data removed]",
      "text/plain": [
       "<Figure size 432x288 with 1 Axes>"
      ]
     },
     "metadata": {
      "needs_background": "light"
     },
     "output_type": "display_data"
    }
   ],
   "source": [
    "sns.countplot(x=\"label\", data=df)"
   ]
  },
  {
   "cell_type": "code",
   "execution_count": 8,
   "metadata": {},
   "outputs": [
    {
     "data": {
      "text/plain": [
       "Index(['field_id', 'B02_04', 'B02_05', 'B02_06', 'B02_07', 'B02_08', 'B02_09',\n",
       "       'B02_10', 'B02_11', 'B03_04', 'B03_05', 'B03_06', 'B03_07', 'B03_08',\n",
       "       'B03_09', 'B03_10', 'B03_11', 'B04_04', 'B04_05', 'B04_06', 'B04_07',\n",
       "       'B04_08', 'B04_09', 'B04_10', 'B04_11', 'B08_04', 'B08_05', 'B08_06',\n",
       "       'B08_07', 'B08_08', 'B08_09', 'B08_10', 'B08_11', 'B11_04', 'B11_05',\n",
       "       'B11_06', 'B11_07', 'B11_08', 'B11_09', 'B11_10', 'B11_11', 'B12_04',\n",
       "       'B12_05', 'B12_06', 'B12_07', 'B12_08', 'B12_09', 'B12_10', 'B12_11',\n",
       "       'NDVI_04', 'NDVI_05', 'NDVI_06', 'NDVI_07', 'NDVI_08', 'NDVI_09',\n",
       "       'NDVI_10', 'NDVI_11', 'WET_04', 'WET_05', 'WET_06', 'WET_07', 'WET_08',\n",
       "       'WET_09', 'WET_10', 'WET_11', 'PVR_04', 'PVR_05', 'PVR_06', 'PVR_07',\n",
       "       'PVR_08', 'PVR_09', 'PVR_10', 'PVR_11', 'label'],\n",
       "      dtype='object')"
      ]
     },
     "execution_count": 8,
     "metadata": {},
     "output_type": "execute_result"
    }
   ],
   "source": [
    "df.columns"
   ]
  },
  {
   "cell_type": "code",
   "execution_count": 9,
   "metadata": {},
   "outputs": [],
   "source": [
    "df.drop('field_id', axis = 1, inplace=True)"
   ]
  },
  {
   "cell_type": "code",
   "execution_count": 10,
   "metadata": {},
   "outputs": [],
   "source": [
    "#df=df[df.CLM != 255.0]"
   ]
  },
  {
   "cell_type": "code",
   "execution_count": 11,
   "metadata": {},
   "outputs": [],
   "source": [
    "#df.date.max()"
   ]
  },
  {
   "cell_type": "code",
   "execution_count": 12,
   "metadata": {},
   "outputs": [],
   "source": [
    "#df.date.min()"
   ]
  },
  {
   "cell_type": "code",
   "execution_count": 13,
   "metadata": {},
   "outputs": [],
   "source": [
    "#df.field_id.unique()"
   ]
  },
  {
   "cell_type": "code",
   "execution_count": 14,
   "metadata": {},
   "outputs": [],
   "source": [
    "#df['date'] = pd.to_datetime(df[\"date\"])\n",
    "#df['month'] = df['date'].dt.month"
   ]
  },
  {
   "cell_type": "code",
   "execution_count": 15,
   "metadata": {},
   "outputs": [],
   "source": [
    "#vdf.CLM.value_counts()"
   ]
  },
  {
   "cell_type": "code",
   "execution_count": 16,
   "metadata": {},
   "outputs": [],
   "source": [
    "# X = df[['B02', 'B03', 'B04', 'B08', 'B11', 'B12', 'PVR', 'NDVI', 'WET', 'days_from_april']]\n",
    "# y = df.label"
   ]
  },
  {
   "cell_type": "code",
   "execution_count": 17,
   "metadata": {},
   "outputs": [],
   "source": [
    "X = df.drop(\"label\", axis=1)\n",
    "y = df.label"
   ]
  },
  {
   "cell_type": "code",
   "execution_count": 18,
   "metadata": {},
   "outputs": [
    {
     "data": {
      "text/html": [
       "<div>\n",
       "<style scoped>\n",
       "    .dataframe tbody tr th:only-of-type {\n",
       "        vertical-align: middle;\n",
       "    }\n",
       "\n",
       "    .dataframe tbody tr th {\n",
       "        vertical-align: top;\n",
       "    }\n",
       "\n",
       "    .dataframe thead th {\n",
       "        text-align: right;\n",
       "    }\n",
       "</style>\n",
       "<table border=\"1\" class=\"dataframe\">\n",
       "  <thead>\n",
       "    <tr style=\"text-align: right;\">\n",
       "      <th></th>\n",
       "      <th>B02_04</th>\n",
       "      <th>B02_05</th>\n",
       "      <th>B02_06</th>\n",
       "      <th>B02_07</th>\n",
       "      <th>B02_08</th>\n",
       "      <th>B02_09</th>\n",
       "      <th>B02_10</th>\n",
       "      <th>B02_11</th>\n",
       "      <th>B03_04</th>\n",
       "      <th>B03_05</th>\n",
       "      <th>...</th>\n",
       "      <th>WET_10</th>\n",
       "      <th>WET_11</th>\n",
       "      <th>PVR_04</th>\n",
       "      <th>PVR_05</th>\n",
       "      <th>PVR_06</th>\n",
       "      <th>PVR_07</th>\n",
       "      <th>PVR_08</th>\n",
       "      <th>PVR_09</th>\n",
       "      <th>PVR_10</th>\n",
       "      <th>PVR_11</th>\n",
       "    </tr>\n",
       "  </thead>\n",
       "  <tbody>\n",
       "    <tr>\n",
       "      <th>0</th>\n",
       "      <td>16.721329</td>\n",
       "      <td>24.704984</td>\n",
       "      <td>143.294212</td>\n",
       "      <td>120.819938</td>\n",
       "      <td>44.800108</td>\n",
       "      <td>16.204582</td>\n",
       "      <td>84.610932</td>\n",
       "      <td>71.071544</td>\n",
       "      <td>24.630225</td>\n",
       "      <td>32.865755</td>\n",
       "      <td>...</td>\n",
       "      <td>1.518052</td>\n",
       "      <td>1.962072</td>\n",
       "      <td>-0.129347</td>\n",
       "      <td>-0.118203</td>\n",
       "      <td>-0.027443</td>\n",
       "      <td>0.040792</td>\n",
       "      <td>0.171888</td>\n",
       "      <td>0.038998</td>\n",
       "      <td>-0.064742</td>\n",
       "      <td>-0.069020</td>\n",
       "    </tr>\n",
       "    <tr>\n",
       "      <th>1</th>\n",
       "      <td>32.724639</td>\n",
       "      <td>55.923914</td>\n",
       "      <td>125.333332</td>\n",
       "      <td>69.246375</td>\n",
       "      <td>40.289855</td>\n",
       "      <td>40.369565</td>\n",
       "      <td>56.710145</td>\n",
       "      <td>121.275364</td>\n",
       "      <td>42.333333</td>\n",
       "      <td>58.434782</td>\n",
       "      <td>...</td>\n",
       "      <td>-30.653607</td>\n",
       "      <td>7.068886</td>\n",
       "      <td>-0.146733</td>\n",
       "      <td>-0.087567</td>\n",
       "      <td>-0.032327</td>\n",
       "      <td>0.022328</td>\n",
       "      <td>0.115969</td>\n",
       "      <td>-0.060363</td>\n",
       "      <td>-0.128947</td>\n",
       "      <td>-0.093419</td>\n",
       "    </tr>\n",
       "    <tr>\n",
       "      <th>2</th>\n",
       "      <td>32.280353</td>\n",
       "      <td>34.968543</td>\n",
       "      <td>154.134656</td>\n",
       "      <td>98.110374</td>\n",
       "      <td>37.219647</td>\n",
       "      <td>16.107616</td>\n",
       "      <td>37.224062</td>\n",
       "      <td>49.027595</td>\n",
       "      <td>43.079471</td>\n",
       "      <td>44.198675</td>\n",
       "      <td>...</td>\n",
       "      <td>-15.935883</td>\n",
       "      <td>-27.280756</td>\n",
       "      <td>-0.123696</td>\n",
       "      <td>-0.118763</td>\n",
       "      <td>-0.029688</td>\n",
       "      <td>0.046448</td>\n",
       "      <td>0.043605</td>\n",
       "      <td>0.055476</td>\n",
       "      <td>-0.027601</td>\n",
       "      <td>-0.118679</td>\n",
       "    </tr>\n",
       "    <tr>\n",
       "      <th>3</th>\n",
       "      <td>18.155303</td>\n",
       "      <td>31.757102</td>\n",
       "      <td>145.524621</td>\n",
       "      <td>108.803978</td>\n",
       "      <td>60.709280</td>\n",
       "      <td>33.967330</td>\n",
       "      <td>53.688447</td>\n",
       "      <td>106.650568</td>\n",
       "      <td>28.818182</td>\n",
       "      <td>40.115057</td>\n",
       "      <td>...</td>\n",
       "      <td>2.198698</td>\n",
       "      <td>11.352537</td>\n",
       "      <td>-0.118640</td>\n",
       "      <td>-0.073378</td>\n",
       "      <td>-0.001560</td>\n",
       "      <td>0.080290</td>\n",
       "      <td>0.042376</td>\n",
       "      <td>0.018127</td>\n",
       "      <td>0.021250</td>\n",
       "      <td>0.000732</td>\n",
       "    </tr>\n",
       "    <tr>\n",
       "      <th>4</th>\n",
       "      <td>24.826734</td>\n",
       "      <td>79.171811</td>\n",
       "      <td>105.283333</td>\n",
       "      <td>74.694014</td>\n",
       "      <td>68.673711</td>\n",
       "      <td>13.678272</td>\n",
       "      <td>50.742448</td>\n",
       "      <td>111.811466</td>\n",
       "      <td>39.079529</td>\n",
       "      <td>83.152099</td>\n",
       "      <td>...</td>\n",
       "      <td>-31.349842</td>\n",
       "      <td>5.653202</td>\n",
       "      <td>-0.209057</td>\n",
       "      <td>-0.126597</td>\n",
       "      <td>-0.055015</td>\n",
       "      <td>-0.009886</td>\n",
       "      <td>0.056202</td>\n",
       "      <td>-0.122661</td>\n",
       "      <td>-0.154477</td>\n",
       "      <td>-0.103681</td>\n",
       "    </tr>\n",
       "    <tr>\n",
       "      <th>...</th>\n",
       "      <td>...</td>\n",
       "      <td>...</td>\n",
       "      <td>...</td>\n",
       "      <td>...</td>\n",
       "      <td>...</td>\n",
       "      <td>...</td>\n",
       "      <td>...</td>\n",
       "      <td>...</td>\n",
       "      <td>...</td>\n",
       "      <td>...</td>\n",
       "      <td>...</td>\n",
       "      <td>...</td>\n",
       "      <td>...</td>\n",
       "      <td>...</td>\n",
       "      <td>...</td>\n",
       "      <td>...</td>\n",
       "      <td>...</td>\n",
       "      <td>...</td>\n",
       "      <td>...</td>\n",
       "      <td>...</td>\n",
       "      <td>...</td>\n",
       "    </tr>\n",
       "    <tr>\n",
       "      <th>152374</th>\n",
       "      <td>20.403039</td>\n",
       "      <td>59.414845</td>\n",
       "      <td>80.847889</td>\n",
       "      <td>27.824667</td>\n",
       "      <td>59.708337</td>\n",
       "      <td>81.547986</td>\n",
       "      <td>46.761128</td>\n",
       "      <td>67.944430</td>\n",
       "      <td>33.696896</td>\n",
       "      <td>68.325615</td>\n",
       "      <td>...</td>\n",
       "      <td>-49.609795</td>\n",
       "      <td>-41.660880</td>\n",
       "      <td>-0.183287</td>\n",
       "      <td>-0.130227</td>\n",
       "      <td>-0.083794</td>\n",
       "      <td>-0.111953</td>\n",
       "      <td>-0.087094</td>\n",
       "      <td>-0.080153</td>\n",
       "      <td>-0.126261</td>\n",
       "      <td>-0.119986</td>\n",
       "    </tr>\n",
       "    <tr>\n",
       "      <th>152375</th>\n",
       "      <td>43.263652</td>\n",
       "      <td>64.798399</td>\n",
       "      <td>70.318978</td>\n",
       "      <td>31.452927</td>\n",
       "      <td>53.690466</td>\n",
       "      <td>67.588925</td>\n",
       "      <td>76.104462</td>\n",
       "      <td>72.158007</td>\n",
       "      <td>57.171448</td>\n",
       "      <td>76.310746</td>\n",
       "      <td>...</td>\n",
       "      <td>-39.567011</td>\n",
       "      <td>-43.322944</td>\n",
       "      <td>-0.194625</td>\n",
       "      <td>-0.165170</td>\n",
       "      <td>-0.121343</td>\n",
       "      <td>-0.184359</td>\n",
       "      <td>-0.155505</td>\n",
       "      <td>-0.130677</td>\n",
       "      <td>-0.168950</td>\n",
       "      <td>-0.146476</td>\n",
       "    </tr>\n",
       "    <tr>\n",
       "      <th>152376</th>\n",
       "      <td>24.294387</td>\n",
       "      <td>80.966079</td>\n",
       "      <td>97.427150</td>\n",
       "      <td>82.883655</td>\n",
       "      <td>68.383974</td>\n",
       "      <td>62.480107</td>\n",
       "      <td>85.343281</td>\n",
       "      <td>75.238125</td>\n",
       "      <td>40.287612</td>\n",
       "      <td>88.194767</td>\n",
       "      <td>...</td>\n",
       "      <td>-28.060320</td>\n",
       "      <td>-37.588233</td>\n",
       "      <td>-0.209406</td>\n",
       "      <td>-0.139067</td>\n",
       "      <td>-0.101158</td>\n",
       "      <td>-0.086092</td>\n",
       "      <td>-0.092242</td>\n",
       "      <td>-0.099815</td>\n",
       "      <td>-0.094287</td>\n",
       "      <td>-0.123467</td>\n",
       "    </tr>\n",
       "    <tr>\n",
       "      <th>152377</th>\n",
       "      <td>23.256538</td>\n",
       "      <td>46.628218</td>\n",
       "      <td>94.869888</td>\n",
       "      <td>35.849067</td>\n",
       "      <td>70.241120</td>\n",
       "      <td>41.519023</td>\n",
       "      <td>44.394830</td>\n",
       "      <td>68.003466</td>\n",
       "      <td>39.282254</td>\n",
       "      <td>54.634426</td>\n",
       "      <td>...</td>\n",
       "      <td>-54.715415</td>\n",
       "      <td>-49.131428</td>\n",
       "      <td>-0.155267</td>\n",
       "      <td>-0.089067</td>\n",
       "      <td>-0.099821</td>\n",
       "      <td>-0.116138</td>\n",
       "      <td>-0.090815</td>\n",
       "      <td>-0.125115</td>\n",
       "      <td>-0.128937</td>\n",
       "      <td>-0.115460</td>\n",
       "    </tr>\n",
       "    <tr>\n",
       "      <th>152378</th>\n",
       "      <td>17.229782</td>\n",
       "      <td>48.521339</td>\n",
       "      <td>62.462676</td>\n",
       "      <td>36.644064</td>\n",
       "      <td>56.316255</td>\n",
       "      <td>75.137615</td>\n",
       "      <td>47.670120</td>\n",
       "      <td>50.558345</td>\n",
       "      <td>28.046084</td>\n",
       "      <td>56.936391</td>\n",
       "      <td>...</td>\n",
       "      <td>-43.234375</td>\n",
       "      <td>-48.803735</td>\n",
       "      <td>-0.189500</td>\n",
       "      <td>-0.136097</td>\n",
       "      <td>-0.117759</td>\n",
       "      <td>-0.157180</td>\n",
       "      <td>-0.118547</td>\n",
       "      <td>-0.076143</td>\n",
       "      <td>-0.153402</td>\n",
       "      <td>-0.144598</td>\n",
       "    </tr>\n",
       "  </tbody>\n",
       "</table>\n",
       "<p>152379 rows × 72 columns</p>\n",
       "</div>"
      ],
      "text/plain": [
       "           B02_04     B02_05      B02_06      B02_07     B02_08     B02_09  \\\n",
       "0       16.721329  24.704984  143.294212  120.819938  44.800108  16.204582   \n",
       "1       32.724639  55.923914  125.333332   69.246375  40.289855  40.369565   \n",
       "2       32.280353  34.968543  154.134656   98.110374  37.219647  16.107616   \n",
       "3       18.155303  31.757102  145.524621  108.803978  60.709280  33.967330   \n",
       "4       24.826734  79.171811  105.283333   74.694014  68.673711  13.678272   \n",
       "...           ...        ...         ...         ...        ...        ...   \n",
       "152374  20.403039  59.414845   80.847889   27.824667  59.708337  81.547986   \n",
       "152375  43.263652  64.798399   70.318978   31.452927  53.690466  67.588925   \n",
       "152376  24.294387  80.966079   97.427150   82.883655  68.383974  62.480107   \n",
       "152377  23.256538  46.628218   94.869888   35.849067  70.241120  41.519023   \n",
       "152378  17.229782  48.521339   62.462676   36.644064  56.316255  75.137615   \n",
       "\n",
       "           B02_10      B02_11     B03_04     B03_05  ...     WET_10  \\\n",
       "0       84.610932   71.071544  24.630225  32.865755  ...   1.518052   \n",
       "1       56.710145  121.275364  42.333333  58.434782  ... -30.653607   \n",
       "2       37.224062   49.027595  43.079471  44.198675  ... -15.935883   \n",
       "3       53.688447  106.650568  28.818182  40.115057  ...   2.198698   \n",
       "4       50.742448  111.811466  39.079529  83.152099  ... -31.349842   \n",
       "...           ...         ...        ...        ...  ...        ...   \n",
       "152374  46.761128   67.944430  33.696896  68.325615  ... -49.609795   \n",
       "152375  76.104462   72.158007  57.171448  76.310746  ... -39.567011   \n",
       "152376  85.343281   75.238125  40.287612  88.194767  ... -28.060320   \n",
       "152377  44.394830   68.003466  39.282254  54.634426  ... -54.715415   \n",
       "152378  47.670120   50.558345  28.046084  56.936391  ... -43.234375   \n",
       "\n",
       "           WET_11    PVR_04    PVR_05    PVR_06    PVR_07    PVR_08    PVR_09  \\\n",
       "0        1.962072 -0.129347 -0.118203 -0.027443  0.040792  0.171888  0.038998   \n",
       "1        7.068886 -0.146733 -0.087567 -0.032327  0.022328  0.115969 -0.060363   \n",
       "2      -27.280756 -0.123696 -0.118763 -0.029688  0.046448  0.043605  0.055476   \n",
       "3       11.352537 -0.118640 -0.073378 -0.001560  0.080290  0.042376  0.018127   \n",
       "4        5.653202 -0.209057 -0.126597 -0.055015 -0.009886  0.056202 -0.122661   \n",
       "...           ...       ...       ...       ...       ...       ...       ...   \n",
       "152374 -41.660880 -0.183287 -0.130227 -0.083794 -0.111953 -0.087094 -0.080153   \n",
       "152375 -43.322944 -0.194625 -0.165170 -0.121343 -0.184359 -0.155505 -0.130677   \n",
       "152376 -37.588233 -0.209406 -0.139067 -0.101158 -0.086092 -0.092242 -0.099815   \n",
       "152377 -49.131428 -0.155267 -0.089067 -0.099821 -0.116138 -0.090815 -0.125115   \n",
       "152378 -48.803735 -0.189500 -0.136097 -0.117759 -0.157180 -0.118547 -0.076143   \n",
       "\n",
       "          PVR_10    PVR_11  \n",
       "0      -0.064742 -0.069020  \n",
       "1      -0.128947 -0.093419  \n",
       "2      -0.027601 -0.118679  \n",
       "3       0.021250  0.000732  \n",
       "4      -0.154477 -0.103681  \n",
       "...          ...       ...  \n",
       "152374 -0.126261 -0.119986  \n",
       "152375 -0.168950 -0.146476  \n",
       "152376 -0.094287 -0.123467  \n",
       "152377 -0.128937 -0.115460  \n",
       "152378 -0.153402 -0.144598  \n",
       "\n",
       "[152379 rows x 72 columns]"
      ]
     },
     "execution_count": 18,
     "metadata": {},
     "output_type": "execute_result"
    }
   ],
   "source": [
    "X"
   ]
  },
  {
   "cell_type": "code",
   "execution_count": 19,
   "metadata": {},
   "outputs": [
    {
     "data": {
      "text/plain": [
       "array([4, 7, 8, 2, 3, 6, 1, 5, 9])"
      ]
     },
     "execution_count": 19,
     "metadata": {},
     "output_type": "execute_result"
    }
   ],
   "source": [
    "y.unique()"
   ]
  },
  {
   "cell_type": "code",
   "execution_count": 20,
   "metadata": {},
   "outputs": [],
   "source": [
    "X_train, X_test, y_train, y_test = train_test_split(X, y, test_size=0.3, random_state=150, shuffle=True)"
   ]
  },
  {
   "cell_type": "code",
   "execution_count": 21,
   "metadata": {},
   "outputs": [],
   "source": [
    "scaler = StandardScaler()\n",
    "X_train_scaled = scaler.fit_transform(X_train)\n",
    "X_test_scaled = scaler.transform(X_test)"
   ]
  },
  {
   "cell_type": "code",
   "execution_count": 22,
   "metadata": {},
   "outputs": [
    {
     "name": "stderr",
     "output_type": "stream",
     "text": [
      "2022-07-01 15:32:39.498790: I tensorflow/core/common_runtime/pluggable_device/pluggable_device_factory.cc:305] Could not identify NUMA node of platform GPU ID 0, defaulting to 0. Your kernel may not have been built with NUMA support.\n",
      "2022-07-01 15:32:39.499366: I tensorflow/core/common_runtime/pluggable_device/pluggable_device_factory.cc:271] Created TensorFlow device (/job:localhost/replica:0/task:0/device:GPU:0 with 0 MB memory) -> physical PluggableDevice (device: 0, name: METAL, pci bus id: <undefined>)\n"
     ]
    },
    {
     "name": "stdout",
     "output_type": "stream",
     "text": [
      "Metal device set to: Apple M1\n",
      "\n",
      "systemMemory: 8.00 GB\n",
      "maxCacheSize: 2.67 GB\n",
      "\n",
      "Epoch 1/100\n"
     ]
    },
    {
     "name": "stderr",
     "output_type": "stream",
     "text": [
      "2022-07-01 15:32:39.731771: W tensorflow/core/platform/profile_utils/cpu_utils.cc:128] Failed to get CPU frequency: 0 Hz\n",
      "2022-07-01 15:32:39.923902: I tensorflow/core/grappler/optimizers/custom_graph_optimizer_registry.cc:113] Plugin optimizer for device_type GPU is enabled.\n"
     ]
    },
    {
     "name": "stdout",
     "output_type": "stream",
     "text": [
      "848/854 [============================>.] - ETA: 0s - loss: 3.5166 - accuracy: 0.3798"
     ]
    },
    {
     "name": "stderr",
     "output_type": "stream",
     "text": [
      "2022-07-01 15:32:44.128348: I tensorflow/core/grappler/optimizers/custom_graph_optimizer_registry.cc:113] Plugin optimizer for device_type GPU is enabled.\n"
     ]
    },
    {
     "name": "stdout",
     "output_type": "stream",
     "text": [
      "854/854 [==============================] - 5s 6ms/step - loss: 3.5043 - accuracy: 0.3803 - val_loss: 1.5306 - val_accuracy: 0.4691\n",
      "Epoch 2/100\n",
      "854/854 [==============================] - 6s 7ms/step - loss: 1.5802 - accuracy: 0.4650 - val_loss: 1.5173 - val_accuracy: 0.4772\n",
      "Epoch 3/100\n",
      "854/854 [==============================] - 6s 7ms/step - loss: 1.4811 - accuracy: 0.4871 - val_loss: 1.4907 - val_accuracy: 0.4672\n",
      "Epoch 4/100\n",
      "854/854 [==============================] - 5s 5ms/step - loss: 1.4271 - accuracy: 0.5003 - val_loss: 1.4308 - val_accuracy: 0.4843\n",
      "Epoch 5/100\n",
      "854/854 [==============================] - 6s 7ms/step - loss: 1.3986 - accuracy: 0.5087 - val_loss: 1.3074 - val_accuracy: 0.5423\n",
      "Epoch 6/100\n",
      "854/854 [==============================] - 5s 5ms/step - loss: 1.3440 - accuracy: 0.5235 - val_loss: 1.3954 - val_accuracy: 0.5222\n",
      "Epoch 7/100\n",
      "854/854 [==============================] - 6s 7ms/step - loss: 1.3393 - accuracy: 0.5266 - val_loss: 1.3314 - val_accuracy: 0.5383\n",
      "Epoch 8/100\n",
      "854/854 [==============================] - 7s 8ms/step - loss: 1.3071 - accuracy: 0.5364 - val_loss: 1.4097 - val_accuracy: 0.4925\n",
      "Epoch 9/100\n",
      "854/854 [==============================] - 5s 6ms/step - loss: 1.2775 - accuracy: 0.5461 - val_loss: 1.2731 - val_accuracy: 0.5511\n",
      "Epoch 10/100\n",
      "854/854 [==============================] - 5s 5ms/step - loss: 1.2686 - accuracy: 0.5478 - val_loss: 1.3441 - val_accuracy: 0.5292\n",
      "Epoch 11/100\n",
      "854/854 [==============================] - 5s 6ms/step - loss: 1.2568 - accuracy: 0.5520 - val_loss: 1.2120 - val_accuracy: 0.5746\n",
      "Epoch 12/100\n",
      "854/854 [==============================] - 5s 5ms/step - loss: 1.2409 - accuracy: 0.5565 - val_loss: 1.2281 - val_accuracy: 0.5585\n",
      "Epoch 13/100\n",
      "854/854 [==============================] - 5s 5ms/step - loss: 1.2236 - accuracy: 0.5612 - val_loss: 1.2082 - val_accuracy: 0.5729\n",
      "Epoch 14/100\n",
      "854/854 [==============================] - 5s 5ms/step - loss: 1.2143 - accuracy: 0.5650 - val_loss: 1.2573 - val_accuracy: 0.5567\n",
      "Epoch 15/100\n",
      "854/854 [==============================] - 5s 5ms/step - loss: 1.1988 - accuracy: 0.5706 - val_loss: 1.2055 - val_accuracy: 0.5672\n",
      "Epoch 16/100\n",
      "854/854 [==============================] - 5s 6ms/step - loss: 1.1980 - accuracy: 0.5703 - val_loss: 1.2467 - val_accuracy: 0.5400\n",
      "Epoch 17/100\n",
      "854/854 [==============================] - 5s 6ms/step - loss: 1.1835 - accuracy: 0.5743 - val_loss: 1.1456 - val_accuracy: 0.5899\n",
      "Epoch 18/100\n",
      "854/854 [==============================] - 6s 6ms/step - loss: 1.1749 - accuracy: 0.5778 - val_loss: 1.2762 - val_accuracy: 0.5366\n",
      "Epoch 19/100\n",
      "854/854 [==============================] - 5s 5ms/step - loss: 1.1683 - accuracy: 0.5796 - val_loss: 1.2016 - val_accuracy: 0.5670\n",
      "Epoch 20/100\n",
      "854/854 [==============================] - 5s 6ms/step - loss: 1.1733 - accuracy: 0.5783 - val_loss: 1.1607 - val_accuracy: 0.5763\n",
      "Epoch 21/100\n",
      "854/854 [==============================] - 5s 6ms/step - loss: 1.1510 - accuracy: 0.5855 - val_loss: 1.1421 - val_accuracy: 0.5857\n",
      "Epoch 22/100\n",
      "854/854 [==============================] - 5s 6ms/step - loss: 1.1525 - accuracy: 0.5854 - val_loss: 1.1395 - val_accuracy: 0.5871\n",
      "Epoch 23/100\n",
      "854/854 [==============================] - 5s 6ms/step - loss: 1.1519 - accuracy: 0.5836 - val_loss: 1.1228 - val_accuracy: 0.5992\n",
      "Epoch 24/100\n",
      "854/854 [==============================] - 5s 6ms/step - loss: 1.1453 - accuracy: 0.5861 - val_loss: 1.1672 - val_accuracy: 0.5816\n",
      "Epoch 25/100\n",
      "854/854 [==============================] - 5s 6ms/step - loss: 1.1391 - accuracy: 0.5902 - val_loss: 1.1544 - val_accuracy: 0.5791\n",
      "Epoch 26/100\n",
      "854/854 [==============================] - 5s 6ms/step - loss: 1.1324 - accuracy: 0.5926 - val_loss: 1.1404 - val_accuracy: 0.5835\n",
      "Epoch 27/100\n",
      "854/854 [==============================] - 5s 6ms/step - loss: 1.1308 - accuracy: 0.5920 - val_loss: 1.1344 - val_accuracy: 0.5900\n",
      "Epoch 28/100\n",
      "854/854 [==============================] - 5s 6ms/step - loss: 1.1296 - accuracy: 0.5931 - val_loss: 1.2348 - val_accuracy: 0.5541\n",
      "Epoch 29/100\n",
      "854/854 [==============================] - 5s 6ms/step - loss: 1.1253 - accuracy: 0.5963 - val_loss: 1.1418 - val_accuracy: 0.5842\n",
      "Epoch 30/100\n",
      "854/854 [==============================] - 6s 7ms/step - loss: 1.1240 - accuracy: 0.5957 - val_loss: 1.1591 - val_accuracy: 0.5836\n",
      "Epoch 31/100\n",
      "854/854 [==============================] - 5s 6ms/step - loss: 1.1183 - accuracy: 0.5964 - val_loss: 1.1445 - val_accuracy: 0.5964\n",
      "Epoch 32/100\n",
      "854/854 [==============================] - 5s 6ms/step - loss: 1.1136 - accuracy: 0.5988 - val_loss: 1.1870 - val_accuracy: 0.5783\n",
      "Epoch 33/100\n",
      "854/854 [==============================] - 5s 6ms/step - loss: 1.1116 - accuracy: 0.5992 - val_loss: 1.1934 - val_accuracy: 0.5773\n",
      "Epoch 34/100\n",
      "854/854 [==============================] - 5s 6ms/step - loss: 1.1153 - accuracy: 0.5975 - val_loss: 1.1126 - val_accuracy: 0.6014\n",
      "Epoch 35/100\n",
      "854/854 [==============================] - 5s 5ms/step - loss: 1.1048 - accuracy: 0.6017 - val_loss: 1.1243 - val_accuracy: 0.5976\n",
      "Epoch 36/100\n",
      "854/854 [==============================] - 5s 6ms/step - loss: 1.1073 - accuracy: 0.5992 - val_loss: 1.1527 - val_accuracy: 0.5726\n",
      "Epoch 37/100\n",
      "854/854 [==============================] - 5s 6ms/step - loss: 1.0973 - accuracy: 0.6054 - val_loss: 1.1085 - val_accuracy: 0.6039\n",
      "Epoch 38/100\n",
      "854/854 [==============================] - 5s 6ms/step - loss: 1.1025 - accuracy: 0.6023 - val_loss: 1.0885 - val_accuracy: 0.6058\n",
      "Epoch 39/100\n",
      "854/854 [==============================] - 5s 6ms/step - loss: 1.0999 - accuracy: 0.6056 - val_loss: 1.1193 - val_accuracy: 0.5933\n",
      "Epoch 40/100\n",
      "854/854 [==============================] - 5s 6ms/step - loss: 1.0972 - accuracy: 0.6039 - val_loss: 1.1088 - val_accuracy: 0.5979\n",
      "Epoch 41/100\n",
      "854/854 [==============================] - 5s 5ms/step - loss: 1.0904 - accuracy: 0.6068 - val_loss: 1.0879 - val_accuracy: 0.6058\n",
      "Epoch 42/100\n",
      "854/854 [==============================] - 5s 5ms/step - loss: 1.0952 - accuracy: 0.6053 - val_loss: 1.1112 - val_accuracy: 0.5984\n",
      "Epoch 43/100\n",
      "854/854 [==============================] - 5s 6ms/step - loss: 1.0865 - accuracy: 0.6088 - val_loss: 1.1366 - val_accuracy: 0.5936\n",
      "Epoch 44/100\n",
      "854/854 [==============================] - 5s 6ms/step - loss: 1.0904 - accuracy: 0.6075 - val_loss: 1.0834 - val_accuracy: 0.6077\n",
      "Epoch 45/100\n",
      "854/854 [==============================] - 5s 6ms/step - loss: 1.0846 - accuracy: 0.6105 - val_loss: 1.1227 - val_accuracy: 0.5864\n",
      "Epoch 46/100\n",
      "854/854 [==============================] - 6s 6ms/step - loss: 1.0869 - accuracy: 0.6080 - val_loss: 1.0840 - val_accuracy: 0.6051\n",
      "Epoch 47/100\n",
      "854/854 [==============================] - 5s 6ms/step - loss: 1.0809 - accuracy: 0.6110 - val_loss: 1.1324 - val_accuracy: 0.5872\n",
      "Epoch 48/100\n",
      "854/854 [==============================] - 5s 6ms/step - loss: 1.0809 - accuracy: 0.6116 - val_loss: 1.0815 - val_accuracy: 0.6135\n",
      "Epoch 49/100\n",
      "854/854 [==============================] - 5s 6ms/step - loss: 1.0774 - accuracy: 0.6121 - val_loss: 1.0748 - val_accuracy: 0.6147\n",
      "Epoch 50/100\n",
      "854/854 [==============================] - 5s 6ms/step - loss: 1.0761 - accuracy: 0.6138 - val_loss: 1.0618 - val_accuracy: 0.6205\n",
      "Epoch 51/100\n",
      "854/854 [==============================] - 5s 6ms/step - loss: 1.0728 - accuracy: 0.6139 - val_loss: 1.0693 - val_accuracy: 0.6164\n",
      "Epoch 52/100\n",
      "854/854 [==============================] - 5s 6ms/step - loss: 1.0741 - accuracy: 0.6144 - val_loss: 1.1088 - val_accuracy: 0.5979\n",
      "Epoch 53/100\n",
      "854/854 [==============================] - 5s 6ms/step - loss: 1.0743 - accuracy: 0.6140 - val_loss: 1.0603 - val_accuracy: 0.6207\n",
      "Epoch 54/100\n",
      "854/854 [==============================] - 5s 6ms/step - loss: 1.0699 - accuracy: 0.6159 - val_loss: 1.1093 - val_accuracy: 0.6003\n",
      "Epoch 55/100\n",
      "854/854 [==============================] - 5s 6ms/step - loss: 1.0771 - accuracy: 0.6136 - val_loss: 1.0401 - val_accuracy: 0.6299\n",
      "Epoch 56/100\n",
      "854/854 [==============================] - 5s 6ms/step - loss: 1.0736 - accuracy: 0.6142 - val_loss: 1.0795 - val_accuracy: 0.6113\n",
      "Epoch 57/100\n",
      "854/854 [==============================] - 5s 6ms/step - loss: 1.0673 - accuracy: 0.6171 - val_loss: 1.0682 - val_accuracy: 0.6164\n",
      "Epoch 58/100\n",
      "854/854 [==============================] - 6s 7ms/step - loss: 1.0643 - accuracy: 0.6169 - val_loss: 1.0591 - val_accuracy: 0.6176\n",
      "Epoch 59/100\n",
      "854/854 [==============================] - 6s 6ms/step - loss: 1.0670 - accuracy: 0.6165 - val_loss: 1.0655 - val_accuracy: 0.6136\n",
      "Epoch 60/100\n",
      "854/854 [==============================] - 5s 6ms/step - loss: 1.0641 - accuracy: 0.6183 - val_loss: 1.0791 - val_accuracy: 0.6174\n",
      "Epoch 61/100\n",
      "854/854 [==============================] - 6s 7ms/step - loss: 1.0654 - accuracy: 0.6167 - val_loss: 1.0849 - val_accuracy: 0.6068\n",
      "Epoch 62/100\n",
      "854/854 [==============================] - 5s 5ms/step - loss: 1.0677 - accuracy: 0.6170 - val_loss: 1.0728 - val_accuracy: 0.6146\n",
      "Epoch 63/100\n",
      "854/854 [==============================] - 6s 7ms/step - loss: 1.0643 - accuracy: 0.6190 - val_loss: 1.0465 - val_accuracy: 0.6250\n",
      "Epoch 64/100\n",
      "854/854 [==============================] - 6s 7ms/step - loss: 1.0638 - accuracy: 0.6191 - val_loss: 1.1084 - val_accuracy: 0.6028\n",
      "Epoch 65/100\n",
      "854/854 [==============================] - 5s 6ms/step - loss: 1.0599 - accuracy: 0.6196 - val_loss: 1.0707 - val_accuracy: 0.6133\n",
      "Epoch 66/100\n",
      "854/854 [==============================] - 5s 6ms/step - loss: 1.0573 - accuracy: 0.6223 - val_loss: 1.0774 - val_accuracy: 0.6127\n",
      "Epoch 67/100\n",
      "854/854 [==============================] - 5s 6ms/step - loss: 1.0626 - accuracy: 0.6181 - val_loss: 1.0743 - val_accuracy: 0.6167\n",
      "Epoch 68/100\n",
      "854/854 [==============================] - 6s 7ms/step - loss: 1.0576 - accuracy: 0.6193 - val_loss: 1.0638 - val_accuracy: 0.6166\n",
      "Epoch 69/100\n",
      "854/854 [==============================] - 6s 8ms/step - loss: 1.0599 - accuracy: 0.6197 - val_loss: 1.0943 - val_accuracy: 0.6072\n",
      "Epoch 70/100\n",
      "854/854 [==============================] - 11s 13ms/step - loss: 1.0542 - accuracy: 0.6213 - val_loss: 1.0717 - val_accuracy: 0.6105\n",
      "Epoch 71/100\n",
      "854/854 [==============================] - 9s 10ms/step - loss: 1.0533 - accuracy: 0.6233 - val_loss: 1.0806 - val_accuracy: 0.6121\n",
      "Epoch 72/100\n",
      "854/854 [==============================] - 8s 10ms/step - loss: 1.0555 - accuracy: 0.6229 - val_loss: 1.0443 - val_accuracy: 0.6267\n",
      "Epoch 73/100\n",
      "854/854 [==============================] - 9s 10ms/step - loss: 1.0523 - accuracy: 0.6238 - val_loss: 1.0390 - val_accuracy: 0.6290\n",
      "Epoch 74/100\n",
      "854/854 [==============================] - 8s 10ms/step - loss: 1.0465 - accuracy: 0.6247 - val_loss: 1.0372 - val_accuracy: 0.6309\n",
      "Epoch 75/100\n",
      "854/854 [==============================] - 8s 9ms/step - loss: 1.0497 - accuracy: 0.6231 - val_loss: 1.0397 - val_accuracy: 0.6240\n",
      "Epoch 76/100\n",
      "854/854 [==============================] - 9s 11ms/step - loss: 1.0491 - accuracy: 0.6231 - val_loss: 1.0883 - val_accuracy: 0.6122\n",
      "Epoch 77/100\n",
      "854/854 [==============================] - 8s 10ms/step - loss: 1.0501 - accuracy: 0.6248 - val_loss: 1.0572 - val_accuracy: 0.6186\n",
      "Epoch 78/100\n",
      "854/854 [==============================] - 9s 10ms/step - loss: 1.0507 - accuracy: 0.6251 - val_loss: 1.0308 - val_accuracy: 0.6337\n",
      "Epoch 79/100\n",
      "854/854 [==============================] - 9s 10ms/step - loss: 1.0491 - accuracy: 0.6243 - val_loss: 1.0393 - val_accuracy: 0.6294\n",
      "Epoch 80/100\n",
      "854/854 [==============================] - 9s 10ms/step - loss: 1.0517 - accuracy: 0.6234 - val_loss: 1.0456 - val_accuracy: 0.6301\n",
      "Epoch 81/100\n",
      "854/854 [==============================] - 10s 12ms/step - loss: 1.0489 - accuracy: 0.6230 - val_loss: 1.0661 - val_accuracy: 0.6194\n",
      "Epoch 82/100\n",
      "854/854 [==============================] - 9s 11ms/step - loss: 1.0473 - accuracy: 0.6246 - val_loss: 1.0552 - val_accuracy: 0.6208\n",
      "Epoch 83/100\n",
      "854/854 [==============================] - 9s 10ms/step - loss: 1.0471 - accuracy: 0.6248 - val_loss: 1.0432 - val_accuracy: 0.6211\n",
      "Epoch 84/100\n",
      "854/854 [==============================] - 9s 10ms/step - loss: 1.0490 - accuracy: 0.6237 - val_loss: 1.0277 - val_accuracy: 0.6358\n",
      "Epoch 85/100\n",
      "854/854 [==============================] - 10s 12ms/step - loss: 1.0452 - accuracy: 0.6259 - val_loss: 1.0489 - val_accuracy: 0.6256\n",
      "Epoch 86/100\n",
      "854/854 [==============================] - 7s 8ms/step - loss: 1.0468 - accuracy: 0.6234 - val_loss: 1.0371 - val_accuracy: 0.6295\n",
      "Epoch 87/100\n",
      "854/854 [==============================] - 5s 6ms/step - loss: 1.0414 - accuracy: 0.6266 - val_loss: 1.0371 - val_accuracy: 0.6261\n",
      "Epoch 88/100\n",
      "854/854 [==============================] - 5s 6ms/step - loss: 1.0418 - accuracy: 0.6274 - val_loss: 1.0333 - val_accuracy: 0.6300\n",
      "Epoch 89/100\n",
      "854/854 [==============================] - 5s 6ms/step - loss: 1.0450 - accuracy: 0.6251 - val_loss: 1.0495 - val_accuracy: 0.6223\n",
      "Epoch 90/100\n",
      "854/854 [==============================] - 5s 6ms/step - loss: 1.0412 - accuracy: 0.6266 - val_loss: 1.0536 - val_accuracy: 0.6201\n",
      "Epoch 91/100\n",
      "854/854 [==============================] - 5s 6ms/step - loss: 1.0412 - accuracy: 0.6255 - val_loss: 1.0573 - val_accuracy: 0.6211\n",
      "Epoch 92/100\n",
      "854/854 [==============================] - 5s 6ms/step - loss: 1.0409 - accuracy: 0.6269 - val_loss: 1.0539 - val_accuracy: 0.6172\n",
      "Epoch 93/100\n",
      "854/854 [==============================] - 5s 6ms/step - loss: 1.0395 - accuracy: 0.6284 - val_loss: 1.0287 - val_accuracy: 0.6331\n",
      "Epoch 94/100\n",
      "854/854 [==============================] - 5s 6ms/step - loss: 1.0384 - accuracy: 0.6283 - val_loss: 1.0501 - val_accuracy: 0.6206\n",
      "Epoch 95/100\n",
      "854/854 [==============================] - 5s 6ms/step - loss: 1.0352 - accuracy: 0.6294 - val_loss: 1.0505 - val_accuracy: 0.6248\n",
      "Epoch 96/100\n",
      "854/854 [==============================] - 5s 6ms/step - loss: 1.0363 - accuracy: 0.6277 - val_loss: 1.0449 - val_accuracy: 0.6300\n",
      "Epoch 97/100\n",
      "854/854 [==============================] - 5s 6ms/step - loss: 1.0408 - accuracy: 0.6269 - val_loss: 1.0326 - val_accuracy: 0.6280\n",
      "Epoch 98/100\n",
      "854/854 [==============================] - 5s 6ms/step - loss: 1.0411 - accuracy: 0.6253 - val_loss: 1.0469 - val_accuracy: 0.6216\n",
      "Epoch 99/100\n",
      "854/854 [==============================] - 5s 6ms/step - loss: 1.0323 - accuracy: 0.6302 - val_loss: 1.0314 - val_accuracy: 0.6326\n",
      "Epoch 100/100\n",
      "854/854 [==============================] - 5s 6ms/step - loss: 1.0385 - accuracy: 0.6275 - val_loss: 1.0320 - val_accuracy: 0.6301\n"
     ]
    }
   ],
   "source": [
    "inp = tf.keras.Input(shape=72,)\n",
    "x = tf.keras.layers.Dense(100, activation = 'relu')(inp)\n",
    "out = tf.keras.layers.Dense(50, activation = 'softmax')(x)\n",
    "\n",
    "model = tf.keras.Model(inp, out)\n",
    "model.compile(optimizer = 'adam',loss = 'sparse_categorical_crossentropy',metrics = 'accuracy')\n",
    "\n",
    "batch_size = 100\n",
    "epochs = 100\n",
    "\n",
    "history = model.fit(X_train, y_train, validation_split = 0.2, batch_size = batch_size, epochs = epochs)"
   ]
  },
  {
   "cell_type": "code",
   "execution_count": 23,
   "metadata": {},
   "outputs": [
    {
     "data": {
      "image/png": "[encoded data removed]",
      "text/plain": [
       "<Figure size 720x360 with 1 Axes>"
      ]
     },
     "metadata": {
      "needs_background": "light"
     },
     "output_type": "display_data"
    }
   ],
   "source": [
    "plt.figure(figsize = (10, 5))\n",
    "\n",
    "plt.plot(range(epochs), history.history['loss'], label = 'Training loss')\n",
    "plt.plot(range(epochs), history.history['val_loss'], label = 'Validation loss')\n",
    "\n",
    "plt.xlabel('Epoch')\n",
    "plt.ylabel('Loss')\n",
    "plt.legend()\n",
    "\n",
    "plt.show()"
   ]
  },
  {
   "cell_type": "code",
   "execution_count": 24,
   "metadata": {},
   "outputs": [
    {
     "name": "stdout",
     "output_type": "stream",
     "text": [
      "Test loss: 1.0252964496612549\n",
      "Test accuracy: 0.630988359451294\n"
     ]
    }
   ],
   "source": [
    "score = model.evaluate(X_test, y_test, verbose = 0) \n",
    "\n",
    "print('Test loss:', score[0]) \n",
    "print('Test accuracy:', score[1])"
   ]
  },
  {
   "cell_type": "code",
   "execution_count": 32,
   "metadata": {},
   "outputs": [
    {
     "name": "stderr",
     "output_type": "stream",
     "text": [
      "2022-07-01 15:57:03.734872: I tensorflow/core/grappler/optimizers/custom_graph_optimizer_registry.cc:113] Plugin optimizer for device_type GPU is enabled.\n"
     ]
    }
   ],
   "source": [
    "train_acc = model.evaluate(X_train, y_train, verbose=0)\n",
    "test_acc = model.evaluate(X_test, y_test, verbose=0)"
   ]
  },
  {
   "cell_type": "code",
   "execution_count": 48,
   "metadata": {},
   "outputs": [
    {
     "data": {
      "image/png": "[encoded data removed]",
      "text/plain": [
       "<Figure size 720x720 with 2 Axes>"
      ]
     },
     "metadata": {
      "needs_background": "light"
     },
     "output_type": "display_data"
    }
   ],
   "source": [
    "plt.figure(figsize = (10, 10))\n",
    "plt.subplot(211)\n",
    "plt.title('Loss')\n",
    "plt.plot(history.history['loss'], label='train')\n",
    "plt.plot(history.history['val_loss'], label='test')\n",
    "plt.legend()\n",
    "\n",
    "plt.subplot(212)\n",
    "plt.title('Accuracy')\n",
    "plt.plot(history.history['accuracy'], label='train')\n",
    "plt.plot(history.history['val_accuracy'], label='test')\n",
    "plt.legend()\n",
    "plt.show()"
   ]
  },
  {
   "cell_type": "markdown",
   "metadata": {},
   "source": [
    "## Stuff from Neue Fische Notebook ... Normalization, Regularization, Dropout, Model tuning, Visualization"
   ]
  },
  {
   "cell_type": "code",
   "execution_count": 25,
   "metadata": {},
   "outputs": [],
   "source": [
    "# Convert to np array\n",
    "X_train = X_train.values\n",
    "X_test = X_test.values\n",
    "y_train = y_train.values\n",
    "y_test = y_test.values"
   ]
  },
  {
   "cell_type": "code",
   "execution_count": 26,
   "metadata": {},
   "outputs": [],
   "source": [
    "\n",
    "# Define dictionary to store results\n",
    "training_history = {}\n",
    "\n",
    "# Define number of epochs and learning rate decay\n",
    "N_TRAIN = len(X_train)\n",
    "EPOCHS = 2000\n",
    "BATCH_SIZE = 32\n",
    "STEPS_PER_EPOCH = N_TRAIN // BATCH_SIZE\n",
    "lr_schedule = tf.keras.optimizers.schedules.InverseTimeDecay(\n",
    "    0.01,\n",
    "    decay_steps=STEPS_PER_EPOCH*1000,\n",
    "    decay_rate=1,\n",
    "    staircase=False)\n",
    "\n",
    "\n",
    "# Define optimizer used for modelling\n",
    "optimizer = tf.keras.optimizers.Adam(learning_rate=lr_schedule, name='Adam')"
   ]
  },
  {
   "cell_type": "code",
   "execution_count": 27,
   "metadata": {},
   "outputs": [],
   "source": [
    "# Plotting function for MSE\n",
    "def plot_metric(history):\n",
    "    plt.plot(history.history['mse'])\n",
    "    plt.plot(history.history['val_mse'])\n",
    "    plt.title('Model MSE')\n",
    "    plt.ylabel('MSE')\n",
    "    plt.xlabel('Epoch')\n",
    "    plt.legend(['train', 'validation'], loc='upper right')\n",
    "    plt.show()"
   ]
  },
  {
   "cell_type": "code",
   "execution_count": 28,
   "metadata": {},
   "outputs": [],
   "source": [
    "# Plotting function for loss\n",
    "def plot_loss(history):\n",
    "    plt.plot(history.history['loss'], label='loss')\n",
    "    plt.plot(history.history['val_loss'], label='val_loss')\n",
    "    plt.title('Model Loss')\n",
    "    plt.ylim([0, 10])\n",
    "    plt.xlabel('Epoch')\n",
    "    plt.ylabel('Error')\n",
    "    plt.legend()\n",
    "    plt.grid(True)"
   ]
  },
  {
   "cell_type": "code",
   "execution_count": 29,
   "metadata": {},
   "outputs": [],
   "source": [
    "# Function for large model architecture \n",
    "def get_compiled_large_model():\n",
    "    large_model = tf.keras.Sequential([\n",
    "      tf.keras.layers.Dense(512,kernel_initializer = 'uniform', activation='relu', input_dim = 12),\n",
    "      tf.keras.layers.Dense(512,kernel_initializer = 'uniform', activation='relu'),\n",
    "      tf.keras.layers.Dense(512,kernel_initializer = 'uniform', activation='relu'),\n",
    "      tf.keras.layers.Dense(512,kernel_initializer = 'uniform', activation='relu'),\n",
    "      tf.keras.layers.Dense(1,kernel_initializer = 'uniform')\n",
    "    ])\n",
    "\n",
    "    large_model.compile(optimizer=optimizer,\n",
    "                  loss='mae',\n",
    "                  metrics=['mse'])\n",
    "    return large_model"
   ]
  },
  {
   "cell_type": "code",
   "execution_count": 30,
   "metadata": {},
   "outputs": [
    {
     "name": "stdout",
     "output_type": "stream",
     "text": [
      "Model: \"sequential\"\n",
      "_________________________________________________________________\n",
      " Layer (type)                Output Shape              Param #   \n",
      "=================================================================\n",
      " dense_2 (Dense)             (None, 512)               6656      \n",
      "                                                                 \n",
      " dense_3 (Dense)             (None, 512)               262656    \n",
      "                                                                 \n",
      " dense_4 (Dense)             (None, 512)               262656    \n",
      "                                                                 \n",
      " dense_5 (Dense)             (None, 512)               262656    \n",
      "                                                                 \n",
      " dense_6 (Dense)             (None, 1)                 513       \n",
      "                                                                 \n",
      "=================================================================\n",
      "Total params: 795,137\n",
      "Trainable params: 795,137\n",
      "Non-trainable params: 0\n",
      "_________________________________________________________________\n",
      "None\n"
     ]
    }
   ],
   "source": [
    "# Summary of large sized model\n",
    "with tf.device('/cpu:0'):\n",
    "    large_model = get_compiled_large_model()\n",
    "    print(large_model.summary())"
   ]
  },
  {
   "cell_type": "markdown",
   "metadata": {},
   "source": [
    "### Regularization"
   ]
  },
  {
   "cell_type": "code",
   "execution_count": 52,
   "metadata": {},
   "outputs": [],
   "source": [
    "# Large model with additional L2 regularization\n",
    "def get_compiled_l2_model():\n",
    "    l2_model = tf.keras.Sequential([\n",
    "      tf.keras.layers.Dense(512,kernel_initializer = 'uniform', activation='relu', kernel_regularizer=regularizers.l2(0.01),\n",
    "                            input_dim = 12),\n",
    "      tf.keras.layers.Dense(512,kernel_initializer = 'uniform', activation='relu', kernel_regularizer=regularizers.l2(0.01)),\n",
    "      tf.keras.layers.Dense(512,kernel_initializer = 'uniform', activation='relu', kernel_regularizer=regularizers.l2(0.01)),\n",
    "      tf.keras.layers.Dense(512,kernel_initializer = 'uniform', activation='relu', kernel_regularizer=regularizers.l2(0.01)),\n",
    "      tf.keras.layers.Dense(1,kernel_initializer = 'uniform')\n",
    "    ])\n",
    "\n",
    "    l2_model.compile(optimizer=optimizer,\n",
    "                  loss='mae',\n",
    "                  metrics=['mse'])\n",
    "    return l2_model"
   ]
  },
  {
   "cell_type": "markdown",
   "metadata": {},
   "source": [
    "### Dropout"
   ]
  },
  {
   "cell_type": "markdown",
   "metadata": {},
   "source": [
    "### Regularization + Dropout"
   ]
  },
  {
   "cell_type": "markdown",
   "metadata": {},
   "source": [
    "### Model tuning"
   ]
  },
  {
   "cell_type": "markdown",
   "metadata": {},
   "source": [
    "### Visualization"
   ]
  }
 ],
 "metadata": {
  "kernelspec": {
   "display_name": "Python 3.9.8 ('.venv': venv)",
   "language": "python",
   "name": "python3"
  },
  "language_info": {
   "codemirror_mode": {
    "name": "ipython",
    "version": 3
   },
   "file_extension": ".py",
   "mimetype": "text/x-python",
   "name": "python",
   "nbconvert_exporter": "python",
   "pygments_lexer": "ipython3",
   "version": "3.9.8"
  },
  "orig_nbformat": 4,
  "vscode": {
   "interpreter": {
    "hash": "b0408a114c6509f724dbd951c4fa7c6f2fa15147806242461b8de14c803dba44"
   }
  }
 },
 "nbformat": 4,
 "nbformat_minor": 2
}
