{
 "cells": [
  {
   "cell_type": "markdown",
   "metadata": {},
   "source": [
    "# Spectral Indices\n",
    "\n",
    "*by Felix*\n",
    "\n",
    "Notebook to test how the calculation of the indices works. For actually calculating the indices for the data please use the feature_engineering.py.\n",
    "\n",
    "We first need to import all the needed modules."
   ]
  },
  {
   "cell_type": "code",
   "execution_count": 4,
   "metadata": {},
   "outputs": [],
   "source": [
    "# Load libraries\n",
    "import numpy as np\n",
    "import pandas as pd\n",
    "import os"
   ]
  },
  {
   "cell_type": "markdown",
   "metadata": {},
   "source": [
    "Set Working directory"
   ]
  },
  {
   "cell_type": "code",
   "execution_count": 5,
   "metadata": {},
   "outputs": [
    {
     "name": "stdout",
     "output_type": "stream",
     "text": [
      "Current Working directory: /Users/felixbehrendt/neuefische/Radiant-Earth-Spot-Crop/\n"
     ]
    }
   ],
   "source": [
    "#path = os.getcwd()\n",
    "path = '/Users/felixbehrendt/neuefische/Radiant-Earth-Spot-Crop/'\n",
    "# Set Workign directory and print\n",
    "os.chdir(path)\n",
    "print(f'Current Working directory: {path}')"
   ]
  },
  {
   "cell_type": "markdown",
   "metadata": {},
   "source": [
    "Function to calculate the spectral indices. Can be found in spectral_indices.py"
   ]
  },
  {
   "cell_type": "code",
   "execution_count": 6,
   "metadata": {},
   "outputs": [],
   "source": [
    "# NDVI\n",
    "def cal_NDVI(Band4: pd.Series, Band8: pd.Series) -> pd.Series:\n",
    "    \"\"\"Takes the Bands of Sentinel2 and returns the NDVI\n",
    "\n",
    "    Args:\n",
    "        Band4 (pd.Series): Band 4 of Sentinel 2\n",
    "        Band8 (pd.Series): Band 8 of Sentinel 2\n",
    "\n",
    "    Returns:\n",
    "        pd.Series: Calculated NDVI\n",
    "    \"\"\"\n",
    "    return (Band8 - Band4) / (Band8 + Band4) \n",
    "\n",
    "# SIPI2\n",
    "def cal_SIPI2(Band2: pd.Series, Band8: pd.Series, Band4:pd.Series) -> pd.Series:\n",
    "    \"\"\"Takes the Bands of Sentinel2 and returns the SIPI2\n",
    "\n",
    "    Args:\n",
    "        Band2 (pd.Series):  Band 2 of Sentinel 2\n",
    "        Band8 (pd.Series):  Band 8 of Sentinel 2\n",
    "        Band4 (pd.Series):  Band 4 of Sentinel 2\n",
    "\n",
    "    Returns:\n",
    "        pd.Series: Calculated SIPI\n",
    "    \"\"\"\n",
    "    return (Band8 - Band2) / (Band8 - Band4)\n",
    "\n",
    "# WET\n",
    "def cal_WET(Band2: pd.Series, Band3: pd.Series, Band4:pd.Series, Band8: pd.Series, Band11: pd.Series, Band12:pd.Series) -> pd.Series:\n",
    "    \"\"\"Takes the Bands of Sentinel2 and returns the WET\n",
    "\n",
    "    Args:\n",
    "        Band2 (pd.Series): Band 2 of Sentinel 2\n",
    "        Band3 (pd.Series): Band 3 of Sentinel 2\n",
    "        Band4 (pd.Series): Band 4 of Sentinel 2\n",
    "        Band8 (pd.Series): Band 8 of Sentinel 2\n",
    "        Band11 (pd.Series): Band 11 of Sentinel 2\n",
    "        Band12 (pd.Series): Band 12 of Sentinel 2\n",
    "\n",
    "    Returns:\n",
    "        pd.Series: Calculated WET\n",
    "    \"\"\"\n",
    "    return 0.1509 * Band2 +0.1973 * Band3 + 0.3279 * Band4 + 0.3406 * Band8 - 0.7112 * Band11 - 0.4572 * Band12\n",
    "\n",
    "# PVR\n",
    "def cal_PVR(Band3: pd.Series, Band4: pd.Series) -> pd.Series:\n",
    "    \"\"\"Takes the Bands of Sentinel2 and returns the PVR\n",
    "\n",
    "    Args:\n",
    "        Band3 (pd.Series): Band 3 of Sentinel 2\n",
    "        Band4 (pd.Series): Band 4 of Sentinel 2\n",
    "\n",
    "    Returns:\n",
    "        pd.Series:  Calculated PVR\n",
    "    \"\"\"\n",
    "    return (Band3 - Band4) / (Band3 + Band4) "
   ]
  },
  {
   "cell_type": "markdown",
   "metadata": {},
   "source": [
    "Function in the feature_engineering.py"
   ]
  },
  {
   "cell_type": "code",
   "execution_count": 9,
   "metadata": {},
   "outputs": [],
   "source": [
    "def cal_spectral_indices(df:pd.DataFrame) -> pd.DataFrame:\n",
    "    \"\"\"Takes the Data and add additional features:\n",
    "        * NDVI\n",
    "        * WET\n",
    "        * PVR\n",
    "\n",
    "    Args:\n",
    "        df (pd.DataFrame): Full Dataset\n",
    "\n",
    "    Returns:\n",
    "        pd.DataFrame: Full Dataset with  spectral indices\n",
    "    \"\"\"\n",
    "\n",
    "    # Define list with all bands\n",
    "    Bands = ['B02', 'B03', 'B04', 'B08', 'B11', 'B12']\n",
    "\n",
    "    # calculate Indices and PC1\n",
    "    df['NDVI'] = cal_NDVI(df.B04, df.B08)\n",
    "    df['WET'] = cal_WET(df.B02,df.B03, df.B04, df.B08, df.B11, df.B12)\n",
    "    df['PVR'] = cal_PVR(df.B03, df.B04)\n",
    "\n",
    "    # Fill NA values with zero\n",
    "    # df = df.fillna(value=0)\n",
    "    return df "
   ]
  },
  {
   "cell_type": "markdown",
   "metadata": {},
   "source": [
    "Load dataset"
   ]
  },
  {
   "cell_type": "code",
   "execution_count": 32,
   "metadata": {},
   "outputs": [
    {
     "data": {
      "text/html": [
       "<div>\n",
       "<style scoped>\n",
       "    .dataframe tbody tr th:only-of-type {\n",
       "        vertical-align: middle;\n",
       "    }\n",
       "\n",
       "    .dataframe tbody tr th {\n",
       "        vertical-align: top;\n",
       "    }\n",
       "\n",
       "    .dataframe thead th {\n",
       "        text-align: right;\n",
       "    }\n",
       "</style>\n",
       "<table border=\"1\" class=\"dataframe\">\n",
       "  <thead>\n",
       "    <tr style=\"text-align: right;\">\n",
       "      <th></th>\n",
       "      <th>field_id</th>\n",
       "      <th>date</th>\n",
       "      <th>label</th>\n",
       "      <th>B02</th>\n",
       "      <th>B03</th>\n",
       "      <th>B04</th>\n",
       "      <th>B08</th>\n",
       "      <th>B11</th>\n",
       "      <th>B12</th>\n",
       "    </tr>\n",
       "  </thead>\n",
       "  <tbody>\n",
       "    <tr>\n",
       "      <th>0</th>\n",
       "      <td>1</td>\n",
       "      <td>2017-04-01</td>\n",
       "      <td>4</td>\n",
       "      <td>21.934084</td>\n",
       "      <td>29.180065</td>\n",
       "      <td>35.554660</td>\n",
       "      <td>62.490353</td>\n",
       "      <td>68.39710</td>\n",
       "      <td>46.040190</td>\n",
       "    </tr>\n",
       "    <tr>\n",
       "      <th>1</th>\n",
       "      <td>1</td>\n",
       "      <td>2017-04-11</td>\n",
       "      <td>4</td>\n",
       "      <td>14.844051</td>\n",
       "      <td>23.114147</td>\n",
       "      <td>30.607718</td>\n",
       "      <td>58.736336</td>\n",
       "      <td>73.43569</td>\n",
       "      <td>48.863342</td>\n",
       "    </tr>\n",
       "    <tr>\n",
       "      <th>2</th>\n",
       "      <td>1</td>\n",
       "      <td>2017-04-21</td>\n",
       "      <td>4</td>\n",
       "      <td>13.385852</td>\n",
       "      <td>21.596462</td>\n",
       "      <td>29.223473</td>\n",
       "      <td>57.065918</td>\n",
       "      <td>73.66881</td>\n",
       "      <td>49.313503</td>\n",
       "    </tr>\n",
       "    <tr>\n",
       "      <th>3</th>\n",
       "      <td>1</td>\n",
       "      <td>2017-05-01</td>\n",
       "      <td>4</td>\n",
       "      <td>15.408361</td>\n",
       "      <td>22.471062</td>\n",
       "      <td>29.371382</td>\n",
       "      <td>56.434082</td>\n",
       "      <td>71.05788</td>\n",
       "      <td>46.557877</td>\n",
       "    </tr>\n",
       "    <tr>\n",
       "      <th>4</th>\n",
       "      <td>1</td>\n",
       "      <td>2017-05-11</td>\n",
       "      <td>4</td>\n",
       "      <td>54.829582</td>\n",
       "      <td>65.739550</td>\n",
       "      <td>72.906750</td>\n",
       "      <td>95.672030</td>\n",
       "      <td>66.14791</td>\n",
       "      <td>58.643085</td>\n",
       "    </tr>\n",
       "  </tbody>\n",
       "</table>\n",
       "</div>"
      ],
      "text/plain": [
       "   field_id        date  label        B02        B03        B04        B08  \\\n",
       "0         1  2017-04-01      4  21.934084  29.180065  35.554660  62.490353   \n",
       "1         1  2017-04-11      4  14.844051  23.114147  30.607718  58.736336   \n",
       "2         1  2017-04-21      4  13.385852  21.596462  29.223473  57.065918   \n",
       "3         1  2017-05-01      4  15.408361  22.471062  29.371382  56.434082   \n",
       "4         1  2017-05-11      4  54.829582  65.739550  72.906750  95.672030   \n",
       "\n",
       "        B11        B12  \n",
       "0  68.39710  46.040190  \n",
       "1  73.43569  48.863342  \n",
       "2  73.66881  49.313503  \n",
       "3  71.05788  46.557877  \n",
       "4  66.14791  58.643085  "
      ]
     },
     "execution_count": 32,
     "metadata": {},
     "output_type": "execute_result"
    }
   ],
   "source": [
    "df = pd.read_csv('data/data_with_unknown.csv')\n",
    "df_wo = pd.read_csv('data/data_without_unknown.csv')\n",
    "df.head()"
   ]
  },
  {
   "cell_type": "code",
   "execution_count": 33,
   "metadata": {},
   "outputs": [],
   "source": [
    "# calculate spectral indices\n",
    "df_spectral = cal_spectral_indices(df)\n",
    "df_spectral_wo = cal_spectral_indices(df_wo)"
   ]
  },
  {
   "cell_type": "code",
   "execution_count": 36,
   "metadata": {},
   "outputs": [],
   "source": [
    "def drop_na(df:pd.DataFrame, verbose:bool = False) -> pd.DataFrame:\n",
    "    \"\"\"_summary_\n",
    "\n",
    "    Args:\n",
    "        df (pd.DataFrame): Data with all features\n",
    "        verbose (bool, optional): Print information about loose of information (rows). Defaults to False.\n",
    "\n",
    "    Returns:\n",
    "        pd.DataFrame: Data without NA\n",
    "    \"\"\"\n",
    "    df_wo_NA = df.dropna(axis = 0)\n",
    "    \n",
    "    # Print Loose of information\n",
    "    if verbose:\n",
    "        print(f'Rows without NA:               {df_wo_NA.shape[0]}')\n",
    "        print(f'Rows of Origin:                {df.shape[0]}')\n",
    "        print(f'Precentage of remaining Data:  {round((df_wo_NA.shape[0] / df.shape[0]) * 100, 3)} %')\n",
    "\n",
    "    return df_wo_NA"
   ]
  },
  {
   "cell_type": "code",
   "execution_count": 37,
   "metadata": {},
   "outputs": [
    {
     "name": "stdout",
     "output_type": "stream",
     "text": [
      "Rows without NA:               4255238\n",
      "Rows of Origin:                4301227\n",
      "Precentage of remaining Data:  98.931 %\n",
      "Rows without NA:               1472994\n",
      "Rows of Origin:                1473025\n",
      "Precentage of remaining Data:  99.998 %\n"
     ]
    }
   ],
   "source": [
    "# Drop Rows with NA values\n",
    "df_1 = drop_na(df_spectral, verbose=True)\n",
    "df_2 = drop_na(df_spectral_wo, verbose=True)"
   ]
  },
  {
   "cell_type": "code",
   "execution_count": 38,
   "metadata": {},
   "outputs": [],
   "source": [
    "# save data\n",
    "#df_1.to_csv('data/spectral_wo_NA.csv', index = False)\n",
    "#df_2.to_csv('data/spectral_wo_NA_02.csv', index=False)"
   ]
  }
 ],
 "metadata": {
  "kernelspec": {
   "display_name": "Python 3.9.8 ('.venv': venv)",
   "language": "python",
   "name": "python3"
  },
  "language_info": {
   "codemirror_mode": {
    "name": "ipython",
    "version": 3
   },
   "file_extension": ".py",
   "mimetype": "text/x-python",
   "name": "python",
   "nbconvert_exporter": "python",
   "pygments_lexer": "ipython3",
   "version": "3.9.8"
  },
  "orig_nbformat": 4,
  "vscode": {
   "interpreter": {
    "hash": "79f8c2148c6ef70f00ab3e355f3567115c74c068162dbb64509ccd5964888a99"
   }
  }
 },
 "nbformat": 4,
 "nbformat_minor": 2
}
