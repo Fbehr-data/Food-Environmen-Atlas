{
 "cells": [
  {
   "cell_type": "markdown",
   "metadata": {},
   "source": [
    "# Calculate the mean for the bands of each field\n",
    "*by Max*\n",
    "\n",
    "Notebook to test how the data download works. For actually downloading the data please use the download_train_data.py or download_test_data.py respectively.\n",
    "\n",
    "We first import all the needed modules."
   ]
  },
  {
   "cell_type": "code",
   "execution_count": 1,
   "metadata": {},
   "outputs": [],
   "source": [
    "# import the needed modules\n",
    "import numpy as np\n",
    "import pandas as pd\n",
    "from scipy import stats\n",
    "import os, random, pickle, time, glob, multiprocessing\n",
    "from tqdm.auto import tqdm\n",
    "from collections import OrderedDict\n",
    "\n",
    "# import own modules from the scr folder\n",
    "import sys\n",
    "sys.path.append('../src/')\n",
    "from preprocessing_functions_notebooks import get_clm, calculate_band_mode"
   ]
  },
  {
   "cell_type": "markdown",
   "metadata": {},
   "source": [
    "Then we setup the directory environment and load the meta data."
   ]
  },
  {
   "cell_type": "code",
   "execution_count": 2,
   "metadata": {},
   "outputs": [],
   "source": [
    "# set the directory and the chunks in which the larger fields are splitted \n",
    "DATA_DIR = '../data'\n",
    "DIR_BANDS = f'{DATA_DIR}/bands-raw/' \n",
    "\n",
    "# load the data frame and add the path information of the npz objects for each field to the data frame\n",
    "df = pd.read_pickle(f'{DATA_DIR}/meta_data_fields_bands.pkl')\n",
    "df['path'] = DIR_BANDS+df.field_id.astype(str)+'.npz'"
   ]
  },
  {
   "cell_type": "markdown",
   "metadata": {},
   "source": [
    "Here we extract the field data from the npz files and calculate the mean of each field for each band on each date. "
   ]
  },
  {
   "cell_type": "code",
   "execution_count": 16,
   "metadata": {},
   "outputs": [
    {
     "name": "stderr",
     "output_type": "stream",
     "text": [
      "100%|██████████| 87092/87092 [05:56<00:00, 244.44it/s]\n"
     ]
    }
   ],
   "source": [
    "field_ids = []\n",
    "labels = []\n",
    "dates = []\n",
    "features = []\n",
    "tile_ids = []\n",
    "\n",
    "for _,row in tqdm(df.iterrows(), total=len(df)):\n",
    "    bands = np.load(row.path)['arr_0']\n",
    "    n = bands.shape[0]              # save the number of bands \n",
    "    n_dates = bands.shape[2]        # save the number of dates \n",
    "\n",
    "    bands, cloud = get_clm(bands)                       # get the cloud mask out of the bands and update\n",
    "    cloud_mode = calculate_band_mode(cloud)             # calculate the mode over each pixel and for all dates for the cloud mask\n",
    "    mean = np.mean(bands,axis=0)                        # calculate the mean over each pixel for the band and dates\n",
    "    feature = mean.transpose(1,0)                       # switch the bands and dates\n",
    "    feature = np.concatenate((feature, cloud_mode), axis=1)     # add the mode of the cloud mask back into the features\n",
    "    features.append(feature)                            # add the features of each field to the features list\n",
    "           \n",
    "    field_id = np.repeat(row.field_id,feature.shape[0]) # get an array of the field ids, of the same size as the date array of the current feature\n",
    "    field_ids.append(field_id)                          # add the field ids array to the field ids list\n",
    "    tile_id = np.repeat(row.tile_id,feature.shape[0])\n",
    "    tile_ids.append(tile_id)\n",
    "    label = np.repeat(row.label,feature.shape[0])       # get an array of the labels, of the same size as the date array of the current feature\n",
    "    labels.append(label)                                # add the label array to the labels list\n",
    "    date = [str(d)[:10] for d in row.dates]             # goes through the dates in each row and saves them to a list without the time [-> [:10]]\n",
    "    date = np.array(date)                               # convert the date list to an array\n",
    "    dates.append(date)                                  # add the date array to the dates"
   ]
  },
  {
   "cell_type": "markdown",
   "metadata": {},
   "source": [
    "Finally we put all the data together into one data frame and save it as a CSV file."
   ]
  },
  {
   "cell_type": "code",
   "execution_count": 17,
   "metadata": {},
   "outputs": [],
   "source": [
    "# put all of the list information into an array\n",
    "all_features = np.concatenate(features)\n",
    "all_field_ids = np.concatenate(field_ids)\n",
    "all_tile_ids = np.concatenate(tile_ids)\n",
    "all_dates = np.concatenate(dates)\n",
    "all_labels = np.concatenate(labels)\n",
    "\n",
    "# put all different information into one data frame\n",
    "cols = ['B02', 'B03', 'B04', 'B08', 'B11', 'B12', 'CLM']\n",
    "df_data = pd.DataFrame(all_features,columns=cols)\n",
    "df_data.insert(0,'field_id',all_field_ids)\n",
    "df_data.insert(1,'tile_id',all_tile_ids)\n",
    "df_data.insert(2,'date',all_dates)\n",
    "df_data.insert(3,'label',all_labels)\n",
    "\n",
    "# save the data frame as CSV file\n",
    "df_data.to_csv(f'{DATA_DIR}/mean_band_perField_perDate.csv', index=False)"
   ]
  },
  {
   "cell_type": "markdown",
   "metadata": {},
   "source": [
    "---\n",
    "### Numpy array experiments\n",
    "This part is for experimentation with arrays in order to understand the manipulation of the arrays that is happening in the upper part."
   ]
  },
  {
   "cell_type": "code",
   "execution_count": 3,
   "metadata": {},
   "outputs": [
    {
     "name": "stdout",
     "output_type": "stream",
     "text": [
      "(2, 3, 4)\n"
     ]
    },
    {
     "data": {
      "text/plain": [
       "array([[[ 1,  2,  3,  4],\n",
       "        [ 5,  6,  7,  8],\n",
       "        [ 9, 10, 23, 12]],\n",
       "\n",
       "       [[13, 14, 15, 16],\n",
       "        [17, 18, 19, 20],\n",
       "        [21, 22, 23, 24]]])"
      ]
     },
     "execution_count": 3,
     "metadata": {},
     "output_type": "execute_result"
    }
   ],
   "source": [
    "arr = np.array([\n",
    "                [[1, 2, 3, 4], [5, 6, 7, 8], [9, 10, 23, 12]], \n",
    "                [[13, 14, 15, 16], [17, 18, 19, 20], [21, 22, 23, 24],]\n",
    "                ])\n",
    "print(arr.shape)\n",
    "arr"
   ]
  },
  {
   "cell_type": "markdown",
   "metadata": {},
   "source": [
    "In this test array we have 2 big array, each contains 3 sub array, and each of the sub array has 4 entries.\n",
    "This is the same structure as the npz arrays per field have:\n",
    "- We have for each pixel of the field a big array. \n",
    "- Each of these pixel arrays contains 7 band arrays. \n",
    "- And each of these band arrays contains a value for each date.\n",
    "\n",
    "The next step is to transpose the big array with the sub arrays.\n",
    "Or in terms of the npz arrays per field:\n",
    "- We change the pixels and the bands position"
   ]
  },
  {
   "cell_type": "code",
   "execution_count": 4,
   "metadata": {},
   "outputs": [
    {
     "name": "stdout",
     "output_type": "stream",
     "text": [
      "(3, 2, 4)\n"
     ]
    },
    {
     "data": {
      "text/plain": [
       "array([[[ 1,  2,  3,  4],\n",
       "        [13, 14, 15, 16]],\n",
       "\n",
       "       [[ 5,  6,  7,  8],\n",
       "        [17, 18, 19, 20]],\n",
       "\n",
       "       [[ 9, 10, 23, 12],\n",
       "        [21, 22, 23, 24]]])"
      ]
     },
     "execution_count": 4,
     "metadata": {},
     "output_type": "execute_result"
    }
   ],
   "source": [
    "arr_T = arr.transpose(1,0,2)\n",
    "print(arr_T.shape)\n",
    "arr_T"
   ]
  },
  {
   "cell_type": "markdown",
   "metadata": {},
   "source": [
    "Then now we can easily access the single bands, for example the third like this:"
   ]
  },
  {
   "cell_type": "code",
   "execution_count": 5,
   "metadata": {},
   "outputs": [
    {
     "name": "stdout",
     "output_type": "stream",
     "text": [
      "(2, 4)\n"
     ]
    },
    {
     "data": {
      "text/plain": [
       "array([[ 9, 10, 23, 12],\n",
       "       [21, 22, 23, 24]])"
      ]
     },
     "execution_count": 5,
     "metadata": {},
     "output_type": "execute_result"
    }
   ],
   "source": [
    "band = arr_T[2]\n",
    "print(band.shape)\n",
    "band"
   ]
  },
  {
   "cell_type": "markdown",
   "metadata": {},
   "source": [
    "However we lost one dimension by that, what makes it impossible to transpose the data in a way we could work with that."
   ]
  },
  {
   "cell_type": "code",
   "execution_count": 6,
   "metadata": {},
   "outputs": [
    {
     "name": "stdout",
     "output_type": "stream",
     "text": [
      "(1, 2, 4)\n"
     ]
    },
    {
     "data": {
      "text/plain": [
       "array([[[ 9, 10, 23, 12],\n",
       "        [21, 22, 23, 24]]])"
      ]
     },
     "execution_count": 6,
     "metadata": {},
     "output_type": "execute_result"
    }
   ],
   "source": [
    "band = np.expand_dims(arr_T[2],axis=0)\n",
    "print(band.shape)\n",
    "band"
   ]
  },
  {
   "cell_type": "markdown",
   "metadata": {},
   "source": [
    "And now we just transpose the data back to the old way."
   ]
  },
  {
   "cell_type": "code",
   "execution_count": 7,
   "metadata": {},
   "outputs": [
    {
     "name": "stdout",
     "output_type": "stream",
     "text": [
      "(2, 1, 4)\n"
     ]
    },
    {
     "data": {
      "text/plain": [
       "array([[[ 9, 10, 23, 12]],\n",
       "\n",
       "       [[21, 22, 23, 24]]])"
      ]
     },
     "execution_count": 7,
     "metadata": {},
     "output_type": "execute_result"
    }
   ],
   "source": [
    "band = band.transpose(1,0,2)\n",
    "print(band.shape)\n",
    "band"
   ]
  },
  {
   "cell_type": "markdown",
   "metadata": {},
   "source": [
    "And we can calculate the mode or mean over all pixels for each band for each date."
   ]
  },
  {
   "cell_type": "code",
   "execution_count": 8,
   "metadata": {},
   "outputs": [
    {
     "name": "stdout",
     "output_type": "stream",
     "text": [
      "(2, 3, 4)\n"
     ]
    },
    {
     "data": {
      "text/plain": [
       "array([[[ 1,  2,  3,  4],\n",
       "        [ 5,  6,  7,  8],\n",
       "        [ 9, 10, 23, 12]],\n",
       "\n",
       "       [[13, 14, 15, 16],\n",
       "        [17, 18, 19, 20],\n",
       "        [21, 22, 23, 24]]])"
      ]
     },
     "execution_count": 8,
     "metadata": {},
     "output_type": "execute_result"
    }
   ],
   "source": [
    "print(arr.shape)\n",
    "arr"
   ]
  },
  {
   "cell_type": "code",
   "execution_count": 9,
   "metadata": {},
   "outputs": [
    {
     "name": "stdout",
     "output_type": "stream",
     "text": [
      "(3, 4)\n"
     ]
    },
    {
     "data": {
      "text/plain": [
       "array([[ 7.,  8.,  9., 10.],\n",
       "       [11., 12., 13., 14.],\n",
       "       [15., 16., 23., 18.]])"
      ]
     },
     "execution_count": 9,
     "metadata": {},
     "output_type": "execute_result"
    }
   ],
   "source": [
    "# This is the mean of all field pixels for each band (here the rows)\n",
    "mean = np.mean(arr,axis=0)\n",
    "print(mean.shape)\n",
    "mean"
   ]
  },
  {
   "cell_type": "code",
   "execution_count": 10,
   "metadata": {},
   "outputs": [
    {
     "name": "stdout",
     "output_type": "stream",
     "text": [
      "(3, 4)\n"
     ]
    },
    {
     "data": {
      "text/plain": [
       "array([[ 1,  2,  3,  4],\n",
       "       [ 5,  6,  7,  8],\n",
       "       [ 9, 10, 23, 12]])"
      ]
     },
     "execution_count": 10,
     "metadata": {},
     "output_type": "execute_result"
    }
   ],
   "source": [
    "from scipy import stats\n",
    "# This is the mode of all field pixels for each band (here the rows)\n",
    "mode = stats.mode(arr)\n",
    "print(np.squeeze(mode[0], axis=0).shape)\n",
    "np.squeeze(mode[0], axis=0)"
   ]
  },
  {
   "cell_type": "code",
   "execution_count": 11,
   "metadata": {},
   "outputs": [
    {
     "name": "stdout",
     "output_type": "stream",
     "text": [
      "[[[ 9 10 23 12]]\n",
      "\n",
      " [[21 22 23 24]]]\n",
      "(1, 4)\n"
     ]
    },
    {
     "data": {
      "text/plain": [
       "array([[ 9, 10, 23, 12]])"
      ]
     },
     "execution_count": 11,
     "metadata": {},
     "output_type": "execute_result"
    }
   ],
   "source": [
    "print(band)\n",
    "mode = stats.mode(band)\n",
    "print(np.squeeze(mode[0],axis=0).shape)\n",
    "np.squeeze(mode[0],axis=0)"
   ]
  }
 ],
 "metadata": {
  "kernelspec": {
   "display_name": "Python 3.9.8 ('.venv': venv)",
   "language": "python",
   "name": "python3"
  },
  "language_info": {
   "codemirror_mode": {
    "name": "ipython",
    "version": 3
   },
   "file_extension": ".py",
   "mimetype": "text/x-python",
   "name": "python",
   "nbconvert_exporter": "python",
   "pygments_lexer": "ipython3",
   "version": "3.9.8"
  },
  "orig_nbformat": 4,
  "vscode": {
   "interpreter": {
    "hash": "4f09b4927e4ba45dbad33b3bb266e4177c67ff52e8879550fc4abd145d1e96f6"
   }
  }
 },
 "nbformat": 4,
 "nbformat_minor": 2
}
