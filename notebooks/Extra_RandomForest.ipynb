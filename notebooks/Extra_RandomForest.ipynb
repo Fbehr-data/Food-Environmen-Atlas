{
 "cells": [
  {
   "cell_type": "markdown",
   "metadata": {},
   "source": [
    "## Extra RandomForest Notebook\n",
    "by Anitha \n",
    "\n",
    "In this Notebook, we will look at using Extra Trees ,which can often achieve as-good or better performance than the random forest algorithm, also Extremely Randomized Trees are surely faster than Random Forest due to the random nature of picking up thresholds."
   ]
  },
  {
   "cell_type": "code",
   "execution_count": 190,
   "metadata": {},
   "outputs": [],
   "source": [
    "#Import the needed modules\n",
    "import numpy as np\n",
    "import pandas as pd\n",
    "from sklearn.metrics import (\n",
    "    accuracy_score, \n",
    "    f1_score, \n",
    "    log_loss )\n",
    "%matplotlib inline\n",
    "from sklearn.ensemble import RandomForestClassifier\n",
    "from sklearn.ensemble import ExtraTreesClassifier\n",
    "from scipy.ndimage import gaussian_filter\n",
    "from hyperopt import STATUS_OK, Trials, fmin, hp, tpe\n",
    "import hyperopt.pyll.stochastic"
   ]
  },
  {
   "cell_type": "markdown",
   "metadata": {},
   "source": [
    "load the base data from the CSV files"
   ]
  },
  {
   "cell_type": "code",
   "execution_count": 192,
   "metadata": {},
   "outputs": [],
   "source": [
    "OUTPUT_DIR = '../data'\n",
    "\n",
    "df_train = pd.read_csv(f'{OUTPUT_DIR}/Train_Dataset.csv')\n",
    "df_test = pd.read_csv(f'{OUTPUT_DIR}/Test_Dataset.csv')"
   ]
  },
  {
   "cell_type": "markdown",
   "metadata": {},
   "source": [
    "Set a random seed"
   ]
  },
  {
   "cell_type": "code",
   "execution_count": 193,
   "metadata": {},
   "outputs": [],
   "source": [
    "\n",
    "RSEED = 42\n",
    "np.random.seed(RSEED)"
   ]
  },
  {
   "cell_type": "code",
   "execution_count": 194,
   "metadata": {},
   "outputs": [],
   "source": [
    "\n",
    "# get X for the train and validation data\n",
    "X_train = df_train.drop(columns=[\"label\", \"field_id\"])\n",
    "X_val = df_test.drop(columns=[\"label\", \"field_id\"])\n",
    "\n",
    "# get y for the train and validation data\n",
    "y_train = df_train[\"label\"]\n",
    "y_train = y_train.astype(int)\n",
    "y_val = df_test[\"label\"]\n",
    "y_val = y_val.astype(int)\n",
    "\n",
    "# set the class labels from 0 to 8 \n",
    "y_train = y_train-1\n",
    "y_val = y_val-1"
   ]
  },
  {
   "cell_type": "markdown",
   "metadata": {},
   "source": [
    "Then we can use the Extra Trees model and make predictions for classification.\n",
    "\n",
    "First, the Extra Trees ensemble is fit on all available data(Train), then the predict() function can be called to make predictions on new data."
   ]
  },
  {
   "cell_type": "code",
   "execution_count": 198,
   "metadata": {},
   "outputs": [
    {
     "data": {
      "text/html": [
       "<style>#sk-container-id-28 {color: black;background-color: white;}#sk-container-id-28 pre{padding: 0;}#sk-container-id-28 div.sk-toggleable {background-color: white;}#sk-container-id-28 label.sk-toggleable__label {cursor: pointer;display: block;width: 100%;margin-bottom: 0;padding: 0.3em;box-sizing: border-box;text-align: center;}#sk-container-id-28 label.sk-toggleable__label-arrow:before {content: \"▸\";float: left;margin-right: 0.25em;color: #696969;}#sk-container-id-28 label.sk-toggleable__label-arrow:hover:before {color: black;}#sk-container-id-28 div.sk-estimator:hover label.sk-toggleable__label-arrow:before {color: black;}#sk-container-id-28 div.sk-toggleable__content {max-height: 0;max-width: 0;overflow: hidden;text-align: left;background-color: #f0f8ff;}#sk-container-id-28 div.sk-toggleable__content pre {margin: 0.2em;color: black;border-radius: 0.25em;background-color: #f0f8ff;}#sk-container-id-28 input.sk-toggleable__control:checked~div.sk-toggleable__content {max-height: 200px;max-width: 100%;overflow: auto;}#sk-container-id-28 input.sk-toggleable__control:checked~label.sk-toggleable__label-arrow:before {content: \"▾\";}#sk-container-id-28 div.sk-estimator input.sk-toggleable__control:checked~label.sk-toggleable__label {background-color: #d4ebff;}#sk-container-id-28 div.sk-label input.sk-toggleable__control:checked~label.sk-toggleable__label {background-color: #d4ebff;}#sk-container-id-28 input.sk-hidden--visually {border: 0;clip: rect(1px 1px 1px 1px);clip: rect(1px, 1px, 1px, 1px);height: 1px;margin: -1px;overflow: hidden;padding: 0;position: absolute;width: 1px;}#sk-container-id-28 div.sk-estimator {font-family: monospace;background-color: #f0f8ff;border: 1px dotted black;border-radius: 0.25em;box-sizing: border-box;margin-bottom: 0.5em;}#sk-container-id-28 div.sk-estimator:hover {background-color: #d4ebff;}#sk-container-id-28 div.sk-parallel-item::after {content: \"\";width: 100%;border-bottom: 1px solid gray;flex-grow: 1;}#sk-container-id-28 div.sk-label:hover label.sk-toggleable__label {background-color: #d4ebff;}#sk-container-id-28 div.sk-serial::before {content: \"\";position: absolute;border-left: 1px solid gray;box-sizing: border-box;top: 0;bottom: 0;left: 50%;z-index: 0;}#sk-container-id-28 div.sk-serial {display: flex;flex-direction: column;align-items: center;background-color: white;padding-right: 0.2em;padding-left: 0.2em;position: relative;}#sk-container-id-28 div.sk-item {position: relative;z-index: 1;}#sk-container-id-28 div.sk-parallel {display: flex;align-items: stretch;justify-content: center;background-color: white;position: relative;}#sk-container-id-28 div.sk-item::before, #sk-container-id-28 div.sk-parallel-item::before {content: \"\";position: absolute;border-left: 1px solid gray;box-sizing: border-box;top: 0;bottom: 0;left: 50%;z-index: -1;}#sk-container-id-28 div.sk-parallel-item {display: flex;flex-direction: column;z-index: 1;position: relative;background-color: white;}#sk-container-id-28 div.sk-parallel-item:first-child::after {align-self: flex-end;width: 50%;}#sk-container-id-28 div.sk-parallel-item:last-child::after {align-self: flex-start;width: 50%;}#sk-container-id-28 div.sk-parallel-item:only-child::after {width: 0;}#sk-container-id-28 div.sk-dashed-wrapped {border: 1px dashed gray;margin: 0 0.4em 0.5em 0.4em;box-sizing: border-box;padding-bottom: 0.4em;background-color: white;}#sk-container-id-28 div.sk-label label {font-family: monospace;font-weight: bold;display: inline-block;line-height: 1.2em;}#sk-container-id-28 div.sk-label-container {text-align: center;}#sk-container-id-28 div.sk-container {/* jupyter's `normalize.less` sets `[hidden] { display: none; }` but bootstrap.min.css set `[hidden] { display: none !important; }` so we also need the `!important` here to be able to override the default hidden behavior on the sphinx rendered scikit-learn.org. See: https://github.com/scikit-learn/scikit-learn/issues/21755 */display: inline-block !important;position: relative;}#sk-container-id-28 div.sk-text-repr-fallback {display: none;}</style><div id=\"sk-container-id-28\" class=\"sk-top-container\"><div class=\"sk-text-repr-fallback\"><pre>ExtraTreesClassifier(n_estimators=200, random_state=42)</pre><b>In a Jupyter environment, please rerun this cell to show the HTML representation or trust the notebook. <br />On GitHub, the HTML representation is unable to render, please try loading this page with nbviewer.org.</b></div><div class=\"sk-container\" hidden><div class=\"sk-item\"><div class=\"sk-estimator sk-toggleable\"><input class=\"sk-toggleable__control sk-hidden--visually\" id=\"sk-estimator-id-28\" type=\"checkbox\" checked><label for=\"sk-estimator-id-28\" class=\"sk-toggleable__label sk-toggleable__label-arrow\">ExtraTreesClassifier</label><div class=\"sk-toggleable__content\"><pre>ExtraTreesClassifier(n_estimators=200, random_state=42)</pre></div></div></div></div></div>"
      ],
      "text/plain": [
       "ExtraTreesClassifier(n_estimators=200, random_state=42)"
      ]
     },
     "execution_count": 198,
     "metadata": {},
     "output_type": "execute_result"
    }
   ],
   "source": [
    "model = ExtraTreesClassifier(n_estimators=200, random_state=42)\n",
    "model.fit(X_train, y_train)"
   ]
  },
  {
   "cell_type": "code",
   "execution_count": 199,
   "metadata": {},
   "outputs": [],
   "source": [
    "y_pred_train = model.predict(X_train)\n",
    "y_pred_test = model.predict(X_val)\n",
    "y_proba_train = model.predict_proba(X_train)\n",
    "y_proba_test = model.predict_proba(X_val)\n"
   ]
  },
  {
   "cell_type": "code",
   "execution_count": 200,
   "metadata": {},
   "outputs": [],
   "source": [
    "labels = y_train.unique()"
   ]
  },
  {
   "cell_type": "code",
   "execution_count": 201,
   "metadata": {},
   "outputs": [
    {
     "name": "stdout",
     "output_type": "stream",
     "text": [
      "Accuracy on train data: 1.0\n",
      "Accuracy on test data: 0.6854385891943601\n",
      "------------------------------\n",
      "F1-score on train data: 1.0\n",
      "F1-score on test data: 0.6386690201773105\n",
      "------------------------------\n",
      "Cross-entropy on train data: 6.994405055138511e-15\n",
      "Cross-entropy on test data: 1.0089041966703398\n",
      "------------------------------\n"
     ]
    }
   ],
   "source": [
    "\n",
    "print(f'Accuracy on train data: {accuracy_score(y_train, y_pred_train)}')\n",
    "print(f'Accuracy on test data: {accuracy_score(y_val, y_pred_test)}')\n",
    "print('---'*10)\n",
    "print(f'F1-score on train data: {f1_score(y_train, y_pred_train, average=\"macro\")}')\n",
    "print(f'F1-score on test data: {f1_score(y_val, y_pred_test, average=\"macro\")}')\n",
    "print('---'*10)\n",
    "print(f'Cross-entropy on train data: {log_loss(y_train, y_proba_train, labels=labels)}')\n",
    "print(f'Cross-entropy on test data: {log_loss(y_val, y_proba_test, labels=labels)}')\n",
    "print('---'*10)"
   ]
  },
  {
   "cell_type": "markdown",
   "metadata": {},
   "source": [
    "The results of our model show us overfitting ,so we are going to do some generalization ,starting by doing a hyperparameter tuning"
   ]
  },
  {
   "cell_type": "markdown",
   "metadata": {},
   "source": [
    "### Hyperparameter tuning"
   ]
  },
  {
   "cell_type": "code",
   "execution_count": 202,
   "metadata": {},
   "outputs": [
    {
     "data": {
      "text/html": [
       "<style>#sk-container-id-29 {color: black;background-color: white;}#sk-container-id-29 pre{padding: 0;}#sk-container-id-29 div.sk-toggleable {background-color: white;}#sk-container-id-29 label.sk-toggleable__label {cursor: pointer;display: block;width: 100%;margin-bottom: 0;padding: 0.3em;box-sizing: border-box;text-align: center;}#sk-container-id-29 label.sk-toggleable__label-arrow:before {content: \"▸\";float: left;margin-right: 0.25em;color: #696969;}#sk-container-id-29 label.sk-toggleable__label-arrow:hover:before {color: black;}#sk-container-id-29 div.sk-estimator:hover label.sk-toggleable__label-arrow:before {color: black;}#sk-container-id-29 div.sk-toggleable__content {max-height: 0;max-width: 0;overflow: hidden;text-align: left;background-color: #f0f8ff;}#sk-container-id-29 div.sk-toggleable__content pre {margin: 0.2em;color: black;border-radius: 0.25em;background-color: #f0f8ff;}#sk-container-id-29 input.sk-toggleable__control:checked~div.sk-toggleable__content {max-height: 200px;max-width: 100%;overflow: auto;}#sk-container-id-29 input.sk-toggleable__control:checked~label.sk-toggleable__label-arrow:before {content: \"▾\";}#sk-container-id-29 div.sk-estimator input.sk-toggleable__control:checked~label.sk-toggleable__label {background-color: #d4ebff;}#sk-container-id-29 div.sk-label input.sk-toggleable__control:checked~label.sk-toggleable__label {background-color: #d4ebff;}#sk-container-id-29 input.sk-hidden--visually {border: 0;clip: rect(1px 1px 1px 1px);clip: rect(1px, 1px, 1px, 1px);height: 1px;margin: -1px;overflow: hidden;padding: 0;position: absolute;width: 1px;}#sk-container-id-29 div.sk-estimator {font-family: monospace;background-color: #f0f8ff;border: 1px dotted black;border-radius: 0.25em;box-sizing: border-box;margin-bottom: 0.5em;}#sk-container-id-29 div.sk-estimator:hover {background-color: #d4ebff;}#sk-container-id-29 div.sk-parallel-item::after {content: \"\";width: 100%;border-bottom: 1px solid gray;flex-grow: 1;}#sk-container-id-29 div.sk-label:hover label.sk-toggleable__label {background-color: #d4ebff;}#sk-container-id-29 div.sk-serial::before {content: \"\";position: absolute;border-left: 1px solid gray;box-sizing: border-box;top: 0;bottom: 0;left: 50%;z-index: 0;}#sk-container-id-29 div.sk-serial {display: flex;flex-direction: column;align-items: center;background-color: white;padding-right: 0.2em;padding-left: 0.2em;position: relative;}#sk-container-id-29 div.sk-item {position: relative;z-index: 1;}#sk-container-id-29 div.sk-parallel {display: flex;align-items: stretch;justify-content: center;background-color: white;position: relative;}#sk-container-id-29 div.sk-item::before, #sk-container-id-29 div.sk-parallel-item::before {content: \"\";position: absolute;border-left: 1px solid gray;box-sizing: border-box;top: 0;bottom: 0;left: 50%;z-index: -1;}#sk-container-id-29 div.sk-parallel-item {display: flex;flex-direction: column;z-index: 1;position: relative;background-color: white;}#sk-container-id-29 div.sk-parallel-item:first-child::after {align-self: flex-end;width: 50%;}#sk-container-id-29 div.sk-parallel-item:last-child::after {align-self: flex-start;width: 50%;}#sk-container-id-29 div.sk-parallel-item:only-child::after {width: 0;}#sk-container-id-29 div.sk-dashed-wrapped {border: 1px dashed gray;margin: 0 0.4em 0.5em 0.4em;box-sizing: border-box;padding-bottom: 0.4em;background-color: white;}#sk-container-id-29 div.sk-label label {font-family: monospace;font-weight: bold;display: inline-block;line-height: 1.2em;}#sk-container-id-29 div.sk-label-container {text-align: center;}#sk-container-id-29 div.sk-container {/* jupyter's `normalize.less` sets `[hidden] { display: none; }` but bootstrap.min.css set `[hidden] { display: none !important; }` so we also need the `!important` here to be able to override the default hidden behavior on the sphinx rendered scikit-learn.org. See: https://github.com/scikit-learn/scikit-learn/issues/21755 */display: inline-block !important;position: relative;}#sk-container-id-29 div.sk-text-repr-fallback {display: none;}</style><div id=\"sk-container-id-29\" class=\"sk-top-container\"><div class=\"sk-text-repr-fallback\"><pre>ExtraTreesClassifier(max_depth=85, max_features=35, min_samples_leaf=10,\n",
       "                     min_samples_split=20, random_state=42)</pre><b>In a Jupyter environment, please rerun this cell to show the HTML representation or trust the notebook. <br />On GitHub, the HTML representation is unable to render, please try loading this page with nbviewer.org.</b></div><div class=\"sk-container\" hidden><div class=\"sk-item\"><div class=\"sk-estimator sk-toggleable\"><input class=\"sk-toggleable__control sk-hidden--visually\" id=\"sk-estimator-id-29\" type=\"checkbox\" checked><label for=\"sk-estimator-id-29\" class=\"sk-toggleable__label sk-toggleable__label-arrow\">ExtraTreesClassifier</label><div class=\"sk-toggleable__content\"><pre>ExtraTreesClassifier(max_depth=85, max_features=35, min_samples_leaf=10,\n",
       "                     min_samples_split=20, random_state=42)</pre></div></div></div></div></div>"
      ],
      "text/plain": [
       "ExtraTreesClassifier(max_depth=85, max_features=35, min_samples_leaf=10,\n",
       "                     min_samples_split=20, random_state=42)"
      ]
     },
     "execution_count": 202,
     "metadata": {},
     "output_type": "execute_result"
    }
   ],
   "source": [
    "etr = ExtraTreesClassifier(n_estimators=100, random_state=42,\n",
    "                                                    min_samples_split = 20,\n",
    "                                                    min_samples_leaf = 10,\n",
    "                                                    max_features = 35,\n",
    "                                                    max_depth = 85,\n",
    "                                                    )\n",
    "etr.fit(X_train, y_train)"
   ]
  },
  {
   "cell_type": "code",
   "execution_count": 203,
   "metadata": {},
   "outputs": [],
   "source": [
    "y_pred_train = etr.predict(X_train)\n",
    "y_pred_test = etr.predict(X_val)\n",
    "y_proba_train = etr.predict_proba(X_train)\n",
    "y_proba_test = etr.predict_proba(X_val)"
   ]
  },
  {
   "cell_type": "code",
   "execution_count": 204,
   "metadata": {},
   "outputs": [
    {
     "name": "stdout",
     "output_type": "stream",
     "text": [
      "Accuracy on train data: 0.8151006033960656\n",
      "Accuracy on test data: 0.6487127230378904\n",
      "------------------------------\n",
      "F1-score on train data: 0.8140396877609182\n",
      "F1-score on test data: 0.5946335631692139\n",
      "------------------------------\n",
      "Cross-entropy on train data: 0.8026581949276058\n",
      "Cross-entropy on test data: 1.0632284277918556\n",
      "------------------------------\n"
     ]
    }
   ],
   "source": [
    "\n",
    "print(f'Accuracy on train data: {accuracy_score(y_train, y_pred_train)}')\n",
    "print(f'Accuracy on test data: {accuracy_score(y_val, y_pred_test)}')\n",
    "print('---'*10)\n",
    "print(f'F1-score on train data: {f1_score(y_train, y_pred_train, average=\"macro\")}')\n",
    "print(f'F1-score on test data: {f1_score(y_val, y_pred_test, average=\"macro\")}')\n",
    "print('---'*10)\n",
    "print(f'Cross-entropy on train data: {log_loss(y_train, y_proba_train, labels=labels)}')\n",
    "print(f'Cross-entropy on test data: {log_loss(y_val, y_proba_test, labels=labels)}')\n",
    "print('---'*10)"
   ]
  },
  {
   "cell_type": "markdown",
   "metadata": {},
   "source": [
    "### Hyperparameter tuning via Bayesian optimization"
   ]
  },
  {
   "cell_type": "markdown",
   "metadata": {},
   "source": [
    "1st Round"
   ]
  },
  {
   "cell_type": "code",
   "execution_count": 205,
   "metadata": {},
   "outputs": [
    {
     "name": "stdout",
     "output_type": "stream",
     "text": [
      "{'bootstrap': 'False', 'criterion': 'entropy', 'max_depth': 20.0, 'max_features': 'auto', 'min_samples_leaf': 20.0, 'min_samples_split': 20.0, 'n_estimators': 300.0, 'random_state': 42}\n"
     ]
    }
   ],
   "source": [
    "# hp.uniform for float number\n",
    "# hp.quniform for int that are a multiple from the last number, \n",
    "# for example 3, 15, 1 means any whole number between 3 and 15\n",
    "\n",
    "\n",
    "space={\n",
    "    'criterion': hp.choice('criterion',('gini', 'entropy')),\n",
    "    'n_estimators': hp.quniform('n_estimators', 200, 500,100),\n",
    "    'random_state': RSEED,\n",
    "    'bootstrap':hp.choice('bootstrap',('True', 'False')),\n",
    "    'max_features':hp.choice('max_features',('auto', 'sqrt')),\n",
    "    'min_samples_leaf': hp.quniform('min_samples_leaf',20, 60,10),\n",
    "    'max_depth': hp.quniform('max_depth', 10, 40,5),\n",
    "    'min_samples_split':hp.quniform('min_samples_split',20, 80,10),\n",
    "    }\n",
    "print(hyperopt.pyll.stochastic.sample(space))"
   ]
  },
  {
   "cell_type": "code",
   "execution_count": 206,
   "metadata": {},
   "outputs": [],
   "source": [
    "def objective(space):\n",
    "    rf = ExtraTreesClassifier(\n",
    "        criterion =space['criterion'],\n",
    "        n_estimators=int(space['n_estimators']),\n",
    "        random_state=space['random_state'],\n",
    "        bootstrap =space['bootstrap'],\n",
    "        max_features =space['max_features'],\n",
    "         min_samples_leaf=int(space['min_samples_leaf']),\n",
    "        max_depth=int(space['max_depth']),\n",
    "        min_samples_split=int(space['min_samples_split']) \n",
    "        )\n",
    "    \n",
    "    evaluation = [\n",
    "                  ( X_train, y_train), \n",
    "                  ( X_val, y_val)\n",
    "    ]\n",
    "                \n",
    "    rf.fit(\n",
    "        X_train, y_train\n",
    "        )\n",
    "    \n",
    "    y_pred_val = rf.predict(X_val)\n",
    "    f1 = f1_score(y_val, y_pred_val, average=\"macro\")\n",
    "    print (\"SCORE:\", f1)\n",
    "    return {'loss': -f1, 'status': STATUS_OK }"
   ]
  },
  {
   "cell_type": "code",
   "execution_count": 207,
   "metadata": {},
   "outputs": [
    {
     "name": "stdout",
     "output_type": "stream",
     "text": [
      "SCORE:                                                \n",
      "0.5418150141261759                                    \n",
      "SCORE:                                                                           \n",
      "0.5471437470615752                                                               \n",
      "SCORE:                                                                           \n",
      "0.5230138834678024                                                               \n",
      "SCORE:                                                                           \n",
      "0.5285809186856789                                                               \n",
      "SCORE:                                                                           \n",
      "0.5333134769282599                                                               \n",
      " 25%|██▌       | 5/20 [00:37<01:58,  7.92s/trial, best loss: -0.5471437470615752]"
     ]
    },
    {
     "name": "stderr",
     "output_type": "stream",
     "text": [
      "/Users/anithagrace/neue_fische/Radiant-Earth-Spot-Crop/.venv/lib/python3.9/site-packages/sklearn/ensemble/_forest.py:427: FutureWarning: `max_features='auto'` has been deprecated in 1.1 and will be removed in 1.3. To keep the past behaviour, explicitly set `max_features='sqrt'` or remove this parameter as it is also the default value for RandomForestClassifiers and ExtraTreesClassifiers.\n",
      "  warn(\n",
      "\n"
     ]
    },
    {
     "name": "stdout",
     "output_type": "stream",
     "text": [
      "SCORE:                                                                           \n",
      "0.5391740048433141                                                               \n",
      " 30%|███       | 6/20 [00:45<01:53,  8.08s/trial, best loss: -0.5471437470615752]"
     ]
    },
    {
     "name": "stderr",
     "output_type": "stream",
     "text": [
      "/Users/anithagrace/neue_fische/Radiant-Earth-Spot-Crop/.venv/lib/python3.9/site-packages/sklearn/ensemble/_forest.py:427: FutureWarning: `max_features='auto'` has been deprecated in 1.1 and will be removed in 1.3. To keep the past behaviour, explicitly set `max_features='sqrt'` or remove this parameter as it is also the default value for RandomForestClassifiers and ExtraTreesClassifiers.\n",
      "  warn(\n",
      "\n"
     ]
    },
    {
     "name": "stdout",
     "output_type": "stream",
     "text": [
      "SCORE:                                                                           \n",
      "0.5346918543725039                                                               \n",
      "SCORE:                                                                           \n",
      "0.5343537623393608                                                               \n",
      " 40%|████      | 8/20 [01:06<01:54,  9.58s/trial, best loss: -0.5471437470615752]"
     ]
    },
    {
     "name": "stderr",
     "output_type": "stream",
     "text": [
      "/Users/anithagrace/neue_fische/Radiant-Earth-Spot-Crop/.venv/lib/python3.9/site-packages/sklearn/ensemble/_forest.py:427: FutureWarning: `max_features='auto'` has been deprecated in 1.1 and will be removed in 1.3. To keep the past behaviour, explicitly set `max_features='sqrt'` or remove this parameter as it is also the default value for RandomForestClassifiers and ExtraTreesClassifiers.\n",
      "  warn(\n",
      "\n"
     ]
    },
    {
     "name": "stdout",
     "output_type": "stream",
     "text": [
      "SCORE:                                                                           \n",
      "0.5286138960222326                                                               \n",
      " 45%|████▌     | 9/20 [01:16<01:47,  9.79s/trial, best loss: -0.5471437470615752]"
     ]
    },
    {
     "name": "stderr",
     "output_type": "stream",
     "text": [
      "/Users/anithagrace/neue_fische/Radiant-Earth-Spot-Crop/.venv/lib/python3.9/site-packages/sklearn/ensemble/_forest.py:427: FutureWarning: `max_features='auto'` has been deprecated in 1.1 and will be removed in 1.3. To keep the past behaviour, explicitly set `max_features='sqrt'` or remove this parameter as it is also the default value for RandomForestClassifiers and ExtraTreesClassifiers.\n",
      "  warn(\n",
      "\n"
     ]
    },
    {
     "name": "stdout",
     "output_type": "stream",
     "text": [
      "SCORE:                                                                           \n",
      "0.5331657488578245                                                               \n",
      "SCORE:                                                                            \n",
      "0.5285675297401744                                                                \n",
      " 55%|█████▌    | 11/20 [01:36<01:29,  9.94s/trial, best loss: -0.5471437470615752]"
     ]
    },
    {
     "name": "stderr",
     "output_type": "stream",
     "text": [
      "/Users/anithagrace/neue_fische/Radiant-Earth-Spot-Crop/.venv/lib/python3.9/site-packages/sklearn/ensemble/_forest.py:427: FutureWarning: `max_features='auto'` has been deprecated in 1.1 and will be removed in 1.3. To keep the past behaviour, explicitly set `max_features='sqrt'` or remove this parameter as it is also the default value for RandomForestClassifiers and ExtraTreesClassifiers.\n",
      "  warn(\n",
      "\n"
     ]
    },
    {
     "name": "stdout",
     "output_type": "stream",
     "text": [
      "SCORE:                                                                            \n",
      "0.5370217488590061                                                                \n",
      "SCORE:                                                                            \n",
      "0.5209718793314074                                                                \n",
      "SCORE:                                                                            \n",
      "0.5331657488578245                                                                \n",
      " 70%|███████   | 14/20 [02:02<00:54,  9.04s/trial, best loss: -0.5471437470615752]"
     ]
    },
    {
     "name": "stderr",
     "output_type": "stream",
     "text": [
      "/Users/anithagrace/neue_fische/Radiant-Earth-Spot-Crop/.venv/lib/python3.9/site-packages/sklearn/ensemble/_forest.py:427: FutureWarning: `max_features='auto'` has been deprecated in 1.1 and will be removed in 1.3. To keep the past behaviour, explicitly set `max_features='sqrt'` or remove this parameter as it is also the default value for RandomForestClassifiers and ExtraTreesClassifiers.\n",
      "  warn(\n",
      "\n"
     ]
    },
    {
     "name": "stdout",
     "output_type": "stream",
     "text": [
      "SCORE:                                                                            \n",
      "0.5223080522114836                                                                \n",
      " 75%|███████▌  | 15/20 [02:09<00:42,  8.48s/trial, best loss: -0.5471437470615752]"
     ]
    },
    {
     "name": "stderr",
     "output_type": "stream",
     "text": [
      "/Users/anithagrace/neue_fische/Radiant-Earth-Spot-Crop/.venv/lib/python3.9/site-packages/sklearn/ensemble/_forest.py:427: FutureWarning: `max_features='auto'` has been deprecated in 1.1 and will be removed in 1.3. To keep the past behaviour, explicitly set `max_features='sqrt'` or remove this parameter as it is also the default value for RandomForestClassifiers and ExtraTreesClassifiers.\n",
      "  warn(\n",
      "\n"
     ]
    },
    {
     "name": "stdout",
     "output_type": "stream",
     "text": [
      "SCORE:                                                                            \n",
      "0.5419532230338948                                                                \n",
      "SCORE:                                                                            \n",
      "0.5355484991463287                                                                \n",
      "SCORE:                                                                            \n",
      "0.5336351869596447                                                                \n",
      "SCORE:                                                                            \n",
      "0.5292241612443811                                                                \n",
      "SCORE:                                                                            \n",
      "0.5278654218168892                                                                \n",
      "100%|██████████| 20/20 [02:58<00:00,  8.95s/trial, best loss: -0.5471437470615752]\n"
     ]
    }
   ],
   "source": [
    "trials = Trials()\n",
    "\n",
    "best_hyperparams = fmin(fn = objective,\n",
    "                        space = space,\n",
    "                        algo = tpe.suggest,\n",
    "                        max_evals = 20,\n",
    "                        trials = trials)"
   ]
  },
  {
   "cell_type": "code",
   "execution_count": 238,
   "metadata": {},
   "outputs": [
    {
     "name": "stdout",
     "output_type": "stream",
     "text": [
      "The best hyperparameters are :  \n",
      "\n",
      "{'bootstrap': 0, 'criterion': 0, 'max_depth': 75.0, 'min_samples_leaf': 10.0, 'min_samples_split': 10.0, 'n_estimators': 400.0}\n"
     ]
    }
   ],
   "source": [
    "print(\"The best hyperparameters are : \",\"\\n\")\n",
    "print(best_hyperparams)"
   ]
  },
  {
   "cell_type": "code",
   "execution_count": 241,
   "metadata": {},
   "outputs": [],
   "source": [
    "best= ExtraTreesClassifier(n_estimators=400,\n",
    "                                                    min_samples_split = 20,\n",
    "                                                    min_samples_leaf = 10,\n",
    "                                                    max_depth = 75,\n",
    "                                                    bootstrap =  'True',\n",
    "                                                    criterion = 'gini'\n",
    "\n",
    "                                                    )"
   ]
  },
  {
   "cell_type": "code",
   "execution_count": 242,
   "metadata": {},
   "outputs": [
    {
     "data": {
      "text/html": [
       "<style>#sk-container-id-34 {color: black;background-color: white;}#sk-container-id-34 pre{padding: 0;}#sk-container-id-34 div.sk-toggleable {background-color: white;}#sk-container-id-34 label.sk-toggleable__label {cursor: pointer;display: block;width: 100%;margin-bottom: 0;padding: 0.3em;box-sizing: border-box;text-align: center;}#sk-container-id-34 label.sk-toggleable__label-arrow:before {content: \"▸\";float: left;margin-right: 0.25em;color: #696969;}#sk-container-id-34 label.sk-toggleable__label-arrow:hover:before {color: black;}#sk-container-id-34 div.sk-estimator:hover label.sk-toggleable__label-arrow:before {color: black;}#sk-container-id-34 div.sk-toggleable__content {max-height: 0;max-width: 0;overflow: hidden;text-align: left;background-color: #f0f8ff;}#sk-container-id-34 div.sk-toggleable__content pre {margin: 0.2em;color: black;border-radius: 0.25em;background-color: #f0f8ff;}#sk-container-id-34 input.sk-toggleable__control:checked~div.sk-toggleable__content {max-height: 200px;max-width: 100%;overflow: auto;}#sk-container-id-34 input.sk-toggleable__control:checked~label.sk-toggleable__label-arrow:before {content: \"▾\";}#sk-container-id-34 div.sk-estimator input.sk-toggleable__control:checked~label.sk-toggleable__label {background-color: #d4ebff;}#sk-container-id-34 div.sk-label input.sk-toggleable__control:checked~label.sk-toggleable__label {background-color: #d4ebff;}#sk-container-id-34 input.sk-hidden--visually {border: 0;clip: rect(1px 1px 1px 1px);clip: rect(1px, 1px, 1px, 1px);height: 1px;margin: -1px;overflow: hidden;padding: 0;position: absolute;width: 1px;}#sk-container-id-34 div.sk-estimator {font-family: monospace;background-color: #f0f8ff;border: 1px dotted black;border-radius: 0.25em;box-sizing: border-box;margin-bottom: 0.5em;}#sk-container-id-34 div.sk-estimator:hover {background-color: #d4ebff;}#sk-container-id-34 div.sk-parallel-item::after {content: \"\";width: 100%;border-bottom: 1px solid gray;flex-grow: 1;}#sk-container-id-34 div.sk-label:hover label.sk-toggleable__label {background-color: #d4ebff;}#sk-container-id-34 div.sk-serial::before {content: \"\";position: absolute;border-left: 1px solid gray;box-sizing: border-box;top: 0;bottom: 0;left: 50%;z-index: 0;}#sk-container-id-34 div.sk-serial {display: flex;flex-direction: column;align-items: center;background-color: white;padding-right: 0.2em;padding-left: 0.2em;position: relative;}#sk-container-id-34 div.sk-item {position: relative;z-index: 1;}#sk-container-id-34 div.sk-parallel {display: flex;align-items: stretch;justify-content: center;background-color: white;position: relative;}#sk-container-id-34 div.sk-item::before, #sk-container-id-34 div.sk-parallel-item::before {content: \"\";position: absolute;border-left: 1px solid gray;box-sizing: border-box;top: 0;bottom: 0;left: 50%;z-index: -1;}#sk-container-id-34 div.sk-parallel-item {display: flex;flex-direction: column;z-index: 1;position: relative;background-color: white;}#sk-container-id-34 div.sk-parallel-item:first-child::after {align-self: flex-end;width: 50%;}#sk-container-id-34 div.sk-parallel-item:last-child::after {align-self: flex-start;width: 50%;}#sk-container-id-34 div.sk-parallel-item:only-child::after {width: 0;}#sk-container-id-34 div.sk-dashed-wrapped {border: 1px dashed gray;margin: 0 0.4em 0.5em 0.4em;box-sizing: border-box;padding-bottom: 0.4em;background-color: white;}#sk-container-id-34 div.sk-label label {font-family: monospace;font-weight: bold;display: inline-block;line-height: 1.2em;}#sk-container-id-34 div.sk-label-container {text-align: center;}#sk-container-id-34 div.sk-container {/* jupyter's `normalize.less` sets `[hidden] { display: none; }` but bootstrap.min.css set `[hidden] { display: none !important; }` so we also need the `!important` here to be able to override the default hidden behavior on the sphinx rendered scikit-learn.org. See: https://github.com/scikit-learn/scikit-learn/issues/21755 */display: inline-block !important;position: relative;}#sk-container-id-34 div.sk-text-repr-fallback {display: none;}</style><div id=\"sk-container-id-34\" class=\"sk-top-container\"><div class=\"sk-text-repr-fallback\"><pre>ExtraTreesClassifier(bootstrap=&#x27;True&#x27;, max_depth=75, min_samples_leaf=10,\n",
       "                     min_samples_split=20, n_estimators=400)</pre><b>In a Jupyter environment, please rerun this cell to show the HTML representation or trust the notebook. <br />On GitHub, the HTML representation is unable to render, please try loading this page with nbviewer.org.</b></div><div class=\"sk-container\" hidden><div class=\"sk-item\"><div class=\"sk-estimator sk-toggleable\"><input class=\"sk-toggleable__control sk-hidden--visually\" id=\"sk-estimator-id-34\" type=\"checkbox\" checked><label for=\"sk-estimator-id-34\" class=\"sk-toggleable__label sk-toggleable__label-arrow\">ExtraTreesClassifier</label><div class=\"sk-toggleable__content\"><pre>ExtraTreesClassifier(bootstrap=&#x27;True&#x27;, max_depth=75, min_samples_leaf=10,\n",
       "                     min_samples_split=20, n_estimators=400)</pre></div></div></div></div></div>"
      ],
      "text/plain": [
       "ExtraTreesClassifier(bootstrap='True', max_depth=75, min_samples_leaf=10,\n",
       "                     min_samples_split=20, n_estimators=400)"
      ]
     },
     "execution_count": 242,
     "metadata": {},
     "output_type": "execute_result"
    }
   ],
   "source": [
    "best.fit(X_train, y_train)"
   ]
  },
  {
   "cell_type": "code",
   "execution_count": 243,
   "metadata": {},
   "outputs": [],
   "source": [
    "y_predu_train = best.predict(X_train)\n",
    "y_predu_test = best.predict(X_val)\n",
    "y_probab_train = best.predict_proba(X_train)\n",
    "y_probab_test = best.predict_proba(X_val)"
   ]
  },
  {
   "cell_type": "code",
   "execution_count": 244,
   "metadata": {},
   "outputs": [
    {
     "name": "stdout",
     "output_type": "stream",
     "text": [
      "Accuracy on train data: 0.6979879320786883\n",
      "Accuracy on test data: 0.6291644137586824\n",
      "------------------------------\n",
      "F1-score on train data: 0.6935997401339595\n",
      "F1-score on test data: 0.5701559112161112\n",
      "------------------------------\n",
      "Cross-entropy on train data: 1.0374034977682796\n",
      "Cross-entropy on test data: 1.145153561843625\n",
      "------------------------------\n"
     ]
    }
   ],
   "source": [
    "print(f'Accuracy on train data: {accuracy_score(y_train, y_predu_train)}')\n",
    "print(f'Accuracy on test data: {accuracy_score(y_val, y_predu_test)}')\n",
    "print('---'*10)\n",
    "print(f'F1-score on train data: {f1_score(y_train, y_predu_train, average=\"macro\")}')\n",
    "print(f'F1-score on test data: {f1_score(y_val, y_predu_test, average=\"macro\")}')\n",
    "print('---'*10)\n",
    "print(f'Cross-entropy on train data: {log_loss(y_train, y_probab_train, labels=labels)}')\n",
    "print(f'Cross-entropy on test data: {log_loss(y_val, y_probab_test, labels=labels)}')\n",
    "print('---'*10)"
   ]
  },
  {
   "cell_type": "markdown",
   "metadata": {},
   "source": [
    "2nd Round"
   ]
  },
  {
   "cell_type": "code",
   "execution_count": 245,
   "metadata": {},
   "outputs": [
    {
     "name": "stdout",
     "output_type": "stream",
     "text": [
      "{'bootstrap': 'False', 'criterion': 'gini', 'max_depth': 30.0, 'min_samples_leaf': 65.0, 'min_samples_split': 40.0, 'n_estimators': 300.0, 'random_state': 42}\n"
     ]
    }
   ],
   "source": [
    "space={\n",
    "    'criterion': hp.choice('criterion',('gini', 'entropy')),\n",
    "    'n_estimators': hp.quniform('n_estimators', 200, 600,100),\n",
    "    'random_state': RSEED,\n",
    "    'bootstrap':hp.choice('bootstrap',('True', 'False')),\n",
    "    'min_samples_leaf': hp.quniform('min_samples_leaf',10, 90,5),\n",
    "    'max_depth': hp.quniform('max_depth', 10, 90,5),\n",
    "    'min_samples_split':hp.quniform('min_samples_split',10, 90,5),\n",
    "    }\n",
    "print(hyperopt.pyll.stochastic.sample(space))"
   ]
  },
  {
   "cell_type": "code",
   "execution_count": 246,
   "metadata": {},
   "outputs": [],
   "source": [
    "def objective(space):\n",
    "    rf = ExtraTreesClassifier(\n",
    "        criterion =space['criterion'],\n",
    "        n_estimators=int(space['n_estimators']),\n",
    "        random_state=space['random_state'],\n",
    "        bootstrap =space['bootstrap'],\n",
    "        min_samples_leaf=int(space['min_samples_leaf']),\n",
    "        max_depth=int(space['max_depth']),\n",
    "        min_samples_split=int(space['min_samples_split']) \n",
    "        )\n",
    "    \n",
    "    evaluation = [\n",
    "                  ( X_train, y_train), \n",
    "                  ( X_val, y_val)\n",
    "    ]\n",
    "                \n",
    "    rf.fit(\n",
    "        X_train, y_train\n",
    "        )\n",
    "    \n",
    "    y_pred_val = rf.predict(X_val)\n",
    "    f1 = f1_score(y_val, y_pred_val, average=\"macro\")\n",
    "    print (\"SCORE:\", f1)\n",
    "    return {'loss': -f1, 'status': STATUS_OK }"
   ]
  },
  {
   "cell_type": "code",
   "execution_count": 247,
   "metadata": {},
   "outputs": [
    {
     "name": "stdout",
     "output_type": "stream",
     "text": [
      "SCORE:                                                \n",
      "0.531450948658242                                     \n",
      "SCORE:                                                                          \n",
      "0.5535439541665841                                                              \n",
      "SCORE:                                                                           \n",
      "0.5111395901436563                                                               \n",
      "SCORE:                                                                           \n",
      "0.5496295586505724                                                               \n",
      "SCORE:                                                                           \n",
      "0.5431156903616343                                                               \n",
      "SCORE:                                                                           \n",
      "0.5171930171400058                                                               \n",
      "SCORE:                                                                           \n",
      "0.5412973369228946                                                               \n",
      "SCORE:                                                                           \n",
      "0.5274491319037833                                                               \n",
      "SCORE:                                                                           \n",
      "0.5539279140409398                                                               \n",
      "SCORE:                                                                           \n",
      "0.5505765868760688                                                               \n",
      "SCORE:                                                                            \n",
      "0.5549867118574476                                                                \n",
      "SCORE:                                                                            \n",
      "0.513125768424947                                                                 \n",
      "SCORE:                                                                            \n",
      "0.514240730814845                                                                 \n",
      "SCORE:                                                                            \n",
      "0.5472372961397003                                                                \n",
      "SCORE:                                                                            \n",
      "0.5382043460871972                                                                \n",
      "SCORE:                                                                            \n",
      "0.5562667549171261                                                                \n",
      "SCORE:                                                                            \n",
      "0.5272210463728338                                                                \n",
      "SCORE:                                                                            \n",
      "0.5396376791424293                                                                \n",
      "SCORE:                                                                            \n",
      "0.5154984011033139                                                                \n",
      "SCORE:                                                                            \n",
      "0.5161139566333272                                                                \n",
      "SCORE:                                                                            \n",
      "0.560980828582878                                                                 \n",
      "SCORE:                                                                            \n",
      "0.560980828582878                                                                \n",
      "SCORE:                                                                           \n",
      "0.5655987585690955                                                               \n",
      "SCORE:                                                                            \n",
      "0.5377401877087122                                                                \n",
      "SCORE:                                                                            \n",
      "0.5193202905735984                                                                \n",
      "SCORE:                                                                            \n",
      "0.5620592820004258                                                                \n",
      "SCORE:                                                                            \n",
      "0.5396104459928139                                                                \n",
      "SCORE:                                                                            \n",
      "0.5303750078230665                                                                \n",
      "SCORE:                                                                            \n",
      "0.5226216185352541                                                                \n",
      "SCORE:                                                                            \n",
      "0.5346918543725039                                                                \n",
      "SCORE:                                                                            \n",
      "0.5655987585690955                                                                \n",
      "SCORE:                                                                            \n",
      "0.5396104459928139                                                                \n",
      "SCORE:                                                                            \n",
      "0.5302606328739667                                                                \n",
      "SCORE:                                                                            \n",
      "0.5078044230171801                                                                \n",
      "SCORE:                                                                            \n",
      "0.5454459169542325                                                                \n",
      "SCORE:                                                                            \n",
      "0.5549319625850797                                                                \n",
      "SCORE:                                                                            \n",
      "0.5391740048433141                                                                \n",
      "SCORE:                                                                            \n",
      "0.5238799960529559                                                                \n",
      "SCORE:                                                                            \n",
      "0.5219504610724436                                                                \n",
      "SCORE:                                                                            \n",
      "0.5335235335759345                                                                \n",
      "SCORE:                                                                            \n",
      "0.5596680966553117                                                                \n",
      "SCORE:                                                                            \n",
      "0.5405362556381692                                                                \n",
      "SCORE:                                                                            \n",
      "0.5655987585690955                                                                \n",
      "SCORE:                                                                            \n",
      "0.5505525968808813                                                                \n",
      "SCORE:                                                                            \n",
      "0.5265088653119836                                                                \n",
      "SCORE:                                                                            \n",
      "0.5483147162646426                                                                \n",
      "SCORE:                                                                            \n",
      "0.5582540852753641                                                                \n",
      "SCORE:                                                                            \n",
      "0.5107775451009955                                                                \n",
      "SCORE:                                                                            \n",
      "0.5190972051933328                                                                \n",
      "SCORE:                                                                            \n",
      "0.5335235335759345                                                                \n",
      "100%|██████████| 50/50 [07:28<00:00,  8.97s/trial, best loss: -0.5655987585690955]\n"
     ]
    }
   ],
   "source": [
    "trials = Trials()\n",
    "\n",
    "best_hyperparams = fmin(fn = objective,\n",
    "                        space = space,\n",
    "                        algo = tpe.suggest,\n",
    "                        max_evals = 50,\n",
    "                        trials = trials)"
   ]
  },
  {
   "cell_type": "code",
   "execution_count": 248,
   "metadata": {},
   "outputs": [
    {
     "name": "stdout",
     "output_type": "stream",
     "text": [
      "The best hyperparameters are :  \n",
      "\n",
      "{'bootstrap': 0, 'criterion': 1, 'max_depth': 85.0, 'min_samples_leaf': 10.0, 'min_samples_split': 25.0, 'n_estimators': 200.0}\n"
     ]
    }
   ],
   "source": [
    "print(\"The best hyperparameters are : \",\"\\n\")\n",
    "print(best_hyperparams)"
   ]
  },
  {
   "cell_type": "code",
   "execution_count": 249,
   "metadata": {},
   "outputs": [],
   "source": [
    "best= ExtraTreesClassifier(n_estimators=200,\n",
    "                                                    min_samples_split = 25,\n",
    "                                                    min_samples_leaf = 10,\n",
    "                                                    max_depth = 85,\n",
    "                                                    bootstrap = 'True',\n",
    "                                                    criterion = 'entropy'\n",
    "                                                    )"
   ]
  },
  {
   "cell_type": "code",
   "execution_count": 250,
   "metadata": {},
   "outputs": [
    {
     "data": {
      "text/html": [
       "<style>#sk-container-id-35 {color: black;background-color: white;}#sk-container-id-35 pre{padding: 0;}#sk-container-id-35 div.sk-toggleable {background-color: white;}#sk-container-id-35 label.sk-toggleable__label {cursor: pointer;display: block;width: 100%;margin-bottom: 0;padding: 0.3em;box-sizing: border-box;text-align: center;}#sk-container-id-35 label.sk-toggleable__label-arrow:before {content: \"▸\";float: left;margin-right: 0.25em;color: #696969;}#sk-container-id-35 label.sk-toggleable__label-arrow:hover:before {color: black;}#sk-container-id-35 div.sk-estimator:hover label.sk-toggleable__label-arrow:before {color: black;}#sk-container-id-35 div.sk-toggleable__content {max-height: 0;max-width: 0;overflow: hidden;text-align: left;background-color: #f0f8ff;}#sk-container-id-35 div.sk-toggleable__content pre {margin: 0.2em;color: black;border-radius: 0.25em;background-color: #f0f8ff;}#sk-container-id-35 input.sk-toggleable__control:checked~div.sk-toggleable__content {max-height: 200px;max-width: 100%;overflow: auto;}#sk-container-id-35 input.sk-toggleable__control:checked~label.sk-toggleable__label-arrow:before {content: \"▾\";}#sk-container-id-35 div.sk-estimator input.sk-toggleable__control:checked~label.sk-toggleable__label {background-color: #d4ebff;}#sk-container-id-35 div.sk-label input.sk-toggleable__control:checked~label.sk-toggleable__label {background-color: #d4ebff;}#sk-container-id-35 input.sk-hidden--visually {border: 0;clip: rect(1px 1px 1px 1px);clip: rect(1px, 1px, 1px, 1px);height: 1px;margin: -1px;overflow: hidden;padding: 0;position: absolute;width: 1px;}#sk-container-id-35 div.sk-estimator {font-family: monospace;background-color: #f0f8ff;border: 1px dotted black;border-radius: 0.25em;box-sizing: border-box;margin-bottom: 0.5em;}#sk-container-id-35 div.sk-estimator:hover {background-color: #d4ebff;}#sk-container-id-35 div.sk-parallel-item::after {content: \"\";width: 100%;border-bottom: 1px solid gray;flex-grow: 1;}#sk-container-id-35 div.sk-label:hover label.sk-toggleable__label {background-color: #d4ebff;}#sk-container-id-35 div.sk-serial::before {content: \"\";position: absolute;border-left: 1px solid gray;box-sizing: border-box;top: 0;bottom: 0;left: 50%;z-index: 0;}#sk-container-id-35 div.sk-serial {display: flex;flex-direction: column;align-items: center;background-color: white;padding-right: 0.2em;padding-left: 0.2em;position: relative;}#sk-container-id-35 div.sk-item {position: relative;z-index: 1;}#sk-container-id-35 div.sk-parallel {display: flex;align-items: stretch;justify-content: center;background-color: white;position: relative;}#sk-container-id-35 div.sk-item::before, #sk-container-id-35 div.sk-parallel-item::before {content: \"\";position: absolute;border-left: 1px solid gray;box-sizing: border-box;top: 0;bottom: 0;left: 50%;z-index: -1;}#sk-container-id-35 div.sk-parallel-item {display: flex;flex-direction: column;z-index: 1;position: relative;background-color: white;}#sk-container-id-35 div.sk-parallel-item:first-child::after {align-self: flex-end;width: 50%;}#sk-container-id-35 div.sk-parallel-item:last-child::after {align-self: flex-start;width: 50%;}#sk-container-id-35 div.sk-parallel-item:only-child::after {width: 0;}#sk-container-id-35 div.sk-dashed-wrapped {border: 1px dashed gray;margin: 0 0.4em 0.5em 0.4em;box-sizing: border-box;padding-bottom: 0.4em;background-color: white;}#sk-container-id-35 div.sk-label label {font-family: monospace;font-weight: bold;display: inline-block;line-height: 1.2em;}#sk-container-id-35 div.sk-label-container {text-align: center;}#sk-container-id-35 div.sk-container {/* jupyter's `normalize.less` sets `[hidden] { display: none; }` but bootstrap.min.css set `[hidden] { display: none !important; }` so we also need the `!important` here to be able to override the default hidden behavior on the sphinx rendered scikit-learn.org. See: https://github.com/scikit-learn/scikit-learn/issues/21755 */display: inline-block !important;position: relative;}#sk-container-id-35 div.sk-text-repr-fallback {display: none;}</style><div id=\"sk-container-id-35\" class=\"sk-top-container\"><div class=\"sk-text-repr-fallback\"><pre>ExtraTreesClassifier(bootstrap=&#x27;True&#x27;, criterion=&#x27;entropy&#x27;, max_depth=85,\n",
       "                     min_samples_leaf=10, min_samples_split=25,\n",
       "                     n_estimators=200)</pre><b>In a Jupyter environment, please rerun this cell to show the HTML representation or trust the notebook. <br />On GitHub, the HTML representation is unable to render, please try loading this page with nbviewer.org.</b></div><div class=\"sk-container\" hidden><div class=\"sk-item\"><div class=\"sk-estimator sk-toggleable\"><input class=\"sk-toggleable__control sk-hidden--visually\" id=\"sk-estimator-id-35\" type=\"checkbox\" checked><label for=\"sk-estimator-id-35\" class=\"sk-toggleable__label sk-toggleable__label-arrow\">ExtraTreesClassifier</label><div class=\"sk-toggleable__content\"><pre>ExtraTreesClassifier(bootstrap=&#x27;True&#x27;, criterion=&#x27;entropy&#x27;, max_depth=85,\n",
       "                     min_samples_leaf=10, min_samples_split=25,\n",
       "                     n_estimators=200)</pre></div></div></div></div></div>"
      ],
      "text/plain": [
       "ExtraTreesClassifier(bootstrap='True', criterion='entropy', max_depth=85,\n",
       "                     min_samples_leaf=10, min_samples_split=25,\n",
       "                     n_estimators=200)"
      ]
     },
     "execution_count": 250,
     "metadata": {},
     "output_type": "execute_result"
    }
   ],
   "source": [
    "best.fit(X_train, y_train)"
   ]
  },
  {
   "cell_type": "code",
   "execution_count": 252,
   "metadata": {},
   "outputs": [],
   "source": [
    "y_predu_train = best.predict(X_train)\n",
    "y_predu_test = best.predict(X_val)\n",
    "y_probab_train = best.predict_proba(X_train)\n",
    "y_probab_test = best.predict_proba(X_val)"
   ]
  },
  {
   "cell_type": "code",
   "execution_count": 253,
   "metadata": {},
   "outputs": [
    {
     "name": "stdout",
     "output_type": "stream",
     "text": [
      "Accuracy on train data: 0.6853143715932797\n",
      "Accuracy on test data: 0.6264609241775153\n",
      "------------------------------\n",
      "F1-score on train data: 0.6800193154931296\n",
      "F1-score on test data: 0.5661273782582389\n",
      "------------------------------\n",
      "Cross-entropy on train data: 1.053958711608736\n",
      "Cross-entropy on test data: 1.1492306743445926\n",
      "------------------------------\n"
     ]
    }
   ],
   "source": [
    "print(f'Accuracy on train data: {accuracy_score(y_train, y_predu_train)}')\n",
    "print(f'Accuracy on test data: {accuracy_score(y_val, y_predu_test)}')\n",
    "print('---'*10)\n",
    "print(f'F1-score on train data: {f1_score(y_train, y_predu_train, average=\"macro\")}')\n",
    "print(f'F1-score on test data: {f1_score(y_val, y_predu_test, average=\"macro\")}')\n",
    "print('---'*10)\n",
    "print(f'Cross-entropy on train data: {log_loss(y_train, y_probab_train, labels=labels)}')\n",
    "print(f'Cross-entropy on test data: {log_loss(y_val, y_probab_test, labels=labels)}')\n",
    "print('---'*10)"
   ]
  },
  {
   "cell_type": "markdown",
   "metadata": {},
   "source": [
    "3rd Round"
   ]
  },
  {
   "cell_type": "code",
   "execution_count": 259,
   "metadata": {},
   "outputs": [
    {
     "name": "stdout",
     "output_type": "stream",
     "text": [
      "{'bootstrap': 'False', 'criterion': 'entropy', 'max_depth': 75.0, 'min_samples_leaf': 45.0, 'min_samples_split': 55.0, 'n_estimators': 950.0, 'random_state': 42}\n"
     ]
    }
   ],
   "source": [
    "space={\n",
    "    'criterion': hp.choice('criterion',('gini', 'entropy')),\n",
    "    'n_estimators': hp.quniform('n_estimators', 100, 1000,50),\n",
    "    'random_state': RSEED,\n",
    "    'bootstrap':hp.choice('bootstrap',('True', 'False')),\n",
    "    'min_samples_leaf': hp.quniform('min_samples_leaf',10, 60,5),\n",
    "    'max_depth': hp.quniform('max_depth', 10, 80,5),\n",
    "    'min_samples_split':hp.quniform('min_samples_split',20, 80,5)\n",
    "    }\n",
    "print(hyperopt.pyll.stochastic.sample(space))"
   ]
  },
  {
   "cell_type": "code",
   "execution_count": 260,
   "metadata": {},
   "outputs": [],
   "source": [
    "def objective(space):\n",
    "    rf = ExtraTreesClassifier(\n",
    "        criterion =space['criterion'],\n",
    "        n_estimators=int(space['n_estimators']),\n",
    "        random_state=space['random_state'],\n",
    "        bootstrap =space['bootstrap'],\n",
    "        min_samples_leaf=int(space['min_samples_leaf']),\n",
    "        max_depth=int(space['max_depth']),\n",
    "        min_samples_split=int(space['min_samples_split']) \n",
    "        )\n",
    "    \n",
    "    evaluation = [\n",
    "                  ( X_train, y_train), \n",
    "                  ( X_val, y_val)\n",
    "    ]\n",
    "                \n",
    "    rf.fit(\n",
    "        X_train, y_train\n",
    "        )\n",
    "    \n",
    "    y_pred_val = rf.predict(X_val)\n",
    "    f1 = f1_score(y_val, y_pred_val, average=\"macro\")\n",
    "    print (\"SCORE:\", f1)\n",
    "    return {'loss': -f1, 'status': STATUS_OK }"
   ]
  },
  {
   "cell_type": "code",
   "execution_count": 261,
   "metadata": {},
   "outputs": [
    {
     "name": "stdout",
     "output_type": "stream",
     "text": [
      "SCORE:                                                \n",
      "0.5435479557453539                                    \n",
      "SCORE:                                                                           \n",
      "0.5241569583951038                                                               \n",
      "SCORE:                                                                           \n",
      "0.5260525385558248                                                               \n",
      "SCORE:                                                                           \n",
      "0.5318870486533139                                                               \n",
      "SCORE:                                                                           \n",
      "0.5383877491197894                                                               \n",
      "SCORE:                                                                           \n",
      "0.5246247240005694                                                               \n",
      "SCORE:                                                                           \n",
      "0.5303750078230665                                                               \n",
      "SCORE:                                                                           \n",
      "0.5237779879203773                                                               \n",
      "SCORE:                                                                           \n",
      "0.523079480847517                                                                \n",
      "SCORE:                                                                           \n",
      "0.519150903650941                                                                \n",
      "SCORE:                                                                            \n",
      "0.5293002379652099                                                                \n",
      "SCORE:                                                                            \n",
      "0.5464805286129382                                                                \n",
      "SCORE:                                                                            \n",
      "0.5514109374017137                                                                \n",
      "SCORE:                                                                            \n",
      "0.5595681913079987                                                                \n",
      "SCORE:                                                                            \n",
      "0.5298710681912024                                                                \n",
      "SCORE:                                                                            \n",
      "0.5274491319037833                                                                \n",
      "SCORE:                                                                            \n",
      "0.5244463219551313                                                                \n",
      "SCORE:                                                                            \n",
      "0.5437941375916633                                                                \n",
      "SCORE:                                                                            \n",
      "0.5449158339055153                                                                \n",
      "SCORE:                                                                            \n",
      "0.5389791290014867                                                                \n",
      "SCORE:                                                                            \n",
      "0.5590881124489988                                                                \n",
      "SCORE:                                                                            \n",
      "0.5658958641146685                                                                \n",
      "SCORE:                                                                            \n",
      "0.5574330323843091                                                                \n",
      "SCORE:                                                                            \n",
      "0.559119968254012                                                                 \n",
      "SCORE:                                                                            \n",
      "0.5574330323843091                                                                \n",
      "SCORE:                                                                            \n",
      "0.552638442037624                                                                 \n",
      "SCORE:                                                                            \n",
      "0.5686616438572801                                                                \n",
      "SCORE:                                                                            \n",
      "0.5647674909079167                                                                \n",
      "SCORE:                                                                            \n",
      "0.5424719724100581                                                                \n",
      "SCORE:                                                                            \n",
      "0.5499276943031342                                                                \n",
      "SCORE:                                                                            \n",
      "0.5437926645564976                                                                \n",
      "SCORE:                                                                            \n",
      "0.5723613432015381                                                                \n",
      "SCORE:                                                                            \n",
      "0.5366420790667901                                                                \n",
      "SCORE:                                                                            \n",
      "0.5245651899798889                                                                \n",
      "SCORE:                                                                            \n",
      "0.5603774408568567                                                                \n",
      "SCORE:                                                                            \n",
      "0.5494673895593765                                                                \n",
      "SCORE:                                                                            \n",
      "0.5361303452503192                                                                \n",
      "SCORE:                                                                            \n",
      "0.5719265583139072                                                                \n",
      "SCORE:                                                                            \n",
      "0.5363023854784785                                                                \n",
      "SCORE:                                                                            \n",
      "0.5243260196419413                                                                \n",
      "SCORE:                                                                            \n",
      "0.5431542092277901                                                                \n",
      "SCORE:                                                                            \n",
      "0.5510192583132653                                                                \n",
      "SCORE:                                                                            \n",
      "0.5649180936257248                                                                \n",
      "SCORE:                                                                            \n",
      "0.5578564584593886                                                                \n",
      "SCORE:                                                                            \n",
      "0.5332961042108397                                                                \n",
      "SCORE:                                                                            \n",
      "0.5224648003901418                                                                \n",
      "SCORE:                                                                            \n",
      "0.5486778949431292                                                                \n",
      "SCORE:                                                                            \n",
      "0.5508719052164455                                                                \n",
      "SCORE:                                                                            \n",
      "0.5523468898580397                                                                \n",
      "SCORE:                                                                            \n",
      "0.5405597872508887                                                                \n",
      "100%|██████████| 50/50 [13:31<00:00, 16.24s/trial, best loss: -0.5723613432015381]\n"
     ]
    }
   ],
   "source": [
    "trials = Trials()\n",
    "\n",
    "best_hyperparams = fmin(fn = objective,\n",
    "                        space = space,\n",
    "                        algo = tpe.suggest,\n",
    "                        max_evals = 50,\n",
    "                        trials = trials)"
   ]
  },
  {
   "cell_type": "code",
   "execution_count": 262,
   "metadata": {},
   "outputs": [
    {
     "name": "stdout",
     "output_type": "stream",
     "text": [
      "The best hyperparameters are :  \n",
      "\n",
      "{'bootstrap': 0, 'criterion': 0, 'max_depth': 25.0, 'min_samples_leaf': 10.0, 'min_samples_split': 20.0, 'n_estimators': 800.0}\n"
     ]
    }
   ],
   "source": [
    "print(\"The best hyperparameters are : \",\"\\n\")\n",
    "print(best_hyperparams)"
   ]
  },
  {
   "cell_type": "code",
   "execution_count": 263,
   "metadata": {},
   "outputs": [],
   "source": [
    "best= ExtraTreesClassifier(n_estimators=800,\n",
    "                                                    min_samples_split = 20,\n",
    "                                                    min_samples_leaf = 10,\n",
    "                                                    max_depth = 25,\n",
    "                                                    bootstrap = 'True',\n",
    "                                                    criterion = 'gini'\n",
    "                                                    )"
   ]
  },
  {
   "cell_type": "code",
   "execution_count": 265,
   "metadata": {},
   "outputs": [
    {
     "data": {
      "text/html": [
       "<style>#sk-container-id-37 {color: black;background-color: white;}#sk-container-id-37 pre{padding: 0;}#sk-container-id-37 div.sk-toggleable {background-color: white;}#sk-container-id-37 label.sk-toggleable__label {cursor: pointer;display: block;width: 100%;margin-bottom: 0;padding: 0.3em;box-sizing: border-box;text-align: center;}#sk-container-id-37 label.sk-toggleable__label-arrow:before {content: \"▸\";float: left;margin-right: 0.25em;color: #696969;}#sk-container-id-37 label.sk-toggleable__label-arrow:hover:before {color: black;}#sk-container-id-37 div.sk-estimator:hover label.sk-toggleable__label-arrow:before {color: black;}#sk-container-id-37 div.sk-toggleable__content {max-height: 0;max-width: 0;overflow: hidden;text-align: left;background-color: #f0f8ff;}#sk-container-id-37 div.sk-toggleable__content pre {margin: 0.2em;color: black;border-radius: 0.25em;background-color: #f0f8ff;}#sk-container-id-37 input.sk-toggleable__control:checked~div.sk-toggleable__content {max-height: 200px;max-width: 100%;overflow: auto;}#sk-container-id-37 input.sk-toggleable__control:checked~label.sk-toggleable__label-arrow:before {content: \"▾\";}#sk-container-id-37 div.sk-estimator input.sk-toggleable__control:checked~label.sk-toggleable__label {background-color: #d4ebff;}#sk-container-id-37 div.sk-label input.sk-toggleable__control:checked~label.sk-toggleable__label {background-color: #d4ebff;}#sk-container-id-37 input.sk-hidden--visually {border: 0;clip: rect(1px 1px 1px 1px);clip: rect(1px, 1px, 1px, 1px);height: 1px;margin: -1px;overflow: hidden;padding: 0;position: absolute;width: 1px;}#sk-container-id-37 div.sk-estimator {font-family: monospace;background-color: #f0f8ff;border: 1px dotted black;border-radius: 0.25em;box-sizing: border-box;margin-bottom: 0.5em;}#sk-container-id-37 div.sk-estimator:hover {background-color: #d4ebff;}#sk-container-id-37 div.sk-parallel-item::after {content: \"\";width: 100%;border-bottom: 1px solid gray;flex-grow: 1;}#sk-container-id-37 div.sk-label:hover label.sk-toggleable__label {background-color: #d4ebff;}#sk-container-id-37 div.sk-serial::before {content: \"\";position: absolute;border-left: 1px solid gray;box-sizing: border-box;top: 0;bottom: 0;left: 50%;z-index: 0;}#sk-container-id-37 div.sk-serial {display: flex;flex-direction: column;align-items: center;background-color: white;padding-right: 0.2em;padding-left: 0.2em;position: relative;}#sk-container-id-37 div.sk-item {position: relative;z-index: 1;}#sk-container-id-37 div.sk-parallel {display: flex;align-items: stretch;justify-content: center;background-color: white;position: relative;}#sk-container-id-37 div.sk-item::before, #sk-container-id-37 div.sk-parallel-item::before {content: \"\";position: absolute;border-left: 1px solid gray;box-sizing: border-box;top: 0;bottom: 0;left: 50%;z-index: -1;}#sk-container-id-37 div.sk-parallel-item {display: flex;flex-direction: column;z-index: 1;position: relative;background-color: white;}#sk-container-id-37 div.sk-parallel-item:first-child::after {align-self: flex-end;width: 50%;}#sk-container-id-37 div.sk-parallel-item:last-child::after {align-self: flex-start;width: 50%;}#sk-container-id-37 div.sk-parallel-item:only-child::after {width: 0;}#sk-container-id-37 div.sk-dashed-wrapped {border: 1px dashed gray;margin: 0 0.4em 0.5em 0.4em;box-sizing: border-box;padding-bottom: 0.4em;background-color: white;}#sk-container-id-37 div.sk-label label {font-family: monospace;font-weight: bold;display: inline-block;line-height: 1.2em;}#sk-container-id-37 div.sk-label-container {text-align: center;}#sk-container-id-37 div.sk-container {/* jupyter's `normalize.less` sets `[hidden] { display: none; }` but bootstrap.min.css set `[hidden] { display: none !important; }` so we also need the `!important` here to be able to override the default hidden behavior on the sphinx rendered scikit-learn.org. See: https://github.com/scikit-learn/scikit-learn/issues/21755 */display: inline-block !important;position: relative;}#sk-container-id-37 div.sk-text-repr-fallback {display: none;}</style><div id=\"sk-container-id-37\" class=\"sk-top-container\"><div class=\"sk-text-repr-fallback\"><pre>ExtraTreesClassifier(bootstrap=&#x27;True&#x27;, max_depth=25, min_samples_leaf=10,\n",
       "                     min_samples_split=20, n_estimators=800)</pre><b>In a Jupyter environment, please rerun this cell to show the HTML representation or trust the notebook. <br />On GitHub, the HTML representation is unable to render, please try loading this page with nbviewer.org.</b></div><div class=\"sk-container\" hidden><div class=\"sk-item\"><div class=\"sk-estimator sk-toggleable\"><input class=\"sk-toggleable__control sk-hidden--visually\" id=\"sk-estimator-id-37\" type=\"checkbox\" checked><label for=\"sk-estimator-id-37\" class=\"sk-toggleable__label sk-toggleable__label-arrow\">ExtraTreesClassifier</label><div class=\"sk-toggleable__content\"><pre>ExtraTreesClassifier(bootstrap=&#x27;True&#x27;, max_depth=25, min_samples_leaf=10,\n",
       "                     min_samples_split=20, n_estimators=800)</pre></div></div></div></div></div>"
      ],
      "text/plain": [
       "ExtraTreesClassifier(bootstrap='True', max_depth=25, min_samples_leaf=10,\n",
       "                     min_samples_split=20, n_estimators=800)"
      ]
     },
     "execution_count": 265,
     "metadata": {},
     "output_type": "execute_result"
    }
   ],
   "source": [
    "best.fit(X_train, y_train)"
   ]
  },
  {
   "cell_type": "code",
   "execution_count": 172,
   "metadata": {},
   "outputs": [],
   "source": [
    "y_predu_train = best.predict(X_train)\n",
    "y_predu_test = best.predict(X_val)\n",
    "y_probab_train = best.predict_proba(X_train)\n",
    "y_probab_test = best.predict_proba(X_val)"
   ]
  },
  {
   "cell_type": "code",
   "execution_count": 266,
   "metadata": {},
   "outputs": [
    {
     "name": "stdout",
     "output_type": "stream",
     "text": [
      "Accuracy on train data: 0.6853143715932797\n",
      "Accuracy on test data: 0.6264609241775153\n",
      "------------------------------\n",
      "F1-score on train data: 0.6800193154931296\n",
      "F1-score on test data: 0.5661273782582389\n",
      "------------------------------\n",
      "Cross-entropy on train data: 1.053958711608736\n",
      "Cross-entropy on test data: 1.1492306743445926\n",
      "------------------------------\n"
     ]
    }
   ],
   "source": [
    "print(f'Accuracy on train data: {accuracy_score(y_train, y_predu_train)}')\n",
    "print(f'Accuracy on test data: {accuracy_score(y_val, y_predu_test)}')\n",
    "print('---'*10)\n",
    "print(f'F1-score on train data: {f1_score(y_train, y_predu_train, average=\"macro\")}')\n",
    "print(f'F1-score on test data: {f1_score(y_val, y_predu_test, average=\"macro\")}')\n",
    "print('---'*10)\n",
    "print(f'Cross-entropy on train data: {log_loss(y_train, y_probab_train, labels=labels)}')\n",
    "print(f'Cross-entropy on test data: {log_loss(y_val, y_probab_test, labels=labels)}')\n",
    "print('---'*10)"
   ]
  }
 ],
 "metadata": {
  "kernelspec": {
   "display_name": "Python 3.9.8 ('.venv': venv)",
   "language": "python",
   "name": "python3"
  },
  "language_info": {
   "codemirror_mode": {
    "name": "ipython",
    "version": 3
   },
   "file_extension": ".py",
   "mimetype": "text/x-python",
   "name": "python",
   "nbconvert_exporter": "python",
   "pygments_lexer": "ipython3",
   "version": "3.9.8"
  },
  "orig_nbformat": 4,
  "vscode": {
   "interpreter": {
    "hash": "558383d52a52ef837c60afaa896631003b5778f054e8f204669e9936cd627072"
   }
  }
 },
 "nbformat": 4,
 "nbformat_minor": 2
}
