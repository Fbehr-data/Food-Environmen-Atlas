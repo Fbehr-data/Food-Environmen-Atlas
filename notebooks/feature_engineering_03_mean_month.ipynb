{
 "cells": [
  {
   "cell_type": "markdown",
   "metadata": {},
   "source": [
    "# Mean per month -> Transformation of date column to features\n",
    "\n",
    "*by Felix*\n",
    "\n",
    "Notebook to explain Transformation of date column to features of a specific date. For actually calculating the indices for the data please use the feature_engineering.py.\n",
    "\n",
    "We first need to import all the needed modules."
   ]
  },
  {
   "cell_type": "code",
   "execution_count": 83,
   "metadata": {},
   "outputs": [],
   "source": [
    "# Load libraries\n",
    "import numpy as np\n",
    "import pandas as pd\n",
    "import os"
   ]
  },
  {
   "cell_type": "markdown",
   "metadata": {},
   "source": [
    "Set Working directory"
   ]
  },
  {
   "cell_type": "code",
   "execution_count": 84,
   "metadata": {},
   "outputs": [
    {
     "name": "stdout",
     "output_type": "stream",
     "text": [
      "Current Working directory: /Users/felixbehrendt/neuefische/Radiant-Earth-Spot-Crop/\n"
     ]
    }
   ],
   "source": [
    "#path = os.getcwd()\n",
    "path = '/Users/felixbehrendt/neuefische/Radiant-Earth-Spot-Crop/'\n",
    "# Set Workign directory and print\n",
    "os.chdir(path)\n",
    "print(f'Current Working directory: {path}')"
   ]
  },
  {
   "cell_type": "code",
   "execution_count": 85,
   "metadata": {},
   "outputs": [
    {
     "data": {
      "text/html": [
       "<div>\n",
       "<style scoped>\n",
       "    .dataframe tbody tr th:only-of-type {\n",
       "        vertical-align: middle;\n",
       "    }\n",
       "\n",
       "    .dataframe tbody tr th {\n",
       "        vertical-align: top;\n",
       "    }\n",
       "\n",
       "    .dataframe thead th {\n",
       "        text-align: right;\n",
       "    }\n",
       "</style>\n",
       "<table border=\"1\" class=\"dataframe\">\n",
       "  <thead>\n",
       "    <tr style=\"text-align: right;\">\n",
       "      <th></th>\n",
       "      <th>field_id</th>\n",
       "      <th>date</th>\n",
       "      <th>label</th>\n",
       "      <th>B02</th>\n",
       "      <th>B03</th>\n",
       "      <th>B04</th>\n",
       "      <th>B08</th>\n",
       "      <th>B11</th>\n",
       "      <th>B12</th>\n",
       "      <th>NDVI</th>\n",
       "      <th>WET</th>\n",
       "      <th>PVR</th>\n",
       "    </tr>\n",
       "  </thead>\n",
       "  <tbody>\n",
       "    <tr>\n",
       "      <th>0</th>\n",
       "      <td>1</td>\n",
       "      <td>2017-04-01</td>\n",
       "      <td>4</td>\n",
       "      <td>21.934084</td>\n",
       "      <td>29.180065</td>\n",
       "      <td>35.554660</td>\n",
       "      <td>62.490353</td>\n",
       "      <td>68.39710</td>\n",
       "      <td>46.040190</td>\n",
       "      <td>0.274728</td>\n",
       "      <td>-27.683925</td>\n",
       "      <td>-0.098473</td>\n",
       "    </tr>\n",
       "    <tr>\n",
       "      <th>1</th>\n",
       "      <td>1</td>\n",
       "      <td>2017-04-11</td>\n",
       "      <td>4</td>\n",
       "      <td>14.844051</td>\n",
       "      <td>23.114147</td>\n",
       "      <td>30.607718</td>\n",
       "      <td>58.736336</td>\n",
       "      <td>73.43569</td>\n",
       "      <td>48.863342</td>\n",
       "      <td>0.314835</td>\n",
       "      <td>-37.725527</td>\n",
       "      <td>-0.139488</td>\n",
       "    </tr>\n",
       "    <tr>\n",
       "      <th>2</th>\n",
       "      <td>1</td>\n",
       "      <td>2017-04-21</td>\n",
       "      <td>4</td>\n",
       "      <td>13.385852</td>\n",
       "      <td>21.596462</td>\n",
       "      <td>29.223473</td>\n",
       "      <td>57.065918</td>\n",
       "      <td>73.66881</td>\n",
       "      <td>49.313503</td>\n",
       "      <td>0.322664</td>\n",
       "      <td>-39.639456</td>\n",
       "      <td>-0.150079</td>\n",
       "    </tr>\n",
       "    <tr>\n",
       "      <th>3</th>\n",
       "      <td>1</td>\n",
       "      <td>2017-05-01</td>\n",
       "      <td>4</td>\n",
       "      <td>15.408361</td>\n",
       "      <td>22.471062</td>\n",
       "      <td>29.371382</td>\n",
       "      <td>56.434082</td>\n",
       "      <td>71.05788</td>\n",
       "      <td>46.557877</td>\n",
       "      <td>0.315396</td>\n",
       "      <td>-36.211639</td>\n",
       "      <td>-0.133102</td>\n",
       "    </tr>\n",
       "    <tr>\n",
       "      <th>4</th>\n",
       "      <td>1</td>\n",
       "      <td>2017-05-11</td>\n",
       "      <td>4</td>\n",
       "      <td>54.829582</td>\n",
       "      <td>65.739550</td>\n",
       "      <td>72.906750</td>\n",
       "      <td>95.672030</td>\n",
       "      <td>66.14791</td>\n",
       "      <td>58.643085</td>\n",
       "      <td>0.135042</td>\n",
       "      <td>3.880202</td>\n",
       "      <td>-0.051694</td>\n",
       "    </tr>\n",
       "  </tbody>\n",
       "</table>\n",
       "</div>"
      ],
      "text/plain": [
       "   field_id        date  label        B02        B03        B04        B08  \\\n",
       "0         1  2017-04-01      4  21.934084  29.180065  35.554660  62.490353   \n",
       "1         1  2017-04-11      4  14.844051  23.114147  30.607718  58.736336   \n",
       "2         1  2017-04-21      4  13.385852  21.596462  29.223473  57.065918   \n",
       "3         1  2017-05-01      4  15.408361  22.471062  29.371382  56.434082   \n",
       "4         1  2017-05-11      4  54.829582  65.739550  72.906750  95.672030   \n",
       "\n",
       "        B11        B12      NDVI        WET       PVR  \n",
       "0  68.39710  46.040190  0.274728 -27.683925 -0.098473  \n",
       "1  73.43569  48.863342  0.314835 -37.725527 -0.139488  \n",
       "2  73.66881  49.313503  0.322664 -39.639456 -0.150079  \n",
       "3  71.05788  46.557877  0.315396 -36.211639 -0.133102  \n",
       "4  66.14791  58.643085  0.135042   3.880202 -0.051694  "
      ]
     },
     "execution_count": 85,
     "metadata": {},
     "output_type": "execute_result"
    }
   ],
   "source": [
    "# Load dataset\n",
    "df = pd.read_csv('data/spectral_wo_NA.csv')\n",
    "df_wo = pd.read_csv('data/spectral_wo_NA_02.csv')\n",
    "df.head()"
   ]
  },
  {
   "cell_type": "code",
   "execution_count": 86,
   "metadata": {},
   "outputs": [],
   "source": [
    "# Change date Format and add month and days since beginning growing season added\n",
    "def calculate_mean_month_field(df:pd.DataFrame) -> pd.DataFrame:\n",
    "  \"\"\"Calculate the mean for each month and field_id\n",
    "\n",
    "  Args:\n",
    "      df (pd.DataFrame): Data with all features \n",
    "\n",
    "  Returns:\n",
    "      pd.DataFrame: Data the mean for each month and field_id\n",
    "  \"\"\"\n",
    "\n",
    "  # Change datatype str to Datetime of timecolumn\n",
    "  df['date'] = pd.to_datetime(df['date'])\n",
    "  # create relevant subset -> Calculate the month in the year\n",
    "  df['month'] = df['date'].dt.month\n",
    "  # Change month int to str for later column naming\n",
    "  df['month'] = df['month'].apply(str)  \n",
    "  \n",
    "  # calculate mean for each month for each field_id\n",
    "  return df.groupby(by=['field_id','month']).mean().reset_index()\n",
    "\n",
    "def combine_feature_date(df:pd.DataFrame) -> pd.DataFrame:\n",
    "  \"\"\" Transform the date (month) to each feature, so feature and time is combined\n",
    "\n",
    "  Args:\n",
    "      df (pd.DataFrame): data with mean per month and per field\n",
    "\n",
    "  Returns:\n",
    "      pd.DataFrame: returned transformed data\n",
    "  \"\"\"\n",
    "  # get list of features\n",
    "  features = list(set(df) - set(['field_id', 'month', 'label']))\n",
    "\n",
    "  # pivot for each month over field id --> Combine feature and Time\n",
    "  df_res = df.pivot(index='field_id', columns='month', values=features).reset_index()\n",
    "\n",
    "  # change column names\n",
    "  df_res.columns = ['_'.join(col).strip() for col in df_res.columns.values]\n",
    "\n",
    "  # Left join with labels \n",
    "  merge = df_res.merge(df[['field_id', 'label']].applymap(int), left_on='field_id_', right_on='field_id')\n",
    "\n",
    "  # drop field_id_ column\n",
    "  return merge.drop('field_id_', axis =1)\n",
    "\n",
    "def feat_engi_date(df:pd.DataFrame) -> pd.DataFrame:\n",
    "  \"\"\"includes two main function --> Full Feature Engineering\n",
    "      * Calculate the mean for each month and field_id\n",
    "      * Transform the date (month) to each feature, so feature and time is combined\n",
    "\n",
    "  Args:\n",
    "      df (pd.DataFrame): initial dataset\n",
    "\n",
    "  Returns:\n",
    "      pd.DataFrame: transformed dataset\n",
    "  \"\"\"\n",
    "  return combine_feature_date(calculate_mean_month_field(df))\n"
   ]
  },
  {
   "cell_type": "code",
   "execution_count": 87,
   "metadata": {},
   "outputs": [],
   "source": [
    "# Transform data\n",
    "df_after_FE = feat_engi_date(df)\n",
    "df_after_FE_wo = feat_engi_date(df_wo)\n"
   ]
  },
  {
   "cell_type": "code",
   "execution_count": 89,
   "metadata": {},
   "outputs": [],
   "source": [
    "# Save data\n",
    "#df_after_FE.to_csv('data/data_afterFE.csv', index=False)\n",
    "#df_after_FE.to_csv('data/data_afterFE_wo.csv', index=False)\n"
   ]
  }
 ],
 "metadata": {
  "kernelspec": {
   "display_name": "Python 3.9.8 ('.venv': venv)",
   "language": "python",
   "name": "python3"
  },
  "language_info": {
   "codemirror_mode": {
    "name": "ipython",
    "version": 3
   },
   "file_extension": ".py",
   "mimetype": "text/x-python",
   "name": "python",
   "nbconvert_exporter": "python",
   "pygments_lexer": "ipython3",
   "version": "3.9.8"
  },
  "orig_nbformat": 4,
  "vscode": {
   "interpreter": {
    "hash": "79f8c2148c6ef70f00ab3e355f3567115c74c068162dbb64509ccd5964888a99"
   }
  }
 },
 "nbformat": 4,
 "nbformat_minor": 2
}
