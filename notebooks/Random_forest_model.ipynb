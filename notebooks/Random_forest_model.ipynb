{
  "cells": [
    {
      "cell_type": "markdown",
      "metadata": {
        "colab_type": "text",
        "id": "view-in-github"
      },
      "source": [
        "<a href=\"https://colab.research.google.com/github/Fbehr-data/Radiant-Earth-Spot-Crop/blob/script_spectral/Random_forest_model.ipynb\" target=\"_parent\"><img src=\"https://colab.research.google.com/assets/colab-badge.svg\" alt=\"Open In Colab\"/></a>"
      ]
    },
    {
      "cell_type": "markdown",
      "metadata": {
        "id": "5zkyn50-2QF2"
      },
      "source": [
        "# Random_Forest model notebook\n",
        "*by Anitha*\n",
        "\n",
        "In this notebook I will  create a Random forest model from the baseline model .\n",
        "The first step is to connect the Google Drive, import the modules and load the data. "
      ]
    },
    {
      "cell_type": "code",
      "execution_count": null,
      "metadata": {
        "colab": {
          "base_uri": "https://localhost:8080/"
        },
        "id": "ZU3jDnR8ij_h",
        "outputId": "459c10dd-75f2-4a3a-9944-3a23855150af"
      },
      "outputs": [
        {
          "name": "stdout",
          "output_type": "stream",
          "text": [
            "Mounted at /content/drive\n"
          ]
        }
      ],
      "source": [
        "#Connect the Google Drive\n",
        "from google.colab import drive\n",
        "drive.mount('/content/drive')"
      ]
    },
    {
      "cell_type": "markdown",
      "metadata": {
        "id": "8l8JOUIBmX-a"
      },
      "source": [
        "Import the modules, set the working directories and load the data."
      ]
    },
    {
      "cell_type": "code",
      "execution_count": 51,
      "metadata": {
        "colab": {
          "base_uri": "https://localhost:8080/"
        },
        "id": "FTdL0fDQb6no",
        "outputId": "d0bf1ba8-fb94-4f80-83de-5d2f71aa31ed"
      },
      "outputs": [],
      "source": [
        "# Import the needed modules\n",
        "import numpy as np\n",
        "import pandas as pd\n",
        "from matplotlib import pyplot\n",
        "#!pip install rasterio\n",
        "import seaborn as sns\n",
        "from scipy import stats \n",
        "from scipy.ndimage import gaussian_filter\n",
        "import matplotlib.pyplot as plt\n",
        "import seaborn as sns\n",
        "from hyperopt import STATUS_OK, Trials, fmin, hp, tpe\n",
        "import hyperopt.pyll.stochastic\n",
        "from sklearn.ensemble import RandomForestClassifier\n",
        "from sklearn.metrics import (\n",
        "    accuracy_score, \n",
        "    f1_score, \n",
        "    log_loss, \n",
        "    confusion_matrix, \n",
        "    classification_report\n",
        "    )\n",
        "from IPython.core.pylabtools import figsize\n",
        "%matplotlib inline\n",
        "from sklearn.decomposition import PCA"
      ]
    },
    {
      "cell_type": "code",
      "execution_count": 3,
      "metadata": {
        "id": "cNpIZs7tb6nr"
      },
      "outputs": [],
      "source": [
        " # Set the directory of the data \n",
        "OUTPUT_DIR = '../data'\n",
        "# Load the base data from the CSV files\n",
        "df_train = pd.read_csv(f'{OUTPUT_DIR}/Train_Dataset.csv')\n",
        "df_test = pd.read_csv(f'{OUTPUT_DIR}/Test_Dataset.csv')"
      ]
    },
    {
      "cell_type": "code",
      "execution_count": 4,
      "metadata": {
        "colab": {
          "base_uri": "https://localhost:8080/",
          "height": 488
        },
        "id": "OVdXgxRXjytU",
        "outputId": "eea47154-0a23-46d6-bff8-8d7d4b5d16bc"
      },
      "outputs": [
        {
          "data": {
            "text/html": [
              "<div>\n",
              "<style scoped>\n",
              "    .dataframe tbody tr th:only-of-type {\n",
              "        vertical-align: middle;\n",
              "    }\n",
              "\n",
              "    .dataframe tbody tr th {\n",
              "        vertical-align: top;\n",
              "    }\n",
              "\n",
              "    .dataframe thead th {\n",
              "        text-align: right;\n",
              "    }\n",
              "</style>\n",
              "<table border=\"1\" class=\"dataframe\">\n",
              "  <thead>\n",
              "    <tr style=\"text-align: right;\">\n",
              "      <th></th>\n",
              "      <th>B05_10</th>\n",
              "      <th>B05_11</th>\n",
              "      <th>B05_5</th>\n",
              "      <th>B05_6</th>\n",
              "      <th>B05_7</th>\n",
              "      <th>B05_8</th>\n",
              "      <th>B05_9</th>\n",
              "      <th>homogeneity_10</th>\n",
              "      <th>homogeneity_11</th>\n",
              "      <th>homogeneity_5</th>\n",
              "      <th>...</th>\n",
              "      <th>B08_11</th>\n",
              "      <th>B08_5</th>\n",
              "      <th>B08_6</th>\n",
              "      <th>B08_7</th>\n",
              "      <th>B08_8</th>\n",
              "      <th>B08_9</th>\n",
              "      <th>field_id</th>\n",
              "      <th>field_size</th>\n",
              "      <th>tile_id</th>\n",
              "      <th>label</th>\n",
              "    </tr>\n",
              "  </thead>\n",
              "  <tbody>\n",
              "    <tr>\n",
              "      <th>0</th>\n",
              "      <td>47.066226</td>\n",
              "      <td>60.103753</td>\n",
              "      <td>54.878586</td>\n",
              "      <td>43.344370</td>\n",
              "      <td>39.947021</td>\n",
              "      <td>35.663575</td>\n",
              "      <td>35.432672</td>\n",
              "      <td>0.400000</td>\n",
              "      <td>0.000000</td>\n",
              "      <td>0.500000</td>\n",
              "      <td>...</td>\n",
              "      <td>81.196470</td>\n",
              "      <td>68.816779</td>\n",
              "      <td>60.788080</td>\n",
              "      <td>84.348785</td>\n",
              "      <td>93.150994</td>\n",
              "      <td>97.092715</td>\n",
              "      <td>4</td>\n",
              "      <td>151</td>\n",
              "      <td>2526</td>\n",
              "      <td>8</td>\n",
              "    </tr>\n",
              "    <tr>\n",
              "      <th>1</th>\n",
              "      <td>48.382919</td>\n",
              "      <td>79.578805</td>\n",
              "      <td>54.212733</td>\n",
              "      <td>45.037269</td>\n",
              "      <td>40.535197</td>\n",
              "      <td>38.800078</td>\n",
              "      <td>33.677796</td>\n",
              "      <td>0.413707</td>\n",
              "      <td>0.485758</td>\n",
              "      <td>0.503335</td>\n",
              "      <td>...</td>\n",
              "      <td>94.514750</td>\n",
              "      <td>58.161490</td>\n",
              "      <td>54.506212</td>\n",
              "      <td>64.888199</td>\n",
              "      <td>88.352097</td>\n",
              "      <td>91.444875</td>\n",
              "      <td>14</td>\n",
              "      <td>644</td>\n",
              "      <td>979</td>\n",
              "      <td>8</td>\n",
              "    </tr>\n",
              "    <tr>\n",
              "      <th>2</th>\n",
              "      <td>93.371714</td>\n",
              "      <td>94.650908</td>\n",
              "      <td>90.118740</td>\n",
              "      <td>90.782387</td>\n",
              "      <td>87.399483</td>\n",
              "      <td>66.465379</td>\n",
              "      <td>78.149913</td>\n",
              "      <td>0.481771</td>\n",
              "      <td>0.508425</td>\n",
              "      <td>0.551671</td>\n",
              "      <td>...</td>\n",
              "      <td>109.695809</td>\n",
              "      <td>100.468482</td>\n",
              "      <td>106.841680</td>\n",
              "      <td>111.835061</td>\n",
              "      <td>95.225623</td>\n",
              "      <td>100.387565</td>\n",
              "      <td>20</td>\n",
              "      <td>579</td>\n",
              "      <td>632</td>\n",
              "      <td>8</td>\n",
              "    </tr>\n",
              "    <tr>\n",
              "      <th>3</th>\n",
              "      <td>56.779761</td>\n",
              "      <td>60.005952</td>\n",
              "      <td>45.738096</td>\n",
              "      <td>49.928570</td>\n",
              "      <td>41.966666</td>\n",
              "      <td>53.912699</td>\n",
              "      <td>54.015873</td>\n",
              "      <td>0.497820</td>\n",
              "      <td>0.389199</td>\n",
              "      <td>0.346870</td>\n",
              "      <td>...</td>\n",
              "      <td>72.660715</td>\n",
              "      <td>54.000000</td>\n",
              "      <td>62.452380</td>\n",
              "      <td>52.842857</td>\n",
              "      <td>65.865080</td>\n",
              "      <td>66.952380</td>\n",
              "      <td>25</td>\n",
              "      <td>42</td>\n",
              "      <td>1779</td>\n",
              "      <td>3</td>\n",
              "    </tr>\n",
              "    <tr>\n",
              "      <th>4</th>\n",
              "      <td>41.873684</td>\n",
              "      <td>56.456141</td>\n",
              "      <td>45.921054</td>\n",
              "      <td>33.447370</td>\n",
              "      <td>37.403509</td>\n",
              "      <td>39.526316</td>\n",
              "      <td>45.999999</td>\n",
              "      <td>0.430394</td>\n",
              "      <td>0.424396</td>\n",
              "      <td>0.424946</td>\n",
              "      <td>...</td>\n",
              "      <td>72.543862</td>\n",
              "      <td>66.065790</td>\n",
              "      <td>68.184213</td>\n",
              "      <td>82.324560</td>\n",
              "      <td>91.350873</td>\n",
              "      <td>64.526313</td>\n",
              "      <td>40</td>\n",
              "      <td>38</td>\n",
              "      <td>229</td>\n",
              "      <td>3</td>\n",
              "    </tr>\n",
              "    <tr>\n",
              "      <th>...</th>\n",
              "      <td>...</td>\n",
              "      <td>...</td>\n",
              "      <td>...</td>\n",
              "      <td>...</td>\n",
              "      <td>...</td>\n",
              "      <td>...</td>\n",
              "      <td>...</td>\n",
              "      <td>...</td>\n",
              "      <td>...</td>\n",
              "      <td>...</td>\n",
              "      <td>...</td>\n",
              "      <td>...</td>\n",
              "      <td>...</td>\n",
              "      <td>...</td>\n",
              "      <td>...</td>\n",
              "      <td>...</td>\n",
              "      <td>...</td>\n",
              "      <td>...</td>\n",
              "      <td>...</td>\n",
              "      <td>...</td>\n",
              "      <td>...</td>\n",
              "    </tr>\n",
              "    <tr>\n",
              "      <th>44576</th>\n",
              "      <td>68.203273</td>\n",
              "      <td>64.634365</td>\n",
              "      <td>59.737983</td>\n",
              "      <td>51.271318</td>\n",
              "      <td>55.125970</td>\n",
              "      <td>52.986219</td>\n",
              "      <td>43.156589</td>\n",
              "      <td>0.399245</td>\n",
              "      <td>0.390108</td>\n",
              "      <td>0.366199</td>\n",
              "      <td>...</td>\n",
              "      <td>79.904392</td>\n",
              "      <td>73.469766</td>\n",
              "      <td>68.263570</td>\n",
              "      <td>78.359495</td>\n",
              "      <td>82.403963</td>\n",
              "      <td>64.767442</td>\n",
              "      <td>122575</td>\n",
              "      <td>129</td>\n",
              "      <td>328</td>\n",
              "      <td>5</td>\n",
              "    </tr>\n",
              "    <tr>\n",
              "      <th>44577</th>\n",
              "      <td>96.803281</td>\n",
              "      <td>101.964194</td>\n",
              "      <td>75.599474</td>\n",
              "      <td>71.964670</td>\n",
              "      <td>83.225678</td>\n",
              "      <td>84.604493</td>\n",
              "      <td>90.699685</td>\n",
              "      <td>0.409268</td>\n",
              "      <td>0.398346</td>\n",
              "      <td>0.422811</td>\n",
              "      <td>...</td>\n",
              "      <td>110.664669</td>\n",
              "      <td>81.275605</td>\n",
              "      <td>85.056782</td>\n",
              "      <td>95.474134</td>\n",
              "      <td>95.039117</td>\n",
              "      <td>102.597789</td>\n",
              "      <td>122598</td>\n",
              "      <td>1585</td>\n",
              "      <td>1866</td>\n",
              "      <td>5</td>\n",
              "    </tr>\n",
              "    <tr>\n",
              "      <th>44578</th>\n",
              "      <td>67.314020</td>\n",
              "      <td>73.899668</td>\n",
              "      <td>62.488168</td>\n",
              "      <td>59.667926</td>\n",
              "      <td>56.018963</td>\n",
              "      <td>46.473018</td>\n",
              "      <td>61.661671</td>\n",
              "      <td>0.436372</td>\n",
              "      <td>0.445108</td>\n",
              "      <td>0.454173</td>\n",
              "      <td>...</td>\n",
              "      <td>85.550357</td>\n",
              "      <td>70.924150</td>\n",
              "      <td>74.264360</td>\n",
              "      <td>80.354241</td>\n",
              "      <td>71.538568</td>\n",
              "      <td>83.278091</td>\n",
              "      <td>122628</td>\n",
              "      <td>1851</td>\n",
              "      <td>1289</td>\n",
              "      <td>5</td>\n",
              "    </tr>\n",
              "    <tr>\n",
              "      <th>44579</th>\n",
              "      <td>69.728487</td>\n",
              "      <td>73.202357</td>\n",
              "      <td>60.672560</td>\n",
              "      <td>57.299608</td>\n",
              "      <td>60.242140</td>\n",
              "      <td>34.879175</td>\n",
              "      <td>63.662739</td>\n",
              "      <td>0.434653</td>\n",
              "      <td>0.426423</td>\n",
              "      <td>0.386597</td>\n",
              "      <td>...</td>\n",
              "      <td>87.736248</td>\n",
              "      <td>68.734774</td>\n",
              "      <td>68.833985</td>\n",
              "      <td>76.796169</td>\n",
              "      <td>47.727897</td>\n",
              "      <td>86.475440</td>\n",
              "      <td>122662</td>\n",
              "      <td>509</td>\n",
              "      <td>2434</td>\n",
              "      <td>5</td>\n",
              "    </tr>\n",
              "    <tr>\n",
              "      <th>44580</th>\n",
              "      <td>37.555170</td>\n",
              "      <td>41.970179</td>\n",
              "      <td>33.625743</td>\n",
              "      <td>26.701790</td>\n",
              "      <td>28.193837</td>\n",
              "      <td>27.951789</td>\n",
              "      <td>31.100398</td>\n",
              "      <td>0.374500</td>\n",
              "      <td>0.344515</td>\n",
              "      <td>0.388770</td>\n",
              "      <td>...</td>\n",
              "      <td>70.637173</td>\n",
              "      <td>49.370277</td>\n",
              "      <td>49.231610</td>\n",
              "      <td>62.667329</td>\n",
              "      <td>71.679671</td>\n",
              "      <td>91.154073</td>\n",
              "      <td>122704</td>\n",
              "      <td>1006</td>\n",
              "      <td>488</td>\n",
              "      <td>5</td>\n",
              "    </tr>\n",
              "  </tbody>\n",
              "</table>\n",
              "<p>44581 rows × 165 columns</p>\n",
              "</div>"
            ],
            "text/plain": [
              "          B05_10      B05_11      B05_5      B05_6      B05_7      B05_8  \\\n",
              "0      47.066226   60.103753  54.878586  43.344370  39.947021  35.663575   \n",
              "1      48.382919   79.578805  54.212733  45.037269  40.535197  38.800078   \n",
              "2      93.371714   94.650908  90.118740  90.782387  87.399483  66.465379   \n",
              "3      56.779761   60.005952  45.738096  49.928570  41.966666  53.912699   \n",
              "4      41.873684   56.456141  45.921054  33.447370  37.403509  39.526316   \n",
              "...          ...         ...        ...        ...        ...        ...   \n",
              "44576  68.203273   64.634365  59.737983  51.271318  55.125970  52.986219   \n",
              "44577  96.803281  101.964194  75.599474  71.964670  83.225678  84.604493   \n",
              "44578  67.314020   73.899668  62.488168  59.667926  56.018963  46.473018   \n",
              "44579  69.728487   73.202357  60.672560  57.299608  60.242140  34.879175   \n",
              "44580  37.555170   41.970179  33.625743  26.701790  28.193837  27.951789   \n",
              "\n",
              "           B05_9  homogeneity_10  homogeneity_11  homogeneity_5  ...  \\\n",
              "0      35.432672        0.400000        0.000000       0.500000  ...   \n",
              "1      33.677796        0.413707        0.485758       0.503335  ...   \n",
              "2      78.149913        0.481771        0.508425       0.551671  ...   \n",
              "3      54.015873        0.497820        0.389199       0.346870  ...   \n",
              "4      45.999999        0.430394        0.424396       0.424946  ...   \n",
              "...          ...             ...             ...            ...  ...   \n",
              "44576  43.156589        0.399245        0.390108       0.366199  ...   \n",
              "44577  90.699685        0.409268        0.398346       0.422811  ...   \n",
              "44578  61.661671        0.436372        0.445108       0.454173  ...   \n",
              "44579  63.662739        0.434653        0.426423       0.386597  ...   \n",
              "44580  31.100398        0.374500        0.344515       0.388770  ...   \n",
              "\n",
              "           B08_11       B08_5       B08_6       B08_7      B08_8       B08_9  \\\n",
              "0       81.196470   68.816779   60.788080   84.348785  93.150994   97.092715   \n",
              "1       94.514750   58.161490   54.506212   64.888199  88.352097   91.444875   \n",
              "2      109.695809  100.468482  106.841680  111.835061  95.225623  100.387565   \n",
              "3       72.660715   54.000000   62.452380   52.842857  65.865080   66.952380   \n",
              "4       72.543862   66.065790   68.184213   82.324560  91.350873   64.526313   \n",
              "...           ...         ...         ...         ...        ...         ...   \n",
              "44576   79.904392   73.469766   68.263570   78.359495  82.403963   64.767442   \n",
              "44577  110.664669   81.275605   85.056782   95.474134  95.039117  102.597789   \n",
              "44578   85.550357   70.924150   74.264360   80.354241  71.538568   83.278091   \n",
              "44579   87.736248   68.734774   68.833985   76.796169  47.727897   86.475440   \n",
              "44580   70.637173   49.370277   49.231610   62.667329  71.679671   91.154073   \n",
              "\n",
              "       field_id  field_size  tile_id  label  \n",
              "0             4         151     2526      8  \n",
              "1            14         644      979      8  \n",
              "2            20         579      632      8  \n",
              "3            25          42     1779      3  \n",
              "4            40          38      229      3  \n",
              "...         ...         ...      ...    ...  \n",
              "44576    122575         129      328      5  \n",
              "44577    122598        1585     1866      5  \n",
              "44578    122628        1851     1289      5  \n",
              "44579    122662         509     2434      5  \n",
              "44580    122704        1006      488      5  \n",
              "\n",
              "[44581 rows x 165 columns]"
            ]
          },
          "execution_count": 4,
          "metadata": {},
          "output_type": "execute_result"
        }
      ],
      "source": [
        "df_train"
      ]
    },
    {
      "cell_type": "markdown",
      "metadata": {
        "id": "B0IbCUwCkroW"
      },
      "source": []
    },
    {
      "cell_type": "markdown",
      "metadata": {
        "id": "fv4MOJN7kmY6"
      },
      "source": [
        "## Randomforest Model\n",
        "\n",
        "For our model, we only worked on the mean bands for each field and each month and chose a RandomForest classifier, as this is a commonly used model for raster data. \n",
        "\n",
        "We chose the F1 score and Accuracy as metrics, since the main goal is to correctly identify as many plants as possible. Neither FP nor FN are particularly bad or good, hence the harmonic mean F1. In addition, we also have an eye on the cross-entropy, because later we will deal with the probabilities with which a class is assigned to a field. "
      ]
    },
    {
      "cell_type": "markdown",
      "metadata": {
        "id": "smPGmSpMkux5"
      },
      "source": [
        "Here we don't need to do the train-test-split of the data because we already have two dataset the train dataset and the testdataset ."
      ]
    },
    {
      "cell_type": "code",
      "execution_count": 5,
      "metadata": {
        "id": "8RItHF-tkkry"
      },
      "outputs": [],
      "source": [
        "# Set a random seed\n",
        "RSEED = 42\n",
        "np.random.seed(RSEED)"
      ]
    },
    {
      "cell_type": "code",
      "execution_count": 6,
      "metadata": {
        "id": "ZS-9rcl6LFDk"
      },
      "outputs": [],
      "source": [
        "\n",
        "# get X for the train and validation data\n",
        "X_train = df_train.drop(columns=[\"label\", \"field_id\"])\n",
        "X_val = df_test.drop(columns=[\"label\", \"field_id\"])\n",
        "\n",
        "# get y for the train and validation data\n",
        "y_train = df_train[\"label\"]\n",
        "y_train = y_train.astype(int)\n",
        "y_val = df_test[\"label\"]\n",
        "y_val = y_val.astype(int)\n",
        "\n",
        "# set the class labels from 0 to 8 \n",
        "y_train = y_train-1\n",
        "y_val = y_val-1"
      ]
    },
    {
      "cell_type": "code",
      "execution_count": 7,
      "metadata": {
        "colab": {
          "base_uri": "https://localhost:8080/"
        },
        "id": "InNcCGPlNnsK",
        "outputId": "ec7a5ee8-b44b-48cd-a22c-4b59f67b8b3b"
      },
      "outputs": [
        {
          "data": {
            "text/plain": [
              "(44581, 165)"
            ]
          },
          "execution_count": 7,
          "metadata": {},
          "output_type": "execute_result"
        }
      ],
      "source": [
        "df_train.shape"
      ]
    },
    {
      "cell_type": "code",
      "execution_count": 8,
      "metadata": {
        "colab": {
          "base_uri": "https://localhost:8080/"
        },
        "id": "dQAellF9N56J",
        "outputId": "1d61e868-dc25-4f61-db47-6e6544123265"
      },
      "outputs": [
        {
          "data": {
            "text/plain": [
              "(24043, 165)"
            ]
          },
          "execution_count": 8,
          "metadata": {},
          "output_type": "execute_result"
        }
      ],
      "source": [
        "df_test.shape"
      ]
    },
    {
      "cell_type": "code",
      "execution_count": 9,
      "metadata": {
        "id": "9M617brTt1Kp"
      },
      "outputs": [],
      "source": [
        "labels = y_train.unique()"
      ]
    },
    {
      "cell_type": "markdown",
      "metadata": {
        "id": "lo4ZOPCC13g1"
      },
      "source": [
        "Here is the baseline model "
      ]
    },
    {
      "cell_type": "code",
      "execution_count": 52,
      "metadata": {
        "colab": {
          "base_uri": "https://localhost:8080/"
        },
        "id": "F5NMCjUck46Z",
        "outputId": "8c7fb0bc-3665-411d-8c1c-298fea40efe5"
      },
      "outputs": [
        {
          "name": "stderr",
          "output_type": "stream",
          "text": [
            "/Users/anithagrace/neue_fische/Radiant-Earth-Spot-Crop/.venv/lib/python3.9/site-packages/sklearn/ensemble/_forest.py:427: FutureWarning: `max_features='auto'` has been deprecated in 1.1 and will be removed in 1.3. To keep the past behaviour, explicitly set `max_features='sqrt'` or remove this parameter as it is also the default value for RandomForestClassifiers and ExtraTreesClassifiers.\n",
            "  warn(\n",
            "[Parallel(n_jobs=-1)]: Using backend ThreadingBackend with 8 concurrent workers.\n",
            "[Parallel(n_jobs=-1)]: Done  34 tasks      | elapsed:    3.6s\n",
            "[Parallel(n_jobs=-1)]: Done 184 tasks      | elapsed:   18.2s\n",
            "[Parallel(n_jobs=-1)]: Done 200 out of 200 | elapsed:   19.6s finished\n"
          ]
        },
        {
          "data": {
            "text/html": [
              "<style>#sk-container-id-8 {color: black;background-color: white;}#sk-container-id-8 pre{padding: 0;}#sk-container-id-8 div.sk-toggleable {background-color: white;}#sk-container-id-8 label.sk-toggleable__label {cursor: pointer;display: block;width: 100%;margin-bottom: 0;padding: 0.3em;box-sizing: border-box;text-align: center;}#sk-container-id-8 label.sk-toggleable__label-arrow:before {content: \"▸\";float: left;margin-right: 0.25em;color: #696969;}#sk-container-id-8 label.sk-toggleable__label-arrow:hover:before {color: black;}#sk-container-id-8 div.sk-estimator:hover label.sk-toggleable__label-arrow:before {color: black;}#sk-container-id-8 div.sk-toggleable__content {max-height: 0;max-width: 0;overflow: hidden;text-align: left;background-color: #f0f8ff;}#sk-container-id-8 div.sk-toggleable__content pre {margin: 0.2em;color: black;border-radius: 0.25em;background-color: #f0f8ff;}#sk-container-id-8 input.sk-toggleable__control:checked~div.sk-toggleable__content {max-height: 200px;max-width: 100%;overflow: auto;}#sk-container-id-8 input.sk-toggleable__control:checked~label.sk-toggleable__label-arrow:before {content: \"▾\";}#sk-container-id-8 div.sk-estimator input.sk-toggleable__control:checked~label.sk-toggleable__label {background-color: #d4ebff;}#sk-container-id-8 div.sk-label input.sk-toggleable__control:checked~label.sk-toggleable__label {background-color: #d4ebff;}#sk-container-id-8 input.sk-hidden--visually {border: 0;clip: rect(1px 1px 1px 1px);clip: rect(1px, 1px, 1px, 1px);height: 1px;margin: -1px;overflow: hidden;padding: 0;position: absolute;width: 1px;}#sk-container-id-8 div.sk-estimator {font-family: monospace;background-color: #f0f8ff;border: 1px dotted black;border-radius: 0.25em;box-sizing: border-box;margin-bottom: 0.5em;}#sk-container-id-8 div.sk-estimator:hover {background-color: #d4ebff;}#sk-container-id-8 div.sk-parallel-item::after {content: \"\";width: 100%;border-bottom: 1px solid gray;flex-grow: 1;}#sk-container-id-8 div.sk-label:hover label.sk-toggleable__label {background-color: #d4ebff;}#sk-container-id-8 div.sk-serial::before {content: \"\";position: absolute;border-left: 1px solid gray;box-sizing: border-box;top: 0;bottom: 0;left: 50%;z-index: 0;}#sk-container-id-8 div.sk-serial {display: flex;flex-direction: column;align-items: center;background-color: white;padding-right: 0.2em;padding-left: 0.2em;position: relative;}#sk-container-id-8 div.sk-item {position: relative;z-index: 1;}#sk-container-id-8 div.sk-parallel {display: flex;align-items: stretch;justify-content: center;background-color: white;position: relative;}#sk-container-id-8 div.sk-item::before, #sk-container-id-8 div.sk-parallel-item::before {content: \"\";position: absolute;border-left: 1px solid gray;box-sizing: border-box;top: 0;bottom: 0;left: 50%;z-index: -1;}#sk-container-id-8 div.sk-parallel-item {display: flex;flex-direction: column;z-index: 1;position: relative;background-color: white;}#sk-container-id-8 div.sk-parallel-item:first-child::after {align-self: flex-end;width: 50%;}#sk-container-id-8 div.sk-parallel-item:last-child::after {align-self: flex-start;width: 50%;}#sk-container-id-8 div.sk-parallel-item:only-child::after {width: 0;}#sk-container-id-8 div.sk-dashed-wrapped {border: 1px dashed gray;margin: 0 0.4em 0.5em 0.4em;box-sizing: border-box;padding-bottom: 0.4em;background-color: white;}#sk-container-id-8 div.sk-label label {font-family: monospace;font-weight: bold;display: inline-block;line-height: 1.2em;}#sk-container-id-8 div.sk-label-container {text-align: center;}#sk-container-id-8 div.sk-container {/* jupyter's `normalize.less` sets `[hidden] { display: none; }` but bootstrap.min.css set `[hidden] { display: none !important; }` so we also need the `!important` here to be able to override the default hidden behavior on the sphinx rendered scikit-learn.org. See: https://github.com/scikit-learn/scikit-learn/issues/21755 */display: inline-block !important;position: relative;}#sk-container-id-8 div.sk-text-repr-fallback {display: none;}</style><div id=\"sk-container-id-8\" class=\"sk-top-container\"><div class=\"sk-text-repr-fallback\"><pre>RandomForestClassifier(criterion=&#x27;entropy&#x27;, max_depth=10, max_features=&#x27;auto&#x27;,\n",
              "                       n_estimators=200, n_jobs=-1, random_state=42, verbose=1)</pre><b>In a Jupyter environment, please rerun this cell to show the HTML representation or trust the notebook. <br />On GitHub, the HTML representation is unable to render, please try loading this page with nbviewer.org.</b></div><div class=\"sk-container\" hidden><div class=\"sk-item\"><div class=\"sk-estimator sk-toggleable\"><input class=\"sk-toggleable__control sk-hidden--visually\" id=\"sk-estimator-id-10\" type=\"checkbox\" checked><label for=\"sk-estimator-id-10\" class=\"sk-toggleable__label sk-toggleable__label-arrow\">RandomForestClassifier</label><div class=\"sk-toggleable__content\"><pre>RandomForestClassifier(criterion=&#x27;entropy&#x27;, max_depth=10, max_features=&#x27;auto&#x27;,\n",
              "                       n_estimators=200, n_jobs=-1, random_state=42, verbose=1)</pre></div></div></div></div></div>"
            ],
            "text/plain": [
              "RandomForestClassifier(criterion='entropy', max_depth=10, max_features='auto',\n",
              "                       n_estimators=200, n_jobs=-1, random_state=42, verbose=1)"
            ]
          },
          "execution_count": 52,
          "metadata": {},
          "output_type": "execute_result"
        }
      ],
      "source": [
        "\n",
        "# Fitting the RF model\n",
        "rf = RandomForestClassifier(n_estimators = 200, random_state = RSEED, n_jobs = -1, verbose=1,max_features='auto', max_depth=10, criterion='entropy')\n",
        "rf.fit(X_train, y_train)"
      ]
    },
    {
      "cell_type": "code",
      "execution_count": 11,
      "metadata": {
        "colab": {
          "base_uri": "https://localhost:8080/"
        },
        "id": "5h4VtXwGlMj5",
        "outputId": "78ff7148-d2bb-41a9-85df-ddf3878d282c"
      },
      "outputs": [
        {
          "name": "stderr",
          "output_type": "stream",
          "text": [
            "[Parallel(n_jobs=8)]: Using backend ThreadingBackend with 8 concurrent workers.\n",
            "[Parallel(n_jobs=8)]: Done  34 tasks      | elapsed:    0.1s\n",
            "[Parallel(n_jobs=8)]: Done 184 tasks      | elapsed:    0.3s\n",
            "[Parallel(n_jobs=8)]: Done 200 out of 200 | elapsed:    0.3s finished\n",
            "[Parallel(n_jobs=8)]: Using backend ThreadingBackend with 8 concurrent workers.\n",
            "[Parallel(n_jobs=8)]: Done  34 tasks      | elapsed:    0.0s\n",
            "[Parallel(n_jobs=8)]: Done 184 tasks      | elapsed:    0.2s\n",
            "[Parallel(n_jobs=8)]: Done 200 out of 200 | elapsed:    0.2s finished\n"
          ]
        }
      ],
      "source": [
        "y_pred_train = rf.predict(X_train)\n",
        "y_pred_test = rf.predict(X_val)"
      ]
    },
    {
      "cell_type": "code",
      "execution_count": 12,
      "metadata": {
        "colab": {
          "base_uri": "https://localhost:8080/"
        },
        "id": "Qe2SKTO8rIfL",
        "outputId": "3eecdaca-bbc4-43d5-cf41-67b2d20b647f"
      },
      "outputs": [
        {
          "name": "stderr",
          "output_type": "stream",
          "text": [
            "[Parallel(n_jobs=8)]: Using backend ThreadingBackend with 8 concurrent workers.\n",
            "[Parallel(n_jobs=8)]: Done  34 tasks      | elapsed:    0.1s\n",
            "[Parallel(n_jobs=8)]: Done 184 tasks      | elapsed:    0.3s\n",
            "[Parallel(n_jobs=8)]: Done 200 out of 200 | elapsed:    0.3s finished\n",
            "[Parallel(n_jobs=8)]: Using backend ThreadingBackend with 8 concurrent workers.\n",
            "[Parallel(n_jobs=8)]: Done  34 tasks      | elapsed:    0.0s\n",
            "[Parallel(n_jobs=8)]: Done 184 tasks      | elapsed:    0.1s\n",
            "[Parallel(n_jobs=8)]: Done 200 out of 200 | elapsed:    0.1s finished\n"
          ]
        }
      ],
      "source": [
        "y_proba_train = rf.predict_proba(X_train)\n",
        "y_proba_test = rf.predict_proba(X_val)"
      ]
    },
    {
      "cell_type": "markdown",
      "metadata": {
        "id": "-uijmhn62N1S"
      },
      "source": [
        "And the results of our baseline model. "
      ]
    },
    {
      "cell_type": "code",
      "execution_count": 13,
      "metadata": {
        "colab": {
          "base_uri": "https://localhost:8080/"
        },
        "id": "anmIaddRk-SK",
        "outputId": "243abd7f-9dc3-4603-d0f3-daabd7580bbc"
      },
      "outputs": [
        {
          "name": "stdout",
          "output_type": "stream",
          "text": [
            "Accuracy on train data: 0.7014871806374913\n",
            "Accuracy on test data: 0.6298714802645261\n",
            "------------------------------\n",
            "F1-score on train data: 0.6968103476049269\n",
            "F1-score on test data: 0.5703836174480637\n",
            "------------------------------\n",
            "Cross-entropy on train data: 0.9861705288263142\n",
            "Cross-entropy on test data: 1.0994882455592394\n",
            "------------------------------\n"
          ]
        }
      ],
      "source": [
        "\n",
        "print(f'Accuracy on train data: {accuracy_score(y_train, y_pred_train)}')\n",
        "print(f'Accuracy on test data: {accuracy_score(y_val, y_pred_test)}')\n",
        "print('---'*10)\n",
        "print(f'F1-score on train data: {f1_score(y_train, y_pred_train, average=\"macro\")}')\n",
        "print(f'F1-score on test data: {f1_score(y_val, y_pred_test, average=\"macro\")}')\n",
        "print('---'*10)\n",
        "print(f'Cross-entropy on train data: {log_loss(y_train, y_proba_train, labels=labels)}')\n",
        "print(f'Cross-entropy on test data: {log_loss(y_val, y_proba_test, labels=labels)}')\n",
        "print('---'*10)"
      ]
    },
    {
      "cell_type": "markdown",
      "metadata": {
        "id": "2S8BPiyoolk3"
      },
      "source": []
    },
    {
      "cell_type": "code",
      "execution_count": null,
      "metadata": {
        "colab": {
          "base_uri": "https://localhost:8080/"
        },
        "id": "eAFio3-zYSXg",
        "outputId": "f88b56a1-cac0-44b3-c4ca-23659f19ac35"
      },
      "outputs": [
        {
          "data": {
            "text/plain": [
              "(65,)"
            ]
          },
          "execution_count": 18,
          "metadata": {},
          "output_type": "execute_result"
        }
      ],
      "source": [
        "df_train.columns.shape"
      ]
    },
    {
      "cell_type": "markdown",
      "metadata": {
        "id": "MDCIiy4Xo0Pt"
      },
      "source": [
        "## hyperparameter tuning \n",
        "we are going to do the modelling by trying out a wide range of parameters and see what works! the main goal is to fight the overfitting.\n",
        "We will try adjusting the following set of hyperparameters:\n",
        "* n_estimators = number of trees in the foreset\n",
        "\n",
        "* max_features = max number of features considered for splitting a node\n",
        "* max_depth = max number of levels in each decision tree\n",
        "* min_samples_split = min number of data points placed in a node before the node is split\n",
        "* min_samples_leaf = min number of data points allowed in a leaf node\n"
      ]
    },
    {
      "cell_type": "code",
      "execution_count": 14,
      "metadata": {
        "colab": {
          "base_uri": "https://localhost:8080/"
        },
        "id": "RZA8ZJ-BflVq",
        "outputId": "3bc019e8-b063-46a8-b80a-dd96729068c6"
      },
      "outputs": [
        {
          "name": "stderr",
          "output_type": "stream",
          "text": [
            "/Users/anithagrace/neue_fische/Radiant-Earth-Spot-Crop/.venv/lib/python3.9/site-packages/sklearn/ensemble/_forest.py:427: FutureWarning: `max_features='auto'` has been deprecated in 1.1 and will be removed in 1.3. To keep the past behaviour, explicitly set `max_features='sqrt'` or remove this parameter as it is also the default value for RandomForestClassifiers and ExtraTreesClassifiers.\n",
            "  warn(\n",
            "[Parallel(n_jobs=-1)]: Using backend ThreadingBackend with 8 concurrent workers.\n",
            "[Parallel(n_jobs=-1)]: Done  34 tasks      | elapsed:    2.4s\n",
            "[Parallel(n_jobs=-1)]: Done 184 tasks      | elapsed:   11.1s\n",
            "[Parallel(n_jobs=-1)]: Done 200 out of 200 | elapsed:   11.9s finished\n"
          ]
        },
        {
          "data": {
            "text/html": [
              "<style>#sk-container-id-2 {color: black;background-color: white;}#sk-container-id-2 pre{padding: 0;}#sk-container-id-2 div.sk-toggleable {background-color: white;}#sk-container-id-2 label.sk-toggleable__label {cursor: pointer;display: block;width: 100%;margin-bottom: 0;padding: 0.3em;box-sizing: border-box;text-align: center;}#sk-container-id-2 label.sk-toggleable__label-arrow:before {content: \"▸\";float: left;margin-right: 0.25em;color: #696969;}#sk-container-id-2 label.sk-toggleable__label-arrow:hover:before {color: black;}#sk-container-id-2 div.sk-estimator:hover label.sk-toggleable__label-arrow:before {color: black;}#sk-container-id-2 div.sk-toggleable__content {max-height: 0;max-width: 0;overflow: hidden;text-align: left;background-color: #f0f8ff;}#sk-container-id-2 div.sk-toggleable__content pre {margin: 0.2em;color: black;border-radius: 0.25em;background-color: #f0f8ff;}#sk-container-id-2 input.sk-toggleable__control:checked~div.sk-toggleable__content {max-height: 200px;max-width: 100%;overflow: auto;}#sk-container-id-2 input.sk-toggleable__control:checked~label.sk-toggleable__label-arrow:before {content: \"▾\";}#sk-container-id-2 div.sk-estimator input.sk-toggleable__control:checked~label.sk-toggleable__label {background-color: #d4ebff;}#sk-container-id-2 div.sk-label input.sk-toggleable__control:checked~label.sk-toggleable__label {background-color: #d4ebff;}#sk-container-id-2 input.sk-hidden--visually {border: 0;clip: rect(1px 1px 1px 1px);clip: rect(1px, 1px, 1px, 1px);height: 1px;margin: -1px;overflow: hidden;padding: 0;position: absolute;width: 1px;}#sk-container-id-2 div.sk-estimator {font-family: monospace;background-color: #f0f8ff;border: 1px dotted black;border-radius: 0.25em;box-sizing: border-box;margin-bottom: 0.5em;}#sk-container-id-2 div.sk-estimator:hover {background-color: #d4ebff;}#sk-container-id-2 div.sk-parallel-item::after {content: \"\";width: 100%;border-bottom: 1px solid gray;flex-grow: 1;}#sk-container-id-2 div.sk-label:hover label.sk-toggleable__label {background-color: #d4ebff;}#sk-container-id-2 div.sk-serial::before {content: \"\";position: absolute;border-left: 1px solid gray;box-sizing: border-box;top: 0;bottom: 0;left: 50%;z-index: 0;}#sk-container-id-2 div.sk-serial {display: flex;flex-direction: column;align-items: center;background-color: white;padding-right: 0.2em;padding-left: 0.2em;position: relative;}#sk-container-id-2 div.sk-item {position: relative;z-index: 1;}#sk-container-id-2 div.sk-parallel {display: flex;align-items: stretch;justify-content: center;background-color: white;position: relative;}#sk-container-id-2 div.sk-item::before, #sk-container-id-2 div.sk-parallel-item::before {content: \"\";position: absolute;border-left: 1px solid gray;box-sizing: border-box;top: 0;bottom: 0;left: 50%;z-index: -1;}#sk-container-id-2 div.sk-parallel-item {display: flex;flex-direction: column;z-index: 1;position: relative;background-color: white;}#sk-container-id-2 div.sk-parallel-item:first-child::after {align-self: flex-end;width: 50%;}#sk-container-id-2 div.sk-parallel-item:last-child::after {align-self: flex-start;width: 50%;}#sk-container-id-2 div.sk-parallel-item:only-child::after {width: 0;}#sk-container-id-2 div.sk-dashed-wrapped {border: 1px dashed gray;margin: 0 0.4em 0.5em 0.4em;box-sizing: border-box;padding-bottom: 0.4em;background-color: white;}#sk-container-id-2 div.sk-label label {font-family: monospace;font-weight: bold;display: inline-block;line-height: 1.2em;}#sk-container-id-2 div.sk-label-container {text-align: center;}#sk-container-id-2 div.sk-container {/* jupyter's `normalize.less` sets `[hidden] { display: none; }` but bootstrap.min.css set `[hidden] { display: none !important; }` so we also need the `!important` here to be able to override the default hidden behavior on the sphinx rendered scikit-learn.org. See: https://github.com/scikit-learn/scikit-learn/issues/21755 */display: inline-block !important;position: relative;}#sk-container-id-2 div.sk-text-repr-fallback {display: none;}</style><div id=\"sk-container-id-2\" class=\"sk-top-container\"><div class=\"sk-text-repr-fallback\"><pre>RandomForestClassifier(max_depth=20, max_features=&#x27;auto&#x27;, min_samples_leaf=50,\n",
              "                       min_samples_split=80, n_estimators=200, n_jobs=-1,\n",
              "                       random_state=42, verbose=1)</pre><b>In a Jupyter environment, please rerun this cell to show the HTML representation or trust the notebook. <br />On GitHub, the HTML representation is unable to render, please try loading this page with nbviewer.org.</b></div><div class=\"sk-container\" hidden><div class=\"sk-item\"><div class=\"sk-estimator sk-toggleable\"><input class=\"sk-toggleable__control sk-hidden--visually\" id=\"sk-estimator-id-2\" type=\"checkbox\" checked><label for=\"sk-estimator-id-2\" class=\"sk-toggleable__label sk-toggleable__label-arrow\">RandomForestClassifier</label><div class=\"sk-toggleable__content\"><pre>RandomForestClassifier(max_depth=20, max_features=&#x27;auto&#x27;, min_samples_leaf=50,\n",
              "                       min_samples_split=80, n_estimators=200, n_jobs=-1,\n",
              "                       random_state=42, verbose=1)</pre></div></div></div></div></div>"
            ],
            "text/plain": [
              "RandomForestClassifier(max_depth=20, max_features='auto', min_samples_leaf=50,\n",
              "                       min_samples_split=80, n_estimators=200, n_jobs=-1,\n",
              "                       random_state=42, verbose=1)"
            ]
          },
          "execution_count": 14,
          "metadata": {},
          "output_type": "execute_result"
        }
      ],
      "source": [
        "from sklearn.ensemble import RandomForestClassifier\n",
        "# Fitting the RF model\n",
        "rf = RandomForestClassifier(n_estimators = 200, random_state = 42, n_jobs = -1, verbose=1,max_features='auto', max_depth=20, criterion='gini',min_samples_split=80, min_samples_leaf=50)\n",
        "rf.fit(X_train, y_train)"
      ]
    },
    {
      "cell_type": "code",
      "execution_count": 15,
      "metadata": {
        "colab": {
          "base_uri": "https://localhost:8080/"
        },
        "id": "oOhjDzgkflFz",
        "outputId": "31ed0158-a3bf-4b0e-a11d-7dbf0f588bfb"
      },
      "outputs": [
        {
          "name": "stderr",
          "output_type": "stream",
          "text": [
            "[Parallel(n_jobs=8)]: Using backend ThreadingBackend with 8 concurrent workers.\n",
            "[Parallel(n_jobs=8)]: Done  34 tasks      | elapsed:    0.1s\n",
            "[Parallel(n_jobs=8)]: Done 184 tasks      | elapsed:    0.3s\n",
            "[Parallel(n_jobs=8)]: Done 200 out of 200 | elapsed:    0.3s finished\n",
            "[Parallel(n_jobs=8)]: Using backend ThreadingBackend with 8 concurrent workers.\n",
            "[Parallel(n_jobs=8)]: Done  34 tasks      | elapsed:    0.0s\n",
            "[Parallel(n_jobs=8)]: Done 184 tasks      | elapsed:    0.1s\n",
            "[Parallel(n_jobs=8)]: Done 200 out of 200 | elapsed:    0.1s finished\n"
          ]
        }
      ],
      "source": [
        "y_pred_train = rf.predict(X_train)\n",
        "y_pred_test = rf.predict(X_val)"
      ]
    },
    {
      "cell_type": "code",
      "execution_count": 16,
      "metadata": {
        "colab": {
          "base_uri": "https://localhost:8080/"
        },
        "id": "rdNJQSS9fxAJ",
        "outputId": "73590755-c986-441a-f582-8c480c96aa12"
      },
      "outputs": [
        {
          "name": "stderr",
          "output_type": "stream",
          "text": [
            "[Parallel(n_jobs=8)]: Using backend ThreadingBackend with 8 concurrent workers.\n",
            "[Parallel(n_jobs=8)]: Done  34 tasks      | elapsed:    0.1s\n",
            "[Parallel(n_jobs=8)]: Done 184 tasks      | elapsed:    0.3s\n",
            "[Parallel(n_jobs=8)]: Done 200 out of 200 | elapsed:    0.3s finished\n",
            "[Parallel(n_jobs=8)]: Using backend ThreadingBackend with 8 concurrent workers.\n",
            "[Parallel(n_jobs=8)]: Done  34 tasks      | elapsed:    0.0s\n",
            "[Parallel(n_jobs=8)]: Done 184 tasks      | elapsed:    0.1s\n",
            "[Parallel(n_jobs=8)]: Done 200 out of 200 | elapsed:    0.1s finished\n"
          ]
        }
      ],
      "source": [
        "y_proba_train = rf.predict_proba(X_train)\n",
        "y_proba_test = rf.predict_proba(X_val)"
      ]
    },
    {
      "cell_type": "markdown",
      "metadata": {
        "id": "NxBOwhv2JTRo"
      },
      "source": [
        "Result of hyperparameter tuning"
      ]
    },
    {
      "cell_type": "code",
      "execution_count": 17,
      "metadata": {
        "colab": {
          "base_uri": "https://localhost:8080/"
        },
        "id": "0eT3I31ifw5S",
        "outputId": "0ce2ec29-12cb-4eba-d288-5354e4897746"
      },
      "outputs": [
        {
          "name": "stdout",
          "output_type": "stream",
          "text": [
            "Accuracy on train data: 0.6213409299925977\n",
            "Accuracy on test data: 0.6201389177723245\n",
            "------------------------------\n",
            "F1-score on train data: 0.61630042414292\n",
            "F1-score on test data: 0.5619255297694289\n",
            "------------------------------\n",
            "Cross-entropy on train data: 1.148121289421195\n",
            "Cross-entropy on test data: 1.1467703155835443\n",
            "------------------------------\n"
          ]
        }
      ],
      "source": [
        "\n",
        "print(f'Accuracy on train data: {accuracy_score(y_train, y_pred_train)}')\n",
        "print(f'Accuracy on test data: {accuracy_score(y_val, y_pred_test)}')\n",
        "print('---'*10)\n",
        "print(f'F1-score on train data: {f1_score(y_train, y_pred_train, average=\"macro\")}')\n",
        "print(f'F1-score on test data: {f1_score(y_val, y_pred_test, average=\"macro\")}')\n",
        "print('---'*10)\n",
        "print(f'Cross-entropy on train data: {log_loss(y_train, y_proba_train, labels=labels)}')\n",
        "print(f'Cross-entropy on test data: {log_loss(y_val, y_proba_test, labels=labels)}')\n",
        "print('---'*10)"
      ]
    },
    {
      "cell_type": "markdown",
      "metadata": {
        "id": "2ybOqCm9vZ7w"
      },
      "source": [
        "## Hyperparameter tuning via Bayesian optimization"
      ]
    },
    {
      "cell_type": "markdown",
      "metadata": {
        "id": "LrwqU-UfG3mB"
      },
      "source": [
        "1st Round "
      ]
    },
    {
      "cell_type": "code",
      "execution_count": 18,
      "metadata": {
        "colab": {
          "base_uri": "https://localhost:8080/"
        },
        "id": "42AKPNrEu4v9",
        "outputId": "d1a57f63-5c8e-4335-fad2-ed2b62ae3452"
      },
      "outputs": [
        {
          "name": "stdout",
          "output_type": "stream",
          "text": [
            "{'bootstrap': 'True', 'criterion': 'entropy', 'max_depth': 20.0, 'max_features': 'auto', 'min_samples_leaf': 50.0, 'min_samples_split': 30.0, 'n_estimators': 500.0, 'random_state': 42}\n"
          ]
        }
      ],
      "source": [
        "# hp.uniform for float number\n",
        "# hp.quniform for int that are a multiple from the last number, \n",
        "# for example 3, 15, 1 means any whole number between 3 and 15\n",
        "\n",
        "\n",
        "space={\n",
        "    'criterion': hp.choice('criterion',('gini', 'entropy')),\n",
        "    'n_estimators': hp.quniform('n_estimators', 200, 800,100),\n",
        "    'random_state': RSEED,\n",
        "    'bootstrap':hp.choice('bootstrap',('True', 'False')),\n",
        "    'max_features':hp.choice('max_features',('auto', 'sqrt')),\n",
        "    'min_samples_leaf': hp.quniform('min_samples_leaf',20, 60,10),\n",
        "    'max_depth': hp.quniform('max_depth', 10, 40,5),\n",
        "    'min_samples_split':hp.quniform('min_samples_split',20, 80,10),\n",
        "    }\n",
        "print(hyperopt.pyll.stochastic.sample(space))"
      ]
    },
    {
      "cell_type": "code",
      "execution_count": 20,
      "metadata": {
        "id": "tOLFcBGQu4nl"
      },
      "outputs": [],
      "source": [
        "def objective(space):\n",
        "    rfc = RandomForestClassifier(\n",
        "        criterion =space['criterion'],\n",
        "        n_estimators=int(space['n_estimators']),\n",
        "        random_state=space['random_state'],\n",
        "        bootstrap =space['bootstrap'],\n",
        "        max_features =space['max_features'],\n",
        "         min_samples_leaf=int(space['min_samples_leaf']),\n",
        "        max_depth=int(space['max_depth']),\n",
        "        min_samples_split=int(space['min_samples_split']) \n",
        "        )\n",
        "    \n",
        "    evaluation = [\n",
        "                  ( X_train, y_train), \n",
        "                  ( X_val, y_val)\n",
        "    ]\n",
        "                \n",
        "    rfc.fit(\n",
        "        X_train, y_train\n",
        "        )\n",
        "    \n",
        "    y_pred_val = rfc.predict(X_val)\n",
        "    f1 = f1_score(y_val, y_pred_val, average=\"macro\")\n",
        "    print (\"SCORE:\", f1)\n",
        "    return {'loss': -f1, 'status': STATUS_OK }"
      ]
    },
    {
      "cell_type": "code",
      "execution_count": 21,
      "metadata": {
        "colab": {
          "base_uri": "https://localhost:8080/"
        },
        "id": "MqKdRRweu4ir",
        "outputId": "8821f002-2bdd-4682-95de-5e0515440c1f"
      },
      "outputs": [
        {
          "name": "stdout",
          "output_type": "stream",
          "text": [
            "  0%|          | 0/30 [00:00<?, ?trial/s, best loss=?]"
          ]
        },
        {
          "name": "stderr",
          "output_type": "stream",
          "text": [
            "/Users/anithagrace/neue_fische/Radiant-Earth-Spot-Crop/.venv/lib/python3.9/site-packages/sklearn/ensemble/_forest.py:427: FutureWarning: `max_features='auto'` has been deprecated in 1.1 and will be removed in 1.3. To keep the past behaviour, explicitly set `max_features='sqrt'` or remove this parameter as it is also the default value for RandomForestClassifiers and ExtraTreesClassifiers.\n",
            "  warn(\n",
            "\n"
          ]
        },
        {
          "name": "stdout",
          "output_type": "stream",
          "text": [
            "SCORE:                                                \n",
            "0.5553103453055095                                    \n",
            "SCORE:                                                                            \n",
            "0.5713533505686709                                                                \n",
            "  7%|▋         | 2/30 [03:33<48:32, 104.03s/trial, best loss: -0.5713533505686709]"
          ]
        },
        {
          "name": "stderr",
          "output_type": "stream",
          "text": [
            "/Users/anithagrace/neue_fische/Radiant-Earth-Spot-Crop/.venv/lib/python3.9/site-packages/sklearn/ensemble/_forest.py:427: FutureWarning: `max_features='auto'` has been deprecated in 1.1 and will be removed in 1.3. To keep the past behaviour, explicitly set `max_features='sqrt'` or remove this parameter as it is also the default value for RandomForestClassifiers and ExtraTreesClassifiers.\n",
            "  warn(\n",
            "\n"
          ]
        },
        {
          "name": "stdout",
          "output_type": "stream",
          "text": [
            "SCORE:                                                                            \n",
            "0.563198140758371                                                                 \n",
            "SCORE:                                                                            \n",
            "0.5668331673060165                                                                \n",
            "SCORE:                                                                            \n",
            "0.57445767792288                                                                  \n",
            "SCORE:                                                                            \n",
            "0.5621094560713678                                                              \n",
            "SCORE:                                                                          \n",
            "0.5737030448151532                                                             \n",
            " 23%|██▎       | 7/30 [13:30<47:19, 123.47s/trial, best loss: -0.57445767792288]"
          ]
        },
        {
          "name": "stderr",
          "output_type": "stream",
          "text": [
            "/Users/anithagrace/neue_fische/Radiant-Earth-Spot-Crop/.venv/lib/python3.9/site-packages/sklearn/ensemble/_forest.py:427: FutureWarning: `max_features='auto'` has been deprecated in 1.1 and will be removed in 1.3. To keep the past behaviour, explicitly set `max_features='sqrt'` or remove this parameter as it is also the default value for RandomForestClassifiers and ExtraTreesClassifiers.\n",
            "  warn(\n",
            "\n"
          ]
        },
        {
          "name": "stdout",
          "output_type": "stream",
          "text": [
            "SCORE:                                                                          \n",
            "0.569513751716467                                                               \n",
            "SCORE:                                                                          \n",
            "0.5669430557682134                                                              \n",
            "SCORE:                                                                          \n",
            "0.5593472923856062                                                              \n",
            "SCORE:                                                                             \n",
            "0.5730628628857539                                                                 \n",
            "SCORE:                                                                             \n",
            "0.5626270554666142                                                               \n",
            "SCORE:                                                                           \n",
            "0.5591395921302016                                                               \n",
            " 43%|████▎     | 13/30 [34:45<1:00:03, 211.95s/trial, best loss: -0.57445767792288]"
          ]
        },
        {
          "name": "stderr",
          "output_type": "stream",
          "text": [
            "/Users/anithagrace/neue_fische/Radiant-Earth-Spot-Crop/.venv/lib/python3.9/site-packages/sklearn/ensemble/_forest.py:427: FutureWarning: `max_features='auto'` has been deprecated in 1.1 and will be removed in 1.3. To keep the past behaviour, explicitly set `max_features='sqrt'` or remove this parameter as it is also the default value for RandomForestClassifiers and ExtraTreesClassifiers.\n",
            "  warn(\n",
            "\n"
          ]
        },
        {
          "name": "stdout",
          "output_type": "stream",
          "text": [
            "SCORE:                                                                             \n",
            "0.5668331673060165                                                                 \n",
            "SCORE:                                                                             \n",
            "0.5615134411393771                                                               \n",
            "SCORE:                                                                           \n",
            "0.566295156663281                                                                \n",
            " 53%|█████▎    | 16/30 [39:54<31:21, 134.36s/trial, best loss: -0.57445767792288]"
          ]
        },
        {
          "name": "stderr",
          "output_type": "stream",
          "text": [
            "/Users/anithagrace/neue_fische/Radiant-Earth-Spot-Crop/.venv/lib/python3.9/site-packages/sklearn/ensemble/_forest.py:427: FutureWarning: `max_features='auto'` has been deprecated in 1.1 and will be removed in 1.3. To keep the past behaviour, explicitly set `max_features='sqrt'` or remove this parameter as it is also the default value for RandomForestClassifiers and ExtraTreesClassifiers.\n",
            "  warn(\n",
            "\n"
          ]
        },
        {
          "name": "stdout",
          "output_type": "stream",
          "text": [
            "SCORE:                                                                           \n",
            "0.5727811631309147                                                               \n",
            "SCORE:                                                                           \n",
            "0.5808212418359835                                                               \n",
            " 60%|██████    | 18/30 [45:26<31:27, 157.31s/trial, best loss: -0.5808212418359835]"
          ]
        },
        {
          "name": "stderr",
          "output_type": "stream",
          "text": [
            "/Users/anithagrace/neue_fische/Radiant-Earth-Spot-Crop/.venv/lib/python3.9/site-packages/sklearn/ensemble/_forest.py:427: FutureWarning: `max_features='auto'` has been deprecated in 1.1 and will be removed in 1.3. To keep the past behaviour, explicitly set `max_features='sqrt'` or remove this parameter as it is also the default value for RandomForestClassifiers and ExtraTreesClassifiers.\n",
            "  warn(\n",
            "\n"
          ]
        },
        {
          "name": "stdout",
          "output_type": "stream",
          "text": [
            "SCORE:                                                                             \n",
            "0.5670476952343297                                                                 \n",
            " 63%|██████▎   | 19/30 [47:19<26:25, 144.18s/trial, best loss: -0.5808212418359835]"
          ]
        },
        {
          "name": "stderr",
          "output_type": "stream",
          "text": [
            "/Users/anithagrace/neue_fische/Radiant-Earth-Spot-Crop/.venv/lib/python3.9/site-packages/sklearn/ensemble/_forest.py:427: FutureWarning: `max_features='auto'` has been deprecated in 1.1 and will be removed in 1.3. To keep the past behaviour, explicitly set `max_features='sqrt'` or remove this parameter as it is also the default value for RandomForestClassifiers and ExtraTreesClassifiers.\n",
            "  warn(\n",
            "\n"
          ]
        },
        {
          "name": "stdout",
          "output_type": "stream",
          "text": [
            "SCORE:                                                                             \n",
            "0.5623410565741644                                                                 \n",
            "SCORE:                                                                             \n",
            "0.5712838351628963                                                                 \n",
            "SCORE:                                                                             \n",
            "0.5583226932028753                                                                 \n",
            "SCORE:                                                                             \n",
            "0.5681908337170902                                                                   \n",
            "SCORE:                                                                               \n",
            "0.5809525113619523                                                                   \n",
            "SCORE:                                                                               \n",
            "0.5809525113619523                                                                   \n",
            "SCORE:                                                                               \n",
            "0.5809525113619523                                                                   \n",
            "SCORE:                                                                               \n",
            "0.5720169550896194                                                                   \n",
            "SCORE:                                                                               \n",
            "0.5806751021672332                                                                   \n",
            "SCORE:                                                                               \n",
            "0.5554445217127943                                                                   \n",
            "SCORE:                                                                               \n",
            "0.5712306567420072                                                                   \n",
            "100%|██████████| 30/30 [1:21:40<00:00, 163.36s/trial, best loss: -0.5809525113619523]\n"
          ]
        }
      ],
      "source": [
        "trials = Trials()\n",
        "\n",
        "best_hyperparams = fmin(fn = objective,\n",
        "                        space = space,\n",
        "                        algo = tpe.suggest,\n",
        "                        max_evals = 30,\n",
        "                        trials = trials)"
      ]
    },
    {
      "cell_type": "code",
      "execution_count": 22,
      "metadata": {
        "colab": {
          "base_uri": "https://localhost:8080/"
        },
        "id": "KOH1ZGbOvMvG",
        "outputId": "af4fbda9-c899-4598-c926-4dec73105aa0"
      },
      "outputs": [
        {
          "name": "stdout",
          "output_type": "stream",
          "text": [
            "The best hyperparameters are :  \n",
            "\n",
            "{'bootstrap': 0, 'criterion': 1, 'max_depth': 40.0, 'max_features': 1, 'min_samples_leaf': 20.0, 'min_samples_split': 20.0, 'n_estimators': 400.0}\n"
          ]
        }
      ],
      "source": [
        "print(\"The best hyperparameters are : \",\"\\n\")\n",
        "print(best_hyperparams)"
      ]
    },
    {
      "cell_type": "code",
      "execution_count": 35,
      "metadata": {
        "id": "jnA_LLxkvMj7"
      },
      "outputs": [],
      "source": [
        "best= RandomForestClassifier(n_estimators=400,\n",
        "                                                    min_samples_split = 20,\n",
        "                                                    min_samples_leaf = 20,\n",
        "                                                    max_features = 'sqrt',\n",
        "                                                    max_depth = 40,\n",
        "                                                    bootstrap = 'True',\n",
        "                                                    criterion = 'entropy'\n",
        "                                                    )"
      ]
    },
    {
      "cell_type": "code",
      "execution_count": 36,
      "metadata": {
        "colab": {
          "base_uri": "https://localhost:8080/"
        },
        "id": "ybaCbls09kCx",
        "outputId": "bbc4f5cc-45cc-4998-c4f3-9d00508b3bd0"
      },
      "outputs": [
        {
          "data": {
            "text/html": [
              "<style>#sk-container-id-5 {color: black;background-color: white;}#sk-container-id-5 pre{padding: 0;}#sk-container-id-5 div.sk-toggleable {background-color: white;}#sk-container-id-5 label.sk-toggleable__label {cursor: pointer;display: block;width: 100%;margin-bottom: 0;padding: 0.3em;box-sizing: border-box;text-align: center;}#sk-container-id-5 label.sk-toggleable__label-arrow:before {content: \"▸\";float: left;margin-right: 0.25em;color: #696969;}#sk-container-id-5 label.sk-toggleable__label-arrow:hover:before {color: black;}#sk-container-id-5 div.sk-estimator:hover label.sk-toggleable__label-arrow:before {color: black;}#sk-container-id-5 div.sk-toggleable__content {max-height: 0;max-width: 0;overflow: hidden;text-align: left;background-color: #f0f8ff;}#sk-container-id-5 div.sk-toggleable__content pre {margin: 0.2em;color: black;border-radius: 0.25em;background-color: #f0f8ff;}#sk-container-id-5 input.sk-toggleable__control:checked~div.sk-toggleable__content {max-height: 200px;max-width: 100%;overflow: auto;}#sk-container-id-5 input.sk-toggleable__control:checked~label.sk-toggleable__label-arrow:before {content: \"▾\";}#sk-container-id-5 div.sk-estimator input.sk-toggleable__control:checked~label.sk-toggleable__label {background-color: #d4ebff;}#sk-container-id-5 div.sk-label input.sk-toggleable__control:checked~label.sk-toggleable__label {background-color: #d4ebff;}#sk-container-id-5 input.sk-hidden--visually {border: 0;clip: rect(1px 1px 1px 1px);clip: rect(1px, 1px, 1px, 1px);height: 1px;margin: -1px;overflow: hidden;padding: 0;position: absolute;width: 1px;}#sk-container-id-5 div.sk-estimator {font-family: monospace;background-color: #f0f8ff;border: 1px dotted black;border-radius: 0.25em;box-sizing: border-box;margin-bottom: 0.5em;}#sk-container-id-5 div.sk-estimator:hover {background-color: #d4ebff;}#sk-container-id-5 div.sk-parallel-item::after {content: \"\";width: 100%;border-bottom: 1px solid gray;flex-grow: 1;}#sk-container-id-5 div.sk-label:hover label.sk-toggleable__label {background-color: #d4ebff;}#sk-container-id-5 div.sk-serial::before {content: \"\";position: absolute;border-left: 1px solid gray;box-sizing: border-box;top: 0;bottom: 0;left: 50%;z-index: 0;}#sk-container-id-5 div.sk-serial {display: flex;flex-direction: column;align-items: center;background-color: white;padding-right: 0.2em;padding-left: 0.2em;position: relative;}#sk-container-id-5 div.sk-item {position: relative;z-index: 1;}#sk-container-id-5 div.sk-parallel {display: flex;align-items: stretch;justify-content: center;background-color: white;position: relative;}#sk-container-id-5 div.sk-item::before, #sk-container-id-5 div.sk-parallel-item::before {content: \"\";position: absolute;border-left: 1px solid gray;box-sizing: border-box;top: 0;bottom: 0;left: 50%;z-index: -1;}#sk-container-id-5 div.sk-parallel-item {display: flex;flex-direction: column;z-index: 1;position: relative;background-color: white;}#sk-container-id-5 div.sk-parallel-item:first-child::after {align-self: flex-end;width: 50%;}#sk-container-id-5 div.sk-parallel-item:last-child::after {align-self: flex-start;width: 50%;}#sk-container-id-5 div.sk-parallel-item:only-child::after {width: 0;}#sk-container-id-5 div.sk-dashed-wrapped {border: 1px dashed gray;margin: 0 0.4em 0.5em 0.4em;box-sizing: border-box;padding-bottom: 0.4em;background-color: white;}#sk-container-id-5 div.sk-label label {font-family: monospace;font-weight: bold;display: inline-block;line-height: 1.2em;}#sk-container-id-5 div.sk-label-container {text-align: center;}#sk-container-id-5 div.sk-container {/* jupyter's `normalize.less` sets `[hidden] { display: none; }` but bootstrap.min.css set `[hidden] { display: none !important; }` so we also need the `!important` here to be able to override the default hidden behavior on the sphinx rendered scikit-learn.org. See: https://github.com/scikit-learn/scikit-learn/issues/21755 */display: inline-block !important;position: relative;}#sk-container-id-5 div.sk-text-repr-fallback {display: none;}</style><div id=\"sk-container-id-5\" class=\"sk-top-container\"><div class=\"sk-text-repr-fallback\"><pre>RandomForestClassifier(bootstrap=&#x27;True&#x27;, criterion=&#x27;entropy&#x27;, max_depth=40,\n",
              "                       min_samples_leaf=20, min_samples_split=20,\n",
              "                       n_estimators=400)</pre><b>In a Jupyter environment, please rerun this cell to show the HTML representation or trust the notebook. <br />On GitHub, the HTML representation is unable to render, please try loading this page with nbviewer.org.</b></div><div class=\"sk-container\" hidden><div class=\"sk-item\"><div class=\"sk-estimator sk-toggleable\"><input class=\"sk-toggleable__control sk-hidden--visually\" id=\"sk-estimator-id-5\" type=\"checkbox\" checked><label for=\"sk-estimator-id-5\" class=\"sk-toggleable__label sk-toggleable__label-arrow\">RandomForestClassifier</label><div class=\"sk-toggleable__content\"><pre>RandomForestClassifier(bootstrap=&#x27;True&#x27;, criterion=&#x27;entropy&#x27;, max_depth=40,\n",
              "                       min_samples_leaf=20, min_samples_split=20,\n",
              "                       n_estimators=400)</pre></div></div></div></div></div>"
            ],
            "text/plain": [
              "RandomForestClassifier(bootstrap='True', criterion='entropy', max_depth=40,\n",
              "                       min_samples_leaf=20, min_samples_split=20,\n",
              "                       n_estimators=400)"
            ]
          },
          "execution_count": 36,
          "metadata": {},
          "output_type": "execute_result"
        }
      ],
      "source": [
        "best.fit(X_train, y_train)"
      ]
    },
    {
      "cell_type": "code",
      "execution_count": 37,
      "metadata": {
        "id": "fSHg6BoY93vv"
      },
      "outputs": [],
      "source": [
        "y_predu_train = best.predict(X_train)\n",
        "y_predu_test = best.predict(X_val)\n",
        "y_probab_train = best.predict_proba(X_train)\n",
        "y_probab_test = best.predict_proba(X_val)"
      ]
    },
    {
      "cell_type": "code",
      "execution_count": 38,
      "metadata": {
        "colab": {
          "base_uri": "https://localhost:8080/"
        },
        "id": "0GcJ-DaAVZFA",
        "outputId": "92e8c11c-9926-4173-9d51-dcab38532f94"
      },
      "outputs": [
        {
          "name": "stdout",
          "output_type": "stream",
          "text": [
            "Accuracy on train data: 0.704470514344676\n",
            "Accuracy on test data: 0.636942145322963\n",
            "------------------------------\n",
            "F1-score on train data: 0.7010242617038853\n",
            "F1-score on test data: 0.5803360463772063\n",
            "------------------------------\n",
            "Cross-entropy on train data: 0.9645050796747167\n",
            "Cross-entropy on test data: 1.08426036343387\n",
            "------------------------------\n"
          ]
        }
      ],
      "source": [
        "\n",
        "print(f'Accuracy on train data: {accuracy_score(y_train, y_predu_train)}')\n",
        "print(f'Accuracy on test data: {accuracy_score(y_val, y_predu_test)}')\n",
        "print('---'*10)\n",
        "print(f'F1-score on train data: {f1_score(y_train, y_predu_train, average=\"macro\")}')\n",
        "print(f'F1-score on test data: {f1_score(y_val, y_predu_test, average=\"macro\")}')\n",
        "print('---'*10)\n",
        "print(f'Cross-entropy on train data: {log_loss(y_train, y_probab_train, labels=labels)}')\n",
        "print(f'Cross-entropy on test data: {log_loss(y_val, y_probab_test, labels=labels)}')\n",
        "print('---'*10)"
      ]
    },
    {
      "cell_type": "markdown",
      "metadata": {
        "id": "PioGwpPZV06H"
      },
      "source": [
        "2nd Round"
      ]
    },
    {
      "cell_type": "code",
      "execution_count": 27,
      "metadata": {
        "colab": {
          "base_uri": "https://localhost:8080/"
        },
        "id": "iN2U6NFMjOEf",
        "outputId": "33c7bc71-e451-4551-bcbd-c6b561ed27be"
      },
      "outputs": [
        {
          "name": "stdout",
          "output_type": "stream",
          "text": [
            "{'bootstrap': 'True', 'criterion': 'entropy', 'max_depth': 88.0, 'max_features': 'sqrt', 'min_samples_leaf': 4.0, 'min_samples_split': 10.0, 'n_estimators': 2000.0, 'random_state': 42}\n"
          ]
        }
      ],
      "source": [
        "\n",
        "space={\n",
        "    'criterion': hp.choice('criterion',('gini', 'entropy')),\n",
        "    'n_estimators': hp.quniform('n_estimators', 200,2000,200),\n",
        "    'random_state': RSEED,\n",
        "    'bootstrap':hp.choice('bootstrap',('True', 'False')),\n",
        "    'max_features':hp.choice('max_features',('auto', 'sqrt')),\n",
        "    'min_samples_leaf': hp.quniform('min_samples_leaf',4,6,2),\n",
        "    'max_depth': hp.quniform('max_depth', 10, 110,11),\n",
        "    'min_samples_split':hp.quniform('min_samples_split',10,25,5),\n",
        "    }\n",
        "print(hyperopt.pyll.stochastic.sample(space))"
      ]
    },
    {
      "cell_type": "code",
      "execution_count": 28,
      "metadata": {
        "id": "NIouum7QjNk2"
      },
      "outputs": [],
      "source": [
        "def objective(space):\n",
        "    rfc = RandomForestClassifier(\n",
        "        criterion =space['criterion'],\n",
        "        n_estimators=int(space['n_estimators']),\n",
        "        random_state=space['random_state'],\n",
        "        bootstrap =space['bootstrap'],\n",
        "        max_features =space['max_features'],\n",
        "         min_samples_leaf=int(space['min_samples_leaf']),\n",
        "        max_depth=int(space['max_depth']),\n",
        "        min_samples_split=int(space['min_samples_split']) \n",
        "        )\n",
        "    \n",
        "    evaluation = [\n",
        "                  ( X_train, y_train), \n",
        "                  ( X_val, y_val)\n",
        "    ]\n",
        "                \n",
        "    rfc.fit(\n",
        "        X_train, y_train\n",
        "        )\n",
        "    \n",
        "    y_pred_val = rfc.predict(X_val)\n",
        "    f1 = f1_score(y_val, y_pred_val, average=\"macro\")\n",
        "    print (\"SCORE:\", f1)\n",
        "    return {'loss': -f1, 'status': STATUS_OK }"
      ]
    },
    {
      "cell_type": "code",
      "execution_count": 29,
      "metadata": {
        "colab": {
          "base_uri": "https://localhost:8080/"
        },
        "id": "pFjKfDGAjNTO",
        "outputId": "4f0b517d-184d-47c4-a3cd-bc7e847a2248"
      },
      "outputs": [
        {
          "name": "stdout",
          "output_type": "stream",
          "text": [
            "  0%|          | 0/30 [00:00<?, ?trial/s, best loss=?]"
          ]
        },
        {
          "name": "stderr",
          "output_type": "stream",
          "text": [
            "/Users/anithagrace/neue_fische/Radiant-Earth-Spot-Crop/.venv/lib/python3.9/site-packages/sklearn/ensemble/_forest.py:427: FutureWarning: `max_features='auto'` has been deprecated in 1.1 and will be removed in 1.3. To keep the past behaviour, explicitly set `max_features='sqrt'` or remove this parameter as it is also the default value for RandomForestClassifiers and ExtraTreesClassifiers.\n",
            "  warn(\n",
            "\n"
          ]
        },
        {
          "name": "stdout",
          "output_type": "stream",
          "text": [
            "SCORE:                                                \n",
            "0.6158523635357199                                    \n",
            "  3%|▎         | 1/30 [07:25<3:35:13, 445.31s/trial, best loss: -0.6158523635357199]"
          ]
        },
        {
          "name": "stderr",
          "output_type": "stream",
          "text": [
            "/Users/anithagrace/neue_fische/Radiant-Earth-Spot-Crop/.venv/lib/python3.9/site-packages/sklearn/ensemble/_forest.py:427: FutureWarning: `max_features='auto'` has been deprecated in 1.1 and will be removed in 1.3. To keep the past behaviour, explicitly set `max_features='sqrt'` or remove this parameter as it is also the default value for RandomForestClassifiers and ExtraTreesClassifiers.\n",
            "  warn(\n",
            "\n"
          ]
        },
        {
          "name": "stdout",
          "output_type": "stream",
          "text": [
            "SCORE:                                                                              \n",
            "0.612142859874383                                                                   \n",
            "  7%|▋         | 2/30 [19:42<4:47:58, 617.08s/trial, best loss: -0.6158523635357199]"
          ]
        },
        {
          "name": "stderr",
          "output_type": "stream",
          "text": [
            "/Users/anithagrace/neue_fische/Radiant-Earth-Spot-Crop/.venv/lib/python3.9/site-packages/sklearn/ensemble/_forest.py:427: FutureWarning: `max_features='auto'` has been deprecated in 1.1 and will be removed in 1.3. To keep the past behaviour, explicitly set `max_features='sqrt'` or remove this parameter as it is also the default value for RandomForestClassifiers and ExtraTreesClassifiers.\n",
            "  warn(\n",
            "\n"
          ]
        },
        {
          "name": "stdout",
          "output_type": "stream",
          "text": [
            "SCORE:                                                                              \n",
            "0.600383269669796                                                                   \n",
            "SCORE:                                                                              \n",
            "0.6011989010416241                                                                  \n",
            "SCORE:                                                                              \n",
            "0.6091333476043646                                                                  \n",
            " 17%|█▋        | 5/30 [55:10<4:27:32, 642.11s/trial, best loss: -0.6158523635357199]"
          ]
        },
        {
          "name": "stderr",
          "output_type": "stream",
          "text": [
            "/Users/anithagrace/neue_fische/Radiant-Earth-Spot-Crop/.venv/lib/python3.9/site-packages/sklearn/ensemble/_forest.py:427: FutureWarning: `max_features='auto'` has been deprecated in 1.1 and will be removed in 1.3. To keep the past behaviour, explicitly set `max_features='sqrt'` or remove this parameter as it is also the default value for RandomForestClassifiers and ExtraTreesClassifiers.\n",
            "  warn(\n",
            "\n"
          ]
        },
        {
          "name": "stdout",
          "output_type": "stream",
          "text": [
            "SCORE:                                                                              \n",
            "0.6176497613913643                                                                    \n",
            " 20%|██        | 6/30 [1:06:20<4:20:38, 651.61s/trial, best loss: -0.6176497613913643]"
          ]
        },
        {
          "name": "stderr",
          "output_type": "stream",
          "text": [
            "/Users/anithagrace/neue_fische/Radiant-Earth-Spot-Crop/.venv/lib/python3.9/site-packages/sklearn/ensemble/_forest.py:427: FutureWarning: `max_features='auto'` has been deprecated in 1.1 and will be removed in 1.3. To keep the past behaviour, explicitly set `max_features='sqrt'` or remove this parameter as it is also the default value for RandomForestClassifiers and ExtraTreesClassifiers.\n",
            "  warn(\n",
            "\n"
          ]
        },
        {
          "name": "stdout",
          "output_type": "stream",
          "text": [
            "SCORE:                                                                                \n",
            "0.6039213849710765                                                                    \n",
            "SCORE:                                                                                \n",
            "0.610653856842545                                                                     \n",
            " 27%|██▋       | 8/30 [1:25:08<3:56:25, 644.81s/trial, best loss: -0.6176497613913643]"
          ]
        },
        {
          "name": "stderr",
          "output_type": "stream",
          "text": [
            "/Users/anithagrace/neue_fische/Radiant-Earth-Spot-Crop/.venv/lib/python3.9/site-packages/sklearn/ensemble/_forest.py:427: FutureWarning: `max_features='auto'` has been deprecated in 1.1 and will be removed in 1.3. To keep the past behaviour, explicitly set `max_features='sqrt'` or remove this parameter as it is also the default value for RandomForestClassifiers and ExtraTreesClassifiers.\n",
            "  warn(\n",
            "\n"
          ]
        },
        {
          "name": "stdout",
          "output_type": "stream",
          "text": [
            "SCORE:                                                                                \n",
            "0.6104494534821303                                                                    \n",
            " 30%|███       | 9/30 [1:32:11<3:21:24, 575.45s/trial, best loss: -0.6176497613913643]"
          ]
        },
        {
          "name": "stderr",
          "output_type": "stream",
          "text": [
            "/Users/anithagrace/neue_fische/Radiant-Earth-Spot-Crop/.venv/lib/python3.9/site-packages/sklearn/ensemble/_forest.py:427: FutureWarning: `max_features='auto'` has been deprecated in 1.1 and will be removed in 1.3. To keep the past behaviour, explicitly set `max_features='sqrt'` or remove this parameter as it is also the default value for RandomForestClassifiers and ExtraTreesClassifiers.\n",
            "  warn(\n",
            "\n"
          ]
        },
        {
          "name": "stdout",
          "output_type": "stream",
          "text": [
            "SCORE:                                                                                \n",
            "0.610738811591218                                                                     \n",
            " 33%|███▎      | 10/30 [1:45:02<3:31:54, 635.71s/trial, best loss: -0.6176497613913643]"
          ]
        },
        {
          "name": "stderr",
          "output_type": "stream",
          "text": [
            "/Users/anithagrace/neue_fische/Radiant-Earth-Spot-Crop/.venv/lib/python3.9/site-packages/sklearn/ensemble/_forest.py:427: FutureWarning: `max_features='auto'` has been deprecated in 1.1 and will be removed in 1.3. To keep the past behaviour, explicitly set `max_features='sqrt'` or remove this parameter as it is also the default value for RandomForestClassifiers and ExtraTreesClassifiers.\n",
            "  warn(\n",
            "\n"
          ]
        },
        {
          "name": "stdout",
          "output_type": "stream",
          "text": [
            "SCORE:                                                                                 \n",
            "0.5999619362778452                                                                     \n",
            "SCORE:                                                                                 \n",
            "0.6170985740009979                                                                     \n",
            "SCORE:                                                                                 \n",
            "0.6045637333607969                                                                     \n",
            " 43%|████▎     | 13/30 [2:01:31<2:07:55, 451.50s/trial, best loss: -0.6176497613913643]"
          ]
        },
        {
          "name": "stderr",
          "output_type": "stream",
          "text": [
            "/Users/anithagrace/neue_fische/Radiant-Earth-Spot-Crop/.venv/lib/python3.9/site-packages/sklearn/ensemble/_forest.py:427: FutureWarning: `max_features='auto'` has been deprecated in 1.1 and will be removed in 1.3. To keep the past behaviour, explicitly set `max_features='sqrt'` or remove this parameter as it is also the default value for RandomForestClassifiers and ExtraTreesClassifiers.\n",
            "  warn(\n",
            "\n"
          ]
        },
        {
          "name": "stdout",
          "output_type": "stream",
          "text": [
            "SCORE:                                                                                 \n",
            "0.6017665496718846                                                                     \n",
            "SCORE:                                                                                 \n",
            "0.6034319648730052                                                                     \n",
            "SCORE:                                                                                 \n",
            "0.6072596855278072                                                                     \n",
            "SCORE:                                                                                 \n",
            "0.6125768088723732                                                                     \n",
            "SCORE:                                                                                 \n",
            "0.6089712212117988                                                                   \n",
            " 60%|██████    | 18/30 [2:20:09<51:27, 257.33s/trial, best loss: -0.6176497613913643]"
          ]
        },
        {
          "name": "stderr",
          "output_type": "stream",
          "text": [
            "/Users/anithagrace/neue_fische/Radiant-Earth-Spot-Crop/.venv/lib/python3.9/site-packages/sklearn/ensemble/_forest.py:427: FutureWarning: `max_features='auto'` has been deprecated in 1.1 and will be removed in 1.3. To keep the past behaviour, explicitly set `max_features='sqrt'` or remove this parameter as it is also the default value for RandomForestClassifiers and ExtraTreesClassifiers.\n",
            "  warn(\n",
            "\n"
          ]
        },
        {
          "name": "stdout",
          "output_type": "stream",
          "text": [
            "SCORE:                                                                               \n",
            "0.5796899415573852                                                                   \n",
            "SCORE:                                                                                 \n",
            "0.6001816606600661                                                                     \n",
            "SCORE:                                                                                 \n",
            "0.6170985740009979                                                                   \n",
            " 70%|███████   | 21/30 [2:42:51<58:26, 389.65s/trial, best loss: -0.6176497613913643]"
          ]
        },
        {
          "name": "stderr",
          "output_type": "stream",
          "text": [
            "/Users/anithagrace/neue_fische/Radiant-Earth-Spot-Crop/.venv/lib/python3.9/site-packages/sklearn/ensemble/_forest.py:427: FutureWarning: `max_features='auto'` has been deprecated in 1.1 and will be removed in 1.3. To keep the past behaviour, explicitly set `max_features='sqrt'` or remove this parameter as it is also the default value for RandomForestClassifiers and ExtraTreesClassifiers.\n",
            "  warn(\n",
            "\n"
          ]
        },
        {
          "name": "stdout",
          "output_type": "stream",
          "text": [
            "SCORE:                                                                               \n",
            "0.6171210725306586                                                                   \n",
            " 73%|███████▎  | 22/30 [2:58:24<1:13:41, 552.63s/trial, best loss: -0.6176497613913643]"
          ]
        },
        {
          "name": "stderr",
          "output_type": "stream",
          "text": [
            "/Users/anithagrace/neue_fische/Radiant-Earth-Spot-Crop/.venv/lib/python3.9/site-packages/sklearn/ensemble/_forest.py:427: FutureWarning: `max_features='auto'` has been deprecated in 1.1 and will be removed in 1.3. To keep the past behaviour, explicitly set `max_features='sqrt'` or remove this parameter as it is also the default value for RandomForestClassifiers and ExtraTreesClassifiers.\n",
            "  warn(\n",
            "\n"
          ]
        },
        {
          "name": "stdout",
          "output_type": "stream",
          "text": [
            "SCORE:                                                                                 \n",
            "0.5831216329954934                                                                     \n",
            " 77%|███████▋  | 23/30 [3:11:21<1:12:21, 620.14s/trial, best loss: -0.6176497613913643]"
          ]
        },
        {
          "name": "stderr",
          "output_type": "stream",
          "text": [
            "/Users/anithagrace/neue_fische/Radiant-Earth-Spot-Crop/.venv/lib/python3.9/site-packages/sklearn/ensemble/_forest.py:427: FutureWarning: `max_features='auto'` has been deprecated in 1.1 and will be removed in 1.3. To keep the past behaviour, explicitly set `max_features='sqrt'` or remove this parameter as it is also the default value for RandomForestClassifiers and ExtraTreesClassifiers.\n",
            "  warn(\n",
            "\n"
          ]
        },
        {
          "name": "stdout",
          "output_type": "stream",
          "text": [
            "SCORE:                                                                                 \n",
            "0.6171210725306586                                                                     \n",
            " 80%|████████  | 24/30 [3:26:39<1:10:55, 709.33s/trial, best loss: -0.6176497613913643]"
          ]
        },
        {
          "name": "stderr",
          "output_type": "stream",
          "text": [
            "/Users/anithagrace/neue_fische/Radiant-Earth-Spot-Crop/.venv/lib/python3.9/site-packages/sklearn/ensemble/_forest.py:427: FutureWarning: `max_features='auto'` has been deprecated in 1.1 and will be removed in 1.3. To keep the past behaviour, explicitly set `max_features='sqrt'` or remove this parameter as it is also the default value for RandomForestClassifiers and ExtraTreesClassifiers.\n",
            "  warn(\n",
            "\n"
          ]
        },
        {
          "name": "stdout",
          "output_type": "stream",
          "text": [
            "SCORE:                                                                                 \n",
            "0.6172431794135198                                                                     \n",
            " 83%|████████▎ | 25/30 [3:39:52<1:01:12, 734.45s/trial, best loss: -0.6176497613913643]"
          ]
        },
        {
          "name": "stderr",
          "output_type": "stream",
          "text": [
            "/Users/anithagrace/neue_fische/Radiant-Earth-Spot-Crop/.venv/lib/python3.9/site-packages/sklearn/ensemble/_forest.py:427: FutureWarning: `max_features='auto'` has been deprecated in 1.1 and will be removed in 1.3. To keep the past behaviour, explicitly set `max_features='sqrt'` or remove this parameter as it is also the default value for RandomForestClassifiers and ExtraTreesClassifiers.\n",
            "  warn(\n",
            "\n"
          ]
        },
        {
          "name": "stdout",
          "output_type": "stream",
          "text": [
            "SCORE:                                                                                 \n",
            "0.6184291547927909                                                                     \n",
            " 87%|████████▋ | 26/30 [3:53:05<50:08, 752.15s/trial, best loss: -0.6184291547927909]  "
          ]
        },
        {
          "name": "stderr",
          "output_type": "stream",
          "text": [
            "/Users/anithagrace/neue_fische/Radiant-Earth-Spot-Crop/.venv/lib/python3.9/site-packages/sklearn/ensemble/_forest.py:427: FutureWarning: `max_features='auto'` has been deprecated in 1.1 and will be removed in 1.3. To keep the past behaviour, explicitly set `max_features='sqrt'` or remove this parameter as it is also the default value for RandomForestClassifiers and ExtraTreesClassifiers.\n",
            "  warn(\n",
            "\n"
          ]
        },
        {
          "name": "stdout",
          "output_type": "stream",
          "text": [
            "SCORE:                                                                               \n",
            "0.6093319117097288                                                                   \n",
            " 90%|█████████ | 27/30 [4:00:27<32:56, 658.96s/trial, best loss: -0.6184291547927909]"
          ]
        },
        {
          "name": "stderr",
          "output_type": "stream",
          "text": [
            "/Users/anithagrace/neue_fische/Radiant-Earth-Spot-Crop/.venv/lib/python3.9/site-packages/sklearn/ensemble/_forest.py:427: FutureWarning: `max_features='auto'` has been deprecated in 1.1 and will be removed in 1.3. To keep the past behaviour, explicitly set `max_features='sqrt'` or remove this parameter as it is also the default value for RandomForestClassifiers and ExtraTreesClassifiers.\n",
            "  warn(\n",
            "\n"
          ]
        },
        {
          "name": "stdout",
          "output_type": "stream",
          "text": [
            "SCORE:                                                                               \n",
            "0.6172431794135198                                                                   \n",
            " 93%|█████████▎| 28/30 [4:13:30<23:12, 696.18s/trial, best loss: -0.6184291547927909]"
          ]
        },
        {
          "name": "stderr",
          "output_type": "stream",
          "text": [
            "/Users/anithagrace/neue_fische/Radiant-Earth-Spot-Crop/.venv/lib/python3.9/site-packages/sklearn/ensemble/_forest.py:427: FutureWarning: `max_features='auto'` has been deprecated in 1.1 and will be removed in 1.3. To keep the past behaviour, explicitly set `max_features='sqrt'` or remove this parameter as it is also the default value for RandomForestClassifiers and ExtraTreesClassifiers.\n",
            "  warn(\n",
            "\n"
          ]
        },
        {
          "name": "stdout",
          "output_type": "stream",
          "text": [
            "SCORE:                                                                               \n",
            "0.5839565392128282                                                                   \n",
            " 97%|█████████▋| 29/30 [4:22:58<10:57, 657.75s/trial, best loss: -0.6184291547927909]"
          ]
        },
        {
          "name": "stderr",
          "output_type": "stream",
          "text": [
            "/Users/anithagrace/neue_fische/Radiant-Earth-Spot-Crop/.venv/lib/python3.9/site-packages/sklearn/ensemble/_forest.py:427: FutureWarning: `max_features='auto'` has been deprecated in 1.1 and will be removed in 1.3. To keep the past behaviour, explicitly set `max_features='sqrt'` or remove this parameter as it is also the default value for RandomForestClassifiers and ExtraTreesClassifiers.\n",
            "  warn(\n",
            "\n"
          ]
        },
        {
          "name": "stdout",
          "output_type": "stream",
          "text": [
            "SCORE:                                                                               \n",
            "0.618760221467813                                                                    \n",
            "100%|██████████| 30/30 [4:39:43<00:00, 559.44s/trial, best loss: -0.618760221467813] \n"
          ]
        }
      ],
      "source": [
        "trials = Trials()\n",
        "\n",
        "best_hyperparams = fmin(fn = objective,\n",
        "                        space = space,\n",
        "                        algo = tpe.suggest,\n",
        "                        max_evals = 30,\n",
        "                        trials = trials)"
      ]
    },
    {
      "cell_type": "code",
      "execution_count": 30,
      "metadata": {
        "colab": {
          "base_uri": "https://localhost:8080/"
        },
        "id": "RKbNdxVUjNIn",
        "outputId": "8a46b222-26f8-4be5-bb04-a82c06bcbea6"
      },
      "outputs": [
        {
          "name": "stdout",
          "output_type": "stream",
          "text": [
            "The best hyperparameters are :  \n",
            "\n",
            "{'bootstrap': 1, 'criterion': 1, 'max_depth': 22.0, 'max_features': 0, 'min_samples_leaf': 4.0, 'min_samples_split': 10.0, 'n_estimators': 1800.0}\n"
          ]
        }
      ],
      "source": [
        "print(\"The best hyperparameters are : \",\"\\n\")\n",
        "print(best_hyperparams)"
      ]
    },
    {
      "cell_type": "code",
      "execution_count": 31,
      "metadata": {
        "id": "MsXT-ji9jM7o"
      },
      "outputs": [],
      "source": [
        "best= RandomForestClassifier(n_estimators=1800,\n",
        "                                                    min_samples_split = 10,\n",
        "                                                    min_samples_leaf = 4,\n",
        "                                                    max_features = 'auto',\n",
        "                                                    max_depth = 22,\n",
        "                                                    bootstrap = 'False',\n",
        "                                                    criterion = 'entropy')"
      ]
    },
    {
      "cell_type": "code",
      "execution_count": 32,
      "metadata": {
        "colab": {
          "base_uri": "https://localhost:8080/"
        },
        "id": "ewPCZFk9VzPV",
        "outputId": "ba893cc9-c30f-4d7e-ac81-00f2b844c956"
      },
      "outputs": [
        {
          "name": "stderr",
          "output_type": "stream",
          "text": [
            "/Users/anithagrace/neue_fische/Radiant-Earth-Spot-Crop/.venv/lib/python3.9/site-packages/sklearn/ensemble/_forest.py:427: FutureWarning: `max_features='auto'` has been deprecated in 1.1 and will be removed in 1.3. To keep the past behaviour, explicitly set `max_features='sqrt'` or remove this parameter as it is also the default value for RandomForestClassifiers and ExtraTreesClassifiers.\n",
            "  warn(\n"
          ]
        },
        {
          "data": {
            "text/html": [
              "<style>#sk-container-id-4 {color: black;background-color: white;}#sk-container-id-4 pre{padding: 0;}#sk-container-id-4 div.sk-toggleable {background-color: white;}#sk-container-id-4 label.sk-toggleable__label {cursor: pointer;display: block;width: 100%;margin-bottom: 0;padding: 0.3em;box-sizing: border-box;text-align: center;}#sk-container-id-4 label.sk-toggleable__label-arrow:before {content: \"▸\";float: left;margin-right: 0.25em;color: #696969;}#sk-container-id-4 label.sk-toggleable__label-arrow:hover:before {color: black;}#sk-container-id-4 div.sk-estimator:hover label.sk-toggleable__label-arrow:before {color: black;}#sk-container-id-4 div.sk-toggleable__content {max-height: 0;max-width: 0;overflow: hidden;text-align: left;background-color: #f0f8ff;}#sk-container-id-4 div.sk-toggleable__content pre {margin: 0.2em;color: black;border-radius: 0.25em;background-color: #f0f8ff;}#sk-container-id-4 input.sk-toggleable__control:checked~div.sk-toggleable__content {max-height: 200px;max-width: 100%;overflow: auto;}#sk-container-id-4 input.sk-toggleable__control:checked~label.sk-toggleable__label-arrow:before {content: \"▾\";}#sk-container-id-4 div.sk-estimator input.sk-toggleable__control:checked~label.sk-toggleable__label {background-color: #d4ebff;}#sk-container-id-4 div.sk-label input.sk-toggleable__control:checked~label.sk-toggleable__label {background-color: #d4ebff;}#sk-container-id-4 input.sk-hidden--visually {border: 0;clip: rect(1px 1px 1px 1px);clip: rect(1px, 1px, 1px, 1px);height: 1px;margin: -1px;overflow: hidden;padding: 0;position: absolute;width: 1px;}#sk-container-id-4 div.sk-estimator {font-family: monospace;background-color: #f0f8ff;border: 1px dotted black;border-radius: 0.25em;box-sizing: border-box;margin-bottom: 0.5em;}#sk-container-id-4 div.sk-estimator:hover {background-color: #d4ebff;}#sk-container-id-4 div.sk-parallel-item::after {content: \"\";width: 100%;border-bottom: 1px solid gray;flex-grow: 1;}#sk-container-id-4 div.sk-label:hover label.sk-toggleable__label {background-color: #d4ebff;}#sk-container-id-4 div.sk-serial::before {content: \"\";position: absolute;border-left: 1px solid gray;box-sizing: border-box;top: 0;bottom: 0;left: 50%;z-index: 0;}#sk-container-id-4 div.sk-serial {display: flex;flex-direction: column;align-items: center;background-color: white;padding-right: 0.2em;padding-left: 0.2em;position: relative;}#sk-container-id-4 div.sk-item {position: relative;z-index: 1;}#sk-container-id-4 div.sk-parallel {display: flex;align-items: stretch;justify-content: center;background-color: white;position: relative;}#sk-container-id-4 div.sk-item::before, #sk-container-id-4 div.sk-parallel-item::before {content: \"\";position: absolute;border-left: 1px solid gray;box-sizing: border-box;top: 0;bottom: 0;left: 50%;z-index: -1;}#sk-container-id-4 div.sk-parallel-item {display: flex;flex-direction: column;z-index: 1;position: relative;background-color: white;}#sk-container-id-4 div.sk-parallel-item:first-child::after {align-self: flex-end;width: 50%;}#sk-container-id-4 div.sk-parallel-item:last-child::after {align-self: flex-start;width: 50%;}#sk-container-id-4 div.sk-parallel-item:only-child::after {width: 0;}#sk-container-id-4 div.sk-dashed-wrapped {border: 1px dashed gray;margin: 0 0.4em 0.5em 0.4em;box-sizing: border-box;padding-bottom: 0.4em;background-color: white;}#sk-container-id-4 div.sk-label label {font-family: monospace;font-weight: bold;display: inline-block;line-height: 1.2em;}#sk-container-id-4 div.sk-label-container {text-align: center;}#sk-container-id-4 div.sk-container {/* jupyter's `normalize.less` sets `[hidden] { display: none; }` but bootstrap.min.css set `[hidden] { display: none !important; }` so we also need the `!important` here to be able to override the default hidden behavior on the sphinx rendered scikit-learn.org. See: https://github.com/scikit-learn/scikit-learn/issues/21755 */display: inline-block !important;position: relative;}#sk-container-id-4 div.sk-text-repr-fallback {display: none;}</style><div id=\"sk-container-id-4\" class=\"sk-top-container\"><div class=\"sk-text-repr-fallback\"><pre>RandomForestClassifier(bootstrap=&#x27;False&#x27;, criterion=&#x27;entropy&#x27;, max_depth=22,\n",
              "                       max_features=&#x27;auto&#x27;, min_samples_leaf=4,\n",
              "                       min_samples_split=10, n_estimators=1800)</pre><b>In a Jupyter environment, please rerun this cell to show the HTML representation or trust the notebook. <br />On GitHub, the HTML representation is unable to render, please try loading this page with nbviewer.org.</b></div><div class=\"sk-container\" hidden><div class=\"sk-item\"><div class=\"sk-estimator sk-toggleable\"><input class=\"sk-toggleable__control sk-hidden--visually\" id=\"sk-estimator-id-4\" type=\"checkbox\" checked><label for=\"sk-estimator-id-4\" class=\"sk-toggleable__label sk-toggleable__label-arrow\">RandomForestClassifier</label><div class=\"sk-toggleable__content\"><pre>RandomForestClassifier(bootstrap=&#x27;False&#x27;, criterion=&#x27;entropy&#x27;, max_depth=22,\n",
              "                       max_features=&#x27;auto&#x27;, min_samples_leaf=4,\n",
              "                       min_samples_split=10, n_estimators=1800)</pre></div></div></div></div></div>"
            ],
            "text/plain": [
              "RandomForestClassifier(bootstrap='False', criterion='entropy', max_depth=22,\n",
              "                       max_features='auto', min_samples_leaf=4,\n",
              "                       min_samples_split=10, n_estimators=1800)"
            ]
          },
          "execution_count": 32,
          "metadata": {},
          "output_type": "execute_result"
        }
      ],
      "source": [
        "best.fit(X_train, y_train)"
      ]
    },
    {
      "cell_type": "code",
      "execution_count": 40,
      "metadata": {
        "id": "HnEGR78sj9h4"
      },
      "outputs": [],
      "source": [
        "y_predu_train = best.predict(X_train)\n",
        "y_predu_test = best.predict(X_val)\n",
        "y_probab_train = best.predict_proba(X_train)\n",
        "y_probab_test = best.predict_proba(X_val)"
      ]
    },
    {
      "cell_type": "code",
      "execution_count": 41,
      "metadata": {
        "colab": {
          "base_uri": "https://localhost:8080/"
        },
        "id": "c469euaMj9IG",
        "outputId": "46e94423-906d-4563-ace0-5aeac5262617"
      },
      "outputs": [
        {
          "name": "stdout",
          "output_type": "stream",
          "text": [
            "Accuracy on train data: 0.704470514344676\n",
            "Accuracy on test data: 0.636942145322963\n",
            "------------------------------\n",
            "F1-score on train data: 0.7010242617038853\n",
            "F1-score on test data: 0.5803360463772063\n",
            "------------------------------\n",
            "Cross-entropy on train data: 0.9645050796747167\n",
            "Cross-entropy on test data: 1.08426036343387\n",
            "------------------------------\n"
          ]
        }
      ],
      "source": [
        "\n",
        "print(f'Accuracy on train data: {accuracy_score(y_train, y_predu_train)}')\n",
        "print(f'Accuracy on test data: {accuracy_score(y_val, y_predu_test)}')\n",
        "print('---'*10)\n",
        "print(f'F1-score on train data: {f1_score(y_train, y_predu_train, average=\"macro\")}')\n",
        "print(f'F1-score on test data: {f1_score(y_val, y_predu_test, average=\"macro\")}')\n",
        "print('---'*10)\n",
        "print(f'Cross-entropy on train data: {log_loss(y_train, y_probab_train, labels=labels)}')\n",
        "print(f'Cross-entropy on test data: {log_loss(y_val, y_probab_test, labels=labels)}')\n",
        "print('---'*10)"
      ]
    },
    {
      "cell_type": "markdown",
      "metadata": {
        "id": "4J9x3hLI-kLc"
      },
      "source": [
        "## Random Hyperparameter Grid\n",
        "To use RandomizedSearchCV, we first need to create a parameter grid to sample from during fitting:\n"
      ]
    },
    {
      "cell_type": "code",
      "execution_count": 42,
      "metadata": {
        "colab": {
          "base_uri": "https://localhost:8080/"
        },
        "id": "LNENnqP-jytc",
        "outputId": "ab980530-4ee0-43e9-8829-7fa9465eb9bd"
      },
      "outputs": [
        {
          "name": "stdout",
          "output_type": "stream",
          "text": [
            "{'bootstrap': [True, False],\n",
            " 'max_depth': [10, 20, 30, 40, 50, 60, 70, 80, 90, 100, 110, None],\n",
            " 'max_features': ['auto', 'sqrt'],\n",
            " 'min_samples_leaf': [1, 2, 4],\n",
            " 'min_samples_split': [2, 5, 10],\n",
            " 'n_estimators': [10, 42, 74, 106, 138, 171, 203, 235, 267, 300]}\n"
          ]
        },
        {
          "data": {
            "text/plain": [
              "{'bootstrap': [True, False],\n",
              " 'max_depth': [10, 20, 30, 40, 50, 60, 70, 80, 90, 100, None],\n",
              " 'max_features': ['auto', 'sqrt'],\n",
              " 'min_samples_leaf': [1, 2, 4],\n",
              " 'min_samples_split': [2, 5, 10],\n",
              " 'n_estimators': [200, 400, 600, 800, 1000, 1200, 1400, 1600, 1800, 2000]}"
            ]
          },
          "execution_count": 42,
          "metadata": {},
          "output_type": "execute_result"
        }
      ],
      "source": [
        "from sklearn.model_selection import RandomizedSearchCV\n",
        "from pprint import pprint\n",
        "# Number of trees in random forest\n",
        "n_estimators = [int(x) for x in np.linspace(start = 10, stop = 300, num = 10)]\n",
        "# Number of features to consider at every split\n",
        "max_features = ['auto', 'sqrt']\n",
        "# Maximum number of levels in tree\n",
        "max_depth = [int(x) for x in np.linspace(10, 110, num = 11)]\n",
        "max_depth.append(None)\n",
        "# Minimum number of samples required to split a node\n",
        "min_samples_split = [2, 5, 10]\n",
        "# Minimum number of samples required at each leaf node\n",
        "min_samples_leaf = [1, 2, 4]\n",
        "# Method of selecting samples for training each tree\n",
        "bootstrap = [True, False]\n",
        "# Create the random grid\n",
        "random_grid = {'n_estimators': n_estimators,\n",
        "               'max_features': max_features,\n",
        "               'max_depth': max_depth,\n",
        "               'min_samples_split': min_samples_split,\n",
        "               'min_samples_leaf': min_samples_leaf,\n",
        "               'bootstrap': bootstrap}\n",
        "pprint(random_grid)\n",
        "{'bootstrap': [True, False],\n",
        " 'max_depth': [10, 20, 30, 40, 50, 60, 70, 80, 90, 100, None],\n",
        " 'max_features': ['auto', 'sqrt'],\n",
        " 'min_samples_leaf': [1, 2, 4],\n",
        " 'min_samples_split': [2, 5, 10],\n",
        " 'n_estimators': [200, 400, 600, 800, 1000, 1200, 1400, 1600, 1800, 2000]}"
      ]
    },
    {
      "cell_type": "markdown",
      "metadata": {
        "id": "QuEylmKtQVzQ"
      },
      "source": [
        "Now, we instantiate the random search and fit it"
      ]
    },
    {
      "cell_type": "code",
      "execution_count": 43,
      "metadata": {
        "colab": {
          "base_uri": "https://localhost:8080/"
        },
        "id": "MjzX2Hf8jytd",
        "outputId": "ce6667f6-56e1-41d6-8a0e-80e860d4b9f7"
      },
      "outputs": [
        {
          "name": "stdout",
          "output_type": "stream",
          "text": [
            "Fitting 3 folds for each of 10 candidates, totalling 30 fits\n"
          ]
        },
        {
          "name": "stderr",
          "output_type": "stream",
          "text": [
            "/Users/anithagrace/neue_fische/Radiant-Earth-Spot-Crop/.venv/lib/python3.9/site-packages/sklearn/ensemble/_forest.py:427: FutureWarning: `max_features='auto'` has been deprecated in 1.1 and will be removed in 1.3. To keep the past behaviour, explicitly set `max_features='sqrt'` or remove this parameter as it is also the default value for RandomForestClassifiers and ExtraTreesClassifiers.\n",
            "  warn(\n",
            "[Parallel(n_jobs=-1)]: Using backend LokyBackend with 8 concurrent workers.\n",
            "[Parallel(n_jobs=-1)]: Done  34 tasks      | elapsed:    5.1s\n",
            "[Parallel(n_jobs=-1)]: Done 171 out of 171 | elapsed:   16.0s finished\n",
            "[Parallel(n_jobs=8)]: Using backend ThreadingBackend with 8 concurrent workers.\n",
            "[Parallel(n_jobs=8)]: Done  34 tasks      | elapsed:    0.0s\n",
            "[Parallel(n_jobs=8)]: Done 171 out of 171 | elapsed:    0.1s finished\n",
            "/Users/anithagrace/neue_fische/Radiant-Earth-Spot-Crop/.venv/lib/python3.9/site-packages/sklearn/ensemble/_forest.py:427: FutureWarning: `max_features='auto'` has been deprecated in 1.1 and will be removed in 1.3. To keep the past behaviour, explicitly set `max_features='sqrt'` or remove this parameter as it is also the default value for RandomForestClassifiers and ExtraTreesClassifiers.\n",
            "  warn(\n",
            "[Parallel(n_jobs=-1)]: Using backend LokyBackend with 8 concurrent workers.\n"
          ]
        },
        {
          "name": "stdout",
          "output_type": "stream",
          "text": [
            "[CV] END bootstrap=True, max_depth=40, max_features=auto, min_samples_leaf=2, min_samples_split=2, n_estimators=171; total time=  16.3s\n"
          ]
        },
        {
          "name": "stderr",
          "output_type": "stream",
          "text": [
            "[Parallel(n_jobs=-1)]: Done  34 tasks      | elapsed:    3.4s\n",
            "[Parallel(n_jobs=-1)]: Done 171 out of 171 | elapsed:   14.9s finished\n",
            "[Parallel(n_jobs=8)]: Using backend ThreadingBackend with 8 concurrent workers.\n",
            "[Parallel(n_jobs=8)]: Done  34 tasks      | elapsed:    0.0s\n",
            "[Parallel(n_jobs=8)]: Done 171 out of 171 | elapsed:    0.1s finished\n",
            "/Users/anithagrace/neue_fische/Radiant-Earth-Spot-Crop/.venv/lib/python3.9/site-packages/sklearn/ensemble/_forest.py:427: FutureWarning: `max_features='auto'` has been deprecated in 1.1 and will be removed in 1.3. To keep the past behaviour, explicitly set `max_features='sqrt'` or remove this parameter as it is also the default value for RandomForestClassifiers and ExtraTreesClassifiers.\n",
            "  warn(\n",
            "[Parallel(n_jobs=-1)]: Using backend LokyBackend with 8 concurrent workers.\n"
          ]
        },
        {
          "name": "stdout",
          "output_type": "stream",
          "text": [
            "[CV] END bootstrap=True, max_depth=40, max_features=auto, min_samples_leaf=2, min_samples_split=2, n_estimators=171; total time=  15.2s\n"
          ]
        },
        {
          "name": "stderr",
          "output_type": "stream",
          "text": [
            "[Parallel(n_jobs=-1)]: Done  34 tasks      | elapsed:    3.8s\n",
            "[Parallel(n_jobs=-1)]: Done 171 out of 171 | elapsed:   16.4s finished\n",
            "[Parallel(n_jobs=8)]: Using backend ThreadingBackend with 8 concurrent workers.\n",
            "[Parallel(n_jobs=8)]: Done  34 tasks      | elapsed:    0.0s\n",
            "[Parallel(n_jobs=8)]: Done 171 out of 171 | elapsed:    0.1s finished\n",
            "/Users/anithagrace/neue_fische/Radiant-Earth-Spot-Crop/.venv/lib/python3.9/site-packages/sklearn/ensemble/_forest.py:427: FutureWarning: `max_features='auto'` has been deprecated in 1.1 and will be removed in 1.3. To keep the past behaviour, explicitly set `max_features='sqrt'` or remove this parameter as it is also the default value for RandomForestClassifiers and ExtraTreesClassifiers.\n",
            "  warn(\n",
            "[Parallel(n_jobs=-1)]: Using backend LokyBackend with 8 concurrent workers.\n"
          ]
        },
        {
          "name": "stdout",
          "output_type": "stream",
          "text": [
            "[CV] END bootstrap=True, max_depth=40, max_features=auto, min_samples_leaf=2, min_samples_split=2, n_estimators=171; total time=  16.7s\n"
          ]
        },
        {
          "name": "stderr",
          "output_type": "stream",
          "text": [
            "[Parallel(n_jobs=-1)]: Done  34 tasks      | elapsed:    3.6s\n",
            "[Parallel(n_jobs=-1)]: Done 184 tasks      | elapsed:   19.1s\n",
            "[Parallel(n_jobs=-1)]: Done 235 out of 235 | elapsed:   24.1s finished\n",
            "[Parallel(n_jobs=8)]: Using backend ThreadingBackend with 8 concurrent workers.\n",
            "[Parallel(n_jobs=8)]: Done  34 tasks      | elapsed:    0.0s\n",
            "[Parallel(n_jobs=8)]: Done 184 tasks      | elapsed:    0.1s\n",
            "[Parallel(n_jobs=8)]: Done 235 out of 235 | elapsed:    0.2s finished\n",
            "/Users/anithagrace/neue_fische/Radiant-Earth-Spot-Crop/.venv/lib/python3.9/site-packages/sklearn/ensemble/_forest.py:427: FutureWarning: `max_features='auto'` has been deprecated in 1.1 and will be removed in 1.3. To keep the past behaviour, explicitly set `max_features='sqrt'` or remove this parameter as it is also the default value for RandomForestClassifiers and ExtraTreesClassifiers.\n",
            "  warn(\n",
            "[Parallel(n_jobs=-1)]: Using backend LokyBackend with 8 concurrent workers.\n"
          ]
        },
        {
          "name": "stdout",
          "output_type": "stream",
          "text": [
            "[CV] END bootstrap=True, max_depth=80, max_features=auto, min_samples_leaf=2, min_samples_split=5, n_estimators=235; total time=  24.5s\n"
          ]
        },
        {
          "name": "stderr",
          "output_type": "stream",
          "text": [
            "[Parallel(n_jobs=-1)]: Done  34 tasks      | elapsed:    4.1s\n",
            "[Parallel(n_jobs=-1)]: Done 184 tasks      | elapsed:   18.9s\n",
            "[Parallel(n_jobs=-1)]: Done 235 out of 235 | elapsed:   24.8s finished\n",
            "[Parallel(n_jobs=8)]: Using backend ThreadingBackend with 8 concurrent workers.\n",
            "[Parallel(n_jobs=8)]: Done  34 tasks      | elapsed:    0.0s\n",
            "[Parallel(n_jobs=8)]: Done 184 tasks      | elapsed:    0.1s\n",
            "[Parallel(n_jobs=8)]: Done 235 out of 235 | elapsed:    0.2s finished\n",
            "/Users/anithagrace/neue_fische/Radiant-Earth-Spot-Crop/.venv/lib/python3.9/site-packages/sklearn/ensemble/_forest.py:427: FutureWarning: `max_features='auto'` has been deprecated in 1.1 and will be removed in 1.3. To keep the past behaviour, explicitly set `max_features='sqrt'` or remove this parameter as it is also the default value for RandomForestClassifiers and ExtraTreesClassifiers.\n",
            "  warn(\n",
            "[Parallel(n_jobs=-1)]: Using backend LokyBackend with 8 concurrent workers.\n"
          ]
        },
        {
          "name": "stdout",
          "output_type": "stream",
          "text": [
            "[CV] END bootstrap=True, max_depth=80, max_features=auto, min_samples_leaf=2, min_samples_split=5, n_estimators=235; total time=  25.2s\n"
          ]
        },
        {
          "name": "stderr",
          "output_type": "stream",
          "text": [
            "[Parallel(n_jobs=-1)]: Done  34 tasks      | elapsed:    4.6s\n",
            "[Parallel(n_jobs=-1)]: Done 184 tasks      | elapsed:   21.4s\n",
            "[Parallel(n_jobs=-1)]: Done 235 out of 235 | elapsed:   26.8s finished\n",
            "[Parallel(n_jobs=8)]: Using backend ThreadingBackend with 8 concurrent workers.\n",
            "[Parallel(n_jobs=8)]: Done  34 tasks      | elapsed:    0.0s\n",
            "[Parallel(n_jobs=8)]: Done 184 tasks      | elapsed:    0.1s\n",
            "[Parallel(n_jobs=8)]: Done 235 out of 235 | elapsed:    0.2s finished\n",
            "[Parallel(n_jobs=-1)]: Using backend LokyBackend with 8 concurrent workers.\n"
          ]
        },
        {
          "name": "stdout",
          "output_type": "stream",
          "text": [
            "[CV] END bootstrap=True, max_depth=80, max_features=auto, min_samples_leaf=2, min_samples_split=5, n_estimators=235; total time=  27.2s\n"
          ]
        },
        {
          "name": "stderr",
          "output_type": "stream",
          "text": [
            "[Parallel(n_jobs=-1)]: Done  34 tasks      | elapsed:    7.2s\n",
            "[Parallel(n_jobs=-1)]: Done  74 out of  74 | elapsed:   13.6s finished\n",
            "[Parallel(n_jobs=8)]: Using backend ThreadingBackend with 8 concurrent workers.\n",
            "[Parallel(n_jobs=8)]: Done  34 tasks      | elapsed:    0.0s\n",
            "[Parallel(n_jobs=8)]: Done  74 out of  74 | elapsed:    0.1s finished\n"
          ]
        },
        {
          "name": "stdout",
          "output_type": "stream",
          "text": [
            "[CV] END bootstrap=False, max_depth=60, max_features=sqrt, min_samples_leaf=2, min_samples_split=5, n_estimators=74; total time=  13.8s\n"
          ]
        },
        {
          "name": "stderr",
          "output_type": "stream",
          "text": [
            "[Parallel(n_jobs=-1)]: Using backend LokyBackend with 8 concurrent workers.\n",
            "[Parallel(n_jobs=-1)]: Done  34 tasks      | elapsed:    6.9s\n",
            "[Parallel(n_jobs=-1)]: Done  74 out of  74 | elapsed:   13.4s finished\n",
            "[Parallel(n_jobs=8)]: Using backend ThreadingBackend with 8 concurrent workers.\n",
            "[Parallel(n_jobs=8)]: Done  34 tasks      | elapsed:    0.0s\n",
            "[Parallel(n_jobs=8)]: Done  74 out of  74 | elapsed:    0.0s finished\n"
          ]
        },
        {
          "name": "stdout",
          "output_type": "stream",
          "text": [
            "[CV] END bootstrap=False, max_depth=60, max_features=sqrt, min_samples_leaf=2, min_samples_split=5, n_estimators=74; total time=  13.6s\n"
          ]
        },
        {
          "name": "stderr",
          "output_type": "stream",
          "text": [
            "[Parallel(n_jobs=-1)]: Using backend LokyBackend with 8 concurrent workers.\n",
            "[Parallel(n_jobs=-1)]: Done  34 tasks      | elapsed:    7.2s\n",
            "[Parallel(n_jobs=-1)]: Done  74 out of  74 | elapsed:   13.9s finished\n",
            "[Parallel(n_jobs=8)]: Using backend ThreadingBackend with 8 concurrent workers.\n",
            "[Parallel(n_jobs=8)]: Done  34 tasks      | elapsed:    0.0s\n",
            "[Parallel(n_jobs=8)]: Done  74 out of  74 | elapsed:    0.1s finished\n"
          ]
        },
        {
          "name": "stdout",
          "output_type": "stream",
          "text": [
            "[CV] END bootstrap=False, max_depth=60, max_features=sqrt, min_samples_leaf=2, min_samples_split=5, n_estimators=74; total time=  14.1s\n"
          ]
        },
        {
          "name": "stderr",
          "output_type": "stream",
          "text": [
            "[Parallel(n_jobs=-1)]: Using backend LokyBackend with 8 concurrent workers.\n",
            "[Parallel(n_jobs=-1)]: Done  34 tasks      | elapsed:    7.0s\n",
            "[Parallel(n_jobs=-1)]: Done 184 tasks      | elapsed:   32.8s\n",
            "[Parallel(n_jobs=-1)]: Done 267 out of 267 | elapsed:   47.3s finished\n",
            "[Parallel(n_jobs=8)]: Using backend ThreadingBackend with 8 concurrent workers.\n",
            "[Parallel(n_jobs=8)]: Done  34 tasks      | elapsed:    0.0s\n",
            "[Parallel(n_jobs=8)]: Done 184 tasks      | elapsed:    0.1s\n",
            "[Parallel(n_jobs=8)]: Done 267 out of 267 | elapsed:    0.2s finished\n",
            "[Parallel(n_jobs=-1)]: Using backend LokyBackend with 8 concurrent workers.\n"
          ]
        },
        {
          "name": "stdout",
          "output_type": "stream",
          "text": [
            "[CV] END bootstrap=False, max_depth=60, max_features=sqrt, min_samples_leaf=1, min_samples_split=10, n_estimators=267; total time=  47.7s\n"
          ]
        },
        {
          "name": "stderr",
          "output_type": "stream",
          "text": [
            "[Parallel(n_jobs=-1)]: Done  34 tasks      | elapsed:    6.8s\n",
            "[Parallel(n_jobs=-1)]: Done 184 tasks      | elapsed:   34.5s\n",
            "[Parallel(n_jobs=-1)]: Done 267 out of 267 | elapsed:   49.1s finished\n",
            "[Parallel(n_jobs=8)]: Using backend ThreadingBackend with 8 concurrent workers.\n",
            "[Parallel(n_jobs=8)]: Done  34 tasks      | elapsed:    0.0s\n",
            "[Parallel(n_jobs=8)]: Done 184 tasks      | elapsed:    0.1s\n",
            "[Parallel(n_jobs=8)]: Done 267 out of 267 | elapsed:    0.2s finished\n",
            "[Parallel(n_jobs=-1)]: Using backend LokyBackend with 8 concurrent workers.\n"
          ]
        },
        {
          "name": "stdout",
          "output_type": "stream",
          "text": [
            "[CV] END bootstrap=False, max_depth=60, max_features=sqrt, min_samples_leaf=1, min_samples_split=10, n_estimators=267; total time=  49.5s\n"
          ]
        },
        {
          "name": "stderr",
          "output_type": "stream",
          "text": [
            "[Parallel(n_jobs=-1)]: Done  34 tasks      | elapsed:    7.3s\n",
            "[Parallel(n_jobs=-1)]: Done 184 tasks      | elapsed:   34.4s\n",
            "[Parallel(n_jobs=-1)]: Done 267 out of 267 | elapsed:   49.7s finished\n",
            "[Parallel(n_jobs=8)]: Using backend ThreadingBackend with 8 concurrent workers.\n",
            "[Parallel(n_jobs=8)]: Done  34 tasks      | elapsed:    0.0s\n",
            "[Parallel(n_jobs=8)]: Done 184 tasks      | elapsed:    0.1s\n",
            "[Parallel(n_jobs=8)]: Done 267 out of 267 | elapsed:    0.2s finished\n",
            "/Users/anithagrace/neue_fische/Radiant-Earth-Spot-Crop/.venv/lib/python3.9/site-packages/sklearn/ensemble/_forest.py:427: FutureWarning: `max_features='auto'` has been deprecated in 1.1 and will be removed in 1.3. To keep the past behaviour, explicitly set `max_features='sqrt'` or remove this parameter as it is also the default value for RandomForestClassifiers and ExtraTreesClassifiers.\n",
            "  warn(\n",
            "[Parallel(n_jobs=-1)]: Using backend LokyBackend with 8 concurrent workers.\n"
          ]
        },
        {
          "name": "stdout",
          "output_type": "stream",
          "text": [
            "[CV] END bootstrap=False, max_depth=60, max_features=sqrt, min_samples_leaf=1, min_samples_split=10, n_estimators=267; total time=  50.1s\n"
          ]
        },
        {
          "name": "stderr",
          "output_type": "stream",
          "text": [
            "[Parallel(n_jobs=-1)]: Done  34 tasks      | elapsed:    7.3s\n",
            "[Parallel(n_jobs=-1)]: Done 138 out of 138 | elapsed:   25.5s finished\n",
            "[Parallel(n_jobs=8)]: Using backend ThreadingBackend with 8 concurrent workers.\n",
            "[Parallel(n_jobs=8)]: Done  34 tasks      | elapsed:    0.0s\n",
            "[Parallel(n_jobs=8)]: Done 138 out of 138 | elapsed:    0.1s finished\n",
            "/Users/anithagrace/neue_fische/Radiant-Earth-Spot-Crop/.venv/lib/python3.9/site-packages/sklearn/ensemble/_forest.py:427: FutureWarning: `max_features='auto'` has been deprecated in 1.1 and will be removed in 1.3. To keep the past behaviour, explicitly set `max_features='sqrt'` or remove this parameter as it is also the default value for RandomForestClassifiers and ExtraTreesClassifiers.\n",
            "  warn(\n",
            "[Parallel(n_jobs=-1)]: Using backend LokyBackend with 8 concurrent workers.\n"
          ]
        },
        {
          "name": "stdout",
          "output_type": "stream",
          "text": [
            "[CV] END bootstrap=False, max_depth=40, max_features=auto, min_samples_leaf=2, min_samples_split=2, n_estimators=138; total time=  25.8s\n"
          ]
        },
        {
          "name": "stderr",
          "output_type": "stream",
          "text": [
            "[Parallel(n_jobs=-1)]: Done  34 tasks      | elapsed:    7.0s\n",
            "[Parallel(n_jobs=-1)]: Done 138 out of 138 | elapsed:   25.3s finished\n",
            "[Parallel(n_jobs=8)]: Using backend ThreadingBackend with 8 concurrent workers.\n",
            "[Parallel(n_jobs=8)]: Done  34 tasks      | elapsed:    0.0s\n",
            "[Parallel(n_jobs=8)]: Done 138 out of 138 | elapsed:    0.1s finished\n",
            "/Users/anithagrace/neue_fische/Radiant-Earth-Spot-Crop/.venv/lib/python3.9/site-packages/sklearn/ensemble/_forest.py:427: FutureWarning: `max_features='auto'` has been deprecated in 1.1 and will be removed in 1.3. To keep the past behaviour, explicitly set `max_features='sqrt'` or remove this parameter as it is also the default value for RandomForestClassifiers and ExtraTreesClassifiers.\n",
            "  warn(\n",
            "[Parallel(n_jobs=-1)]: Using backend LokyBackend with 8 concurrent workers.\n"
          ]
        },
        {
          "name": "stdout",
          "output_type": "stream",
          "text": [
            "[CV] END bootstrap=False, max_depth=40, max_features=auto, min_samples_leaf=2, min_samples_split=2, n_estimators=138; total time=  25.6s\n"
          ]
        },
        {
          "name": "stderr",
          "output_type": "stream",
          "text": [
            "[Parallel(n_jobs=-1)]: Done  34 tasks      | elapsed:    7.4s\n",
            "[Parallel(n_jobs=-1)]: Done 138 out of 138 | elapsed:   26.3s finished\n",
            "[Parallel(n_jobs=8)]: Using backend ThreadingBackend with 8 concurrent workers.\n",
            "[Parallel(n_jobs=8)]: Done  34 tasks      | elapsed:    0.0s\n",
            "[Parallel(n_jobs=8)]: Done 138 out of 138 | elapsed:    0.1s finished\n",
            "/Users/anithagrace/neue_fische/Radiant-Earth-Spot-Crop/.venv/lib/python3.9/site-packages/sklearn/ensemble/_forest.py:427: FutureWarning: `max_features='auto'` has been deprecated in 1.1 and will be removed in 1.3. To keep the past behaviour, explicitly set `max_features='sqrt'` or remove this parameter as it is also the default value for RandomForestClassifiers and ExtraTreesClassifiers.\n",
            "  warn(\n",
            "[Parallel(n_jobs=-1)]: Using backend LokyBackend with 8 concurrent workers.\n"
          ]
        },
        {
          "name": "stdout",
          "output_type": "stream",
          "text": [
            "[CV] END bootstrap=False, max_depth=40, max_features=auto, min_samples_leaf=2, min_samples_split=2, n_estimators=138; total time=  26.5s\n"
          ]
        },
        {
          "name": "stderr",
          "output_type": "stream",
          "text": [
            "[Parallel(n_jobs=-1)]: Done  34 tasks      | elapsed:    5.6s\n",
            "[Parallel(n_jobs=-1)]: Done  74 out of  74 | elapsed:   10.8s finished\n",
            "[Parallel(n_jobs=8)]: Using backend ThreadingBackend with 8 concurrent workers.\n",
            "[Parallel(n_jobs=8)]: Done  34 tasks      | elapsed:    0.0s\n",
            "[Parallel(n_jobs=8)]: Done  74 out of  74 | elapsed:    0.0s finished\n",
            "/Users/anithagrace/neue_fische/Radiant-Earth-Spot-Crop/.venv/lib/python3.9/site-packages/sklearn/ensemble/_forest.py:427: FutureWarning: `max_features='auto'` has been deprecated in 1.1 and will be removed in 1.3. To keep the past behaviour, explicitly set `max_features='sqrt'` or remove this parameter as it is also the default value for RandomForestClassifiers and ExtraTreesClassifiers.\n",
            "  warn(\n",
            "[Parallel(n_jobs=-1)]: Using backend LokyBackend with 8 concurrent workers.\n"
          ]
        },
        {
          "name": "stdout",
          "output_type": "stream",
          "text": [
            "[CV] END bootstrap=False, max_depth=10, max_features=auto, min_samples_leaf=2, min_samples_split=10, n_estimators=74; total time=  11.0s\n"
          ]
        },
        {
          "name": "stderr",
          "output_type": "stream",
          "text": [
            "[Parallel(n_jobs=-1)]: Done  34 tasks      | elapsed:    5.6s\n",
            "[Parallel(n_jobs=-1)]: Done  74 out of  74 | elapsed:   10.8s finished\n",
            "[Parallel(n_jobs=8)]: Using backend ThreadingBackend with 8 concurrent workers.\n",
            "[Parallel(n_jobs=8)]: Done  34 tasks      | elapsed:    0.0s\n",
            "[Parallel(n_jobs=8)]: Done  74 out of  74 | elapsed:    0.0s finished\n",
            "/Users/anithagrace/neue_fische/Radiant-Earth-Spot-Crop/.venv/lib/python3.9/site-packages/sklearn/ensemble/_forest.py:427: FutureWarning: `max_features='auto'` has been deprecated in 1.1 and will be removed in 1.3. To keep the past behaviour, explicitly set `max_features='sqrt'` or remove this parameter as it is also the default value for RandomForestClassifiers and ExtraTreesClassifiers.\n",
            "  warn(\n",
            "[Parallel(n_jobs=-1)]: Using backend LokyBackend with 8 concurrent workers.\n"
          ]
        },
        {
          "name": "stdout",
          "output_type": "stream",
          "text": [
            "[CV] END bootstrap=False, max_depth=10, max_features=auto, min_samples_leaf=2, min_samples_split=10, n_estimators=74; total time=  11.0s\n"
          ]
        },
        {
          "name": "stderr",
          "output_type": "stream",
          "text": [
            "[Parallel(n_jobs=-1)]: Done  34 tasks      | elapsed:    5.6s\n",
            "[Parallel(n_jobs=-1)]: Done  74 out of  74 | elapsed:   10.9s finished\n",
            "[Parallel(n_jobs=8)]: Using backend ThreadingBackend with 8 concurrent workers.\n",
            "[Parallel(n_jobs=8)]: Done  34 tasks      | elapsed:    0.0s\n",
            "[Parallel(n_jobs=8)]: Done  74 out of  74 | elapsed:    0.0s finished\n",
            "/Users/anithagrace/neue_fische/Radiant-Earth-Spot-Crop/.venv/lib/python3.9/site-packages/sklearn/ensemble/_forest.py:427: FutureWarning: `max_features='auto'` has been deprecated in 1.1 and will be removed in 1.3. To keep the past behaviour, explicitly set `max_features='sqrt'` or remove this parameter as it is also the default value for RandomForestClassifiers and ExtraTreesClassifiers.\n",
            "  warn(\n",
            "[Parallel(n_jobs=-1)]: Using backend LokyBackend with 8 concurrent workers.\n"
          ]
        },
        {
          "name": "stdout",
          "output_type": "stream",
          "text": [
            "[CV] END bootstrap=False, max_depth=10, max_features=auto, min_samples_leaf=2, min_samples_split=10, n_estimators=74; total time=  11.1s\n"
          ]
        },
        {
          "name": "stderr",
          "output_type": "stream",
          "text": [
            "[Parallel(n_jobs=-1)]: Done  34 tasks      | elapsed:    7.0s\n",
            "[Parallel(n_jobs=-1)]: Done  74 out of  74 | elapsed:   13.8s finished\n",
            "[Parallel(n_jobs=8)]: Using backend ThreadingBackend with 8 concurrent workers.\n",
            "[Parallel(n_jobs=8)]: Done  34 tasks      | elapsed:    0.0s\n",
            "[Parallel(n_jobs=8)]: Done  74 out of  74 | elapsed:    0.0s finished\n"
          ]
        },
        {
          "name": "stdout",
          "output_type": "stream",
          "text": [
            "[CV] END bootstrap=False, max_depth=20, max_features=auto, min_samples_leaf=1, min_samples_split=5, n_estimators=74; total time=  14.0s\n"
          ]
        },
        {
          "name": "stderr",
          "output_type": "stream",
          "text": [
            "/Users/anithagrace/neue_fische/Radiant-Earth-Spot-Crop/.venv/lib/python3.9/site-packages/sklearn/ensemble/_forest.py:427: FutureWarning: `max_features='auto'` has been deprecated in 1.1 and will be removed in 1.3. To keep the past behaviour, explicitly set `max_features='sqrt'` or remove this parameter as it is also the default value for RandomForestClassifiers and ExtraTreesClassifiers.\n",
            "  warn(\n",
            "[Parallel(n_jobs=-1)]: Using backend LokyBackend with 8 concurrent workers.\n",
            "[Parallel(n_jobs=-1)]: Done  34 tasks      | elapsed:    7.0s\n",
            "[Parallel(n_jobs=-1)]: Done  74 out of  74 | elapsed:   13.8s finished\n",
            "[Parallel(n_jobs=8)]: Using backend ThreadingBackend with 8 concurrent workers.\n",
            "[Parallel(n_jobs=8)]: Done  34 tasks      | elapsed:    0.0s\n",
            "[Parallel(n_jobs=8)]: Done  74 out of  74 | elapsed:    0.0s finished\n",
            "/Users/anithagrace/neue_fische/Radiant-Earth-Spot-Crop/.venv/lib/python3.9/site-packages/sklearn/ensemble/_forest.py:427: FutureWarning: `max_features='auto'` has been deprecated in 1.1 and will be removed in 1.3. To keep the past behaviour, explicitly set `max_features='sqrt'` or remove this parameter as it is also the default value for RandomForestClassifiers and ExtraTreesClassifiers.\n",
            "  warn(\n"
          ]
        },
        {
          "name": "stdout",
          "output_type": "stream",
          "text": [
            "[CV] END bootstrap=False, max_depth=20, max_features=auto, min_samples_leaf=1, min_samples_split=5, n_estimators=74; total time=  14.0s\n"
          ]
        },
        {
          "name": "stderr",
          "output_type": "stream",
          "text": [
            "[Parallel(n_jobs=-1)]: Using backend LokyBackend with 8 concurrent workers.\n",
            "[Parallel(n_jobs=-1)]: Done  34 tasks      | elapsed:    7.6s\n",
            "[Parallel(n_jobs=-1)]: Done  74 out of  74 | elapsed:   14.7s finished\n",
            "[Parallel(n_jobs=8)]: Using backend ThreadingBackend with 8 concurrent workers.\n",
            "[Parallel(n_jobs=8)]: Done  34 tasks      | elapsed:    0.0s\n",
            "[Parallel(n_jobs=8)]: Done  74 out of  74 | elapsed:    0.1s finished\n"
          ]
        },
        {
          "name": "stdout",
          "output_type": "stream",
          "text": [
            "[CV] END bootstrap=False, max_depth=20, max_features=auto, min_samples_leaf=1, min_samples_split=5, n_estimators=74; total time=  14.9s\n"
          ]
        },
        {
          "name": "stderr",
          "output_type": "stream",
          "text": [
            "[Parallel(n_jobs=-1)]: Using backend LokyBackend with 8 concurrent workers.\n",
            "[Parallel(n_jobs=-1)]: Done  34 tasks      | elapsed:    6.9s\n",
            "[Parallel(n_jobs=-1)]: Done 184 tasks      | elapsed:   33.3s\n",
            "[Parallel(n_jobs=-1)]: Done 267 out of 267 | elapsed:   48.2s finished\n",
            "[Parallel(n_jobs=8)]: Using backend ThreadingBackend with 8 concurrent workers.\n",
            "[Parallel(n_jobs=8)]: Done  34 tasks      | elapsed:    0.0s\n",
            "[Parallel(n_jobs=8)]: Done 184 tasks      | elapsed:    0.1s\n",
            "[Parallel(n_jobs=8)]: Done 267 out of 267 | elapsed:    0.2s finished\n",
            "[Parallel(n_jobs=-1)]: Using backend LokyBackend with 8 concurrent workers.\n"
          ]
        },
        {
          "name": "stdout",
          "output_type": "stream",
          "text": [
            "[CV] END bootstrap=False, max_depth=80, max_features=sqrt, min_samples_leaf=2, min_samples_split=10, n_estimators=267; total time=  48.6s\n"
          ]
        },
        {
          "name": "stderr",
          "output_type": "stream",
          "text": [
            "[Parallel(n_jobs=-1)]: Done  34 tasks      | elapsed:    6.9s\n",
            "[Parallel(n_jobs=-1)]: Done 184 tasks      | elapsed:   33.0s\n",
            "[Parallel(n_jobs=-1)]: Done 267 out of 267 | elapsed:   47.8s finished\n",
            "[Parallel(n_jobs=8)]: Using backend ThreadingBackend with 8 concurrent workers.\n",
            "[Parallel(n_jobs=8)]: Done  34 tasks      | elapsed:    0.0s\n",
            "[Parallel(n_jobs=8)]: Done 184 tasks      | elapsed:    0.1s\n",
            "[Parallel(n_jobs=8)]: Done 267 out of 267 | elapsed:    0.2s finished\n",
            "[Parallel(n_jobs=-1)]: Using backend LokyBackend with 8 concurrent workers.\n"
          ]
        },
        {
          "name": "stdout",
          "output_type": "stream",
          "text": [
            "[CV] END bootstrap=False, max_depth=80, max_features=sqrt, min_samples_leaf=2, min_samples_split=10, n_estimators=267; total time=  48.2s\n"
          ]
        },
        {
          "name": "stderr",
          "output_type": "stream",
          "text": [
            "[Parallel(n_jobs=-1)]: Done  34 tasks      | elapsed:    7.2s\n",
            "[Parallel(n_jobs=-1)]: Done 184 tasks      | elapsed:   34.3s\n",
            "[Parallel(n_jobs=-1)]: Done 267 out of 267 | elapsed:   49.4s finished\n",
            "[Parallel(n_jobs=8)]: Using backend ThreadingBackend with 8 concurrent workers.\n",
            "[Parallel(n_jobs=8)]: Done  34 tasks      | elapsed:    0.0s\n",
            "[Parallel(n_jobs=8)]: Done 184 tasks      | elapsed:    0.1s\n",
            "[Parallel(n_jobs=8)]: Done 267 out of 267 | elapsed:    0.2s finished\n",
            "/Users/anithagrace/neue_fische/Radiant-Earth-Spot-Crop/.venv/lib/python3.9/site-packages/sklearn/ensemble/_forest.py:427: FutureWarning: `max_features='auto'` has been deprecated in 1.1 and will be removed in 1.3. To keep the past behaviour, explicitly set `max_features='sqrt'` or remove this parameter as it is also the default value for RandomForestClassifiers and ExtraTreesClassifiers.\n",
            "  warn(\n",
            "[Parallel(n_jobs=-1)]: Using backend LokyBackend with 8 concurrent workers.\n"
          ]
        },
        {
          "name": "stdout",
          "output_type": "stream",
          "text": [
            "[CV] END bootstrap=False, max_depth=80, max_features=sqrt, min_samples_leaf=2, min_samples_split=10, n_estimators=267; total time=  49.8s\n"
          ]
        },
        {
          "name": "stderr",
          "output_type": "stream",
          "text": [
            "[Parallel(n_jobs=-1)]: Done  34 tasks      | elapsed:    4.4s\n",
            "[Parallel(n_jobs=-1)]: Done 171 out of 171 | elapsed:   19.3s finished\n",
            "[Parallel(n_jobs=8)]: Using backend ThreadingBackend with 8 concurrent workers.\n",
            "[Parallel(n_jobs=8)]: Done  34 tasks      | elapsed:    0.0s\n",
            "[Parallel(n_jobs=8)]: Done 171 out of 171 | elapsed:    0.1s finished\n",
            "/Users/anithagrace/neue_fische/Radiant-Earth-Spot-Crop/.venv/lib/python3.9/site-packages/sklearn/ensemble/_forest.py:427: FutureWarning: `max_features='auto'` has been deprecated in 1.1 and will be removed in 1.3. To keep the past behaviour, explicitly set `max_features='sqrt'` or remove this parameter as it is also the default value for RandomForestClassifiers and ExtraTreesClassifiers.\n",
            "  warn(\n",
            "[Parallel(n_jobs=-1)]: Using backend LokyBackend with 8 concurrent workers.\n"
          ]
        },
        {
          "name": "stdout",
          "output_type": "stream",
          "text": [
            "[CV] END bootstrap=True, max_depth=100, max_features=auto, min_samples_leaf=2, min_samples_split=2, n_estimators=171; total time=  19.6s\n"
          ]
        },
        {
          "name": "stderr",
          "output_type": "stream",
          "text": [
            "[Parallel(n_jobs=-1)]: Done  34 tasks      | elapsed:    4.4s\n",
            "[Parallel(n_jobs=-1)]: Done 171 out of 171 | elapsed:   19.1s finished\n",
            "[Parallel(n_jobs=8)]: Using backend ThreadingBackend with 8 concurrent workers.\n",
            "[Parallel(n_jobs=8)]: Done  34 tasks      | elapsed:    0.0s\n",
            "[Parallel(n_jobs=8)]: Done 171 out of 171 | elapsed:    0.1s finished\n",
            "/Users/anithagrace/neue_fische/Radiant-Earth-Spot-Crop/.venv/lib/python3.9/site-packages/sklearn/ensemble/_forest.py:427: FutureWarning: `max_features='auto'` has been deprecated in 1.1 and will be removed in 1.3. To keep the past behaviour, explicitly set `max_features='sqrt'` or remove this parameter as it is also the default value for RandomForestClassifiers and ExtraTreesClassifiers.\n",
            "  warn(\n",
            "[Parallel(n_jobs=-1)]: Using backend LokyBackend with 8 concurrent workers.\n"
          ]
        },
        {
          "name": "stdout",
          "output_type": "stream",
          "text": [
            "[CV] END bootstrap=True, max_depth=100, max_features=auto, min_samples_leaf=2, min_samples_split=2, n_estimators=171; total time=  19.4s\n"
          ]
        },
        {
          "name": "stderr",
          "output_type": "stream",
          "text": [
            "[Parallel(n_jobs=-1)]: Done  34 tasks      | elapsed:    4.3s\n",
            "[Parallel(n_jobs=-1)]: Done 171 out of 171 | elapsed:   20.8s finished\n",
            "[Parallel(n_jobs=8)]: Using backend ThreadingBackend with 8 concurrent workers.\n",
            "[Parallel(n_jobs=8)]: Done  34 tasks      | elapsed:    0.0s\n",
            "[Parallel(n_jobs=8)]: Done 171 out of 171 | elapsed:    0.1s finished\n",
            "[Parallel(n_jobs=-1)]: Using backend LokyBackend with 8 concurrent workers.\n"
          ]
        },
        {
          "name": "stdout",
          "output_type": "stream",
          "text": [
            "[CV] END bootstrap=True, max_depth=100, max_features=auto, min_samples_leaf=2, min_samples_split=2, n_estimators=171; total time=  21.1s\n"
          ]
        },
        {
          "name": "stderr",
          "output_type": "stream",
          "text": [
            "[Parallel(n_jobs=-1)]: Done  34 tasks      | elapsed:    4.5s\n",
            "[Parallel(n_jobs=-1)]: Done 184 tasks      | elapsed:   21.7s\n",
            "[Parallel(n_jobs=-1)]: Done 300 out of 300 | elapsed:   34.7s finished\n",
            "[Parallel(n_jobs=8)]: Using backend ThreadingBackend with 8 concurrent workers.\n",
            "[Parallel(n_jobs=8)]: Done  34 tasks      | elapsed:    0.0s\n",
            "[Parallel(n_jobs=8)]: Done 184 tasks      | elapsed:    0.1s\n",
            "[Parallel(n_jobs=8)]: Done 300 out of 300 | elapsed:    0.2s finished\n",
            "[Parallel(n_jobs=-1)]: Using backend LokyBackend with 8 concurrent workers.\n"
          ]
        },
        {
          "name": "stdout",
          "output_type": "stream",
          "text": [
            "[CV] END bootstrap=True, max_depth=90, max_features=sqrt, min_samples_leaf=2, min_samples_split=5, n_estimators=300; total time=  35.2s\n"
          ]
        },
        {
          "name": "stderr",
          "output_type": "stream",
          "text": [
            "[Parallel(n_jobs=-1)]: Done  34 tasks      | elapsed:    4.5s\n",
            "[Parallel(n_jobs=-1)]: Done 184 tasks      | elapsed:   21.5s\n",
            "[Parallel(n_jobs=-1)]: Done 300 out of 300 | elapsed:   35.0s finished\n",
            "[Parallel(n_jobs=8)]: Using backend ThreadingBackend with 8 concurrent workers.\n",
            "[Parallel(n_jobs=8)]: Done  34 tasks      | elapsed:    0.0s\n",
            "[Parallel(n_jobs=8)]: Done 184 tasks      | elapsed:    0.1s\n",
            "[Parallel(n_jobs=8)]: Done 300 out of 300 | elapsed:    0.2s finished\n",
            "[Parallel(n_jobs=-1)]: Using backend LokyBackend with 8 concurrent workers.\n"
          ]
        },
        {
          "name": "stdout",
          "output_type": "stream",
          "text": [
            "[CV] END bootstrap=True, max_depth=90, max_features=sqrt, min_samples_leaf=2, min_samples_split=5, n_estimators=300; total time=  35.4s\n"
          ]
        },
        {
          "name": "stderr",
          "output_type": "stream",
          "text": [
            "[Parallel(n_jobs=-1)]: Done  34 tasks      | elapsed:    4.8s\n",
            "[Parallel(n_jobs=-1)]: Done 184 tasks      | elapsed:   22.9s\n",
            "[Parallel(n_jobs=-1)]: Done 300 out of 300 | elapsed:   36.5s finished\n",
            "[Parallel(n_jobs=8)]: Using backend ThreadingBackend with 8 concurrent workers.\n",
            "[Parallel(n_jobs=8)]: Done  34 tasks      | elapsed:    0.0s\n",
            "[Parallel(n_jobs=8)]: Done 184 tasks      | elapsed:    0.1s\n",
            "[Parallel(n_jobs=8)]: Done 300 out of 300 | elapsed:    0.2s finished\n",
            "/Users/anithagrace/neue_fische/Radiant-Earth-Spot-Crop/.venv/lib/python3.9/site-packages/sklearn/ensemble/_forest.py:427: FutureWarning: `max_features='auto'` has been deprecated in 1.1 and will be removed in 1.3. To keep the past behaviour, explicitly set `max_features='sqrt'` or remove this parameter as it is also the default value for RandomForestClassifiers and ExtraTreesClassifiers.\n",
            "  warn(\n",
            "[Parallel(n_jobs=-1)]: Using backend ThreadingBackend with 8 concurrent workers.\n"
          ]
        },
        {
          "name": "stdout",
          "output_type": "stream",
          "text": [
            "[CV] END bootstrap=True, max_depth=90, max_features=sqrt, min_samples_leaf=2, min_samples_split=5, n_estimators=300; total time=  36.9s\n"
          ]
        },
        {
          "name": "stderr",
          "output_type": "stream",
          "text": [
            "[Parallel(n_jobs=-1)]: Done  34 tasks      | elapsed:   12.3s\n",
            "[Parallel(n_jobs=-1)]: Done 138 out of 138 | elapsed:   42.8s finished\n"
          ]
        },
        {
          "data": {
            "text/html": [
              "<style>#sk-container-id-6 {color: black;background-color: white;}#sk-container-id-6 pre{padding: 0;}#sk-container-id-6 div.sk-toggleable {background-color: white;}#sk-container-id-6 label.sk-toggleable__label {cursor: pointer;display: block;width: 100%;margin-bottom: 0;padding: 0.3em;box-sizing: border-box;text-align: center;}#sk-container-id-6 label.sk-toggleable__label-arrow:before {content: \"▸\";float: left;margin-right: 0.25em;color: #696969;}#sk-container-id-6 label.sk-toggleable__label-arrow:hover:before {color: black;}#sk-container-id-6 div.sk-estimator:hover label.sk-toggleable__label-arrow:before {color: black;}#sk-container-id-6 div.sk-toggleable__content {max-height: 0;max-width: 0;overflow: hidden;text-align: left;background-color: #f0f8ff;}#sk-container-id-6 div.sk-toggleable__content pre {margin: 0.2em;color: black;border-radius: 0.25em;background-color: #f0f8ff;}#sk-container-id-6 input.sk-toggleable__control:checked~div.sk-toggleable__content {max-height: 200px;max-width: 100%;overflow: auto;}#sk-container-id-6 input.sk-toggleable__control:checked~label.sk-toggleable__label-arrow:before {content: \"▾\";}#sk-container-id-6 div.sk-estimator input.sk-toggleable__control:checked~label.sk-toggleable__label {background-color: #d4ebff;}#sk-container-id-6 div.sk-label input.sk-toggleable__control:checked~label.sk-toggleable__label {background-color: #d4ebff;}#sk-container-id-6 input.sk-hidden--visually {border: 0;clip: rect(1px 1px 1px 1px);clip: rect(1px, 1px, 1px, 1px);height: 1px;margin: -1px;overflow: hidden;padding: 0;position: absolute;width: 1px;}#sk-container-id-6 div.sk-estimator {font-family: monospace;background-color: #f0f8ff;border: 1px dotted black;border-radius: 0.25em;box-sizing: border-box;margin-bottom: 0.5em;}#sk-container-id-6 div.sk-estimator:hover {background-color: #d4ebff;}#sk-container-id-6 div.sk-parallel-item::after {content: \"\";width: 100%;border-bottom: 1px solid gray;flex-grow: 1;}#sk-container-id-6 div.sk-label:hover label.sk-toggleable__label {background-color: #d4ebff;}#sk-container-id-6 div.sk-serial::before {content: \"\";position: absolute;border-left: 1px solid gray;box-sizing: border-box;top: 0;bottom: 0;left: 50%;z-index: 0;}#sk-container-id-6 div.sk-serial {display: flex;flex-direction: column;align-items: center;background-color: white;padding-right: 0.2em;padding-left: 0.2em;position: relative;}#sk-container-id-6 div.sk-item {position: relative;z-index: 1;}#sk-container-id-6 div.sk-parallel {display: flex;align-items: stretch;justify-content: center;background-color: white;position: relative;}#sk-container-id-6 div.sk-item::before, #sk-container-id-6 div.sk-parallel-item::before {content: \"\";position: absolute;border-left: 1px solid gray;box-sizing: border-box;top: 0;bottom: 0;left: 50%;z-index: -1;}#sk-container-id-6 div.sk-parallel-item {display: flex;flex-direction: column;z-index: 1;position: relative;background-color: white;}#sk-container-id-6 div.sk-parallel-item:first-child::after {align-self: flex-end;width: 50%;}#sk-container-id-6 div.sk-parallel-item:last-child::after {align-self: flex-start;width: 50%;}#sk-container-id-6 div.sk-parallel-item:only-child::after {width: 0;}#sk-container-id-6 div.sk-dashed-wrapped {border: 1px dashed gray;margin: 0 0.4em 0.5em 0.4em;box-sizing: border-box;padding-bottom: 0.4em;background-color: white;}#sk-container-id-6 div.sk-label label {font-family: monospace;font-weight: bold;display: inline-block;line-height: 1.2em;}#sk-container-id-6 div.sk-label-container {text-align: center;}#sk-container-id-6 div.sk-container {/* jupyter's `normalize.less` sets `[hidden] { display: none; }` but bootstrap.min.css set `[hidden] { display: none !important; }` so we also need the `!important` here to be able to override the default hidden behavior on the sphinx rendered scikit-learn.org. See: https://github.com/scikit-learn/scikit-learn/issues/21755 */display: inline-block !important;position: relative;}#sk-container-id-6 div.sk-text-repr-fallback {display: none;}</style><div id=\"sk-container-id-6\" class=\"sk-top-container\"><div class=\"sk-text-repr-fallback\"><pre>RandomizedSearchCV(cv=3,\n",
              "                   estimator=RandomForestClassifier(criterion=&#x27;entropy&#x27;,\n",
              "                                                    max_depth=10,\n",
              "                                                    max_features=&#x27;auto&#x27;,\n",
              "                                                    n_estimators=200, n_jobs=-1,\n",
              "                                                    random_state=42,\n",
              "                                                    verbose=1),\n",
              "                   param_distributions={&#x27;bootstrap&#x27;: [True, False],\n",
              "                                        &#x27;max_depth&#x27;: [10, 20, 30, 40, 50, 60,\n",
              "                                                      70, 80, 90, 100, 110,\n",
              "                                                      None],\n",
              "                                        &#x27;max_features&#x27;: [&#x27;auto&#x27;, &#x27;sqrt&#x27;],\n",
              "                                        &#x27;min_samples_leaf&#x27;: [1, 2, 4],\n",
              "                                        &#x27;min_samples_split&#x27;: [2, 5, 10],\n",
              "                                        &#x27;n_estimators&#x27;: [10, 42, 74, 106, 138,\n",
              "                                                         171, 203, 235, 267,\n",
              "                                                         300]},\n",
              "                   verbose=2)</pre><b>In a Jupyter environment, please rerun this cell to show the HTML representation or trust the notebook. <br />On GitHub, the HTML representation is unable to render, please try loading this page with nbviewer.org.</b></div><div class=\"sk-container\" hidden><div class=\"sk-item sk-dashed-wrapped\"><div class=\"sk-label-container\"><div class=\"sk-label sk-toggleable\"><input class=\"sk-toggleable__control sk-hidden--visually\" id=\"sk-estimator-id-6\" type=\"checkbox\" ><label for=\"sk-estimator-id-6\" class=\"sk-toggleable__label sk-toggleable__label-arrow\">RandomizedSearchCV</label><div class=\"sk-toggleable__content\"><pre>RandomizedSearchCV(cv=3,\n",
              "                   estimator=RandomForestClassifier(criterion=&#x27;entropy&#x27;,\n",
              "                                                    max_depth=10,\n",
              "                                                    max_features=&#x27;auto&#x27;,\n",
              "                                                    n_estimators=200, n_jobs=-1,\n",
              "                                                    random_state=42,\n",
              "                                                    verbose=1),\n",
              "                   param_distributions={&#x27;bootstrap&#x27;: [True, False],\n",
              "                                        &#x27;max_depth&#x27;: [10, 20, 30, 40, 50, 60,\n",
              "                                                      70, 80, 90, 100, 110,\n",
              "                                                      None],\n",
              "                                        &#x27;max_features&#x27;: [&#x27;auto&#x27;, &#x27;sqrt&#x27;],\n",
              "                                        &#x27;min_samples_leaf&#x27;: [1, 2, 4],\n",
              "                                        &#x27;min_samples_split&#x27;: [2, 5, 10],\n",
              "                                        &#x27;n_estimators&#x27;: [10, 42, 74, 106, 138,\n",
              "                                                         171, 203, 235, 267,\n",
              "                                                         300]},\n",
              "                   verbose=2)</pre></div></div></div><div class=\"sk-parallel\"><div class=\"sk-parallel-item\"><div class=\"sk-item\"><div class=\"sk-label-container\"><div class=\"sk-label sk-toggleable\"><input class=\"sk-toggleable__control sk-hidden--visually\" id=\"sk-estimator-id-7\" type=\"checkbox\" ><label for=\"sk-estimator-id-7\" class=\"sk-toggleable__label sk-toggleable__label-arrow\">estimator: RandomForestClassifier</label><div class=\"sk-toggleable__content\"><pre>RandomForestClassifier(criterion=&#x27;entropy&#x27;, max_depth=10, max_features=&#x27;auto&#x27;,\n",
              "                       n_estimators=200, n_jobs=-1, random_state=42, verbose=1)</pre></div></div></div><div class=\"sk-serial\"><div class=\"sk-item\"><div class=\"sk-estimator sk-toggleable\"><input class=\"sk-toggleable__control sk-hidden--visually\" id=\"sk-estimator-id-8\" type=\"checkbox\" ><label for=\"sk-estimator-id-8\" class=\"sk-toggleable__label sk-toggleable__label-arrow\">RandomForestClassifier</label><div class=\"sk-toggleable__content\"><pre>RandomForestClassifier(criterion=&#x27;entropy&#x27;, max_depth=10, max_features=&#x27;auto&#x27;,\n",
              "                       n_estimators=200, n_jobs=-1, random_state=42, verbose=1)</pre></div></div></div></div></div></div></div></div></div></div>"
            ],
            "text/plain": [
              "RandomizedSearchCV(cv=3,\n",
              "                   estimator=RandomForestClassifier(criterion='entropy',\n",
              "                                                    max_depth=10,\n",
              "                                                    max_features='auto',\n",
              "                                                    n_estimators=200, n_jobs=-1,\n",
              "                                                    random_state=42,\n",
              "                                                    verbose=1),\n",
              "                   param_distributions={'bootstrap': [True, False],\n",
              "                                        'max_depth': [10, 20, 30, 40, 50, 60,\n",
              "                                                      70, 80, 90, 100, 110,\n",
              "                                                      None],\n",
              "                                        'max_features': ['auto', 'sqrt'],\n",
              "                                        'min_samples_leaf': [1, 2, 4],\n",
              "                                        'min_samples_split': [2, 5, 10],\n",
              "                                        'n_estimators': [10, 42, 74, 106, 138,\n",
              "                                                         171, 203, 235, 267,\n",
              "                                                         300]},\n",
              "                   verbose=2)"
            ]
          },
          "execution_count": 43,
          "metadata": {},
          "output_type": "execute_result"
        }
      ],
      "source": [
        "\n",
        "from sklearn.ensemble import RandomForestClassifier\n",
        "from sklearn.model_selection import GridSearchCV\n",
        "rf = RandomForestClassifier(n_estimators = 200, random_state = RSEED, n_jobs = -1, verbose=1,max_features='auto', max_depth=10, criterion='entropy')\n",
        "# Use the random grid to search for best hyperparameters\n",
        "# Random search of parameters, using 3 fold cross validation, \n",
        "# search across 100 different combinations, and use all available cores\n",
        "rf_random = RandomizedSearchCV(estimator=rf, param_distributions=random_grid, n_iter=10, cv=3, verbose=2)\n",
        "# Fit the random search model\n",
        "rf_random.fit(X_train, y_train)"
      ]
    },
    {
      "cell_type": "markdown",
      "metadata": {
        "id": "xPBrU6FEQoEv"
      },
      "source": [
        "We can view the best parameters from fitting the random search ,from these results we will do our best model"
      ]
    },
    {
      "cell_type": "code",
      "execution_count": 44,
      "metadata": {
        "colab": {
          "base_uri": "https://localhost:8080/"
        },
        "id": "cVd7yPhhjytd",
        "outputId": "8a7f76b1-5b4c-4065-ed04-08ed42897bdd"
      },
      "outputs": [
        {
          "data": {
            "text/plain": [
              "{'n_estimators': 138,\n",
              " 'min_samples_split': 2,\n",
              " 'min_samples_leaf': 2,\n",
              " 'max_features': 'auto',\n",
              " 'max_depth': 40,\n",
              " 'bootstrap': False}"
            ]
          },
          "execution_count": 44,
          "metadata": {},
          "output_type": "execute_result"
        }
      ],
      "source": [
        "best_random = rf_random.best_params_\n",
        "best_random"
      ]
    },
    {
      "cell_type": "code",
      "execution_count": 45,
      "metadata": {
        "id": "G-uNd40fOoOx"
      },
      "outputs": [],
      "source": [
        "best= RandomForestClassifier(n_estimators=138,\n",
        "                                                    min_samples_split = 2,\n",
        "                                                    min_samples_leaf = 2,\n",
        "                                                    max_features = 'auto',\n",
        "                                                    max_depth = 40,\n",
        "                                                    bootstrap = False)"
      ]
    },
    {
      "cell_type": "code",
      "execution_count": 46,
      "metadata": {
        "colab": {
          "base_uri": "https://localhost:8080/"
        },
        "id": "movzC622AI_P",
        "outputId": "d10ee935-6a28-497d-a746-4b7dbd1c06eb"
      },
      "outputs": [
        {
          "name": "stderr",
          "output_type": "stream",
          "text": [
            "/Users/anithagrace/neue_fische/Radiant-Earth-Spot-Crop/.venv/lib/python3.9/site-packages/sklearn/ensemble/_forest.py:427: FutureWarning: `max_features='auto'` has been deprecated in 1.1 and will be removed in 1.3. To keep the past behaviour, explicitly set `max_features='sqrt'` or remove this parameter as it is also the default value for RandomForestClassifiers and ExtraTreesClassifiers.\n",
            "  warn(\n"
          ]
        },
        {
          "data": {
            "text/html": [
              "<style>#sk-container-id-7 {color: black;background-color: white;}#sk-container-id-7 pre{padding: 0;}#sk-container-id-7 div.sk-toggleable {background-color: white;}#sk-container-id-7 label.sk-toggleable__label {cursor: pointer;display: block;width: 100%;margin-bottom: 0;padding: 0.3em;box-sizing: border-box;text-align: center;}#sk-container-id-7 label.sk-toggleable__label-arrow:before {content: \"▸\";float: left;margin-right: 0.25em;color: #696969;}#sk-container-id-7 label.sk-toggleable__label-arrow:hover:before {color: black;}#sk-container-id-7 div.sk-estimator:hover label.sk-toggleable__label-arrow:before {color: black;}#sk-container-id-7 div.sk-toggleable__content {max-height: 0;max-width: 0;overflow: hidden;text-align: left;background-color: #f0f8ff;}#sk-container-id-7 div.sk-toggleable__content pre {margin: 0.2em;color: black;border-radius: 0.25em;background-color: #f0f8ff;}#sk-container-id-7 input.sk-toggleable__control:checked~div.sk-toggleable__content {max-height: 200px;max-width: 100%;overflow: auto;}#sk-container-id-7 input.sk-toggleable__control:checked~label.sk-toggleable__label-arrow:before {content: \"▾\";}#sk-container-id-7 div.sk-estimator input.sk-toggleable__control:checked~label.sk-toggleable__label {background-color: #d4ebff;}#sk-container-id-7 div.sk-label input.sk-toggleable__control:checked~label.sk-toggleable__label {background-color: #d4ebff;}#sk-container-id-7 input.sk-hidden--visually {border: 0;clip: rect(1px 1px 1px 1px);clip: rect(1px, 1px, 1px, 1px);height: 1px;margin: -1px;overflow: hidden;padding: 0;position: absolute;width: 1px;}#sk-container-id-7 div.sk-estimator {font-family: monospace;background-color: #f0f8ff;border: 1px dotted black;border-radius: 0.25em;box-sizing: border-box;margin-bottom: 0.5em;}#sk-container-id-7 div.sk-estimator:hover {background-color: #d4ebff;}#sk-container-id-7 div.sk-parallel-item::after {content: \"\";width: 100%;border-bottom: 1px solid gray;flex-grow: 1;}#sk-container-id-7 div.sk-label:hover label.sk-toggleable__label {background-color: #d4ebff;}#sk-container-id-7 div.sk-serial::before {content: \"\";position: absolute;border-left: 1px solid gray;box-sizing: border-box;top: 0;bottom: 0;left: 50%;z-index: 0;}#sk-container-id-7 div.sk-serial {display: flex;flex-direction: column;align-items: center;background-color: white;padding-right: 0.2em;padding-left: 0.2em;position: relative;}#sk-container-id-7 div.sk-item {position: relative;z-index: 1;}#sk-container-id-7 div.sk-parallel {display: flex;align-items: stretch;justify-content: center;background-color: white;position: relative;}#sk-container-id-7 div.sk-item::before, #sk-container-id-7 div.sk-parallel-item::before {content: \"\";position: absolute;border-left: 1px solid gray;box-sizing: border-box;top: 0;bottom: 0;left: 50%;z-index: -1;}#sk-container-id-7 div.sk-parallel-item {display: flex;flex-direction: column;z-index: 1;position: relative;background-color: white;}#sk-container-id-7 div.sk-parallel-item:first-child::after {align-self: flex-end;width: 50%;}#sk-container-id-7 div.sk-parallel-item:last-child::after {align-self: flex-start;width: 50%;}#sk-container-id-7 div.sk-parallel-item:only-child::after {width: 0;}#sk-container-id-7 div.sk-dashed-wrapped {border: 1px dashed gray;margin: 0 0.4em 0.5em 0.4em;box-sizing: border-box;padding-bottom: 0.4em;background-color: white;}#sk-container-id-7 div.sk-label label {font-family: monospace;font-weight: bold;display: inline-block;line-height: 1.2em;}#sk-container-id-7 div.sk-label-container {text-align: center;}#sk-container-id-7 div.sk-container {/* jupyter's `normalize.less` sets `[hidden] { display: none; }` but bootstrap.min.css set `[hidden] { display: none !important; }` so we also need the `!important` here to be able to override the default hidden behavior on the sphinx rendered scikit-learn.org. See: https://github.com/scikit-learn/scikit-learn/issues/21755 */display: inline-block !important;position: relative;}#sk-container-id-7 div.sk-text-repr-fallback {display: none;}</style><div id=\"sk-container-id-7\" class=\"sk-top-container\"><div class=\"sk-text-repr-fallback\"><pre>RandomForestClassifier(bootstrap=False, max_depth=40, max_features=&#x27;auto&#x27;,\n",
              "                       min_samples_leaf=2, n_estimators=138)</pre><b>In a Jupyter environment, please rerun this cell to show the HTML representation or trust the notebook. <br />On GitHub, the HTML representation is unable to render, please try loading this page with nbviewer.org.</b></div><div class=\"sk-container\" hidden><div class=\"sk-item\"><div class=\"sk-estimator sk-toggleable\"><input class=\"sk-toggleable__control sk-hidden--visually\" id=\"sk-estimator-id-9\" type=\"checkbox\" checked><label for=\"sk-estimator-id-9\" class=\"sk-toggleable__label sk-toggleable__label-arrow\">RandomForestClassifier</label><div class=\"sk-toggleable__content\"><pre>RandomForestClassifier(bootstrap=False, max_depth=40, max_features=&#x27;auto&#x27;,\n",
              "                       min_samples_leaf=2, n_estimators=138)</pre></div></div></div></div></div>"
            ],
            "text/plain": [
              "RandomForestClassifier(bootstrap=False, max_depth=40, max_features='auto',\n",
              "                       min_samples_leaf=2, n_estimators=138)"
            ]
          },
          "execution_count": 46,
          "metadata": {},
          "output_type": "execute_result"
        }
      ],
      "source": [
        "best.fit(X_train, y_train)"
      ]
    },
    {
      "cell_type": "code",
      "execution_count": 47,
      "metadata": {
        "id": "NErKNmdyjyte"
      },
      "outputs": [],
      "source": [
        "y_predi_train = best.predict(X_train)\n",
        "y_predi_test = best.predict(X_val)"
      ]
    },
    {
      "cell_type": "code",
      "execution_count": 48,
      "metadata": {
        "id": "3Iq992vd7_sG"
      },
      "outputs": [],
      "source": [
        "y_proba_train = best.predict_proba(X_train)\n",
        "y_proba_test = best.predict_proba(X_val)"
      ]
    },
    {
      "cell_type": "markdown",
      "metadata": {
        "id": "EsfoZ8q-JAOS"
      },
      "source": [
        "Here is the Result using RandomizedsearchCV , comparing with the result of the baseline model ,we can see that the scores increased but still overfitting "
      ]
    },
    {
      "cell_type": "code",
      "execution_count": 49,
      "metadata": {
        "colab": {
          "base_uri": "https://localhost:8080/"
        },
        "id": "U3N22mI7AGd_",
        "outputId": "078af9ea-e483-49cc-8af7-d759dfe80796"
      },
      "outputs": [
        {
          "name": "stdout",
          "output_type": "stream",
          "text": [
            "Accuracy on train data: 1.0\n",
            "Accuracy on test data: 0.6824855467287776\n",
            "------------------------------\n",
            "F1-score on train data: 1.0\n",
            "F1-score on test data: 0.6377529200149794\n",
            "------------------------------\n",
            "Cross-entropy on train data: 0.11822818438260406\n",
            "Cross-entropy on test data: 0.9819705741280415\n",
            "------------------------------\n"
          ]
        }
      ],
      "source": [
        "\n",
        "print(f'Accuracy on train data: {accuracy_score(y_train, y_predi_train)}')\n",
        "print(f'Accuracy on test data: {accuracy_score(y_val, y_predi_test)}')\n",
        "print('---'*10)\n",
        "print(f'F1-score on train data: {f1_score(y_train, y_predi_train, average=\"macro\")}')\n",
        "print(f'F1-score on test data: {f1_score(y_val, y_predi_test, average=\"macro\")}')\n",
        "print('---'*10)\n",
        "print(f'Cross-entropy on train data: {log_loss(y_train, y_proba_train, labels=labels)}')\n",
        "print(f'Cross-entropy on test data: {log_loss(y_val, y_proba_test, labels=labels)}')\n",
        "print('---'*10)"
      ]
    },
    {
      "cell_type": "markdown",
      "metadata": {
        "id": "ItXnT-2_pz7V"
      },
      "source": [
        "## Error Analysis \n"
      ]
    },
    {
      "cell_type": "markdown",
      "metadata": {
        "id": "vMV0GFuHHkFp"
      },
      "source": [
        "## Feature Importance \n",
        "We want to take a look in the features we have and see which one are really important ,To get the feature importances from the Random Forest model use the feature_importances_ attribute"
      ]
    },
    {
      "cell_type": "code",
      "execution_count": 53,
      "metadata": {
        "colab": {
          "base_uri": "https://localhost:8080/"
        },
        "id": "bEEn-G0vICT7",
        "outputId": "84c0c812-d000-488c-bbc4-85d4f981643e"
      },
      "outputs": [
        {
          "data": {
            "text/plain": [
              "NDVI_11           0.041934\n",
              "SIPI2_11          0.037093\n",
              "NDRE_11           0.030896\n",
              "NDVI_5            0.028417\n",
              "NDRE_8            0.028008\n",
              "                    ...   \n",
              "correlation_11    0.000744\n",
              "correlation_6     0.000720\n",
              "correlation_5     0.000709\n",
              "correlation_7     0.000709\n",
              "correlation_10    0.000706\n",
              "Length: 163, dtype: float64"
            ]
          },
          "execution_count": 53,
          "metadata": {},
          "output_type": "execute_result"
        }
      ],
      "source": [
        "# feature importance of the baseline model\n",
        "feature_imp = pd.Series(rf.feature_importances_,X_train.columns).sort_values(ascending=False)\n",
        "feature_imp"
      ]
    },
    {
      "cell_type": "markdown",
      "metadata": {
        "id": "8QeH7sevJP3y"
      },
      "source": [
        "Let’s plot the importances (chart will be easier to interpret than values)"
      ]
    },
    {
      "cell_type": "code",
      "execution_count": 54,
      "metadata": {
        "colab": {
          "base_uri": "https://localhost:8080/",
          "height": 550
        },
        "id": "rk_k_l-zIE1K",
        "outputId": "3bea817f-ca0b-4291-cf46-c054adeea0e4"
      },
      "outputs": [
        {
          "name": "stderr",
          "output_type": "stream",
          "text": [
            "No artists with labels found to put in legend.  Note that artists whose label start with an underscore are ignored when legend() is called with no argument.\n"
          ]
        },
        {
          "data": {
            "image/png": "[encoded data removed]",
            "text/plain": [
              "<Figure size 1440x1224 with 1 Axes>"
            ]
          },
          "metadata": {
            "needs_background": "light"
          },
          "output_type": "display_data"
        }
      ],
      "source": [
        "\n",
        "# Creating a bar plot\n",
        "cmap =sns.color_palette('crest')\n",
        "plt.figure(figsize = (20, 17))\n",
        "sns.set(style=\"whitegrid\", font_scale = 1.3)\n",
        "sns.barplot(x=feature_imp, y=feature_imp.index)\n",
        "# Add labels to your graph\n",
        "plt.xlabel('Feature Importance Score')\n",
        "plt.ylabel('Features')\n",
        "plt.title(\"Visualizing Important Features\")\n",
        "plt.legend()\n",
        "plt.show()"
      ]
    },
    {
      "cell_type": "markdown",
      "metadata": {
        "id": "nigsVzDUKQPu"
      },
      "source": [
        "We observe that, the six index features are found most important"
      ]
    },
    {
      "cell_type": "markdown",
      "metadata": {
        "id": "BzlY1H6JHrRS"
      },
      "source": [
        "### Confusion matrix"
      ]
    },
    {
      "cell_type": "code",
      "execution_count": 55,
      "metadata": {
        "colab": {
          "base_uri": "https://localhost:8080/"
        },
        "id": "OPo1yNZmFJIJ",
        "outputId": "07fd7ed6-4006-4cb2-f91a-bbbfdc5555dd"
      },
      "outputs": [
        {
          "data": {
            "text/plain": [
              "array([[1255,  400,  101,  103,  116,  206,   66,   20],\n",
              "       [ 303, 2232,   98,  169,  439,  299,   53,   83],\n",
              "       [  87,  147, 1271,  140,  351,  109,   16,  143],\n",
              "       [  80,  338,  134, 5491,   86,   47,   19,   24],\n",
              "       [  65,  239,  337,   91, 1338,   73,    7,  181],\n",
              "       [ 243,  237,  126,   19,  157, 1237,  314,   63],\n",
              "       [  99,   66,   48,    8,   32,  310, 2577,   29],\n",
              "       [  81,  104,  118,   10,  220,  105,   75, 1008]])"
            ]
          },
          "execution_count": 55,
          "metadata": {},
          "output_type": "execute_result"
        }
      ],
      "source": [
        "# View confusion matrix for test data and predictions\n",
        "confusion_matrix(y_val, y_predi_test)"
      ]
    },
    {
      "cell_type": "code",
      "execution_count": 56,
      "metadata": {
        "colab": {
          "base_uri": "https://localhost:8080/",
          "height": 343
        },
        "id": "tODzBofhFJEy",
        "outputId": "484b015e-73c9-45b6-c722-4511485473c4"
      },
      "outputs": [
        {
          "data": {
            "image/png": "[encoded data removed]",
            "text/plain": [
              "<Figure size 1152x504 with 2 Axes>"
            ]
          },
          "metadata": {},
          "output_type": "display_data"
        }
      ],
      "source": [
        "# Get and reshape confusion matrix data\n",
        "matrix = confusion_matrix(y_val, y_predi_test)\n",
        "matrix = matrix.astype('float') / matrix.sum(axis=1)[:, np.newaxis]\n",
        "\n",
        "# Build the plot\n",
        "plt.figure(figsize=(16,7))\n",
        "sns.set(font_scale=1.4)\n",
        "sns.heatmap(matrix, annot=True, annot_kws={'size':10},\n",
        "            cmap=plt.cm.Greens, linewidths=0.2)\n",
        "\n",
        "# Add labels to the plot\n",
        "class_names = ['Lucerne / Medics', 'Planted pastures', 'Fallow', \n",
        "               'Wine grapes', 'Weeds', 'Small grain grazing',    \n",
        "               'Wheat','Canola','Rooibos']\n",
        "tick_marks = np.arange(len(class_names))\n",
        "tick_marks2 = tick_marks + 0.5\n",
        "plt.xticks(tick_marks, class_names, rotation=25)\n",
        "plt.yticks(tick_marks2, class_names, rotation=0)\n",
        "plt.xlabel('Predicted label')\n",
        "plt.ylabel('True label')\n",
        "plt.title('Confusion Matrix for Random Forest Model')\n",
        "plt.show()"
      ]
    },
    {
      "cell_type": "markdown",
      "metadata": {
        "id": "twf4xxCLrUeC"
      },
      "source": [
        "## Principal Components Analysis(PCA)\n",
        "Using dimension reduction, we can approximate the original dataset with fewer variables, while reducing computational power to run our model. Using PCA."
      ]
    },
    {
      "cell_type": "code",
      "execution_count": 57,
      "metadata": {
        "colab": {
          "base_uri": "https://localhost:8080/"
        },
        "id": "vtSCIRU2FJBh",
        "outputId": "e2028443-3382-4fea-d5f3-dd86aae7e4e2"
      },
      "outputs": [
        {
          "data": {
            "text/plain": [
              "(44581, 163)"
            ]
          },
          "execution_count": 57,
          "metadata": {},
          "output_type": "execute_result"
        }
      ],
      "source": [
        "X_train.shape"
      ]
    },
    {
      "cell_type": "code",
      "execution_count": 58,
      "metadata": {
        "colab": {
          "base_uri": "https://localhost:8080/"
        },
        "id": "XoqU7wvoZUM1",
        "outputId": "a3e91865-f4cd-4dfb-c995-008e63e5cbc2"
      },
      "outputs": [
        {
          "data": {
            "text/plain": [
              "Index(['B05_10', 'B05_11', 'B05_5', 'B05_6', 'B05_7', 'B05_8', 'B05_9',\n",
              "       'homogeneity_10', 'homogeneity_11', 'homogeneity_5',\n",
              "       ...\n",
              "       'B04_9', 'B08_10', 'B08_11', 'B08_5', 'B08_6', 'B08_7', 'B08_8',\n",
              "       'B08_9', 'field_size', 'tile_id'],\n",
              "      dtype='object', length=163)"
            ]
          },
          "execution_count": 58,
          "metadata": {},
          "output_type": "execute_result"
        }
      ],
      "source": [
        "X_train.columns"
      ]
    },
    {
      "cell_type": "code",
      "execution_count": 59,
      "metadata": {
        "colab": {
          "base_uri": "https://localhost:8080/",
          "height": 649
        },
        "id": "YdTVEQLVFI1h",
        "outputId": "c528627b-006b-4c61-fd4b-f58e46d44329"
      },
      "outputs": [
        {
          "data": {
            "image/png": "[encoded data removed]",
            "text/plain": [
              "<Figure size 432x288 with 1 Axes>"
            ]
          },
          "metadata": {},
          "output_type": "display_data"
        },
        {
          "data": {
            "text/plain": [
              "None"
            ]
          },
          "metadata": {},
          "output_type": "display_data"
        },
        {
          "data": {
            "text/html": [
              "<div>\n",
              "<style scoped>\n",
              "    .dataframe tbody tr th:only-of-type {\n",
              "        vertical-align: middle;\n",
              "    }\n",
              "\n",
              "    .dataframe tbody tr th {\n",
              "        vertical-align: top;\n",
              "    }\n",
              "\n",
              "    .dataframe thead th {\n",
              "        text-align: right;\n",
              "    }\n",
              "</style>\n",
              "<table border=\"1\" class=\"dataframe\">\n",
              "  <thead>\n",
              "    <tr style=\"text-align: right;\">\n",
              "      <th></th>\n",
              "      <th>Cumulative Variance Ratio</th>\n",
              "      <th>Explained Variance Ratio</th>\n",
              "    </tr>\n",
              "  </thead>\n",
              "  <tbody>\n",
              "    <tr>\n",
              "      <th>0</th>\n",
              "      <td>0.790218</td>\n",
              "      <td>0.790218</td>\n",
              "    </tr>\n",
              "    <tr>\n",
              "      <th>1</th>\n",
              "      <td>0.991440</td>\n",
              "      <td>0.201222</td>\n",
              "    </tr>\n",
              "    <tr>\n",
              "      <th>2</th>\n",
              "      <td>0.995702</td>\n",
              "      <td>0.004262</td>\n",
              "    </tr>\n",
              "    <tr>\n",
              "      <th>3</th>\n",
              "      <td>0.997401</td>\n",
              "      <td>0.001699</td>\n",
              "    </tr>\n",
              "    <tr>\n",
              "      <th>4</th>\n",
              "      <td>0.997929</td>\n",
              "      <td>0.000529</td>\n",
              "    </tr>\n",
              "    <tr>\n",
              "      <th>5</th>\n",
              "      <td>0.998268</td>\n",
              "      <td>0.000339</td>\n",
              "    </tr>\n",
              "    <tr>\n",
              "      <th>6</th>\n",
              "      <td>0.998550</td>\n",
              "      <td>0.000281</td>\n",
              "    </tr>\n",
              "    <tr>\n",
              "      <th>7</th>\n",
              "      <td>0.998813</td>\n",
              "      <td>0.000263</td>\n",
              "    </tr>\n",
              "    <tr>\n",
              "      <th>8</th>\n",
              "      <td>0.999028</td>\n",
              "      <td>0.000215</td>\n",
              "    </tr>\n",
              "    <tr>\n",
              "      <th>9</th>\n",
              "      <td>0.999176</td>\n",
              "      <td>0.000148</td>\n",
              "    </tr>\n",
              "  </tbody>\n",
              "</table>\n",
              "</div>"
            ],
            "text/plain": [
              "   Cumulative Variance Ratio  Explained Variance Ratio\n",
              "0                   0.790218                  0.790218\n",
              "1                   0.991440                  0.201222\n",
              "2                   0.995702                  0.004262\n",
              "3                   0.997401                  0.001699\n",
              "4                   0.997929                  0.000529\n",
              "5                   0.998268                  0.000339\n",
              "6                   0.998550                  0.000281\n",
              "7                   0.998813                  0.000263\n",
              "8                   0.999028                  0.000215\n",
              "9                   0.999176                  0.000148"
            ]
          },
          "metadata": {},
          "output_type": "display_data"
        }
      ],
      "source": [
        "\n",
        "pca_test = PCA(n_components=63)\n",
        "pca_test.fit(X_train)\n",
        "sns.set(style='whitegrid')\n",
        "plt.plot(np.cumsum(pca_test.explained_variance_ratio_))\n",
        "plt.xlabel('number of components')\n",
        "plt.ylabel('cumulative explained variance')\n",
        "plt.axvline(linewidth=4, color='r', linestyle = '--', x=10, ymin=0, ymax=1)\n",
        "display(plt.show())\n",
        "evr = pca_test.explained_variance_ratio_\n",
        "cvr = np.cumsum(pca_test.explained_variance_ratio_)\n",
        "pca_df = pd.DataFrame()\n",
        "pca_df['Cumulative Variance Ratio'] = cvr\n",
        "pca_df['Explained Variance Ratio'] = evr\n",
        "display(pca_df.head(10))"
      ]
    },
    {
      "cell_type": "markdown",
      "metadata": {
        "id": "KHk1P379VpRs"
      },
      "source": [
        "20 Principal Components explain the most variance.on plot we can see that after 20 components there is no variance.So by using PCA, the dimensions are reduces from 63 to 10"
      ]
    },
    {
      "cell_type": "code",
      "execution_count": 62,
      "metadata": {
        "id": "LIUk2pgeU3PU"
      },
      "outputs": [],
      "source": [
        "pca = PCA(n_components=10)\n",
        "pca.fit(X_train)\n",
        "X_train_pca = pca.transform(X_train)\n",
        "X_val_pca = pca.transform(X_val)"
      ]
    },
    {
      "cell_type": "markdown",
      "metadata": {
        "id": "mE70c_O-YW69"
      },
      "source": [
        "Each component is a linear combination of the original variables with corresponding “weights”. We can see these “weights” for each PCA component by creating a dataframe."
      ]
    },
    {
      "cell_type": "code",
      "execution_count": 63,
      "metadata": {
        "colab": {
          "base_uri": "https://localhost:8080/",
          "height": 522
        },
        "id": "G_1ST3DNU3A3",
        "outputId": "7dd0b67d-f793-47b9-ee9a-89910b336ed8"
      },
      "outputs": [
        {
          "data": {
            "text/html": [
              "<div>\n",
              "<style scoped>\n",
              "    .dataframe tbody tr th:only-of-type {\n",
              "        vertical-align: middle;\n",
              "    }\n",
              "\n",
              "    .dataframe tbody tr th {\n",
              "        vertical-align: top;\n",
              "    }\n",
              "\n",
              "    .dataframe thead th {\n",
              "        text-align: right;\n",
              "    }\n",
              "</style>\n",
              "<table border=\"1\" class=\"dataframe\">\n",
              "  <thead>\n",
              "    <tr style=\"text-align: right;\">\n",
              "      <th></th>\n",
              "      <th>PCA Component 0</th>\n",
              "      <th>PCA Component 1</th>\n",
              "      <th>PCA Component 2</th>\n",
              "      <th>PCA Component 3</th>\n",
              "      <th>PCA Component 4</th>\n",
              "      <th>PCA Component 5</th>\n",
              "      <th>PCA Component 6</th>\n",
              "      <th>PCA Component 7</th>\n",
              "      <th>PCA Component 8</th>\n",
              "      <th>PCA Component 9</th>\n",
              "    </tr>\n",
              "  </thead>\n",
              "  <tbody>\n",
              "    <tr>\n",
              "      <th>B05_10</th>\n",
              "      <td>0.001393</td>\n",
              "      <td>-0.000410</td>\n",
              "      <td>0.128155</td>\n",
              "      <td>-0.023663</td>\n",
              "      <td>0.027918</td>\n",
              "      <td>-0.061746</td>\n",
              "      <td>0.076369</td>\n",
              "      <td>-0.013230</td>\n",
              "      <td>0.108402</td>\n",
              "      <td>-0.015714</td>\n",
              "    </tr>\n",
              "    <tr>\n",
              "      <th>B05_11</th>\n",
              "      <td>0.001770</td>\n",
              "      <td>-0.000430</td>\n",
              "      <td>0.122670</td>\n",
              "      <td>0.002200</td>\n",
              "      <td>0.047183</td>\n",
              "      <td>-0.093595</td>\n",
              "      <td>0.061790</td>\n",
              "      <td>-0.053242</td>\n",
              "      <td>0.153647</td>\n",
              "      <td>-0.136840</td>\n",
              "    </tr>\n",
              "    <tr>\n",
              "      <th>B05_5</th>\n",
              "      <td>0.002015</td>\n",
              "      <td>-0.000637</td>\n",
              "      <td>0.120573</td>\n",
              "      <td>0.038046</td>\n",
              "      <td>-0.087185</td>\n",
              "      <td>-0.034005</td>\n",
              "      <td>-0.192628</td>\n",
              "      <td>-0.006937</td>\n",
              "      <td>0.083485</td>\n",
              "      <td>0.041115</td>\n",
              "    </tr>\n",
              "    <tr>\n",
              "      <th>B05_6</th>\n",
              "      <td>0.001654</td>\n",
              "      <td>-0.000329</td>\n",
              "      <td>0.112872</td>\n",
              "      <td>0.028942</td>\n",
              "      <td>-0.046725</td>\n",
              "      <td>0.192095</td>\n",
              "      <td>-0.024744</td>\n",
              "      <td>-0.186521</td>\n",
              "      <td>-0.015780</td>\n",
              "      <td>-0.105322</td>\n",
              "    </tr>\n",
              "    <tr>\n",
              "      <th>B05_7</th>\n",
              "      <td>0.001223</td>\n",
              "      <td>-0.000094</td>\n",
              "      <td>0.119288</td>\n",
              "      <td>-0.025116</td>\n",
              "      <td>0.017272</td>\n",
              "      <td>0.002155</td>\n",
              "      <td>-0.030258</td>\n",
              "      <td>-0.060551</td>\n",
              "      <td>-0.075564</td>\n",
              "      <td>0.049637</td>\n",
              "    </tr>\n",
              "    <tr>\n",
              "      <th>...</th>\n",
              "      <td>...</td>\n",
              "      <td>...</td>\n",
              "      <td>...</td>\n",
              "      <td>...</td>\n",
              "      <td>...</td>\n",
              "      <td>...</td>\n",
              "      <td>...</td>\n",
              "      <td>...</td>\n",
              "      <td>...</td>\n",
              "      <td>...</td>\n",
              "    </tr>\n",
              "    <tr>\n",
              "      <th>B08_7</th>\n",
              "      <td>0.001377</td>\n",
              "      <td>-0.000775</td>\n",
              "      <td>0.091206</td>\n",
              "      <td>0.159501</td>\n",
              "      <td>-0.051766</td>\n",
              "      <td>0.054160</td>\n",
              "      <td>0.102356</td>\n",
              "      <td>0.120934</td>\n",
              "      <td>-0.043301</td>\n",
              "      <td>0.065535</td>\n",
              "    </tr>\n",
              "    <tr>\n",
              "      <th>B08_8</th>\n",
              "      <td>0.001982</td>\n",
              "      <td>-0.000952</td>\n",
              "      <td>0.052717</td>\n",
              "      <td>0.258383</td>\n",
              "      <td>-0.036920</td>\n",
              "      <td>-0.078822</td>\n",
              "      <td>0.118428</td>\n",
              "      <td>-0.060736</td>\n",
              "      <td>-0.023638</td>\n",
              "      <td>0.116292</td>\n",
              "    </tr>\n",
              "    <tr>\n",
              "      <th>B08_9</th>\n",
              "      <td>0.000905</td>\n",
              "      <td>-0.000817</td>\n",
              "      <td>0.061752</td>\n",
              "      <td>0.148802</td>\n",
              "      <td>0.152460</td>\n",
              "      <td>-0.092319</td>\n",
              "      <td>-0.034272</td>\n",
              "      <td>-0.135385</td>\n",
              "      <td>-0.069935</td>\n",
              "      <td>0.044593</td>\n",
              "    </tr>\n",
              "    <tr>\n",
              "      <th>field_size</th>\n",
              "      <td>0.999822</td>\n",
              "      <td>0.012852</td>\n",
              "      <td>-0.011428</td>\n",
              "      <td>-0.004495</td>\n",
              "      <td>0.004910</td>\n",
              "      <td>0.002602</td>\n",
              "      <td>0.000076</td>\n",
              "      <td>0.001424</td>\n",
              "      <td>0.000348</td>\n",
              "      <td>0.001591</td>\n",
              "    </tr>\n",
              "    <tr>\n",
              "      <th>tile_id</th>\n",
              "      <td>0.012810</td>\n",
              "      <td>-0.999905</td>\n",
              "      <td>-0.002431</td>\n",
              "      <td>-0.004227</td>\n",
              "      <td>-0.000388</td>\n",
              "      <td>-0.000147</td>\n",
              "      <td>-0.000045</td>\n",
              "      <td>-0.000319</td>\n",
              "      <td>-0.001121</td>\n",
              "      <td>-0.000004</td>\n",
              "    </tr>\n",
              "  </tbody>\n",
              "</table>\n",
              "<p>163 rows × 10 columns</p>\n",
              "</div>"
            ],
            "text/plain": [
              "            PCA Component 0  PCA Component 1  PCA Component 2  \\\n",
              "B05_10             0.001393        -0.000410         0.128155   \n",
              "B05_11             0.001770        -0.000430         0.122670   \n",
              "B05_5              0.002015        -0.000637         0.120573   \n",
              "B05_6              0.001654        -0.000329         0.112872   \n",
              "B05_7              0.001223        -0.000094         0.119288   \n",
              "...                     ...              ...              ...   \n",
              "B08_7              0.001377        -0.000775         0.091206   \n",
              "B08_8              0.001982        -0.000952         0.052717   \n",
              "B08_9              0.000905        -0.000817         0.061752   \n",
              "field_size         0.999822         0.012852        -0.011428   \n",
              "tile_id            0.012810        -0.999905        -0.002431   \n",
              "\n",
              "            PCA Component 3  PCA Component 4  PCA Component 5  \\\n",
              "B05_10            -0.023663         0.027918        -0.061746   \n",
              "B05_11             0.002200         0.047183        -0.093595   \n",
              "B05_5              0.038046        -0.087185        -0.034005   \n",
              "B05_6              0.028942        -0.046725         0.192095   \n",
              "B05_7             -0.025116         0.017272         0.002155   \n",
              "...                     ...              ...              ...   \n",
              "B08_7              0.159501        -0.051766         0.054160   \n",
              "B08_8              0.258383        -0.036920        -0.078822   \n",
              "B08_9              0.148802         0.152460        -0.092319   \n",
              "field_size        -0.004495         0.004910         0.002602   \n",
              "tile_id           -0.004227        -0.000388        -0.000147   \n",
              "\n",
              "            PCA Component 6  PCA Component 7  PCA Component 8  PCA Component 9  \n",
              "B05_10             0.076369        -0.013230         0.108402        -0.015714  \n",
              "B05_11             0.061790        -0.053242         0.153647        -0.136840  \n",
              "B05_5             -0.192628        -0.006937         0.083485         0.041115  \n",
              "B05_6             -0.024744        -0.186521        -0.015780        -0.105322  \n",
              "B05_7             -0.030258        -0.060551        -0.075564         0.049637  \n",
              "...                     ...              ...              ...              ...  \n",
              "B08_7              0.102356         0.120934        -0.043301         0.065535  \n",
              "B08_8              0.118428        -0.060736        -0.023638         0.116292  \n",
              "B08_9             -0.034272        -0.135385        -0.069935         0.044593  \n",
              "field_size         0.000076         0.001424         0.000348         0.001591  \n",
              "tile_id           -0.000045        -0.000319        -0.001121        -0.000004  \n",
              "\n",
              "[163 rows x 10 columns]"
            ]
          },
          "execution_count": 63,
          "metadata": {},
          "output_type": "execute_result"
        }
      ],
      "source": [
        "pca_dims = []\n",
        "for x in range(0, len(pca_df)):\n",
        "    pca_dims.append('PCA Component {}'.format(x))\n",
        "pca_test_df = pd.DataFrame(pca_test.components_, columns=X_train.columns, index=pca_dims)\n",
        "pca_test_df.head(10).T"
      ]
    },
    {
      "cell_type": "markdown",
      "metadata": {
        "id": "lME2ad_DYxxK"
      },
      "source": [
        "Now, we can fit our X_train_scaled_pca and y_train data to the Random Forest model, to see if we get any improvement on the model’s predictions."
      ]
    },
    {
      "cell_type": "code",
      "execution_count": 64,
      "metadata": {
        "colab": {
          "base_uri": "https://localhost:8080/"
        },
        "id": "L4H2h6SUU2xK",
        "outputId": "cc83689f-f2a7-4723-e2b1-06e366303157"
      },
      "outputs": [
        {
          "name": "stderr",
          "output_type": "stream",
          "text": [
            "/Users/anithagrace/neue_fische/Radiant-Earth-Spot-Crop/.venv/lib/python3.9/site-packages/sklearn/ensemble/_forest.py:427: FutureWarning: `max_features='auto'` has been deprecated in 1.1 and will be removed in 1.3. To keep the past behaviour, explicitly set `max_features='sqrt'` or remove this parameter as it is also the default value for RandomForestClassifiers and ExtraTreesClassifiers.\n",
            "  warn(\n"
          ]
        },
        {
          "data": {
            "text/html": [
              "<style>#sk-container-id-9 {color: black;background-color: white;}#sk-container-id-9 pre{padding: 0;}#sk-container-id-9 div.sk-toggleable {background-color: white;}#sk-container-id-9 label.sk-toggleable__label {cursor: pointer;display: block;width: 100%;margin-bottom: 0;padding: 0.3em;box-sizing: border-box;text-align: center;}#sk-container-id-9 label.sk-toggleable__label-arrow:before {content: \"▸\";float: left;margin-right: 0.25em;color: #696969;}#sk-container-id-9 label.sk-toggleable__label-arrow:hover:before {color: black;}#sk-container-id-9 div.sk-estimator:hover label.sk-toggleable__label-arrow:before {color: black;}#sk-container-id-9 div.sk-toggleable__content {max-height: 0;max-width: 0;overflow: hidden;text-align: left;background-color: #f0f8ff;}#sk-container-id-9 div.sk-toggleable__content pre {margin: 0.2em;color: black;border-radius: 0.25em;background-color: #f0f8ff;}#sk-container-id-9 input.sk-toggleable__control:checked~div.sk-toggleable__content {max-height: 200px;max-width: 100%;overflow: auto;}#sk-container-id-9 input.sk-toggleable__control:checked~label.sk-toggleable__label-arrow:before {content: \"▾\";}#sk-container-id-9 div.sk-estimator input.sk-toggleable__control:checked~label.sk-toggleable__label {background-color: #d4ebff;}#sk-container-id-9 div.sk-label input.sk-toggleable__control:checked~label.sk-toggleable__label {background-color: #d4ebff;}#sk-container-id-9 input.sk-hidden--visually {border: 0;clip: rect(1px 1px 1px 1px);clip: rect(1px, 1px, 1px, 1px);height: 1px;margin: -1px;overflow: hidden;padding: 0;position: absolute;width: 1px;}#sk-container-id-9 div.sk-estimator {font-family: monospace;background-color: #f0f8ff;border: 1px dotted black;border-radius: 0.25em;box-sizing: border-box;margin-bottom: 0.5em;}#sk-container-id-9 div.sk-estimator:hover {background-color: #d4ebff;}#sk-container-id-9 div.sk-parallel-item::after {content: \"\";width: 100%;border-bottom: 1px solid gray;flex-grow: 1;}#sk-container-id-9 div.sk-label:hover label.sk-toggleable__label {background-color: #d4ebff;}#sk-container-id-9 div.sk-serial::before {content: \"\";position: absolute;border-left: 1px solid gray;box-sizing: border-box;top: 0;bottom: 0;left: 50%;z-index: 0;}#sk-container-id-9 div.sk-serial {display: flex;flex-direction: column;align-items: center;background-color: white;padding-right: 0.2em;padding-left: 0.2em;position: relative;}#sk-container-id-9 div.sk-item {position: relative;z-index: 1;}#sk-container-id-9 div.sk-parallel {display: flex;align-items: stretch;justify-content: center;background-color: white;position: relative;}#sk-container-id-9 div.sk-item::before, #sk-container-id-9 div.sk-parallel-item::before {content: \"\";position: absolute;border-left: 1px solid gray;box-sizing: border-box;top: 0;bottom: 0;left: 50%;z-index: -1;}#sk-container-id-9 div.sk-parallel-item {display: flex;flex-direction: column;z-index: 1;position: relative;background-color: white;}#sk-container-id-9 div.sk-parallel-item:first-child::after {align-self: flex-end;width: 50%;}#sk-container-id-9 div.sk-parallel-item:last-child::after {align-self: flex-start;width: 50%;}#sk-container-id-9 div.sk-parallel-item:only-child::after {width: 0;}#sk-container-id-9 div.sk-dashed-wrapped {border: 1px dashed gray;margin: 0 0.4em 0.5em 0.4em;box-sizing: border-box;padding-bottom: 0.4em;background-color: white;}#sk-container-id-9 div.sk-label label {font-family: monospace;font-weight: bold;display: inline-block;line-height: 1.2em;}#sk-container-id-9 div.sk-label-container {text-align: center;}#sk-container-id-9 div.sk-container {/* jupyter's `normalize.less` sets `[hidden] { display: none; }` but bootstrap.min.css set `[hidden] { display: none !important; }` so we also need the `!important` here to be able to override the default hidden behavior on the sphinx rendered scikit-learn.org. See: https://github.com/scikit-learn/scikit-learn/issues/21755 */display: inline-block !important;position: relative;}#sk-container-id-9 div.sk-text-repr-fallback {display: none;}</style><div id=\"sk-container-id-9\" class=\"sk-top-container\"><div class=\"sk-text-repr-fallback\"><pre>RandomForestClassifier(bootstrap=False, max_depth=30, max_features=&#x27;auto&#x27;,\n",
              "                       min_samples_leaf=2, n_estimators=42)</pre><b>In a Jupyter environment, please rerun this cell to show the HTML representation or trust the notebook. <br />On GitHub, the HTML representation is unable to render, please try loading this page with nbviewer.org.</b></div><div class=\"sk-container\" hidden><div class=\"sk-item\"><div class=\"sk-estimator sk-toggleable\"><input class=\"sk-toggleable__control sk-hidden--visually\" id=\"sk-estimator-id-11\" type=\"checkbox\" checked><label for=\"sk-estimator-id-11\" class=\"sk-toggleable__label sk-toggleable__label-arrow\">RandomForestClassifier</label><div class=\"sk-toggleable__content\"><pre>RandomForestClassifier(bootstrap=False, max_depth=30, max_features=&#x27;auto&#x27;,\n",
              "                       min_samples_leaf=2, n_estimators=42)</pre></div></div></div></div></div>"
            ],
            "text/plain": [
              "RandomForestClassifier(bootstrap=False, max_depth=30, max_features='auto',\n",
              "                       min_samples_leaf=2, n_estimators=42)"
            ]
          },
          "execution_count": 64,
          "metadata": {},
          "output_type": "execute_result"
        }
      ],
      "source": [
        "rfc = RandomForestClassifier(n_estimators=42,\n",
        "                                                    min_samples_split = 2,\n",
        "                                                    min_samples_leaf = 2,\n",
        "                                                    max_features = 'auto',\n",
        "                                                    max_depth = 30,\n",
        "                                                    bootstrap = False)\n",
        "rfc.fit(X_train_pca, y_train)\n",
        "#display(rfc.score(X_train_pca, y_train))"
      ]
    },
    {
      "cell_type": "code",
      "execution_count": 65,
      "metadata": {
        "id": "6zUTaD8DaQHg"
      },
      "outputs": [],
      "source": [
        "y_predi_train = rfc.predict(X_train_pca)\n",
        "y_predi_test = rfc.predict(X_val_pca)"
      ]
    },
    {
      "cell_type": "code",
      "execution_count": 66,
      "metadata": {
        "id": "Bj17WJiEaZzR"
      },
      "outputs": [],
      "source": [
        "y_proba_train = rfc.predict_proba(X_train_pca)\n",
        "y_proba_test = rfc.predict_proba(X_val_pca)"
      ]
    },
    {
      "cell_type": "markdown",
      "metadata": {
        "id": "uExie38FY_29"
      },
      "source": [
        "From this result we can see no much improvement to avoid the overfitting"
      ]
    },
    {
      "cell_type": "code",
      "execution_count": 67,
      "metadata": {
        "colab": {
          "base_uri": "https://localhost:8080/"
        },
        "id": "KSEhW6xJaZeZ",
        "outputId": "c6085a39-d72e-44ae-c6e7-edb6f9038261"
      },
      "outputs": [
        {
          "name": "stdout",
          "output_type": "stream",
          "text": [
            "Accuracy on train data: 1.0\n",
            "Accuracy on test data: 0.565777981117165\n",
            "------------------------------\n",
            "F1-score on train data: 1.0\n",
            "F1-score on test data: 0.5140510271027192\n",
            "------------------------------\n",
            "Cross-entropy on train data: 0.1917603378944284\n",
            "Cross-entropy on test data: 1.4126442615359547\n",
            "------------------------------\n"
          ]
        }
      ],
      "source": [
        "from sklearn.metrics import accuracy_score, f1_score, log_loss\n",
        "\n",
        "print(f'Accuracy on train data: {accuracy_score(y_train, y_predi_train)}')\n",
        "print(f'Accuracy on test data: {accuracy_score(y_val, y_predi_test)}')\n",
        "print('---'*10)\n",
        "print(f'F1-score on train data: {f1_score(y_train, y_predi_train, average=\"macro\")}')\n",
        "print(f'F1-score on test data: {f1_score(y_val, y_predi_test, average=\"macro\")}')\n",
        "print('---'*10)\n",
        "print(f'Cross-entropy on train data: {log_loss(y_train, y_proba_train, labels=labels)}')\n",
        "print(f'Cross-entropy on test data: {log_loss(y_val, y_proba_test, labels=labels)}')\n",
        "print('---'*10)"
      ]
    }
  ],
  "metadata": {
    "colab": {
      "collapsed_sections": [],
      "include_colab_link": true,
      "machine_shape": "hm",
      "name": "Random_forest model.ipynb",
      "provenance": [],
      "toc_visible": true
    },
    "gpuClass": "standard",
    "kernelspec": {
      "display_name": "Python 3.9.8 ('.venv': venv)",
      "language": "python",
      "name": "python3"
    },
    "language_info": {
      "codemirror_mode": {
        "name": "ipython",
        "version": 3
      },
      "file_extension": ".py",
      "mimetype": "text/x-python",
      "name": "python",
      "nbconvert_exporter": "python",
      "pygments_lexer": "ipython3",
      "version": "3.9.8"
    },
    "orig_nbformat": 4,
    "vscode": {
      "interpreter": {
        "hash": "558383d52a52ef837c60afaa896631003b5778f054e8f204669e9936cd627072"
      }
    }
  },
  "nbformat": 4,
  "nbformat_minor": 0
}
