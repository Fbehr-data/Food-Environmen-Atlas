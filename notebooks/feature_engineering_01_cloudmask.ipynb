{
 "cells": [
  {
   "cell_type": "markdown",
   "metadata": {},
   "source": [
    "# Cloudmasking\n",
    "*by Felix*\n",
    "\n",
    "Notebook to test how the cloudmasking work. For actually cloudmasking the data please use the feature_engineering.py .\n",
    "We first need to import all the needed modules."
   ]
  },
  {
   "cell_type": "code",
   "execution_count": 2,
   "metadata": {},
   "outputs": [],
   "source": [
    "# import the needed modules\n",
    "import numpy as np\n",
    "import pandas as pd\n",
    "import os"
   ]
  },
  {
   "cell_type": "markdown",
   "metadata": {},
   "source": [
    "Set up Working directory"
   ]
  },
  {
   "cell_type": "code",
   "execution_count": 10,
   "metadata": {},
   "outputs": [
    {
     "name": "stdout",
     "output_type": "stream",
     "text": [
      "Current Working directory: /Users/felixbehrendt/neuefische/Radiant-Earth-Spot-Crop/\n"
     ]
    }
   ],
   "source": [
    "#path = os.getcwd()\n",
    "path = '/Users/felixbehrendt/neuefische/Radiant-Earth-Spot-Crop/'\n",
    "# Set Workign directory and print\n",
    "os.chdir(path)\n",
    "print(f'Current Working directory: {path}')"
   ]
  },
  {
   "cell_type": "markdown",
   "metadata": {},
   "source": [
    "Load data from preprocessing module"
   ]
  },
  {
   "cell_type": "code",
   "execution_count": 12,
   "metadata": {},
   "outputs": [
    {
     "data": {
      "text/html": [
       "<div>\n",
       "<style scoped>\n",
       "    .dataframe tbody tr th:only-of-type {\n",
       "        vertical-align: middle;\n",
       "    }\n",
       "\n",
       "    .dataframe tbody tr th {\n",
       "        vertical-align: top;\n",
       "    }\n",
       "\n",
       "    .dataframe thead th {\n",
       "        text-align: right;\n",
       "    }\n",
       "</style>\n",
       "<table border=\"1\" class=\"dataframe\">\n",
       "  <thead>\n",
       "    <tr style=\"text-align: right;\">\n",
       "      <th></th>\n",
       "      <th>field_id</th>\n",
       "      <th>date</th>\n",
       "      <th>label</th>\n",
       "      <th>B02</th>\n",
       "      <th>B03</th>\n",
       "      <th>B04</th>\n",
       "      <th>B08</th>\n",
       "      <th>B11</th>\n",
       "      <th>B12</th>\n",
       "      <th>CLM</th>\n",
       "    </tr>\n",
       "  </thead>\n",
       "  <tbody>\n",
       "    <tr>\n",
       "      <th>0</th>\n",
       "      <td>1</td>\n",
       "      <td>2017-04-01</td>\n",
       "      <td>4</td>\n",
       "      <td>21.934084</td>\n",
       "      <td>29.180065</td>\n",
       "      <td>35.554660</td>\n",
       "      <td>62.490353</td>\n",
       "      <td>68.39710</td>\n",
       "      <td>46.040190</td>\n",
       "      <td>255.0</td>\n",
       "    </tr>\n",
       "    <tr>\n",
       "      <th>1</th>\n",
       "      <td>1</td>\n",
       "      <td>2017-04-11</td>\n",
       "      <td>4</td>\n",
       "      <td>14.844051</td>\n",
       "      <td>23.114147</td>\n",
       "      <td>30.607718</td>\n",
       "      <td>58.736336</td>\n",
       "      <td>73.43569</td>\n",
       "      <td>48.863342</td>\n",
       "      <td>0.0</td>\n",
       "    </tr>\n",
       "    <tr>\n",
       "      <th>2</th>\n",
       "      <td>1</td>\n",
       "      <td>2017-04-21</td>\n",
       "      <td>4</td>\n",
       "      <td>13.385852</td>\n",
       "      <td>21.596462</td>\n",
       "      <td>29.223473</td>\n",
       "      <td>57.065918</td>\n",
       "      <td>73.66881</td>\n",
       "      <td>49.313503</td>\n",
       "      <td>0.0</td>\n",
       "    </tr>\n",
       "    <tr>\n",
       "      <th>3</th>\n",
       "      <td>1</td>\n",
       "      <td>2017-05-01</td>\n",
       "      <td>4</td>\n",
       "      <td>15.408361</td>\n",
       "      <td>22.471062</td>\n",
       "      <td>29.371382</td>\n",
       "      <td>56.434082</td>\n",
       "      <td>71.05788</td>\n",
       "      <td>46.557877</td>\n",
       "      <td>0.0</td>\n",
       "    </tr>\n",
       "    <tr>\n",
       "      <th>4</th>\n",
       "      <td>1</td>\n",
       "      <td>2017-05-11</td>\n",
       "      <td>4</td>\n",
       "      <td>54.829582</td>\n",
       "      <td>65.739550</td>\n",
       "      <td>72.906750</td>\n",
       "      <td>95.672030</td>\n",
       "      <td>66.14791</td>\n",
       "      <td>58.643085</td>\n",
       "      <td>255.0</td>\n",
       "    </tr>\n",
       "  </tbody>\n",
       "</table>\n",
       "</div>"
      ],
      "text/plain": [
       "   field_id        date  label        B02        B03        B04        B08  \\\n",
       "0         1  2017-04-01      4  21.934084  29.180065  35.554660  62.490353   \n",
       "1         1  2017-04-11      4  14.844051  23.114147  30.607718  58.736336   \n",
       "2         1  2017-04-21      4  13.385852  21.596462  29.223473  57.065918   \n",
       "3         1  2017-05-01      4  15.408361  22.471062  29.371382  56.434082   \n",
       "4         1  2017-05-11      4  54.829582  65.739550  72.906750  95.672030   \n",
       "\n",
       "        B11        B12    CLM  \n",
       "0  68.39710  46.040190  255.0  \n",
       "1  73.43569  48.863342    0.0  \n",
       "2  73.66881  49.313503    0.0  \n",
       "3  71.05788  46.557877    0.0  \n",
       "4  66.14791  58.643085  255.0  "
      ]
     },
     "execution_count": 12,
     "metadata": {},
     "output_type": "execute_result"
    }
   ],
   "source": [
    "df = pd.read_csv('data/mean_band_perField_perDate.csv')\n",
    "df.head()"
   ]
  },
  {
   "cell_type": "markdown",
   "metadata": {},
   "source": [
    "The data has only two values for the Cloudmask(CLM) - 0 : unclouded and 255 : No Information See EDA_cloud_mask.ipynb. </br>\n",
    "\n",
    "Currently its possible to choose between two options:\n",
    "1. Keep all values              --> delete CLM column\n",
    "2. Keep rows with CLM == 0      --> delete CLM column"
   ]
  },
  {
   "cell_type": "code",
   "execution_count": 35,
   "metadata": {},
   "outputs": [],
   "source": [
    "def drop_unknown_fun(df:pd.DataFrame, verbose:bool=False) -> pd.DataFrame:\n",
    "    \"\"\"Takes the Data and removes all rows with unknown Cloudinformation\n",
    "\n",
    "    Args:\n",
    "        df (pd.DataFrame): Full Dataset\n",
    "        verbose (Boolean): Print information about loose of information (rows), Default to False\n",
    "\n",
    "    Returns:\n",
    "        pd.DataFrame: Dataset without clouds or dropped Cloud column\n",
    "    \"\"\"\n",
    "\n",
    "    # create subset with only the data that have no cloud and drop CLM Column\n",
    "    df_wo_cloud = df[df.CLM == 255]\n",
    "\n",
    "    # Print Loose of information\n",
    "    if verbose:\n",
    "        print(f'Rows without unknown:             {df_wo_cloud.shape[0]}')\n",
    "        print(f'Rows with unknown:                {df.shape[0]}')\n",
    "        print(f'Precentage of remaining Data:     {round((df_wo_cloud.shape[0] / df.shape[0]) * 100, 3)} %')\n",
    "\n",
    "    return df_wo_cloud\n",
    "\n",
    "def delete_CLM_column(df:pd.DataFrame) -> pd.DataFrame:\n",
    "    \"\"\"Deletes the CLM column\n",
    "\n",
    "    Args:\n",
    "        df (pd.DataFrame): Data with CLM column\n",
    "\n",
    "    Returns:\n",
    "        pd.DataFrame: Data without CLM column\n",
    "    \"\"\"\n",
    "    return df.drop('CLM', axis=1)\n",
    "\n",
    "\n",
    "def cloud_mask(df:pd.DataFrame, drop_unknown:bool = False, verbose:bool = False) -> pd.DataFrame:\n",
    "    \"\"\" Handle cloudy data in the dataset\n",
    "\n",
    "    Args:\n",
    "        df (pd.DataFrame): Dataset (independently from dataset)\n",
    "        drop_unknown (bool): Decide whether to drop unknown data or not. Default to False\n",
    "        verbose (bool, optional): Print information about loose of information (rows). Defaults to False.\n",
    "\n",
    "    Returns:\n",
    "        pd.DataFrame: returns data as df without cloudinformation\n",
    "    \"\"\"\n",
    "    if drop_unknown:\n",
    "        df = drop_unknown_fun(df, verbose)\n",
    "    \n",
    "    return delete_CLM_column(df)\n"
   ]
  },
  {
   "cell_type": "markdown",
   "metadata": {},
   "source": [
    "First a short look on the data by keeping the unknown data:"
   ]
  },
  {
   "cell_type": "code",
   "execution_count": 15,
   "metadata": {},
   "outputs": [
    {
     "name": "stdout",
     "output_type": "stream",
     "text": [
      "Rows of Original Data: 4301227\n",
      "Rows of Without Cloud Data: 4301227\n"
     ]
    }
   ],
   "source": [
    "df_woCLM = cloud_mask(df)\n",
    "df_woCLM.head()\n",
    "\n",
    "print(f'Rows of Original Data: {df.shape[0]}')\n",
    "print(f'Rows of Without Cloud Data: {df_woCLM.shape[0]}')"
   ]
  },
  {
   "cell_type": "markdown",
   "metadata": {},
   "source": [
    "First a short look on the data by deleting the unknown data:"
   ]
  },
  {
   "cell_type": "code",
   "execution_count": 36,
   "metadata": {},
   "outputs": [
    {
     "name": "stdout",
     "output_type": "stream",
     "text": [
      "Rows without unknown:             1473025\n",
      "Rows with unknown:                4301227\n",
      "Precentage of remaining Data:     34.247 %\n",
      "Rows of Original Data: 4301227\n",
      "Rows of Without Cloud Data: 1473025\n"
     ]
    }
   ],
   "source": [
    "df_woCLM_2 = cloud_mask(df, drop_unknown=True, verbose=True)\n",
    "df_woCLM_2.head()\n",
    "\n",
    "print(f'Rows of Original Data: {df.shape[0]}')\n",
    "print(f'Rows of Without Cloud Data: {df_woCLM_2.shape[0]}')"
   ]
  }
 ],
 "metadata": {
  "kernelspec": {
   "display_name": "Python 3.9.8 ('.venv': venv)",
   "language": "python",
   "name": "python3"
  },
  "language_info": {
   "codemirror_mode": {
    "name": "ipython",
    "version": 3
   },
   "file_extension": ".py",
   "mimetype": "text/x-python",
   "name": "python",
   "nbconvert_exporter": "python",
   "pygments_lexer": "ipython3",
   "version": "3.9.8"
  },
  "orig_nbformat": 4,
  "vscode": {
   "interpreter": {
    "hash": "79f8c2148c6ef70f00ab3e355f3567115c74c068162dbb64509ccd5964888a99"
   }
  }
 },
 "nbformat": 4,
 "nbformat_minor": 2
}
