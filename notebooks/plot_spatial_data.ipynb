{
 "cells": [
  {
   "cell_type": "code",
   "execution_count": 5,
   "metadata": {},
   "outputs": [],
   "source": [
    "import os\n",
    "import numpy as np\n",
    "import pandas as pd\n",
    "#import datetime\n",
    "import rasterio\n",
    "from osgeo import gdal\n",
    "from matplotlib import pyplot"
   ]
  },
  {
   "cell_type": "code",
   "execution_count": 6,
   "metadata": {},
   "outputs": [],
   "source": [
    "# Load data\n",
    "train_df = pd.read_csv('/Users/felixbehrendt/neuefische/Radiant-Earth-Spot-Crop/data/train_data.csv')"
   ]
  },
  {
   "cell_type": "code",
   "execution_count": 3,
   "metadata": {},
   "outputs": [
    {
     "data": {
      "text/html": [
       "<div>\n",
       "<style scoped>\n",
       "    .dataframe tbody tr th:only-of-type {\n",
       "        vertical-align: middle;\n",
       "    }\n",
       "\n",
       "    .dataframe tbody tr th {\n",
       "        vertical-align: top;\n",
       "    }\n",
       "\n",
       "    .dataframe thead th {\n",
       "        text-align: right;\n",
       "    }\n",
       "</style>\n",
       "<table border=\"1\" class=\"dataframe\">\n",
       "  <thead>\n",
       "    <tr style=\"text-align: right;\">\n",
       "      <th></th>\n",
       "      <th>tile_id</th>\n",
       "      <th>datetime</th>\n",
       "      <th>satellite_platform</th>\n",
       "      <th>asset</th>\n",
       "      <th>file_path</th>\n",
       "    </tr>\n",
       "  </thead>\n",
       "  <tbody>\n",
       "    <tr>\n",
       "      <th>0</th>\n",
       "      <td>2587</td>\n",
       "      <td>NaN</td>\n",
       "      <td>NaN</td>\n",
       "      <td>documentation</td>\n",
       "      <td>./data/ref_south_africa_crops_competition_v1_t...</td>\n",
       "    </tr>\n",
       "    <tr>\n",
       "      <th>1</th>\n",
       "      <td>2587</td>\n",
       "      <td>NaN</td>\n",
       "      <td>NaN</td>\n",
       "      <td>field_ids</td>\n",
       "      <td>./data/ref_south_africa_crops_competition_v1_t...</td>\n",
       "    </tr>\n",
       "    <tr>\n",
       "      <th>2</th>\n",
       "      <td>2587</td>\n",
       "      <td>NaN</td>\n",
       "      <td>NaN</td>\n",
       "      <td>field_info_train</td>\n",
       "      <td>./data/ref_south_africa_crops_competition_v1_t...</td>\n",
       "    </tr>\n",
       "    <tr>\n",
       "      <th>3</th>\n",
       "      <td>2587</td>\n",
       "      <td>NaN</td>\n",
       "      <td>NaN</td>\n",
       "      <td>labels</td>\n",
       "      <td>./data/ref_south_africa_crops_competition_v1_t...</td>\n",
       "    </tr>\n",
       "    <tr>\n",
       "      <th>4</th>\n",
       "      <td>2587</td>\n",
       "      <td>NaN</td>\n",
       "      <td>NaN</td>\n",
       "      <td>raster_values</td>\n",
       "      <td>./data/ref_south_africa_crops_competition_v1_t...</td>\n",
       "    </tr>\n",
       "    <tr>\n",
       "      <th>5</th>\n",
       "      <td>2587</td>\n",
       "      <td>2017-04-01T00:00:00Z</td>\n",
       "      <td>s2</td>\n",
       "      <td>B02</td>\n",
       "      <td>./data/ref_south_africa_crops_competition_v1_t...</td>\n",
       "    </tr>\n",
       "    <tr>\n",
       "      <th>6</th>\n",
       "      <td>2587</td>\n",
       "      <td>2017-04-01T00:00:00Z</td>\n",
       "      <td>s2</td>\n",
       "      <td>B03</td>\n",
       "      <td>./data/ref_south_africa_crops_competition_v1_t...</td>\n",
       "    </tr>\n",
       "    <tr>\n",
       "      <th>7</th>\n",
       "      <td>2587</td>\n",
       "      <td>2017-04-01T00:00:00Z</td>\n",
       "      <td>s2</td>\n",
       "      <td>B04</td>\n",
       "      <td>./data/ref_south_africa_crops_competition_v1_t...</td>\n",
       "    </tr>\n",
       "    <tr>\n",
       "      <th>8</th>\n",
       "      <td>2587</td>\n",
       "      <td>2017-04-01T00:00:00Z</td>\n",
       "      <td>s2</td>\n",
       "      <td>B08</td>\n",
       "      <td>./data/ref_south_africa_crops_competition_v1_t...</td>\n",
       "    </tr>\n",
       "    <tr>\n",
       "      <th>9</th>\n",
       "      <td>2587</td>\n",
       "      <td>2017-04-01T00:00:00Z</td>\n",
       "      <td>s2</td>\n",
       "      <td>B11</td>\n",
       "      <td>./data/ref_south_africa_crops_competition_v1_t...</td>\n",
       "    </tr>\n",
       "  </tbody>\n",
       "</table>\n",
       "</div>"
      ],
      "text/plain": [
       "   tile_id              datetime satellite_platform             asset  \\\n",
       "0     2587                   NaN                NaN     documentation   \n",
       "1     2587                   NaN                NaN         field_ids   \n",
       "2     2587                   NaN                NaN  field_info_train   \n",
       "3     2587                   NaN                NaN            labels   \n",
       "4     2587                   NaN                NaN     raster_values   \n",
       "5     2587  2017-04-01T00:00:00Z                 s2               B02   \n",
       "6     2587  2017-04-01T00:00:00Z                 s2               B03   \n",
       "7     2587  2017-04-01T00:00:00Z                 s2               B04   \n",
       "8     2587  2017-04-01T00:00:00Z                 s2               B08   \n",
       "9     2587  2017-04-01T00:00:00Z                 s2               B11   \n",
       "\n",
       "                                           file_path  \n",
       "0  ./data/ref_south_africa_crops_competition_v1_t...  \n",
       "1  ./data/ref_south_africa_crops_competition_v1_t...  \n",
       "2  ./data/ref_south_africa_crops_competition_v1_t...  \n",
       "3  ./data/ref_south_africa_crops_competition_v1_t...  \n",
       "4  ./data/ref_south_africa_crops_competition_v1_t...  \n",
       "5  ./data/ref_south_africa_crops_competition_v1_t...  \n",
       "6  ./data/ref_south_africa_crops_competition_v1_t...  \n",
       "7  ./data/ref_south_africa_crops_competition_v1_t...  \n",
       "8  ./data/ref_south_africa_crops_competition_v1_t...  \n",
       "9  ./data/ref_south_africa_crops_competition_v1_t...  "
      ]
     },
     "execution_count": 3,
     "metadata": {},
     "output_type": "execute_result"
    }
   ],
   "source": [
    "train_df.labels"
   ]
  },
  {
   "cell_type": "code",
   "execution_count": 7,
   "metadata": {},
   "outputs": [
    {
     "data": {
      "text/html": [
       "<div>\n",
       "<style scoped>\n",
       "    .dataframe tbody tr th:only-of-type {\n",
       "        vertical-align: middle;\n",
       "    }\n",
       "\n",
       "    .dataframe tbody tr th {\n",
       "        vertical-align: top;\n",
       "    }\n",
       "\n",
       "    .dataframe thead th {\n",
       "        text-align: right;\n",
       "    }\n",
       "</style>\n",
       "<table border=\"1\" class=\"dataframe\">\n",
       "  <thead>\n",
       "    <tr style=\"text-align: right;\">\n",
       "      <th></th>\n",
       "      <th>tile_id</th>\n",
       "      <th>datetime</th>\n",
       "      <th>satellite_platform</th>\n",
       "      <th>asset</th>\n",
       "      <th>file_path</th>\n",
       "    </tr>\n",
       "  </thead>\n",
       "  <tbody>\n",
       "    <tr>\n",
       "      <th>5</th>\n",
       "      <td>2587</td>\n",
       "      <td>2017-04-01T00:00:00Z</td>\n",
       "      <td>s2</td>\n",
       "      <td>B02</td>\n",
       "      <td>./data/ref_south_africa_crops_competition_v1_t...</td>\n",
       "    </tr>\n",
       "    <tr>\n",
       "      <th>6</th>\n",
       "      <td>2587</td>\n",
       "      <td>2017-04-01T00:00:00Z</td>\n",
       "      <td>s2</td>\n",
       "      <td>B03</td>\n",
       "      <td>./data/ref_south_africa_crops_competition_v1_t...</td>\n",
       "    </tr>\n",
       "    <tr>\n",
       "      <th>7</th>\n",
       "      <td>2587</td>\n",
       "      <td>2017-04-01T00:00:00Z</td>\n",
       "      <td>s2</td>\n",
       "      <td>B04</td>\n",
       "      <td>./data/ref_south_africa_crops_competition_v1_t...</td>\n",
       "    </tr>\n",
       "    <tr>\n",
       "      <th>8</th>\n",
       "      <td>2587</td>\n",
       "      <td>2017-04-01T00:00:00Z</td>\n",
       "      <td>s2</td>\n",
       "      <td>B08</td>\n",
       "      <td>./data/ref_south_africa_crops_competition_v1_t...</td>\n",
       "    </tr>\n",
       "    <tr>\n",
       "      <th>9</th>\n",
       "      <td>2587</td>\n",
       "      <td>2017-04-01T00:00:00Z</td>\n",
       "      <td>s2</td>\n",
       "      <td>B11</td>\n",
       "      <td>./data/ref_south_africa_crops_competition_v1_t...</td>\n",
       "    </tr>\n",
       "    <tr>\n",
       "      <th>...</th>\n",
       "      <td>...</td>\n",
       "      <td>...</td>\n",
       "      <td>...</td>\n",
       "      <td>...</td>\n",
       "      <td>...</td>\n",
       "    </tr>\n",
       "    <tr>\n",
       "      <th>1023982</th>\n",
       "      <td>2198</td>\n",
       "      <td>2017-04-01T00:00:00Z</td>\n",
       "      <td>s2</td>\n",
       "      <td>B04</td>\n",
       "      <td>./data/ref_south_africa_crops_competition_v1_t...</td>\n",
       "    </tr>\n",
       "    <tr>\n",
       "      <th>1023983</th>\n",
       "      <td>2198</td>\n",
       "      <td>2017-04-01T00:00:00Z</td>\n",
       "      <td>s2</td>\n",
       "      <td>B08</td>\n",
       "      <td>./data/ref_south_africa_crops_competition_v1_t...</td>\n",
       "    </tr>\n",
       "    <tr>\n",
       "      <th>1023984</th>\n",
       "      <td>2198</td>\n",
       "      <td>2017-04-01T00:00:00Z</td>\n",
       "      <td>s2</td>\n",
       "      <td>B11</td>\n",
       "      <td>./data/ref_south_africa_crops_competition_v1_t...</td>\n",
       "    </tr>\n",
       "    <tr>\n",
       "      <th>1023985</th>\n",
       "      <td>2198</td>\n",
       "      <td>2017-04-01T00:00:00Z</td>\n",
       "      <td>s2</td>\n",
       "      <td>B12</td>\n",
       "      <td>./data/ref_south_africa_crops_competition_v1_t...</td>\n",
       "    </tr>\n",
       "    <tr>\n",
       "      <th>1023986</th>\n",
       "      <td>2198</td>\n",
       "      <td>2017-04-01T00:00:00Z</td>\n",
       "      <td>s2</td>\n",
       "      <td>CLM</td>\n",
       "      <td>./data/ref_south_africa_crops_competition_v1_t...</td>\n",
       "    </tr>\n",
       "  </tbody>\n",
       "</table>\n",
       "<p>16828 rows × 5 columns</p>\n",
       "</div>"
      ],
      "text/plain": [
       "         tile_id              datetime satellite_platform asset  \\\n",
       "5           2587  2017-04-01T00:00:00Z                 s2   B02   \n",
       "6           2587  2017-04-01T00:00:00Z                 s2   B03   \n",
       "7           2587  2017-04-01T00:00:00Z                 s2   B04   \n",
       "8           2587  2017-04-01T00:00:00Z                 s2   B08   \n",
       "9           2587  2017-04-01T00:00:00Z                 s2   B11   \n",
       "...          ...                   ...                ...   ...   \n",
       "1023982     2198  2017-04-01T00:00:00Z                 s2   B04   \n",
       "1023983     2198  2017-04-01T00:00:00Z                 s2   B08   \n",
       "1023984     2198  2017-04-01T00:00:00Z                 s2   B11   \n",
       "1023985     2198  2017-04-01T00:00:00Z                 s2   B12   \n",
       "1023986     2198  2017-04-01T00:00:00Z                 s2   CLM   \n",
       "\n",
       "                                                 file_path  \n",
       "5        ./data/ref_south_africa_crops_competition_v1_t...  \n",
       "6        ./data/ref_south_africa_crops_competition_v1_t...  \n",
       "7        ./data/ref_south_africa_crops_competition_v1_t...  \n",
       "8        ./data/ref_south_africa_crops_competition_v1_t...  \n",
       "9        ./data/ref_south_africa_crops_competition_v1_t...  \n",
       "...                                                    ...  \n",
       "1023982  ./data/ref_south_africa_crops_competition_v1_t...  \n",
       "1023983  ./data/ref_south_africa_crops_competition_v1_t...  \n",
       "1023984  ./data/ref_south_africa_crops_competition_v1_t...  \n",
       "1023985  ./data/ref_south_africa_crops_competition_v1_t...  \n",
       "1023986  ./data/ref_south_africa_crops_competition_v1_t...  \n",
       "\n",
       "[16828 rows x 5 columns]"
      ]
     },
     "execution_count": 7,
     "metadata": {},
     "output_type": "execute_result"
    }
   ],
   "source": [
    "# April Data\n",
    "train_april = train_df.loc[(train_df['datetime'] <= '2017-04-02T00:00:00+0000')]\n",
    "train_april"
   ]
  },
  {
   "cell_type": "code",
   "execution_count": 31,
   "metadata": {},
   "outputs": [],
   "source": [
    "df_b02_april = train_april.loc[(train_april['asset'] == 'B02')]\n",
    "df_b03_april = train_april.loc[(train_april['asset'] == 'B03')]\n",
    "df_b04_april = train_april.loc[(train_april['asset'] == 'B04')]"
   ]
  },
  {
   "cell_type": "code",
   "execution_count": null,
   "metadata": {},
   "outputs": [],
   "source": [
    "test = rasterio.open(df_b02_april.file_path.iloc[0]).bounds"
   ]
  },
  {
   "cell_type": "code",
   "execution_count": 30,
   "metadata": {},
   "outputs": [],
   "source": [
    "cmd_blue = 'gdal_merge.py -o merged_blue.tif'\n",
    "cmd_green = 'gdal_merge.py -o merged_green.tif'\n",
    "cmd_red = 'gdal_merge.py -o merged_red.tif'"
   ]
  },
  {
   "cell_type": "code",
   "execution_count": 32,
   "metadata": {},
   "outputs": [
    {
     "name": "stdout",
     "output_type": "stream",
     "text": [
      "0...10...20...30...40...50...60...70...80...90...100 - done.\n",
      "0...10...20...30...40...50...60...70...80...90...100 - done.\n",
      "0...10...20...30...40...50...60...70...80...90...100 - done.\n"
     ]
    },
    {
     "data": {
      "text/plain": [
       "0"
      ]
     },
     "execution_count": 32,
     "metadata": {},
     "output_type": "execute_result"
    }
   ],
   "source": [
    "subprocess.call(cmd_blue.split()+df_b02_april.file_path.to_list())\n",
    "subprocess.call(cmd_green.split()+df_b03_april.file_path.to_list())\n",
    "subprocess.call(cmd_red.split()+df_b04_april.file_path.to_list())\n"
   ]
  },
  {
   "cell_type": "code",
   "execution_count": 41,
   "metadata": {},
   "outputs": [],
   "source": [
    "from osgeo import gdal\n",
    "file_list = ['/Users/felixbehrendt/neuefische/Radiant-Earth-Spot-Crop/merged_blue.tif', '/Users/felixbehrendt/neuefische/Radiant-Earth-Spot-Crop/merged_green.tif', '/Users/felixbehrendt/neuefische/Radiant-Earth-Spot-Crop/merged_red.tif']  # or use sorted(glob.glob('*.tif')) if input images are sortable\n",
    "import rasterio\n",
    "\n",
    "\n",
    "# Read metadata of first file\n",
    "with rasterio.open(file_list[0]) as src0:\n",
    "    meta = src0.meta\n",
    "\n",
    "# Update meta to reflect the number of layers\n",
    "meta.update(count = len(file_list))\n",
    "\n",
    "# Read each layer and write it to stack\n",
    "with rasterio.open('stack.tif', 'w', **meta) as dst:\n",
    "    for id, layer in enumerate(file_list, start=1):\n",
    "        with rasterio.open(layer) as src1:\n",
    "            dst.write_band(id, src1.read(1))"
   ]
  },
  {
   "cell_type": "code",
   "execution_count": 45,
   "metadata": {},
   "outputs": [
    {
     "data": {
      "image/png": "[encoded data removed]",
      "text/plain": [
       "<Figure size 432x288 with 1 Axes>"
      ]
     },
     "metadata": {
      "needs_background": "light"
     },
     "output_type": "display_data"
    },
    {
     "data": {
      "text/plain": [
       "<AxesSubplot:>"
      ]
     },
     "execution_count": 45,
     "metadata": {},
     "output_type": "execute_result"
    }
   ],
   "source": [
    "from rasterio.plot import show\n",
    "tif = rasterio.open('/Users/felixbehrendt/neuefische/Radiant-Earth-Spot-Crop/stack.tif')\n",
    "show(tif.read(), transform=tif.transform)"
   ]
  },
  {
   "cell_type": "code",
   "execution_count": 8,
   "metadata": {},
   "outputs": [],
   "source": [
    "fields = train_df.loc[(train_df['asset'] == 'field_ids')]"
   ]
  },
  {
   "cell_type": "code",
   "execution_count": 51,
   "metadata": {},
   "outputs": [
    {
     "name": "stdout",
     "output_type": "stream",
     "text": [
      "0...10...20...30...40...50...60...70...80...90...100 - done.\n"
     ]
    },
    {
     "data": {
      "text/plain": [
       "0"
      ]
     },
     "execution_count": 51,
     "metadata": {},
     "output_type": "execute_result"
    }
   ],
   "source": [
    "import subprocess\n",
    "\n",
    "cmd = 'gdal_merge.py -o field.tif'\n",
    "subprocess.call(cmd.split()+fields.file_path.to_list())"
   ]
  },
  {
   "cell_type": "code",
   "execution_count": 52,
   "metadata": {},
   "outputs": [
    {
     "data": {
      "image/png": "[encoded data removed]",
      "text/plain": [
       "<Figure size 432x288 with 1 Axes>"
      ]
     },
     "metadata": {
      "needs_background": "light"
     },
     "output_type": "display_data"
    },
    {
     "data": {
      "text/plain": [
       "<AxesSubplot:>"
      ]
     },
     "execution_count": 52,
     "metadata": {},
     "output_type": "execute_result"
    }
   ],
   "source": [
    "from rasterio.plot import show\n",
    "tif = rasterio.open('/Users/felixbehrendt/neuefische/Radiant-Earth-Spot-Crop/field.tif')\n",
    "show(tif.read())"
   ]
  },
  {
   "cell_type": "code",
   "execution_count": 53,
   "metadata": {},
   "outputs": [
    {
     "data": {
      "text/html": [
       "<div>\n",
       "<style scoped>\n",
       "    .dataframe tbody tr th:only-of-type {\n",
       "        vertical-align: middle;\n",
       "    }\n",
       "\n",
       "    .dataframe tbody tr th {\n",
       "        vertical-align: top;\n",
       "    }\n",
       "\n",
       "    .dataframe thead th {\n",
       "        text-align: right;\n",
       "    }\n",
       "</style>\n",
       "<table border=\"1\" class=\"dataframe\">\n",
       "  <thead>\n",
       "    <tr style=\"text-align: right;\">\n",
       "      <th></th>\n",
       "      <th>tile_id</th>\n",
       "      <th>datetime</th>\n",
       "      <th>satellite_platform</th>\n",
       "      <th>asset</th>\n",
       "      <th>file_path</th>\n",
       "    </tr>\n",
       "  </thead>\n",
       "  <tbody>\n",
       "    <tr>\n",
       "      <th>1</th>\n",
       "      <td>2587</td>\n",
       "      <td>NaN</td>\n",
       "      <td>NaN</td>\n",
       "      <td>field_ids</td>\n",
       "      <td>./data/ref_south_africa_crops_competition_v1_t...</td>\n",
       "    </tr>\n",
       "    <tr>\n",
       "      <th>272</th>\n",
       "      <td>1302</td>\n",
       "      <td>NaN</td>\n",
       "      <td>NaN</td>\n",
       "      <td>field_ids</td>\n",
       "      <td>./data/ref_south_africa_crops_competition_v1_t...</td>\n",
       "    </tr>\n",
       "    <tr>\n",
       "      <th>543</th>\n",
       "      <td>1130</td>\n",
       "      <td>NaN</td>\n",
       "      <td>NaN</td>\n",
       "      <td>field_ids</td>\n",
       "      <td>./data/ref_south_africa_crops_competition_v1_t...</td>\n",
       "    </tr>\n",
       "    <tr>\n",
       "      <th>814</th>\n",
       "      <td>486</td>\n",
       "      <td>NaN</td>\n",
       "      <td>NaN</td>\n",
       "      <td>field_ids</td>\n",
       "      <td>./data/ref_south_africa_crops_competition_v1_t...</td>\n",
       "    </tr>\n",
       "    <tr>\n",
       "      <th>1351</th>\n",
       "      <td>1554</td>\n",
       "      <td>NaN</td>\n",
       "      <td>NaN</td>\n",
       "      <td>field_ids</td>\n",
       "      <td>./data/ref_south_africa_crops_competition_v1_t...</td>\n",
       "    </tr>\n",
       "    <tr>\n",
       "      <th>...</th>\n",
       "      <td>...</td>\n",
       "      <td>...</td>\n",
       "      <td>...</td>\n",
       "      <td>...</td>\n",
       "      <td>...</td>\n",
       "    </tr>\n",
       "    <tr>\n",
       "      <th>1022360</th>\n",
       "      <td>2508</td>\n",
       "      <td>NaN</td>\n",
       "      <td>NaN</td>\n",
       "      <td>field_ids</td>\n",
       "      <td>./data/ref_south_africa_crops_competition_v1_t...</td>\n",
       "    </tr>\n",
       "    <tr>\n",
       "      <th>1022897</th>\n",
       "      <td>1977</td>\n",
       "      <td>NaN</td>\n",
       "      <td>NaN</td>\n",
       "      <td>field_ids</td>\n",
       "      <td>./data/ref_south_africa_crops_competition_v1_t...</td>\n",
       "    </tr>\n",
       "    <tr>\n",
       "      <th>1023168</th>\n",
       "      <td>99</td>\n",
       "      <td>NaN</td>\n",
       "      <td>NaN</td>\n",
       "      <td>field_ids</td>\n",
       "      <td>./data/ref_south_africa_crops_competition_v1_t...</td>\n",
       "    </tr>\n",
       "    <tr>\n",
       "      <th>1023439</th>\n",
       "      <td>1379</td>\n",
       "      <td>NaN</td>\n",
       "      <td>NaN</td>\n",
       "      <td>field_ids</td>\n",
       "      <td>./data/ref_south_africa_crops_competition_v1_t...</td>\n",
       "    </tr>\n",
       "    <tr>\n",
       "      <th>1023976</th>\n",
       "      <td>2198</td>\n",
       "      <td>NaN</td>\n",
       "      <td>NaN</td>\n",
       "      <td>field_ids</td>\n",
       "      <td>./data/ref_south_africa_crops_competition_v1_t...</td>\n",
       "    </tr>\n",
       "  </tbody>\n",
       "</table>\n",
       "<p>2650 rows × 5 columns</p>\n",
       "</div>"
      ],
      "text/plain": [
       "         tile_id datetime satellite_platform      asset  \\\n",
       "1           2587      NaN                NaN  field_ids   \n",
       "272         1302      NaN                NaN  field_ids   \n",
       "543         1130      NaN                NaN  field_ids   \n",
       "814          486      NaN                NaN  field_ids   \n",
       "1351        1554      NaN                NaN  field_ids   \n",
       "...          ...      ...                ...        ...   \n",
       "1022360     2508      NaN                NaN  field_ids   \n",
       "1022897     1977      NaN                NaN  field_ids   \n",
       "1023168       99      NaN                NaN  field_ids   \n",
       "1023439     1379      NaN                NaN  field_ids   \n",
       "1023976     2198      NaN                NaN  field_ids   \n",
       "\n",
       "                                                 file_path  \n",
       "1        ./data/ref_south_africa_crops_competition_v1_t...  \n",
       "272      ./data/ref_south_africa_crops_competition_v1_t...  \n",
       "543      ./data/ref_south_africa_crops_competition_v1_t...  \n",
       "814      ./data/ref_south_africa_crops_competition_v1_t...  \n",
       "1351     ./data/ref_south_africa_crops_competition_v1_t...  \n",
       "...                                                    ...  \n",
       "1022360  ./data/ref_south_africa_crops_competition_v1_t...  \n",
       "1022897  ./data/ref_south_africa_crops_competition_v1_t...  \n",
       "1023168  ./data/ref_south_africa_crops_competition_v1_t...  \n",
       "1023439  ./data/ref_south_africa_crops_competition_v1_t...  \n",
       "1023976  ./data/ref_south_africa_crops_competition_v1_t...  \n",
       "\n",
       "[2650 rows x 5 columns]"
      ]
     },
     "execution_count": 53,
     "metadata": {},
     "output_type": "execute_result"
    }
   ],
   "source": [
    "fields"
   ]
  },
  {
   "cell_type": "code",
   "execution_count": 9,
   "metadata": {},
   "outputs": [
    {
     "name": "stderr",
     "output_type": "stream",
     "text": [
      "/var/folders/f0/z8td26157zjfjs53z8lhrpch0000gn/T/ipykernel_35607/3543020036.py:13: SettingWithCopyWarning: \n",
      "A value is trying to be set on a copy of a slice from a DataFrame.\n",
      "Try using .loc[row_indexer,col_indexer] = value instead\n",
      "\n",
      "See the caveats in the documentation: https://pandas.pydata.org/pandas-docs/stable/user_guide/indexing.html#returning-a-view-versus-a-copy\n",
      "  fields['rightBounding'] = fields.file_path.apply(get_bounding_right)\n",
      "/var/folders/f0/z8td26157zjfjs53z8lhrpch0000gn/T/ipykernel_35607/3543020036.py:14: SettingWithCopyWarning: \n",
      "A value is trying to be set on a copy of a slice from a DataFrame.\n",
      "Try using .loc[row_indexer,col_indexer] = value instead\n",
      "\n",
      "See the caveats in the documentation: https://pandas.pydata.org/pandas-docs/stable/user_guide/indexing.html#returning-a-view-versus-a-copy\n",
      "  fields['leftBounding'] = fields.file_path.apply(get_bounding_left)\n",
      "/var/folders/f0/z8td26157zjfjs53z8lhrpch0000gn/T/ipykernel_35607/3543020036.py:15: SettingWithCopyWarning: \n",
      "A value is trying to be set on a copy of a slice from a DataFrame.\n",
      "Try using .loc[row_indexer,col_indexer] = value instead\n",
      "\n",
      "See the caveats in the documentation: https://pandas.pydata.org/pandas-docs/stable/user_guide/indexing.html#returning-a-view-versus-a-copy\n",
      "  fields['bottomBounding'] = fields.file_path.apply(get_bounding_bottom)\n",
      "/var/folders/f0/z8td26157zjfjs53z8lhrpch0000gn/T/ipykernel_35607/3543020036.py:16: SettingWithCopyWarning: \n",
      "A value is trying to be set on a copy of a slice from a DataFrame.\n",
      "Try using .loc[row_indexer,col_indexer] = value instead\n",
      "\n",
      "See the caveats in the documentation: https://pandas.pydata.org/pandas-docs/stable/user_guide/indexing.html#returning-a-view-versus-a-copy\n",
      "  fields['topBounding'] = fields.file_path.apply(get_bounding_top)\n"
     ]
    }
   ],
   "source": [
    "def get_bounding_left(path_to_file:str):\n",
    "    return rasterio.open(path_to_file).bounds[0]\n",
    "\n",
    "def get_bounding_bottom(path_to_file:str):\n",
    "    return rasterio.open(path_to_file).bounds[1]\n",
    "\n",
    "def get_bounding_right(path_to_file:str):\n",
    "    return rasterio.open(path_to_file).bounds[2]\n",
    "\n",
    "def get_bounding_top(path_to_file:str):\n",
    "    return rasterio.open(path_to_file).bounds[3]\n",
    "\n",
    "fields['rightBounding'] = fields.file_path.apply(get_bounding_right)\n",
    "fields['leftBounding'] = fields.file_path.apply(get_bounding_left)\n",
    "fields['bottomBounding'] = fields.file_path.apply(get_bounding_bottom)\n",
    "fields['topBounding'] = fields.file_path.apply(get_bounding_top)\n"
   ]
  },
  {
   "cell_type": "code",
   "execution_count": 10,
   "metadata": {},
   "outputs": [
    {
     "data": {
      "text/plain": [
       "[2314,\n",
       " 2516,\n",
       " 442,\n",
       " 480,\n",
       " 2189,\n",
       " 1959,\n",
       " 871,\n",
       " 935,\n",
       " 555,\n",
       " 2400,\n",
       " 1849,\n",
       " 2038,\n",
       " 1279,\n",
       " 2096,\n",
       " 522,\n",
       " 2078,\n",
       " 728,\n",
       " 1600,\n",
       " 1434,\n",
       " 1092,\n",
       " 988,\n",
       " 546,\n",
       " 1458,\n",
       " 601,\n",
       " 630,\n",
       " 2504,\n",
       " 95,\n",
       " 469,\n",
       " 457,\n",
       " 880,\n",
       " 1999,\n",
       " 2178,\n",
       " 2583,\n",
       " 2548,\n",
       " 1906,\n",
       " 2541,\n",
       " 1398,\n",
       " 424,\n",
       " 286,\n",
       " 2540,\n",
       " 1558,\n",
       " 477,\n",
       " 708,\n",
       " 2299,\n",
       " 391,\n",
       " 1680,\n",
       " 1226,\n",
       " 2291,\n",
       " 700,\n",
       " 1274,\n",
       " 352,\n",
       " 1476,\n",
       " 306,\n",
       " 1805,\n",
       " 1650,\n",
       " 740,\n",
       " 1692,\n",
       " 1293,\n",
       " 2086,\n",
       " 1055,\n",
       " 510,\n",
       " 1851,\n",
       " 2481,\n",
       " 784,\n",
       " 511,\n",
       " 186,\n",
       " 2421,\n",
       " 1439,\n",
       " 527,\n",
       " 1401,\n",
       " 2554,\n",
       " 497,\n",
       " 2394,\n",
       " 2360,\n",
       " 1378,\n",
       " 2163,\n",
       " 866,\n",
       " 39,\n",
       " 805,\n",
       " 462,\n",
       " 1315,\n",
       " 1180]"
      ]
     },
     "execution_count": 10,
     "metadata": {},
     "output_type": "execute_result"
    }
   ],
   "source": [
    "wrong_tile_id = fields.query('rightBounding > 400000').tile_id.to_list()\n",
    "wrong_tile_id"
   ]
  },
  {
   "cell_type": "code",
   "execution_count": 70,
   "metadata": {},
   "outputs": [
    {
     "data": {
      "text/html": [
       "<div>\n",
       "<style scoped>\n",
       "    .dataframe tbody tr th:only-of-type {\n",
       "        vertical-align: middle;\n",
       "    }\n",
       "\n",
       "    .dataframe tbody tr th {\n",
       "        vertical-align: top;\n",
       "    }\n",
       "\n",
       "    .dataframe thead th {\n",
       "        text-align: right;\n",
       "    }\n",
       "</style>\n",
       "<table border=\"1\" class=\"dataframe\">\n",
       "  <thead>\n",
       "    <tr style=\"text-align: right;\">\n",
       "      <th></th>\n",
       "      <th>tile_id</th>\n",
       "      <th>datetime</th>\n",
       "      <th>satellite_platform</th>\n",
       "      <th>asset</th>\n",
       "      <th>file_path</th>\n",
       "      <th>rightBounding</th>\n",
       "      <th>leftBounding</th>\n",
       "      <th>bottomBounding</th>\n",
       "      <th>topBounding</th>\n",
       "    </tr>\n",
       "  </thead>\n",
       "  <tbody>\n",
       "    <tr>\n",
       "      <th>1</th>\n",
       "      <td>2587</td>\n",
       "      <td>NaN</td>\n",
       "      <td>NaN</td>\n",
       "      <td>field_ids</td>\n",
       "      <td>./data/ref_south_africa_crops_competition_v1_t...</td>\n",
       "      <td>277280.0</td>\n",
       "      <td>274720.0</td>\n",
       "      <td>-3719680.0</td>\n",
       "      <td>-3717120.0</td>\n",
       "    </tr>\n",
       "    <tr>\n",
       "      <th>272</th>\n",
       "      <td>1302</td>\n",
       "      <td>NaN</td>\n",
       "      <td>NaN</td>\n",
       "      <td>field_ids</td>\n",
       "      <td>./data/ref_south_africa_crops_competition_v1_t...</td>\n",
       "      <td>323360.0</td>\n",
       "      <td>320800.0</td>\n",
       "      <td>-3545600.0</td>\n",
       "      <td>-3543040.0</td>\n",
       "    </tr>\n",
       "    <tr>\n",
       "      <th>543</th>\n",
       "      <td>1130</td>\n",
       "      <td>NaN</td>\n",
       "      <td>NaN</td>\n",
       "      <td>field_ids</td>\n",
       "      <td>./data/ref_south_africa_crops_competition_v1_t...</td>\n",
       "      <td>284960.0</td>\n",
       "      <td>282400.0</td>\n",
       "      <td>-3676160.0</td>\n",
       "      <td>-3673600.0</td>\n",
       "    </tr>\n",
       "    <tr>\n",
       "      <th>814</th>\n",
       "      <td>486</td>\n",
       "      <td>NaN</td>\n",
       "      <td>NaN</td>\n",
       "      <td>field_ids</td>\n",
       "      <td>./data/ref_south_africa_crops_competition_v1_t...</td>\n",
       "      <td>290080.0</td>\n",
       "      <td>287520.0</td>\n",
       "      <td>-3609600.0</td>\n",
       "      <td>-3607040.0</td>\n",
       "    </tr>\n",
       "    <tr>\n",
       "      <th>1351</th>\n",
       "      <td>1554</td>\n",
       "      <td>NaN</td>\n",
       "      <td>NaN</td>\n",
       "      <td>field_ids</td>\n",
       "      <td>./data/ref_south_africa_crops_competition_v1_t...</td>\n",
       "      <td>282400.0</td>\n",
       "      <td>279840.0</td>\n",
       "      <td>-3573760.0</td>\n",
       "      <td>-3571200.0</td>\n",
       "    </tr>\n",
       "    <tr>\n",
       "      <th>...</th>\n",
       "      <td>...</td>\n",
       "      <td>...</td>\n",
       "      <td>...</td>\n",
       "      <td>...</td>\n",
       "      <td>...</td>\n",
       "      <td>...</td>\n",
       "      <td>...</td>\n",
       "      <td>...</td>\n",
       "      <td>...</td>\n",
       "    </tr>\n",
       "    <tr>\n",
       "      <th>1022360</th>\n",
       "      <td>2508</td>\n",
       "      <td>NaN</td>\n",
       "      <td>NaN</td>\n",
       "      <td>field_ids</td>\n",
       "      <td>./data/ref_south_africa_crops_competition_v1_t...</td>\n",
       "      <td>254240.0</td>\n",
       "      <td>251680.0</td>\n",
       "      <td>-3630080.0</td>\n",
       "      <td>-3627520.0</td>\n",
       "    </tr>\n",
       "    <tr>\n",
       "      <th>1022897</th>\n",
       "      <td>1977</td>\n",
       "      <td>NaN</td>\n",
       "      <td>NaN</td>\n",
       "      <td>field_ids</td>\n",
       "      <td>./data/ref_south_africa_crops_competition_v1_t...</td>\n",
       "      <td>310560.0</td>\n",
       "      <td>308000.0</td>\n",
       "      <td>-3745280.0</td>\n",
       "      <td>-3742720.0</td>\n",
       "    </tr>\n",
       "    <tr>\n",
       "      <th>1023168</th>\n",
       "      <td>99</td>\n",
       "      <td>NaN</td>\n",
       "      <td>NaN</td>\n",
       "      <td>field_ids</td>\n",
       "      <td>./data/ref_south_africa_crops_competition_v1_t...</td>\n",
       "      <td>300320.0</td>\n",
       "      <td>297760.0</td>\n",
       "      <td>-3732480.0</td>\n",
       "      <td>-3729920.0</td>\n",
       "    </tr>\n",
       "    <tr>\n",
       "      <th>1023439</th>\n",
       "      <td>1379</td>\n",
       "      <td>NaN</td>\n",
       "      <td>NaN</td>\n",
       "      <td>field_ids</td>\n",
       "      <td>./data/ref_south_africa_crops_competition_v1_t...</td>\n",
       "      <td>249120.0</td>\n",
       "      <td>246560.0</td>\n",
       "      <td>-3607040.0</td>\n",
       "      <td>-3604480.0</td>\n",
       "    </tr>\n",
       "    <tr>\n",
       "      <th>1023976</th>\n",
       "      <td>2198</td>\n",
       "      <td>NaN</td>\n",
       "      <td>NaN</td>\n",
       "      <td>field_ids</td>\n",
       "      <td>./data/ref_south_africa_crops_competition_v1_t...</td>\n",
       "      <td>292640.0</td>\n",
       "      <td>290080.0</td>\n",
       "      <td>-3530240.0</td>\n",
       "      <td>-3527680.0</td>\n",
       "    </tr>\n",
       "  </tbody>\n",
       "</table>\n",
       "<p>2650 rows × 9 columns</p>\n",
       "</div>"
      ],
      "text/plain": [
       "         tile_id datetime satellite_platform      asset  \\\n",
       "1           2587      NaN                NaN  field_ids   \n",
       "272         1302      NaN                NaN  field_ids   \n",
       "543         1130      NaN                NaN  field_ids   \n",
       "814          486      NaN                NaN  field_ids   \n",
       "1351        1554      NaN                NaN  field_ids   \n",
       "...          ...      ...                ...        ...   \n",
       "1022360     2508      NaN                NaN  field_ids   \n",
       "1022897     1977      NaN                NaN  field_ids   \n",
       "1023168       99      NaN                NaN  field_ids   \n",
       "1023439     1379      NaN                NaN  field_ids   \n",
       "1023976     2198      NaN                NaN  field_ids   \n",
       "\n",
       "                                                 file_path  rightBounding  \\\n",
       "1        ./data/ref_south_africa_crops_competition_v1_t...       277280.0   \n",
       "272      ./data/ref_south_africa_crops_competition_v1_t...       323360.0   \n",
       "543      ./data/ref_south_africa_crops_competition_v1_t...       284960.0   \n",
       "814      ./data/ref_south_africa_crops_competition_v1_t...       290080.0   \n",
       "1351     ./data/ref_south_africa_crops_competition_v1_t...       282400.0   \n",
       "...                                                    ...            ...   \n",
       "1022360  ./data/ref_south_africa_crops_competition_v1_t...       254240.0   \n",
       "1022897  ./data/ref_south_africa_crops_competition_v1_t...       310560.0   \n",
       "1023168  ./data/ref_south_africa_crops_competition_v1_t...       300320.0   \n",
       "1023439  ./data/ref_south_africa_crops_competition_v1_t...       249120.0   \n",
       "1023976  ./data/ref_south_africa_crops_competition_v1_t...       292640.0   \n",
       "\n",
       "         leftBounding  bottomBounding  topBounding  \n",
       "1            274720.0      -3719680.0   -3717120.0  \n",
       "272          320800.0      -3545600.0   -3543040.0  \n",
       "543          282400.0      -3676160.0   -3673600.0  \n",
       "814          287520.0      -3609600.0   -3607040.0  \n",
       "1351         279840.0      -3573760.0   -3571200.0  \n",
       "...               ...             ...          ...  \n",
       "1022360      251680.0      -3630080.0   -3627520.0  \n",
       "1022897      308000.0      -3745280.0   -3742720.0  \n",
       "1023168      297760.0      -3732480.0   -3729920.0  \n",
       "1023439      246560.0      -3607040.0   -3604480.0  \n",
       "1023976      290080.0      -3530240.0   -3527680.0  \n",
       "\n",
       "[2650 rows x 9 columns]"
      ]
     },
     "execution_count": 70,
     "metadata": {},
     "output_type": "execute_result"
    }
   ],
   "source": [
    "fields"
   ]
  },
  {
   "cell_type": "code",
   "execution_count": 11,
   "metadata": {},
   "outputs": [
    {
     "data": {
      "text/plain": [
       "[213280.0, -3781120.0, 384800.0, -3404800.0]"
      ]
     },
     "execution_count": 11,
     "metadata": {},
     "output_type": "execute_result"
    }
   ],
   "source": [
    "sub_fields = fields[~np.isin(fields.tile_id, wrong_tile_id)]\n",
    "sub_fields\n",
    "\n",
    "bounding_box = [sub_fields.leftBounding.min(), sub_fields.bottomBounding.min(), sub_fields.rightBounding.max(), sub_fields.topBounding.max()]\n",
    "bounding_box"
   ]
  },
  {
   "cell_type": "code",
   "execution_count": 2,
   "metadata": {},
   "outputs": [],
   "source": [
    "import rioxarray"
   ]
  },
  {
   "cell_type": "code",
   "execution_count": 26,
   "metadata": {},
   "outputs": [
    {
     "data": {
      "text/plain": [
       "CRS.from_epsg(32634)"
      ]
     },
     "execution_count": 26,
     "metadata": {},
     "output_type": "execute_result"
    }
   ],
   "source": [
    "test = rioxarray.open_rasterio('/Users/felixbehrendt/neuefische/Radiant-Earth-Spot-Crop/field.tif')\n",
    "sub_test = rioxarray.open_rasterio(sub_fields.file_path.iloc[0])\n",
    "\n",
    "sub_test.rio.crs"
   ]
  },
  {
   "cell_type": "code",
   "execution_count": null,
   "metadata": {},
   "outputs": [],
   "source": [
    "out_xds = test.copy()"
   ]
  },
  {
   "cell_type": "code",
   "execution_count": 13,
   "metadata": {},
   "outputs": [],
   "source": [
    "import numpy\n",
    "import rioxarray\n",
    "from shapely.geometry import mapping\n",
    "\n"
   ]
  },
  {
   "cell_type": "code",
   "execution_count": 19,
   "metadata": {},
   "outputs": [
    {
     "data": {
      "text/html": [
       "<div>\n",
       "<style scoped>\n",
       "    .dataframe tbody tr th:only-of-type {\n",
       "        vertical-align: middle;\n",
       "    }\n",
       "\n",
       "    .dataframe tbody tr th {\n",
       "        vertical-align: top;\n",
       "    }\n",
       "\n",
       "    .dataframe thead th {\n",
       "        text-align: right;\n",
       "    }\n",
       "</style>\n",
       "<table border=\"1\" class=\"dataframe\">\n",
       "  <thead>\n",
       "    <tr style=\"text-align: right;\">\n",
       "      <th></th>\n",
       "      <th>id</th>\n",
       "      <th>geometry</th>\n",
       "    </tr>\n",
       "  </thead>\n",
       "  <tbody>\n",
       "    <tr>\n",
       "      <th>0</th>\n",
       "      <td>1</td>\n",
       "      <td>POLYGON ((277280.000 -3719680.000, 277280.000 ...</td>\n",
       "    </tr>\n",
       "  </tbody>\n",
       "</table>\n",
       "</div>"
      ],
      "text/plain": [
       "   id                                           geometry\n",
       "0   1  POLYGON ((277280.000 -3719680.000, 277280.000 ..."
      ]
     },
     "execution_count": 19,
     "metadata": {},
     "output_type": "execute_result"
    }
   ],
   "source": [
    "import geopandas as gpd\n",
    "from shapely.geometry import box\n",
    "import matplotlib.pyplot as plt\n",
    "\n",
    "# Create bounds object to clip the cloud free data\n",
    "landsat_pre_cloud_ext_bds = sub_test.rio.bounds()\n",
    "\n",
    "df = {'id': [1],\n",
    "      'geometry': box(*sub_test.rio.bounds())}\n",
    "clip_gdf = gpd.GeoDataFrame(df, crs=sub_test.rio.crs)\n",
    "\n",
    "clip_gdf"
   ]
  },
  {
   "cell_type": "code",
   "execution_count": 27,
   "metadata": {},
   "outputs": [
    {
     "data": {
      "text/html": [
       "<div>\n",
       "<style scoped>\n",
       "    .dataframe tbody tr th:only-of-type {\n",
       "        vertical-align: middle;\n",
       "    }\n",
       "\n",
       "    .dataframe tbody tr th {\n",
       "        vertical-align: top;\n",
       "    }\n",
       "\n",
       "    .dataframe thead th {\n",
       "        text-align: right;\n",
       "    }\n",
       "</style>\n",
       "<table border=\"1\" class=\"dataframe\">\n",
       "  <thead>\n",
       "    <tr style=\"text-align: right;\">\n",
       "      <th></th>\n",
       "      <th>id</th>\n",
       "      <th>geometry</th>\n",
       "    </tr>\n",
       "  </thead>\n",
       "  <tbody>\n",
       "    <tr>\n",
       "      <th>0</th>\n",
       "      <td>1</td>\n",
       "      <td>POLYGON ((277280.000 -3719680.000, 277280.000 ...</td>\n",
       "    </tr>\n",
       "  </tbody>\n",
       "</table>\n",
       "</div>"
      ],
      "text/plain": [
       "   id                                           geometry\n",
       "0   1  POLYGON ((277280.000 -3719680.000, 277280.000 ..."
      ]
     },
     "execution_count": 27,
     "metadata": {},
     "output_type": "execute_result"
    }
   ],
   "source": [
    "clip_gdf.set_crs(\"EPSG:32634\")\n",
    "clip_gdf"
   ]
  },
  {
   "cell_type": "code",
   "execution_count": 28,
   "metadata": {},
   "outputs": [
    {
     "ename": "",
     "evalue": "",
     "output_type": "error",
     "traceback": [
      "\u001b[1;31mThe Kernel crashed while executing code in the the current cell or a previous cell. Please review the code in the cell(s) to identify a possible cause of the failure. Click <a href='https://aka.ms/vscodeJupyterKernelCrash'>here</a> for more info. View Jupyter <a href='command:jupyter.viewOutput'>log</a> for further details."
     ]
    },
    {
     "ename": "",
     "evalue": "",
     "output_type": "error",
     "traceback": [
      "\u001b[1;31mCanceled future for execute_request message before replies were done"
     ]
    }
   ],
   "source": [
    "clipped = test.rio.clip(clip_gdf.geometry, clip_gdf.crs)\n",
    "clipped.plot()"
   ]
  }
 ],
 "metadata": {
  "kernelspec": {
   "display_name": "Python 3.9.8 64-bit ('3.9.8')",
   "language": "python",
   "name": "python3"
  },
  "language_info": {
   "codemirror_mode": {
    "name": "ipython",
    "version": 3
   },
   "file_extension": ".py",
   "mimetype": "text/x-python",
   "name": "python",
   "nbconvert_exporter": "python",
   "pygments_lexer": "ipython3",
   "version": "3.9.8"
  },
  "orig_nbformat": 4,
  "vscode": {
   "interpreter": {
    "hash": "1d03c2453641e7f333f5134aae710c3b70eb92fc450d8ee05c290e62b8c8c647"
   }
  }
 },
 "nbformat": 4,
 "nbformat_minor": 2
}
