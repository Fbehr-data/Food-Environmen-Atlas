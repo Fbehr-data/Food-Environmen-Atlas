{
 "cells": [
  {
   "cell_type": "markdown",
   "metadata": {},
   "source": [
    "# Baseline model notebook\n",
    "*by Max*\n",
    "\n",
    "In this notebook I'll attempt to create a simple baseline model with the Scikit-Learn DummyClassifier for our already feature engineered data."
   ]
  },
  {
   "cell_type": "markdown",
   "metadata": {},
   "source": [
    "Import the modules, set the working directories and load the data."
   ]
  },
  {
   "cell_type": "code",
   "execution_count": 4,
   "metadata": {},
   "outputs": [],
   "source": [
    "# Import the needed modules\n",
    "import numpy as np\n",
    "import pandas as pd\n",
    "\n",
    "# import own modules from the scr folder\n",
    "import sys\n",
    "sys.path.append('../')\n",
    "from src.find_repo_root import get_repo_root\n",
    "\n",
    "# Set a random seed\n",
    "RSEED = 42\n",
    "np.random.seed(RSEED)"
   ]
  },
  {
   "cell_type": "code",
   "execution_count": 8,
   "metadata": {},
   "outputs": [],
   "source": [
    "# Set the directory of the data \n",
    "ROOT_DIR = get_repo_root()\n",
    "DATA_DIR = f\"{ROOT_DIR}/data\"\n",
    "# Load the base data from the CSV files\n",
    "df_train = pd.read_csv(f'{DATA_DIR}/Train_Dataset4.csv')\n",
    "df_test = pd.read_csv(f'{DATA_DIR}/Test_Dataset.csv')"
   ]
  },
  {
   "cell_type": "code",
   "execution_count": 6,
   "metadata": {},
   "outputs": [
    {
     "data": {
      "text/html": [
       "<div>\n",
       "<style scoped>\n",
       "    .dataframe tbody tr th:only-of-type {\n",
       "        vertical-align: middle;\n",
       "    }\n",
       "\n",
       "    .dataframe tbody tr th {\n",
       "        vertical-align: top;\n",
       "    }\n",
       "\n",
       "    .dataframe thead th {\n",
       "        text-align: right;\n",
       "    }\n",
       "</style>\n",
       "<table border=\"1\" class=\"dataframe\">\n",
       "  <thead>\n",
       "    <tr style=\"text-align: right;\">\n",
       "      <th></th>\n",
       "      <th>B02_10</th>\n",
       "      <th>B02_11</th>\n",
       "      <th>B02_5</th>\n",
       "      <th>B02_6</th>\n",
       "      <th>B02_7</th>\n",
       "      <th>B02_8</th>\n",
       "      <th>B02_9</th>\n",
       "      <th>SIPI2_10</th>\n",
       "      <th>SIPI2_11</th>\n",
       "      <th>SIPI2_5</th>\n",
       "      <th>...</th>\n",
       "      <th>B12_11</th>\n",
       "      <th>B12_5</th>\n",
       "      <th>B12_6</th>\n",
       "      <th>B12_7</th>\n",
       "      <th>B12_8</th>\n",
       "      <th>B12_9</th>\n",
       "      <th>field_id</th>\n",
       "      <th>field_size</th>\n",
       "      <th>tile_id</th>\n",
       "      <th>label</th>\n",
       "    </tr>\n",
       "  </thead>\n",
       "  <tbody>\n",
       "    <tr>\n",
       "      <th>0</th>\n",
       "      <td>17.579470</td>\n",
       "      <td>26.362030</td>\n",
       "      <td>25.397352</td>\n",
       "      <td>18.781458</td>\n",
       "      <td>13.030905</td>\n",
       "      <td>12.876821</td>\n",
       "      <td>13.313466</td>\n",
       "      <td>-0.245756</td>\n",
       "      <td>-0.912282</td>\n",
       "      <td>-1.186115</td>\n",
       "      <td>...</td>\n",
       "      <td>83.796910</td>\n",
       "      <td>92.823400</td>\n",
       "      <td>48.430460</td>\n",
       "      <td>39.593819</td>\n",
       "      <td>35.895364</td>\n",
       "      <td>32.980132</td>\n",
       "      <td>4</td>\n",
       "      <td>151</td>\n",
       "      <td>2526</td>\n",
       "      <td>8</td>\n",
       "    </tr>\n",
       "    <tr>\n",
       "      <th>1</th>\n",
       "      <td>15.625155</td>\n",
       "      <td>30.736414</td>\n",
       "      <td>20.636646</td>\n",
       "      <td>14.451087</td>\n",
       "      <td>12.849896</td>\n",
       "      <td>12.036879</td>\n",
       "      <td>10.022516</td>\n",
       "      <td>-0.368229</td>\n",
       "      <td>-1.585534</td>\n",
       "      <td>-2.862939</td>\n",
       "      <td>...</td>\n",
       "      <td>86.229038</td>\n",
       "      <td>80.363353</td>\n",
       "      <td>57.829969</td>\n",
       "      <td>48.347308</td>\n",
       "      <td>48.054347</td>\n",
       "      <td>41.500000</td>\n",
       "      <td>14</td>\n",
       "      <td>644</td>\n",
       "      <td>979</td>\n",
       "      <td>8</td>\n",
       "    </tr>\n",
       "    <tr>\n",
       "      <th>2</th>\n",
       "      <td>39.258299</td>\n",
       "      <td>40.167746</td>\n",
       "      <td>34.846287</td>\n",
       "      <td>34.478986</td>\n",
       "      <td>32.261831</td>\n",
       "      <td>25.978018</td>\n",
       "      <td>32.592746</td>\n",
       "      <td>-1.813169</td>\n",
       "      <td>-1.902605</td>\n",
       "      <td>-2.430946</td>\n",
       "      <td>...</td>\n",
       "      <td>128.347796</td>\n",
       "      <td>112.936530</td>\n",
       "      <td>106.362693</td>\n",
       "      <td>104.270466</td>\n",
       "      <td>78.176480</td>\n",
       "      <td>111.094649</td>\n",
       "      <td>20</td>\n",
       "      <td>579</td>\n",
       "      <td>632</td>\n",
       "      <td>8</td>\n",
       "    </tr>\n",
       "    <tr>\n",
       "      <th>3</th>\n",
       "      <td>30.529762</td>\n",
       "      <td>31.458333</td>\n",
       "      <td>21.476191</td>\n",
       "      <td>23.166666</td>\n",
       "      <td>21.714286</td>\n",
       "      <td>36.603175</td>\n",
       "      <td>28.380952</td>\n",
       "      <td>-1.469586</td>\n",
       "      <td>-1.584824</td>\n",
       "      <td>-1.774970</td>\n",
       "      <td>...</td>\n",
       "      <td>91.327380</td>\n",
       "      <td>59.317463</td>\n",
       "      <td>71.357140</td>\n",
       "      <td>60.195237</td>\n",
       "      <td>71.809521</td>\n",
       "      <td>82.873017</td>\n",
       "      <td>25</td>\n",
       "      <td>42</td>\n",
       "      <td>1779</td>\n",
       "      <td>3</td>\n",
       "    </tr>\n",
       "    <tr>\n",
       "      <th>4</th>\n",
       "      <td>24.042105</td>\n",
       "      <td>31.447369</td>\n",
       "      <td>20.434211</td>\n",
       "      <td>11.144737</td>\n",
       "      <td>15.122807</td>\n",
       "      <td>14.789474</td>\n",
       "      <td>23.780702</td>\n",
       "      <td>-0.628406</td>\n",
       "      <td>-0.767568</td>\n",
       "      <td>-0.581649</td>\n",
       "      <td>...</td>\n",
       "      <td>92.263160</td>\n",
       "      <td>78.157895</td>\n",
       "      <td>36.763160</td>\n",
       "      <td>110.824563</td>\n",
       "      <td>49.315791</td>\n",
       "      <td>95.947369</td>\n",
       "      <td>40</td>\n",
       "      <td>38</td>\n",
       "      <td>229</td>\n",
       "      <td>3</td>\n",
       "    </tr>\n",
       "  </tbody>\n",
       "</table>\n",
       "<p>5 rows × 144 columns</p>\n",
       "</div>"
      ],
      "text/plain": [
       "      B02_10     B02_11      B02_5      B02_6      B02_7      B02_8  \\\n",
       "0  17.579470  26.362030  25.397352  18.781458  13.030905  12.876821   \n",
       "1  15.625155  30.736414  20.636646  14.451087  12.849896  12.036879   \n",
       "2  39.258299  40.167746  34.846287  34.478986  32.261831  25.978018   \n",
       "3  30.529762  31.458333  21.476191  23.166666  21.714286  36.603175   \n",
       "4  24.042105  31.447369  20.434211  11.144737  15.122807  14.789474   \n",
       "\n",
       "       B02_9  SIPI2_10  SIPI2_11   SIPI2_5  ...      B12_11       B12_5  \\\n",
       "0  13.313466 -0.245756 -0.912282 -1.186115  ...   83.796910   92.823400   \n",
       "1  10.022516 -0.368229 -1.585534 -2.862939  ...   86.229038   80.363353   \n",
       "2  32.592746 -1.813169 -1.902605 -2.430946  ...  128.347796  112.936530   \n",
       "3  28.380952 -1.469586 -1.584824 -1.774970  ...   91.327380   59.317463   \n",
       "4  23.780702 -0.628406 -0.767568 -0.581649  ...   92.263160   78.157895   \n",
       "\n",
       "        B12_6       B12_7      B12_8       B12_9  field_id  field_size  \\\n",
       "0   48.430460   39.593819  35.895364   32.980132         4         151   \n",
       "1   57.829969   48.347308  48.054347   41.500000        14         644   \n",
       "2  106.362693  104.270466  78.176480  111.094649        20         579   \n",
       "3   71.357140   60.195237  71.809521   82.873017        25          42   \n",
       "4   36.763160  110.824563  49.315791   95.947369        40          38   \n",
       "\n",
       "   tile_id  label  \n",
       "0     2526      8  \n",
       "1      979      8  \n",
       "2      632      8  \n",
       "3     1779      3  \n",
       "4      229      3  \n",
       "\n",
       "[5 rows x 144 columns]"
      ]
     },
     "execution_count": 6,
     "metadata": {},
     "output_type": "execute_result"
    }
   ],
   "source": [
    "df_train.head()"
   ]
  },
  {
   "cell_type": "markdown",
   "metadata": {},
   "source": [
    "## Baseline Model\n",
    "\n",
    "For this baseline model, we use the mean bands for each field as well as the mean of a few selected spectral indices. For the model we go with the very simple DummyClassifier, in order to give us an idea where the baseline for the other models lies. \n",
    "\n",
    "We chose the F1 score and Accuracy as metrics, since the main goal is to correctly identify as many plants as possible. Neither FP nor FN are particularly bad or good, hence the harmonic mean F1. In addition, we also have an eye on the cross-entropy, because later we will deal with the probabilities with which a class is assigned to a field. "
   ]
  },
  {
   "cell_type": "markdown",
   "metadata": {},
   "source": [
    "Here we split the features and the target for test and train data.  "
   ]
  },
  {
   "cell_type": "code",
   "execution_count": 15,
   "metadata": {},
   "outputs": [],
   "source": [
    "# Get X for the train and validation data\n",
    "X_train = df_train.drop(columns=['label', 'field_id', 'tile_id'])\n",
    "X_test = df_test.drop(columns=['label', 'field_id', 'tile_id'])\n",
    "\n",
    "# Get y for the train and validation data\n",
    "y_train = df_train['label']\n",
    "y_train = y_train.astype(int)\n",
    "y_test = df_test['label']\n",
    "y_test = y_test.astype(int)"
   ]
  },
  {
   "cell_type": "markdown",
   "metadata": {},
   "source": [
    "Here the modelling is done."
   ]
  },
  {
   "cell_type": "code",
   "execution_count": 16,
   "metadata": {},
   "outputs": [
    {
     "data": {
      "text/html": [
       "<style>#sk-container-id-2 {color: black;background-color: white;}#sk-container-id-2 pre{padding: 0;}#sk-container-id-2 div.sk-toggleable {background-color: white;}#sk-container-id-2 label.sk-toggleable__label {cursor: pointer;display: block;width: 100%;margin-bottom: 0;padding: 0.3em;box-sizing: border-box;text-align: center;}#sk-container-id-2 label.sk-toggleable__label-arrow:before {content: \"▸\";float: left;margin-right: 0.25em;color: #696969;}#sk-container-id-2 label.sk-toggleable__label-arrow:hover:before {color: black;}#sk-container-id-2 div.sk-estimator:hover label.sk-toggleable__label-arrow:before {color: black;}#sk-container-id-2 div.sk-toggleable__content {max-height: 0;max-width: 0;overflow: hidden;text-align: left;background-color: #f0f8ff;}#sk-container-id-2 div.sk-toggleable__content pre {margin: 0.2em;color: black;border-radius: 0.25em;background-color: #f0f8ff;}#sk-container-id-2 input.sk-toggleable__control:checked~div.sk-toggleable__content {max-height: 200px;max-width: 100%;overflow: auto;}#sk-container-id-2 input.sk-toggleable__control:checked~label.sk-toggleable__label-arrow:before {content: \"▾\";}#sk-container-id-2 div.sk-estimator input.sk-toggleable__control:checked~label.sk-toggleable__label {background-color: #d4ebff;}#sk-container-id-2 div.sk-label input.sk-toggleable__control:checked~label.sk-toggleable__label {background-color: #d4ebff;}#sk-container-id-2 input.sk-hidden--visually {border: 0;clip: rect(1px 1px 1px 1px);clip: rect(1px, 1px, 1px, 1px);height: 1px;margin: -1px;overflow: hidden;padding: 0;position: absolute;width: 1px;}#sk-container-id-2 div.sk-estimator {font-family: monospace;background-color: #f0f8ff;border: 1px dotted black;border-radius: 0.25em;box-sizing: border-box;margin-bottom: 0.5em;}#sk-container-id-2 div.sk-estimator:hover {background-color: #d4ebff;}#sk-container-id-2 div.sk-parallel-item::after {content: \"\";width: 100%;border-bottom: 1px solid gray;flex-grow: 1;}#sk-container-id-2 div.sk-label:hover label.sk-toggleable__label {background-color: #d4ebff;}#sk-container-id-2 div.sk-serial::before {content: \"\";position: absolute;border-left: 1px solid gray;box-sizing: border-box;top: 0;bottom: 0;left: 50%;z-index: 0;}#sk-container-id-2 div.sk-serial {display: flex;flex-direction: column;align-items: center;background-color: white;padding-right: 0.2em;padding-left: 0.2em;position: relative;}#sk-container-id-2 div.sk-item {position: relative;z-index: 1;}#sk-container-id-2 div.sk-parallel {display: flex;align-items: stretch;justify-content: center;background-color: white;position: relative;}#sk-container-id-2 div.sk-item::before, #sk-container-id-2 div.sk-parallel-item::before {content: \"\";position: absolute;border-left: 1px solid gray;box-sizing: border-box;top: 0;bottom: 0;left: 50%;z-index: -1;}#sk-container-id-2 div.sk-parallel-item {display: flex;flex-direction: column;z-index: 1;position: relative;background-color: white;}#sk-container-id-2 div.sk-parallel-item:first-child::after {align-self: flex-end;width: 50%;}#sk-container-id-2 div.sk-parallel-item:last-child::after {align-self: flex-start;width: 50%;}#sk-container-id-2 div.sk-parallel-item:only-child::after {width: 0;}#sk-container-id-2 div.sk-dashed-wrapped {border: 1px dashed gray;margin: 0 0.4em 0.5em 0.4em;box-sizing: border-box;padding-bottom: 0.4em;background-color: white;}#sk-container-id-2 div.sk-label label {font-family: monospace;font-weight: bold;display: inline-block;line-height: 1.2em;}#sk-container-id-2 div.sk-label-container {text-align: center;}#sk-container-id-2 div.sk-container {/* jupyter's `normalize.less` sets `[hidden] { display: none; }` but bootstrap.min.css set `[hidden] { display: none !important; }` so we also need the `!important` here to be able to override the default hidden behavior on the sphinx rendered scikit-learn.org. See: https://github.com/scikit-learn/scikit-learn/issues/21755 */display: inline-block !important;position: relative;}#sk-container-id-2 div.sk-text-repr-fallback {display: none;}</style><div id=\"sk-container-id-2\" class=\"sk-top-container\"><div class=\"sk-text-repr-fallback\"><pre>DummyClassifier(random_state=42)</pre><b>In a Jupyter environment, please rerun this cell to show the HTML representation or trust the notebook. <br />On GitHub, the HTML representation is unable to render, please try loading this page with nbviewer.org.</b></div><div class=\"sk-container\" hidden><div class=\"sk-item\"><div class=\"sk-estimator sk-toggleable\"><input class=\"sk-toggleable__control sk-hidden--visually\" id=\"sk-estimator-id-2\" type=\"checkbox\" checked><label for=\"sk-estimator-id-2\" class=\"sk-toggleable__label sk-toggleable__label-arrow\">DummyClassifier</label><div class=\"sk-toggleable__content\"><pre>DummyClassifier(random_state=42)</pre></div></div></div></div></div>"
      ],
      "text/plain": [
       "DummyClassifier(random_state=42)"
      ]
     },
     "execution_count": 16,
     "metadata": {},
     "output_type": "execute_result"
    }
   ],
   "source": [
    "from sklearn.dummy import DummyClassifier\n",
    "# Fitting the RF model\n",
    "rf = DummyClassifier(random_state = RSEED)\n",
    "rf.fit(X_train, y_train)"
   ]
  },
  {
   "cell_type": "code",
   "execution_count": 17,
   "metadata": {},
   "outputs": [],
   "source": [
    "y_pred_train = rf.predict(X_train)\n",
    "y_pred_test = rf.predict(X_test)"
   ]
  },
  {
   "cell_type": "code",
   "execution_count": 18,
   "metadata": {},
   "outputs": [],
   "source": [
    "y_proba_train = rf.predict_proba(X_train)\n",
    "y_proba_test = rf.predict_proba(X_test)"
   ]
  },
  {
   "cell_type": "markdown",
   "metadata": {},
   "source": [
    "And the results of our Dummy Classifier model. "
   ]
  },
  {
   "cell_type": "code",
   "execution_count": 19,
   "metadata": {},
   "outputs": [
    {
     "name": "stdout",
     "output_type": "stream",
     "text": [
      "------------------------------------\n",
      "Accuracy on train data: 0.125\n",
      "Accuracy on test data: 0.094\n",
      "------------------------------------\n",
      "F1-score on train data: 0.028\n",
      "F1-score on test data: 0.019\n",
      "------------------------------------\n",
      "Cross-entropy on train data: 2.079\n",
      "Cross-entropy on test data: 1.97\n",
      "------------------------------------\n"
     ]
    }
   ],
   "source": [
    "from sklearn.metrics import accuracy_score, f1_score, log_loss\n",
    "\n",
    "print('---'*12)\n",
    "print(f'Accuracy on train data: {round(accuracy_score(y_train, y_pred_train), 3)}')\n",
    "print(f'Accuracy on test data: {round(accuracy_score(y_test, y_pred_test), 3)}')\n",
    "print('---'*12)\n",
    "print(f'F1-score on train data: {round(f1_score(y_train, y_pred_train, average=\"macro\"), 3)}')\n",
    "print(f'F1-score on test data: {round(f1_score(y_test, y_pred_test, average=\"macro\"), 3)}')\n",
    "print('---'*12)\n",
    "print(f'Cross-entropy on train data: {round(log_loss(y_train, y_proba_train, labels=labels), 3)}')\n",
    "print(f'Cross-entropy on test data: {round(log_loss(y_test, y_proba_test, labels=labels), 3)}')\n",
    "print('---'*12)"
   ]
  },
  {
   "cell_type": "markdown",
   "metadata": {},
   "source": [
    "We see that the baseline lies really low!"
   ]
  }
 ],
 "metadata": {
  "kernelspec": {
   "display_name": "Python 3.9.8 ('.venv': venv)",
   "language": "python",
   "name": "python3"
  },
  "language_info": {
   "codemirror_mode": {
    "name": "ipython",
    "version": 3
   },
   "file_extension": ".py",
   "mimetype": "text/x-python",
   "name": "python",
   "nbconvert_exporter": "python",
   "pygments_lexer": "ipython3",
   "version": "3.9.8"
  },
  "orig_nbformat": 4,
  "vscode": {
   "interpreter": {
    "hash": "4f09b4927e4ba45dbad33b3bb266e4177c67ff52e8879550fc4abd145d1e96f6"
   }
  }
 },
 "nbformat": 4,
 "nbformat_minor": 2
}
