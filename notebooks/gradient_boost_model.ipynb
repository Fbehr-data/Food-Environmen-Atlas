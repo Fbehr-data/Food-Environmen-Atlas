{
 "cells": [
  {
   "cell_type": "markdown",
   "metadata": {},
   "source": [
    "# Gradient Boost Classifier (GBC) as model\n",
    "*by Max*\n",
    "\n",
    "In this notebook we will fit our data via GBC models. We start by loading the needed modules and the data."
   ]
  },
  {
   "cell_type": "code",
   "execution_count": 1,
   "metadata": {},
   "outputs": [],
   "source": [
    "# import the needed modules\n",
    "import numpy as np\n",
    "import pandas as pd\n",
    "\n",
    "# import own modules from the scr folder\n",
    "import sys\n",
    "\n",
    "sys.path.append(\"../src/\")\n",
    "from train_test_function import train_test_split_fields\n",
    "\n",
    "# import the machine learning modules\n",
    "from imblearn.over_sampling import SMOTE\n",
    "\n",
    "# set a random seed\n",
    "RSEED = 42\n",
    "np.random.seed(RSEED)"
   ]
  },
  {
   "cell_type": "code",
   "execution_count": null,
   "metadata": {},
   "outputs": [],
   "source": [
    "# set the directory of the data\n",
    "OUTPUT_DIR = \"../data\"\n",
    "# load the base data from the CSV files\n",
    "df = pd.read_csv(f\"{OUTPUT_DIR}/mean_band_perField_perDate.csv\")\n",
    "df.head()"
   ]
  },
  {
   "cell_type": "code",
   "execution_count": null,
   "metadata": {},
   "outputs": [],
   "source": [
    "# split into input and output elements\n",
    "X = data_df.drop(\"label\", axis=1)\n",
    "y = data_df[\"label\"]\n",
    "# label encode the target variable\n",
    "y = LabelEncoder().fit_transform(y)\n",
    "# transform the dataset\n",
    "oversample = SMOTE()\n",
    "X, y = oversample.fit_resample(X, y)"
   ]
  }
 ],
 "metadata": {
  "kernelspec": {
   "display_name": "Python 3.9.8 ('.venv': venv)",
   "language": "python",
   "name": "python3"
  },
  "language_info": {
   "codemirror_mode": {
    "name": "ipython",
    "version": 3
   },
   "file_extension": ".py",
   "mimetype": "text/x-python",
   "name": "python",
   "nbconvert_exporter": "python",
   "pygments_lexer": "ipython3",
   "version": "3.9.8"
  },
  "orig_nbformat": 4,
  "vscode": {
   "interpreter": {
    "hash": "4f09b4927e4ba45dbad33b3bb266e4177c67ff52e8879550fc4abd145d1e96f6"
   }
  }
 },
 "nbformat": 4,
 "nbformat_minor": 2
}
