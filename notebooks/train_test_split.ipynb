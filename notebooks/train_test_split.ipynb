{
 "cells": [
  {
   "cell_type": "markdown",
   "metadata": {},
   "source": [
    "# Train-test split & train-validation split\n",
    "*by Max* \n",
    "\n",
    "This notebook explains how to do the train-test split as well as the train-validation split.\n",
    "\n",
    "We start by importing the needed modules. Important is the own module in the src folder which contains the train-test split function. We also set a random state for the whole notebook."
   ]
  },
  {
   "cell_type": "code",
   "execution_count": 1,
   "metadata": {},
   "outputs": [],
   "source": [
    "# import the needed modules\n",
    "import numpy as np\n",
    "import pandas as pd\n",
    "\n",
    "# import own modules from the scr folder\n",
    "import sys\n",
    "sys.path.append('../src/')\n",
    "from train_test_function import train_test_split_fields\n",
    "\n",
    "# set a random seed\n",
    "RSEED = 42\n",
    "np.random.seed(RSEED)"
   ]
  },
  {
   "cell_type": "markdown",
   "metadata": {},
   "source": [
    "Next step is to load the data."
   ]
  },
  {
   "cell_type": "code",
   "execution_count": 2,
   "metadata": {},
   "outputs": [],
   "source": [
    "# set the directory of the data \n",
    "OUTPUT_DIR = '../data'\n",
    "# load the base data from the CSV files\n",
    "df = pd.read_csv(f'{OUTPUT_DIR}/mean_band_perField_perDate.csv')"
   ]
  },
  {
   "cell_type": "markdown",
   "metadata": {},
   "source": [
    "Here after you can do some fine tuning on the data or just do the split immediately. The split is done via the function train_test_split_fields in the src/train_test_function.py."
   ]
  },
  {
   "cell_type": "code",
   "execution_count": 3,
   "metadata": {},
   "outputs": [],
   "source": [
    "# Do the train-test-split\n",
    "df_train, df_test = train_test_split_fields(df, train_size=0.7, random_state=RSEED)\n",
    "# Do the validation split\n",
    "df_train_val, df_test_val = train_test_split_fields(df_train, train_size=0.7, random_state=RSEED)"
   ]
  },
  {
   "cell_type": "code",
   "execution_count": 4,
   "metadata": {},
   "outputs": [
    {
     "name": "stdout",
     "output_type": "stream",
     "text": [
      "---------------------------------------------------------------------\n",
      "The number of observations in the whole data set: 4301227\n",
      "---------------------------------------------------------------------\n",
      "The number of observations in the train data set: 3011081\n",
      "The number of observations in the test data set: 1290146\n",
      "---------------------------------------------------------------------\n",
      "The number of observations in the train-validation data set: 2108931\n",
      "The number of observations in the test-validation data set: 902150\n",
      "---------------------------------------------------------------------\n"
     ]
    }
   ],
   "source": [
    "print(\"---\"*23)\n",
    "print(f\"The number of observations in the whole data set: {len(df)}\")\n",
    "print(\"---\"*23)\n",
    "print(f\"The number of observations in the train data set: {len(df_train)}\")\n",
    "print(f\"The number of observations in the test data set: {len(df_test)}\")\n",
    "print(\"---\"*23)\n",
    "print(f\"The number of observations in the train-validation data set: {len(df_train_val)}\")\n",
    "print(f\"The number of observations in the test-validation data set: {len(df_test_val)}\")\n",
    "print(\"---\"*23)"
   ]
  }
 ],
 "metadata": {
  "kernelspec": {
   "display_name": "Python 3.9.8 ('.venv': venv)",
   "language": "python",
   "name": "python3"
  },
  "language_info": {
   "codemirror_mode": {
    "name": "ipython",
    "version": 3
   },
   "file_extension": ".py",
   "mimetype": "text/x-python",
   "name": "python",
   "nbconvert_exporter": "python",
   "pygments_lexer": "ipython3",
   "version": "3.9.8"
  },
  "orig_nbformat": 4,
  "vscode": {
   "interpreter": {
    "hash": "4f09b4927e4ba45dbad33b3bb266e4177c67ff52e8879550fc4abd145d1e96f6"
   }
  }
 },
 "nbformat": 4,
 "nbformat_minor": 2
}
