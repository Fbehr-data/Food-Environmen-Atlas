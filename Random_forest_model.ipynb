{
  "cells": [
    {
      "cell_type": "markdown",
      "metadata": {
        "id": "view-in-github",
        "colab_type": "text"
      },
      "source": [
        "<a href=\"https://colab.research.google.com/github/Fbehr-data/Radiant-Earth-Spot-Crop/blob/script_spectral/Random_forest_model.ipynb\" target=\"_parent\"><img src=\"https://colab.research.google.com/assets/colab-badge.svg\" alt=\"Open In Colab\"/></a>"
      ]
    },
    {
      "cell_type": "markdown",
      "metadata": {
        "id": "5zkyn50-2QF2"
      },
      "source": [
        "# Baseline model notebook\n",
        "*by Anitha*\n",
        "\n",
        "In this notebook I will  create a Random forest model from the baseline model .\n",
        "The first step is to connect the Google Drive, import the modules and load the data. "
      ]
    },
    {
      "cell_type": "code",
      "execution_count": null,
      "metadata": {
        "colab": {
          "base_uri": "https://localhost:8080/"
        },
        "id": "ZU3jDnR8ij_h",
        "outputId": "459c10dd-75f2-4a3a-9944-3a23855150af"
      },
      "outputs": [
        {
          "output_type": "stream",
          "name": "stdout",
          "text": [
            "Mounted at /content/drive\n"
          ]
        }
      ],
      "source": [
        "#Connect the Google Drive\n",
        "from google.colab import drive\n",
        "drive.mount('/content/drive')"
      ]
    },
    {
      "cell_type": "markdown",
      "metadata": {
        "id": "8l8JOUIBmX-a"
      },
      "source": [
        "Import the modules, set the working directories and load the data."
      ]
    },
    {
      "cell_type": "code",
      "execution_count": null,
      "metadata": {
        "id": "FTdL0fDQb6no",
        "colab": {
          "base_uri": "https://localhost:8080/"
        },
        "outputId": "d0bf1ba8-fb94-4f80-83de-5d2f71aa31ed"
      },
      "outputs": [
        {
          "output_type": "stream",
          "name": "stdout",
          "text": [
            "Looking in indexes: https://pypi.org/simple, https://us-python.pkg.dev/colab-wheels/public/simple/\n",
            "Requirement already satisfied: rasterio in /usr/local/lib/python3.7/dist-packages (1.2.10)\n",
            "Requirement already satisfied: setuptools in /usr/local/lib/python3.7/dist-packages (from rasterio) (57.4.0)\n",
            "Requirement already satisfied: affine in /usr/local/lib/python3.7/dist-packages (from rasterio) (2.3.1)\n",
            "Requirement already satisfied: snuggs>=1.4.1 in /usr/local/lib/python3.7/dist-packages (from rasterio) (1.4.7)\n",
            "Requirement already satisfied: attrs in /usr/local/lib/python3.7/dist-packages (from rasterio) (21.4.0)\n",
            "Requirement already satisfied: numpy in /usr/local/lib/python3.7/dist-packages (from rasterio) (1.21.6)\n",
            "Requirement already satisfied: cligj>=0.5 in /usr/local/lib/python3.7/dist-packages (from rasterio) (0.7.2)\n",
            "Requirement already satisfied: click-plugins in /usr/local/lib/python3.7/dist-packages (from rasterio) (1.1.1)\n",
            "Requirement already satisfied: certifi in /usr/local/lib/python3.7/dist-packages (from rasterio) (2022.6.15)\n",
            "Requirement already satisfied: click>=4.0 in /usr/local/lib/python3.7/dist-packages (from rasterio) (7.1.2)\n",
            "Requirement already satisfied: pyparsing>=2.1.6 in /usr/local/lib/python3.7/dist-packages (from snuggs>=1.4.1->rasterio) (3.0.9)\n"
          ]
        }
      ],
      "source": [
        "# Import the needed modules\n",
        "import numpy as np\n",
        "import pandas as pd\n",
        "from matplotlib import pyplot\n",
        "import datetime\n",
        "!pip install rasterio\n",
        "import seaborn as sns\n",
        "from scipy import stats \n",
        "from scipy.ndimage import gaussian_filter\n",
        "import matplotlib.pyplot as plt\n",
        "import seaborn as sns\n",
        "from hyperopt import STATUS_OK, Trials, fmin, hp, tpe\n",
        "import hyperopt.pyll.stochastic\n",
        "from sklearn.ensemble import RandomForestClassifier\n",
        "from sklearn.metrics import (\n",
        "    accuracy_score, \n",
        "    f1_score, \n",
        "    log_loss, \n",
        "    confusion_matrix, \n",
        "    classification_report\n",
        "    )\n",
        "from IPython.core.pylabtools import figsize\n",
        "%matplotlib inline\n",
        "from sklearn.decomposition import PCA"
      ]
    },
    {
      "cell_type": "code",
      "execution_count": null,
      "metadata": {
        "id": "cNpIZs7tb6nr"
      },
      "outputs": [],
      "source": [
        " # Set the directory of the data \n",
        "OUTPUT_DIR = '/content/drive/MyDrive/Radiant_Earth_Spot_Crop/data'\n",
        "# Load the base data from the CSV files\n",
        "df_train = pd.read_csv(f'{OUTPUT_DIR}/Train_Dataset4.csv')\n",
        "df_test = pd.read_csv(f'{OUTPUT_DIR}/Test_Dataset.csv')"
      ]
    },
    {
      "cell_type": "code",
      "execution_count": null,
      "metadata": {
        "id": "OVdXgxRXjytU",
        "colab": {
          "base_uri": "https://localhost:8080/",
          "height": 488
        },
        "outputId": "eea47154-0a23-46d6-bff8-8d7d4b5d16bc"
      },
      "outputs": [
        {
          "output_type": "execute_result",
          "data": {
            "text/plain": [
              "         PVR_10    PVR_11     PVR_5     PVR_6     PVR_7     PVR_8     PVR_9  \\\n",
              "0      0.008887 -0.074323 -0.025132  0.002942  0.037134  0.012042  0.018301   \n",
              "1      0.016525 -0.002996 -0.032137 -0.007467  0.011969  0.013687  0.030315   \n",
              "2     -0.057158  0.004799 -0.022349 -0.036778 -0.040924 -0.017682 -0.000231   \n",
              "3      0.008609  0.008044 -0.105637 -0.065448  0.031268  0.012414  0.011631   \n",
              "4     -0.075331  0.008205  0.001860 -0.049030 -0.017710  0.003410 -0.008064   \n",
              "...         ...       ...       ...       ...       ...       ...       ...   \n",
              "38011  0.001796 -0.100541 -0.036765  0.004932  0.015004 -0.021882  0.036488   \n",
              "38012  0.013920 -0.028557  0.001684  0.028805  0.055410  0.008256  0.016852   \n",
              "38013  0.005288 -0.014724 -0.034381 -0.005345  0.000100  0.002048  0.005152   \n",
              "38014  0.017366 -0.099865  0.008437 -0.012717 -0.011238  0.025922 -0.027129   \n",
              "38015  0.048929  0.026869 -0.025026  0.034695 -0.000835  0.013557  0.018294   \n",
              "\n",
              "          WET_10     WET_11      WET_5  ...       B03_9      B08_10  \\\n",
              "0       9.530972   4.341476   3.533203  ...   33.900660   96.235099   \n",
              "1      42.750818  75.138902  38.502390  ...   24.897316  206.057050   \n",
              "2      18.283076  40.125757 -10.935888  ...  147.237046  181.208116   \n",
              "3      -0.916623  61.607134 -38.461867  ...  103.547620  167.833325   \n",
              "4     -15.489066  61.639118  36.730591  ...  144.434690  132.874568   \n",
              "...          ...        ...        ...  ...         ...         ...   \n",
              "38011  13.212385 -48.847171  -7.721359  ...   46.716870  148.978915   \n",
              "38012  90.443089  16.509583  25.351961  ...  172.040020  246.655610   \n",
              "38013  93.902620  17.662326  -3.344103  ...  202.970907  193.596440   \n",
              "38014  50.228650 -41.629268  43.892027  ...   24.426911  234.340530   \n",
              "38015  25.511902  25.877773   2.219692  ...   64.166664  134.125002   \n",
              "\n",
              "           B08_11       B08_5       B08_6       B08_7       B08_8       B08_9  \\\n",
              "0       95.397353   83.794700  229.274835  177.644587  196.947020  115.331120   \n",
              "1      211.086915  140.229032  158.967952  156.305369  216.604700  103.868790   \n",
              "2      199.595850  129.074840  136.039723  159.213295  135.435230  151.792744   \n",
              "3      218.035715   36.785713  144.678572  139.261900  146.706350  110.404760   \n",
              "4      215.809040  154.540947  129.144178  143.842555  178.515575  155.245457   \n",
              "...           ...         ...         ...         ...         ...         ...   \n",
              "38011   77.614456  115.536145  112.963850  130.174697  151.192760  106.397590   \n",
              "38012  148.447429  139.378095  186.074250  136.414255  240.100590  188.823060   \n",
              "38013  176.064835  107.543015  114.641272  120.978678  151.953013  219.036203   \n",
              "38014   84.042637  138.544850  183.176080  102.321152  171.555643   66.745014   \n",
              "38015  144.240745  102.583336  107.055555  227.203707  140.416667  129.583330   \n",
              "\n",
              "       field_id  label  \n",
              "0             4      8  \n",
              "1             8      8  \n",
              "2            20      8  \n",
              "3            25      3  \n",
              "4            46      5  \n",
              "...         ...    ...  \n",
              "38011    122660      1  \n",
              "38012    122672      1  \n",
              "38013    122675      1  \n",
              "38014    122685      1  \n",
              "38015    122705      1  \n",
              "\n",
              "[38016 rows x 65 columns]"
            ],
            "text/html": [
              "\n",
              "  <div id=\"df-b8750fc6-7733-4f6e-9dd3-94678f9d2fc9\">\n",
              "    <div class=\"colab-df-container\">\n",
              "      <div>\n",
              "<style scoped>\n",
              "    .dataframe tbody tr th:only-of-type {\n",
              "        vertical-align: middle;\n",
              "    }\n",
              "\n",
              "    .dataframe tbody tr th {\n",
              "        vertical-align: top;\n",
              "    }\n",
              "\n",
              "    .dataframe thead th {\n",
              "        text-align: right;\n",
              "    }\n",
              "</style>\n",
              "<table border=\"1\" class=\"dataframe\">\n",
              "  <thead>\n",
              "    <tr style=\"text-align: right;\">\n",
              "      <th></th>\n",
              "      <th>PVR_10</th>\n",
              "      <th>PVR_11</th>\n",
              "      <th>PVR_5</th>\n",
              "      <th>PVR_6</th>\n",
              "      <th>PVR_7</th>\n",
              "      <th>PVR_8</th>\n",
              "      <th>PVR_9</th>\n",
              "      <th>WET_10</th>\n",
              "      <th>WET_11</th>\n",
              "      <th>WET_5</th>\n",
              "      <th>...</th>\n",
              "      <th>B03_9</th>\n",
              "      <th>B08_10</th>\n",
              "      <th>B08_11</th>\n",
              "      <th>B08_5</th>\n",
              "      <th>B08_6</th>\n",
              "      <th>B08_7</th>\n",
              "      <th>B08_8</th>\n",
              "      <th>B08_9</th>\n",
              "      <th>field_id</th>\n",
              "      <th>label</th>\n",
              "    </tr>\n",
              "  </thead>\n",
              "  <tbody>\n",
              "    <tr>\n",
              "      <th>0</th>\n",
              "      <td>0.008887</td>\n",
              "      <td>-0.074323</td>\n",
              "      <td>-0.025132</td>\n",
              "      <td>0.002942</td>\n",
              "      <td>0.037134</td>\n",
              "      <td>0.012042</td>\n",
              "      <td>0.018301</td>\n",
              "      <td>9.530972</td>\n",
              "      <td>4.341476</td>\n",
              "      <td>3.533203</td>\n",
              "      <td>...</td>\n",
              "      <td>33.900660</td>\n",
              "      <td>96.235099</td>\n",
              "      <td>95.397353</td>\n",
              "      <td>83.794700</td>\n",
              "      <td>229.274835</td>\n",
              "      <td>177.644587</td>\n",
              "      <td>196.947020</td>\n",
              "      <td>115.331120</td>\n",
              "      <td>4</td>\n",
              "      <td>8</td>\n",
              "    </tr>\n",
              "    <tr>\n",
              "      <th>1</th>\n",
              "      <td>0.016525</td>\n",
              "      <td>-0.002996</td>\n",
              "      <td>-0.032137</td>\n",
              "      <td>-0.007467</td>\n",
              "      <td>0.011969</td>\n",
              "      <td>0.013687</td>\n",
              "      <td>0.030315</td>\n",
              "      <td>42.750818</td>\n",
              "      <td>75.138902</td>\n",
              "      <td>38.502390</td>\n",
              "      <td>...</td>\n",
              "      <td>24.897316</td>\n",
              "      <td>206.057050</td>\n",
              "      <td>211.086915</td>\n",
              "      <td>140.229032</td>\n",
              "      <td>158.967952</td>\n",
              "      <td>156.305369</td>\n",
              "      <td>216.604700</td>\n",
              "      <td>103.868790</td>\n",
              "      <td>8</td>\n",
              "      <td>8</td>\n",
              "    </tr>\n",
              "    <tr>\n",
              "      <th>2</th>\n",
              "      <td>-0.057158</td>\n",
              "      <td>0.004799</td>\n",
              "      <td>-0.022349</td>\n",
              "      <td>-0.036778</td>\n",
              "      <td>-0.040924</td>\n",
              "      <td>-0.017682</td>\n",
              "      <td>-0.000231</td>\n",
              "      <td>18.283076</td>\n",
              "      <td>40.125757</td>\n",
              "      <td>-10.935888</td>\n",
              "      <td>...</td>\n",
              "      <td>147.237046</td>\n",
              "      <td>181.208116</td>\n",
              "      <td>199.595850</td>\n",
              "      <td>129.074840</td>\n",
              "      <td>136.039723</td>\n",
              "      <td>159.213295</td>\n",
              "      <td>135.435230</td>\n",
              "      <td>151.792744</td>\n",
              "      <td>20</td>\n",
              "      <td>8</td>\n",
              "    </tr>\n",
              "    <tr>\n",
              "      <th>3</th>\n",
              "      <td>0.008609</td>\n",
              "      <td>0.008044</td>\n",
              "      <td>-0.105637</td>\n",
              "      <td>-0.065448</td>\n",
              "      <td>0.031268</td>\n",
              "      <td>0.012414</td>\n",
              "      <td>0.011631</td>\n",
              "      <td>-0.916623</td>\n",
              "      <td>61.607134</td>\n",
              "      <td>-38.461867</td>\n",
              "      <td>...</td>\n",
              "      <td>103.547620</td>\n",
              "      <td>167.833325</td>\n",
              "      <td>218.035715</td>\n",
              "      <td>36.785713</td>\n",
              "      <td>144.678572</td>\n",
              "      <td>139.261900</td>\n",
              "      <td>146.706350</td>\n",
              "      <td>110.404760</td>\n",
              "      <td>25</td>\n",
              "      <td>3</td>\n",
              "    </tr>\n",
              "    <tr>\n",
              "      <th>4</th>\n",
              "      <td>-0.075331</td>\n",
              "      <td>0.008205</td>\n",
              "      <td>0.001860</td>\n",
              "      <td>-0.049030</td>\n",
              "      <td>-0.017710</td>\n",
              "      <td>0.003410</td>\n",
              "      <td>-0.008064</td>\n",
              "      <td>-15.489066</td>\n",
              "      <td>61.639118</td>\n",
              "      <td>36.730591</td>\n",
              "      <td>...</td>\n",
              "      <td>144.434690</td>\n",
              "      <td>132.874568</td>\n",
              "      <td>215.809040</td>\n",
              "      <td>154.540947</td>\n",
              "      <td>129.144178</td>\n",
              "      <td>143.842555</td>\n",
              "      <td>178.515575</td>\n",
              "      <td>155.245457</td>\n",
              "      <td>46</td>\n",
              "      <td>5</td>\n",
              "    </tr>\n",
              "    <tr>\n",
              "      <th>...</th>\n",
              "      <td>...</td>\n",
              "      <td>...</td>\n",
              "      <td>...</td>\n",
              "      <td>...</td>\n",
              "      <td>...</td>\n",
              "      <td>...</td>\n",
              "      <td>...</td>\n",
              "      <td>...</td>\n",
              "      <td>...</td>\n",
              "      <td>...</td>\n",
              "      <td>...</td>\n",
              "      <td>...</td>\n",
              "      <td>...</td>\n",
              "      <td>...</td>\n",
              "      <td>...</td>\n",
              "      <td>...</td>\n",
              "      <td>...</td>\n",
              "      <td>...</td>\n",
              "      <td>...</td>\n",
              "      <td>...</td>\n",
              "      <td>...</td>\n",
              "    </tr>\n",
              "    <tr>\n",
              "      <th>38011</th>\n",
              "      <td>0.001796</td>\n",
              "      <td>-0.100541</td>\n",
              "      <td>-0.036765</td>\n",
              "      <td>0.004932</td>\n",
              "      <td>0.015004</td>\n",
              "      <td>-0.021882</td>\n",
              "      <td>0.036488</td>\n",
              "      <td>13.212385</td>\n",
              "      <td>-48.847171</td>\n",
              "      <td>-7.721359</td>\n",
              "      <td>...</td>\n",
              "      <td>46.716870</td>\n",
              "      <td>148.978915</td>\n",
              "      <td>77.614456</td>\n",
              "      <td>115.536145</td>\n",
              "      <td>112.963850</td>\n",
              "      <td>130.174697</td>\n",
              "      <td>151.192760</td>\n",
              "      <td>106.397590</td>\n",
              "      <td>122660</td>\n",
              "      <td>1</td>\n",
              "    </tr>\n",
              "    <tr>\n",
              "      <th>38012</th>\n",
              "      <td>0.013920</td>\n",
              "      <td>-0.028557</td>\n",
              "      <td>0.001684</td>\n",
              "      <td>0.028805</td>\n",
              "      <td>0.055410</td>\n",
              "      <td>0.008256</td>\n",
              "      <td>0.016852</td>\n",
              "      <td>90.443089</td>\n",
              "      <td>16.509583</td>\n",
              "      <td>25.351961</td>\n",
              "      <td>...</td>\n",
              "      <td>172.040020</td>\n",
              "      <td>246.655610</td>\n",
              "      <td>148.447429</td>\n",
              "      <td>139.378095</td>\n",
              "      <td>186.074250</td>\n",
              "      <td>136.414255</td>\n",
              "      <td>240.100590</td>\n",
              "      <td>188.823060</td>\n",
              "      <td>122672</td>\n",
              "      <td>1</td>\n",
              "    </tr>\n",
              "    <tr>\n",
              "      <th>38013</th>\n",
              "      <td>0.005288</td>\n",
              "      <td>-0.014724</td>\n",
              "      <td>-0.034381</td>\n",
              "      <td>-0.005345</td>\n",
              "      <td>0.000100</td>\n",
              "      <td>0.002048</td>\n",
              "      <td>0.005152</td>\n",
              "      <td>93.902620</td>\n",
              "      <td>17.662326</td>\n",
              "      <td>-3.344103</td>\n",
              "      <td>...</td>\n",
              "      <td>202.970907</td>\n",
              "      <td>193.596440</td>\n",
              "      <td>176.064835</td>\n",
              "      <td>107.543015</td>\n",
              "      <td>114.641272</td>\n",
              "      <td>120.978678</td>\n",
              "      <td>151.953013</td>\n",
              "      <td>219.036203</td>\n",
              "      <td>122675</td>\n",
              "      <td>1</td>\n",
              "    </tr>\n",
              "    <tr>\n",
              "      <th>38014</th>\n",
              "      <td>0.017366</td>\n",
              "      <td>-0.099865</td>\n",
              "      <td>0.008437</td>\n",
              "      <td>-0.012717</td>\n",
              "      <td>-0.011238</td>\n",
              "      <td>0.025922</td>\n",
              "      <td>-0.027129</td>\n",
              "      <td>50.228650</td>\n",
              "      <td>-41.629268</td>\n",
              "      <td>43.892027</td>\n",
              "      <td>...</td>\n",
              "      <td>24.426911</td>\n",
              "      <td>234.340530</td>\n",
              "      <td>84.042637</td>\n",
              "      <td>138.544850</td>\n",
              "      <td>183.176080</td>\n",
              "      <td>102.321152</td>\n",
              "      <td>171.555643</td>\n",
              "      <td>66.745014</td>\n",
              "      <td>122685</td>\n",
              "      <td>1</td>\n",
              "    </tr>\n",
              "    <tr>\n",
              "      <th>38015</th>\n",
              "      <td>0.048929</td>\n",
              "      <td>0.026869</td>\n",
              "      <td>-0.025026</td>\n",
              "      <td>0.034695</td>\n",
              "      <td>-0.000835</td>\n",
              "      <td>0.013557</td>\n",
              "      <td>0.018294</td>\n",
              "      <td>25.511902</td>\n",
              "      <td>25.877773</td>\n",
              "      <td>2.219692</td>\n",
              "      <td>...</td>\n",
              "      <td>64.166664</td>\n",
              "      <td>134.125002</td>\n",
              "      <td>144.240745</td>\n",
              "      <td>102.583336</td>\n",
              "      <td>107.055555</td>\n",
              "      <td>227.203707</td>\n",
              "      <td>140.416667</td>\n",
              "      <td>129.583330</td>\n",
              "      <td>122705</td>\n",
              "      <td>1</td>\n",
              "    </tr>\n",
              "  </tbody>\n",
              "</table>\n",
              "<p>38016 rows × 65 columns</p>\n",
              "</div>\n",
              "      <button class=\"colab-df-convert\" onclick=\"convertToInteractive('df-b8750fc6-7733-4f6e-9dd3-94678f9d2fc9')\"\n",
              "              title=\"Convert this dataframe to an interactive table.\"\n",
              "              style=\"display:none;\">\n",
              "        \n",
              "  <svg xmlns=\"http://www.w3.org/2000/svg\" height=\"24px\"viewBox=\"0 0 24 24\"\n",
              "       width=\"24px\">\n",
              "    <path d=\"M0 0h24v24H0V0z\" fill=\"none\"/>\n",
              "    <path d=\"M18.56 5.44l.94 2.06.94-2.06 2.06-.94-2.06-.94-.94-2.06-.94 2.06-2.06.94zm-11 1L8.5 8.5l.94-2.06 2.06-.94-2.06-.94L8.5 2.5l-.94 2.06-2.06.94zm10 10l.94 2.06.94-2.06 2.06-.94-2.06-.94-.94-2.06-.94 2.06-2.06.94z\"/><path d=\"M17.41 7.96l-1.37-1.37c-.4-.4-.92-.59-1.43-.59-.52 0-1.04.2-1.43.59L10.3 9.45l-7.72 7.72c-.78.78-.78 2.05 0 2.83L4 21.41c.39.39.9.59 1.41.59.51 0 1.02-.2 1.41-.59l7.78-7.78 2.81-2.81c.8-.78.8-2.07 0-2.86zM5.41 20L4 18.59l7.72-7.72 1.47 1.35L5.41 20z\"/>\n",
              "  </svg>\n",
              "      </button>\n",
              "      \n",
              "  <style>\n",
              "    .colab-df-container {\n",
              "      display:flex;\n",
              "      flex-wrap:wrap;\n",
              "      gap: 12px;\n",
              "    }\n",
              "\n",
              "    .colab-df-convert {\n",
              "      background-color: #E8F0FE;\n",
              "      border: none;\n",
              "      border-radius: 50%;\n",
              "      cursor: pointer;\n",
              "      display: none;\n",
              "      fill: #1967D2;\n",
              "      height: 32px;\n",
              "      padding: 0 0 0 0;\n",
              "      width: 32px;\n",
              "    }\n",
              "\n",
              "    .colab-df-convert:hover {\n",
              "      background-color: #E2EBFA;\n",
              "      box-shadow: 0px 1px 2px rgba(60, 64, 67, 0.3), 0px 1px 3px 1px rgba(60, 64, 67, 0.15);\n",
              "      fill: #174EA6;\n",
              "    }\n",
              "\n",
              "    [theme=dark] .colab-df-convert {\n",
              "      background-color: #3B4455;\n",
              "      fill: #D2E3FC;\n",
              "    }\n",
              "\n",
              "    [theme=dark] .colab-df-convert:hover {\n",
              "      background-color: #434B5C;\n",
              "      box-shadow: 0px 1px 3px 1px rgba(0, 0, 0, 0.15);\n",
              "      filter: drop-shadow(0px 1px 2px rgba(0, 0, 0, 0.3));\n",
              "      fill: #FFFFFF;\n",
              "    }\n",
              "  </style>\n",
              "\n",
              "      <script>\n",
              "        const buttonEl =\n",
              "          document.querySelector('#df-b8750fc6-7733-4f6e-9dd3-94678f9d2fc9 button.colab-df-convert');\n",
              "        buttonEl.style.display =\n",
              "          google.colab.kernel.accessAllowed ? 'block' : 'none';\n",
              "\n",
              "        async function convertToInteractive(key) {\n",
              "          const element = document.querySelector('#df-b8750fc6-7733-4f6e-9dd3-94678f9d2fc9');\n",
              "          const dataTable =\n",
              "            await google.colab.kernel.invokeFunction('convertToInteractive',\n",
              "                                                     [key], {});\n",
              "          if (!dataTable) return;\n",
              "\n",
              "          const docLinkHtml = 'Like what you see? Visit the ' +\n",
              "            '<a target=\"_blank\" href=https://colab.research.google.com/notebooks/data_table.ipynb>data table notebook</a>'\n",
              "            + ' to learn more about interactive tables.';\n",
              "          element.innerHTML = '';\n",
              "          dataTable['output_type'] = 'display_data';\n",
              "          await google.colab.output.renderOutput(dataTable, element);\n",
              "          const docLink = document.createElement('div');\n",
              "          docLink.innerHTML = docLinkHtml;\n",
              "          element.appendChild(docLink);\n",
              "        }\n",
              "      </script>\n",
              "    </div>\n",
              "  </div>\n",
              "  "
            ]
          },
          "metadata": {},
          "execution_count": 4
        }
      ],
      "source": [
        "df_train"
      ]
    },
    {
      "cell_type": "code",
      "execution_count": null,
      "metadata": {
        "id": "0OSGYFn1o4Ew"
      },
      "outputs": [],
      "source": [
        ""
      ]
    },
    {
      "cell_type": "markdown",
      "metadata": {
        "id": "B0IbCUwCkroW"
      },
      "source": [
        ""
      ]
    },
    {
      "cell_type": "markdown",
      "metadata": {
        "id": "fv4MOJN7kmY6"
      },
      "source": [
        "## Randomforest Model\n",
        "\n",
        "For our model, we only worked on the mean bands for each field and each month and chose a RandomForest classifier, as this is a commonly used model for raster data. \n",
        "\n",
        "We chose the F1 score and Accuracy as metrics, since the main goal is to correctly identify as many plants as possible. Neither FP nor FN are particularly bad or good, hence the harmonic mean F1. In addition, we also have an eye on the cross-entropy, because later we will deal with the probabilities with which a class is assigned to a field. "
      ]
    },
    {
      "cell_type": "markdown",
      "metadata": {
        "id": "smPGmSpMkux5"
      },
      "source": [
        "Here we don't need to do the train-test-split of the data because we already have two dataset the train dataset and the testdataset ."
      ]
    },
    {
      "cell_type": "code",
      "execution_count": null,
      "metadata": {
        "id": "8RItHF-tkkry"
      },
      "outputs": [],
      "source": [
        "# Set a random seed\n",
        "RSEED = 42\n",
        "np.random.seed(RSEED)"
      ]
    },
    {
      "cell_type": "code",
      "source": [
        "\n",
        "# get X for the train and validation data\n",
        "X_train = df_train.drop(columns=[\"label\", \"field_id\"])\n",
        "X_val = df_test.drop(columns=[\"label\", \"field_id\"])\n",
        "\n",
        "# get y for the train and validation data\n",
        "y_train = df_train[\"label\"]\n",
        "y_train = y_train.astype(int)\n",
        "y_val = df_test[\"label\"]\n",
        "y_val = y_val.astype(int)\n",
        "\n",
        "# set the class labels from 0 to 8 \n",
        "y_train = y_train-1\n",
        "y_val = y_val-1"
      ],
      "metadata": {
        "id": "ZS-9rcl6LFDk"
      },
      "execution_count": null,
      "outputs": []
    },
    {
      "cell_type": "code",
      "source": [
        "df_train.shape"
      ],
      "metadata": {
        "colab": {
          "base_uri": "https://localhost:8080/"
        },
        "id": "InNcCGPlNnsK",
        "outputId": "ec7a5ee8-b44b-48cd-a22c-4b59f67b8b3b"
      },
      "execution_count": null,
      "outputs": [
        {
          "output_type": "execute_result",
          "data": {
            "text/plain": [
              "(38016, 65)"
            ]
          },
          "metadata": {},
          "execution_count": 6
        }
      ]
    },
    {
      "cell_type": "code",
      "source": [
        "df_test.shape"
      ],
      "metadata": {
        "colab": {
          "base_uri": "https://localhost:8080/"
        },
        "id": "dQAellF9N56J",
        "outputId": "1d61e868-dc25-4f61-db47-6e6544123265"
      },
      "execution_count": null,
      "outputs": [
        {
          "output_type": "execute_result",
          "data": {
            "text/plain": [
              "(21310, 65)"
            ]
          },
          "metadata": {},
          "execution_count": 8
        }
      ]
    },
    {
      "cell_type": "code",
      "execution_count": null,
      "metadata": {
        "id": "9M617brTt1Kp"
      },
      "outputs": [],
      "source": [
        "labels = y_train.unique()"
      ]
    },
    {
      "cell_type": "markdown",
      "metadata": {
        "id": "lo4ZOPCC13g1"
      },
      "source": [
        "Here is the baseline model "
      ]
    },
    {
      "cell_type": "code",
      "execution_count": null,
      "metadata": {
        "colab": {
          "base_uri": "https://localhost:8080/"
        },
        "id": "F5NMCjUck46Z",
        "outputId": "8c7fb0bc-3665-411d-8c1c-298fea40efe5"
      },
      "outputs": [
        {
          "output_type": "stream",
          "name": "stderr",
          "text": [
            "[Parallel(n_jobs=-1)]: Using backend ThreadingBackend with 4 concurrent workers.\n",
            "[Parallel(n_jobs=-1)]: Done  42 tasks      | elapsed:   15.1s\n",
            "[Parallel(n_jobs=-1)]: Done 192 tasks      | elapsed:  1.1min\n",
            "[Parallel(n_jobs=-1)]: Done 200 out of 200 | elapsed:  1.1min finished\n"
          ]
        },
        {
          "output_type": "execute_result",
          "data": {
            "text/plain": [
              "RandomForestClassifier(criterion='entropy', max_depth=10, n_estimators=200,\n",
              "                       n_jobs=-1, random_state=42, verbose=1)"
            ]
          },
          "metadata": {},
          "execution_count": 31
        }
      ],
      "source": [
        "from sklearn.ensemble import RandomForestClassifier\n",
        "# Fitting the RF model\n",
        "rf = RandomForestClassifier(n_estimators = 200, random_state = RSEED, n_jobs = -1, verbose=1,max_features='auto', max_depth=10, criterion='entropy')\n",
        "rf.fit(X_train, y_train)"
      ]
    },
    {
      "cell_type": "code",
      "execution_count": null,
      "metadata": {
        "id": "5h4VtXwGlMj5",
        "colab": {
          "base_uri": "https://localhost:8080/"
        },
        "outputId": "78ff7148-d2bb-41a9-85df-ddf3878d282c"
      },
      "outputs": [
        {
          "output_type": "stream",
          "name": "stderr",
          "text": [
            "[Parallel(n_jobs=4)]: Using backend ThreadingBackend with 4 concurrent workers.\n",
            "[Parallel(n_jobs=4)]: Done  42 tasks      | elapsed:    0.1s\n",
            "[Parallel(n_jobs=4)]: Done 192 tasks      | elapsed:    0.7s\n",
            "[Parallel(n_jobs=4)]: Done 200 out of 200 | elapsed:    0.7s finished\n",
            "[Parallel(n_jobs=4)]: Using backend ThreadingBackend with 4 concurrent workers.\n",
            "[Parallel(n_jobs=4)]: Done  42 tasks      | elapsed:    0.1s\n",
            "[Parallel(n_jobs=4)]: Done 192 tasks      | elapsed:    0.4s\n",
            "[Parallel(n_jobs=4)]: Done 200 out of 200 | elapsed:    0.4s finished\n"
          ]
        }
      ],
      "source": [
        "y_pred_train = rf.predict(X_train)\n",
        "y_pred_test = rf.predict(X_val)"
      ]
    },
    {
      "cell_type": "code",
      "execution_count": null,
      "metadata": {
        "colab": {
          "base_uri": "https://localhost:8080/"
        },
        "id": "Qe2SKTO8rIfL",
        "outputId": "3eecdaca-bbc4-43d5-cf41-67b2d20b647f"
      },
      "outputs": [
        {
          "output_type": "stream",
          "name": "stderr",
          "text": [
            "[Parallel(n_jobs=4)]: Using backend ThreadingBackend with 4 concurrent workers.\n",
            "[Parallel(n_jobs=4)]: Done  42 tasks      | elapsed:    0.2s\n",
            "[Parallel(n_jobs=4)]: Done 192 tasks      | elapsed:    0.9s\n",
            "[Parallel(n_jobs=4)]: Done 200 out of 200 | elapsed:    1.0s finished\n",
            "[Parallel(n_jobs=4)]: Using backend ThreadingBackend with 4 concurrent workers.\n",
            "[Parallel(n_jobs=4)]: Done  42 tasks      | elapsed:    0.1s\n",
            "[Parallel(n_jobs=4)]: Done 192 tasks      | elapsed:    0.4s\n",
            "[Parallel(n_jobs=4)]: Done 200 out of 200 | elapsed:    0.4s finished\n"
          ]
        }
      ],
      "source": [
        "y_proba_train = rf.predict_proba(X_train)\n",
        "y_proba_test = rf.predict_proba(X_val)"
      ]
    },
    {
      "cell_type": "markdown",
      "metadata": {
        "id": "-uijmhn62N1S"
      },
      "source": [
        "And the results of our baseline model. "
      ]
    },
    {
      "cell_type": "code",
      "execution_count": null,
      "metadata": {
        "colab": {
          "base_uri": "https://localhost:8080/"
        },
        "id": "anmIaddRk-SK",
        "outputId": "243abd7f-9dc3-4603-d0f3-daabd7580bbc"
      },
      "outputs": [
        {
          "output_type": "stream",
          "name": "stdout",
          "text": [
            "Accuracy on train data: 0.6712699915824916\n",
            "Accuracy on test data: 0.5045049272641953\n",
            "------------------------------\n",
            "F1-score on train data: 0.6670369482424398\n",
            "F1-score on test data: 0.35927458148793284\n",
            "------------------------------\n",
            "Cross-entropy on train data: 1.2993633296965548\n",
            "Cross-entropy on test data: 1.3616707572370121\n",
            "------------------------------\n"
          ]
        }
      ],
      "source": [
        "\n",
        "print(f'Accuracy on train data: {accuracy_score(y_train, y_pred_train)}')\n",
        "print(f'Accuracy on test data: {accuracy_score(y_val, y_pred_test)}')\n",
        "print('---'*10)\n",
        "print(f'F1-score on train data: {f1_score(y_train, y_pred_train, average=\"macro\")}')\n",
        "print(f'F1-score on test data: {f1_score(y_val, y_pred_test, average=\"macro\")}')\n",
        "print('---'*10)\n",
        "print(f'Cross-entropy on train data: {log_loss(y_train, y_proba_train, labels=labels)}')\n",
        "print(f'Cross-entropy on test data: {log_loss(y_val, y_proba_test, labels=labels)}')\n",
        "print('---'*10)"
      ]
    },
    {
      "cell_type": "markdown",
      "source": [
        ""
      ],
      "metadata": {
        "id": "2S8BPiyoolk3"
      }
    },
    {
      "cell_type": "code",
      "source": [
        "df_train.columns.shape"
      ],
      "metadata": {
        "colab": {
          "base_uri": "https://localhost:8080/"
        },
        "id": "eAFio3-zYSXg",
        "outputId": "f88b56a1-cac0-44b3-c4ca-23659f19ac35"
      },
      "execution_count": null,
      "outputs": [
        {
          "output_type": "execute_result",
          "data": {
            "text/plain": [
              "(65,)"
            ]
          },
          "metadata": {},
          "execution_count": 18
        }
      ]
    },
    {
      "cell_type": "code",
      "source": [
        ""
      ],
      "metadata": {
        "colab": {
          "base_uri": "https://localhost:8080/"
        },
        "id": "EvShqnj2YSQt",
        "outputId": "1fbffa90-0e75-429a-d0a3-131d6b3f8774"
      },
      "execution_count": null,
      "outputs": [
        {
          "output_type": "execute_result",
          "data": {
            "text/plain": [
              "NDVI_9    0.060823\n",
              "PVR_8     0.050328\n",
              "NDVI_8    0.047991\n",
              "PVR_9     0.040070\n",
              "PVR_11    0.038398\n",
              "            ...   \n",
              "B11_8     0.005966\n",
              "B11_10    0.005822\n",
              "B04_10    0.005800\n",
              "B03_10    0.005717\n",
              "B02_10    0.005712\n",
              "Length: 63, dtype: float64"
            ]
          },
          "metadata": {},
          "execution_count": 19
        }
      ]
    },
    {
      "cell_type": "markdown",
      "source": [
        ""
      ],
      "metadata": {
        "id": "I3hPE8fIJZ2K"
      }
    },
    {
      "cell_type": "markdown",
      "source": [
        "## hyperparameter tuning \n",
        "we are going to do the modelling by trying out a wide range of parameters and see what works! the main goal is to fight the overfitting.\n",
        "We will try adjusting the following set of hyperparameters:\n",
        "* n_estimators = number of trees in the foreset\n",
        "\n",
        "* max_features = max number of features considered for splitting a node\n",
        "* max_depth = max number of levels in each decision tree\n",
        "* min_samples_split = min number of data points placed in a node before the node is split\n",
        "* min_samples_leaf = min number of data points allowed in a leaf node\n"
      ],
      "metadata": {
        "id": "MDCIiy4Xo0Pt"
      }
    },
    {
      "cell_type": "code",
      "source": [
        "from sklearn.ensemble import RandomForestClassifier\n",
        "# Fitting the RF model\n",
        "rf = RandomForestClassifier(n_estimators = 200, random_state = 42, n_jobs = -1, verbose=1,max_features='auto', max_depth=20, criterion='gini',min_samples_split=80, min_samples_leaf=50)\n",
        "rf.fit(X_train, y_train)"
      ],
      "metadata": {
        "colab": {
          "base_uri": "https://localhost:8080/"
        },
        "id": "RZA8ZJ-BflVq",
        "outputId": "3bc019e8-b063-46a8-b80a-dd96729068c6"
      },
      "execution_count": null,
      "outputs": [
        {
          "output_type": "stream",
          "name": "stderr",
          "text": [
            "[Parallel(n_jobs=-1)]: Using backend ThreadingBackend with 4 concurrent workers.\n",
            "[Parallel(n_jobs=-1)]: Done  42 tasks      | elapsed:    3.3s\n",
            "[Parallel(n_jobs=-1)]: Done 192 tasks      | elapsed:   14.5s\n",
            "[Parallel(n_jobs=-1)]: Done 200 out of 200 | elapsed:   15.0s finished\n"
          ]
        },
        {
          "output_type": "execute_result",
          "data": {
            "text/plain": [
              "RandomForestClassifier(max_depth=20, min_samples_leaf=50, min_samples_split=80,\n",
              "                       n_estimators=200, n_jobs=-1, random_state=42, verbose=1)"
            ]
          },
          "metadata": {},
          "execution_count": 21
        }
      ]
    },
    {
      "cell_type": "code",
      "source": [
        "y_pred_train = rf.predict(X_train)\n",
        "y_pred_test = rf.predict(X_val)"
      ],
      "metadata": {
        "colab": {
          "base_uri": "https://localhost:8080/"
        },
        "id": "oOhjDzgkflFz",
        "outputId": "31ed0158-a3bf-4b0e-a11d-7dbf0f588bfb"
      },
      "execution_count": null,
      "outputs": [
        {
          "output_type": "stream",
          "name": "stderr",
          "text": [
            "[Parallel(n_jobs=4)]: Using backend ThreadingBackend with 4 concurrent workers.\n",
            "[Parallel(n_jobs=4)]: Done  42 tasks      | elapsed:    0.1s\n",
            "[Parallel(n_jobs=4)]: Done 192 tasks      | elapsed:    0.5s\n",
            "[Parallel(n_jobs=4)]: Done 200 out of 200 | elapsed:    0.5s finished\n",
            "[Parallel(n_jobs=4)]: Using backend ThreadingBackend with 4 concurrent workers.\n",
            "[Parallel(n_jobs=4)]: Done  42 tasks      | elapsed:    0.1s\n",
            "[Parallel(n_jobs=4)]: Done 192 tasks      | elapsed:    0.3s\n",
            "[Parallel(n_jobs=4)]: Done 200 out of 200 | elapsed:    0.3s finished\n"
          ]
        }
      ]
    },
    {
      "cell_type": "code",
      "source": [
        "y_proba_train = rf.predict_proba(X_train)\n",
        "y_proba_test = rf.predict_proba(X_val)"
      ],
      "metadata": {
        "colab": {
          "base_uri": "https://localhost:8080/"
        },
        "id": "rdNJQSS9fxAJ",
        "outputId": "73590755-c986-441a-f582-8c480c96aa12"
      },
      "execution_count": null,
      "outputs": [
        {
          "output_type": "stream",
          "name": "stderr",
          "text": [
            "[Parallel(n_jobs=4)]: Using backend ThreadingBackend with 4 concurrent workers.\n",
            "[Parallel(n_jobs=4)]: Done  42 tasks      | elapsed:    0.1s\n",
            "[Parallel(n_jobs=4)]: Done 192 tasks      | elapsed:    0.4s\n",
            "[Parallel(n_jobs=4)]: Done 200 out of 200 | elapsed:    0.5s finished\n",
            "[Parallel(n_jobs=4)]: Using backend ThreadingBackend with 4 concurrent workers.\n",
            "[Parallel(n_jobs=4)]: Done  42 tasks      | elapsed:    0.1s\n",
            "[Parallel(n_jobs=4)]: Done 192 tasks      | elapsed:    0.3s\n",
            "[Parallel(n_jobs=4)]: Done 200 out of 200 | elapsed:    0.3s finished\n"
          ]
        }
      ]
    },
    {
      "cell_type": "markdown",
      "source": [
        "Result of hyperparameter tuning"
      ],
      "metadata": {
        "id": "NxBOwhv2JTRo"
      }
    },
    {
      "cell_type": "code",
      "source": [
        "\n",
        "print(f'Accuracy on train data: {accuracy_score(y_train, y_pred_train)}')\n",
        "print(f'Accuracy on test data: {accuracy_score(y_val, y_pred_test)}')\n",
        "print('---'*10)\n",
        "print(f'F1-score on train data: {f1_score(y_train, y_pred_train, average=\"macro\")}')\n",
        "print(f'F1-score on test data: {f1_score(y_val, y_pred_test, average=\"macro\")}')\n",
        "print('---'*10)\n",
        "print(f'Cross-entropy on train data: {log_loss(y_train, y_proba_train, labels=labels)}')\n",
        "print(f'Cross-entropy on test data: {log_loss(y_val, y_proba_test, labels=labels)}')\n",
        "print('---'*10)"
      ],
      "metadata": {
        "colab": {
          "base_uri": "https://localhost:8080/"
        },
        "id": "0eT3I31ifw5S",
        "outputId": "0ce2ec29-12cb-4eba-d288-5354e4897746"
      },
      "execution_count": null,
      "outputs": [
        {
          "output_type": "stream",
          "name": "stdout",
          "text": [
            "Accuracy on train data: 0.5538983585858586\n",
            "Accuracy on test data: 0.47672454246832474\n",
            "------------------------------\n",
            "F1-score on train data: 0.5406959285357528\n",
            "F1-score on test data: 0.3384350818818562\n",
            "------------------------------\n",
            "Cross-entropy on train data: 1.4586724203091486\n",
            "Cross-entropy on test data: 1.4170664347259196\n",
            "------------------------------\n"
          ]
        }
      ]
    },
    {
      "cell_type": "markdown",
      "source": [
        "## Hyperparameter tuning via Bayesian optimization"
      ],
      "metadata": {
        "id": "2ybOqCm9vZ7w"
      }
    },
    {
      "cell_type": "markdown",
      "source": [
        "1st Round "
      ],
      "metadata": {
        "id": "LrwqU-UfG3mB"
      }
    },
    {
      "cell_type": "code",
      "source": [
        "# hp.uniform for float number\n",
        "# hp.quniform for int that are a multiple from the last number, \n",
        "# for example 3, 15, 1 means any whole number between 3 and 15\n",
        "\n",
        "\n",
        "space={\n",
        "    'criterion': hp.choice('criterion',('gini', 'entropy')),\n",
        "    'n_estimators': hp.quniform('n_estimators', 200, 800,100),\n",
        "    'random_state': RSEED,\n",
        "    'bootstrap':hp.choice('bootstrap',('True', 'False')),\n",
        "    'max_features':hp.choice('max_features',('auto', 'sqrt')),\n",
        "    'min_samples_leaf': hp.quniform('min_samples_leaf',20, 60,10),\n",
        "    'max_depth': hp.quniform('max_depth', 10, 40,5),\n",
        "    'min_samples_split':hp.quniform('min_samples_split',20, 80,10),\n",
        "    }\n",
        "print(hyperopt.pyll.stochastic.sample(space))"
      ],
      "metadata": {
        "colab": {
          "base_uri": "https://localhost:8080/"
        },
        "id": "42AKPNrEu4v9",
        "outputId": "d1a57f63-5c8e-4335-fad2-ed2b62ae3452"
      },
      "execution_count": null,
      "outputs": [
        {
          "output_type": "stream",
          "name": "stdout",
          "text": [
            "{'bootstrap': 'True', 'criterion': 'entropy', 'max_depth': 35.0, 'max_features': 'auto', 'min_samples_leaf': 40.0, 'min_samples_split': 40.0, 'n_estimators': 700.0, 'random_state': 42}\n"
          ]
        }
      ]
    },
    {
      "cell_type": "code",
      "source": [
        "def objective(space):\n",
        "    rfc = RandomForestClassifier(\n",
        "        criterion =space['criterion'],\n",
        "        n_estimators=int(space['n_estimators']),\n",
        "        random_state=space['random_state'],\n",
        "        bootstrap =space['bootstrap'],\n",
        "        max_features =space['max_features'],\n",
        "         min_samples_leaf=int(space['min_samples_leaf']),\n",
        "        max_depth=int(space['max_depth']),\n",
        "        min_samples_split=int(space['min_samples_split']) \n",
        "        )\n",
        "    \n",
        "    evaluation = [\n",
        "                  ( X_train, y_train), \n",
        "                  ( X_val, y_val)\n",
        "    ]\n",
        "                \n",
        "    rfc.fit(\n",
        "        X_train, y_train\n",
        "        )\n",
        "    \n",
        "    y_pred_val = rfc.predict(X_val)\n",
        "    f1 = f1_score(y_val, y_pred_val, average=\"macro\")\n",
        "    print (\"SCORE:\", f1)\n",
        "    return {'loss': -f1, 'status': STATUS_OK }"
      ],
      "metadata": {
        "id": "tOLFcBGQu4nl"
      },
      "execution_count": null,
      "outputs": []
    },
    {
      "cell_type": "code",
      "source": [
        "trials = Trials()\n",
        "\n",
        "best_hyperparams = fmin(fn = objective,\n",
        "                        space = space,\n",
        "                        algo = tpe.suggest,\n",
        "                        max_evals = 30,\n",
        "                        trials = trials)"
      ],
      "metadata": {
        "colab": {
          "base_uri": "https://localhost:8080/"
        },
        "id": "MqKdRRweu4ir",
        "outputId": "8821f002-2bdd-4682-95de-5e0515440c1f"
      },
      "execution_count": null,
      "outputs": [
        {
          "output_type": "stream",
          "name": "stdout",
          "text": [
            "SCORE:\n",
            "0.37265443683848254\n",
            "SCORE:\n",
            "0.3253407404693183\n",
            "SCORE:\n",
            "0.35402651541164154\n",
            "SCORE:\n",
            "0.35360320903807146\n",
            "SCORE:\n",
            "0.35273556770956876\n",
            "SCORE:\n",
            "0.3396041864633153\n",
            "SCORE:\n",
            "0.3725194757375259\n",
            "SCORE:\n",
            "0.36284435589544056\n",
            "SCORE:\n",
            "0.3687237608878585\n",
            "SCORE:\n",
            "0.3139896686237828\n",
            "SCORE:\n",
            "0.3338474085475112\n",
            "SCORE:\n",
            "0.3394928813681316\n",
            "SCORE:\n",
            "0.3484612046640352\n",
            "SCORE:\n",
            "0.35289643913651353\n",
            "SCORE:\n",
            "0.37265443683848254\n",
            "SCORE:\n",
            "0.3393193480276922\n",
            "SCORE:\n",
            "0.34854377341884657\n",
            "SCORE:\n",
            "0.33400026842874614\n",
            "SCORE:\n",
            "0.3543236553754764\n",
            "SCORE:\n",
            "0.32474184103139236\n",
            "SCORE:\n",
            "0.37265443683848254\n",
            "SCORE:\n",
            "0.3721580360330483\n",
            "SCORE:\n",
            "0.37265443683848254\n",
            "SCORE:\n",
            "0.3555328836871643\n",
            "SCORE:\n",
            "0.3405849417774403\n",
            "SCORE:\n",
            "0.37265443683848254\n",
            "SCORE:\n",
            "0.35360320903807146\n",
            "SCORE:\n",
            "0.3721580360330483\n",
            "SCORE:\n",
            "0.36606454180668774\n",
            "SCORE:\n",
            "0.3542045457665173\n",
            "100%|██████████| 30/30 [2:46:36<00:00, 333.21s/it, best loss: -0.37265443683848254]\n"
          ]
        }
      ]
    },
    {
      "cell_type": "code",
      "source": [
        "print(\"The best hyperparameters are : \",\"\\n\")\n",
        "print(best_hyperparams)"
      ],
      "metadata": {
        "colab": {
          "base_uri": "https://localhost:8080/"
        },
        "id": "KOH1ZGbOvMvG",
        "outputId": "af4fbda9-c899-4598-c926-4dec73105aa0"
      },
      "execution_count": null,
      "outputs": [
        {
          "output_type": "stream",
          "name": "stdout",
          "text": [
            "The best hyperparameters are :  \n",
            "\n",
            "{'bootstrap': 1, 'criterion': 1, 'max_depth': 35.0, 'max_features': 1, 'min_samples_leaf': 20.0, 'min_samples_split': 30.0, 'n_estimators': 600.0}\n"
          ]
        }
      ]
    },
    {
      "cell_type": "code",
      "source": [
        "best= RandomForestClassifier(n_estimators=600,\n",
        "                                                    min_samples_split = 30,\n",
        "                                                    min_samples_leaf = 20,\n",
        "                                                    max_features = 1,\n",
        "                                                    max_depth = 35,\n",
        "                                                    bootstrap = 1\n",
        "                                                    )"
      ],
      "metadata": {
        "id": "jnA_LLxkvMj7"
      },
      "execution_count": null,
      "outputs": []
    },
    {
      "cell_type": "code",
      "source": [
        "best.fit(X_train, y_train)"
      ],
      "metadata": {
        "colab": {
          "base_uri": "https://localhost:8080/"
        },
        "id": "ybaCbls09kCx",
        "outputId": "bbc4f5cc-45cc-4998-c4f3-9d00508b3bd0"
      },
      "execution_count": null,
      "outputs": [
        {
          "output_type": "execute_result",
          "data": {
            "text/plain": [
              "RandomForestClassifier(bootstrap=1, max_depth=35, max_features=1,\n",
              "                       min_samples_leaf=20, min_samples_split=30,\n",
              "                       n_estimators=600)"
            ]
          },
          "metadata": {},
          "execution_count": 38
        }
      ]
    },
    {
      "cell_type": "code",
      "source": [
        "y_predu_train = best.predict(X_train)\n",
        "y_predu_test = best.predict(X_val)\n",
        "y_probab_train = best.predict_proba(X_train)\n",
        "y_probab_test = best.predict_proba(X_val)"
      ],
      "metadata": {
        "id": "fSHg6BoY93vv"
      },
      "execution_count": null,
      "outputs": []
    },
    {
      "cell_type": "code",
      "source": [
        "\n",
        "print(f'Accuracy on train data: {accuracy_score(y_train, y_predu_train)}')\n",
        "print(f'Accuracy on test data: {accuracy_score(y_val, y_predu_test)}')\n",
        "print('---'*10)\n",
        "print(f'F1-score on train data: {f1_score(y_train, y_predu_train, average=\"macro\")}')\n",
        "print(f'F1-score on test data: {f1_score(y_val, y_predu_test, average=\"macro\")}')\n",
        "print('---'*10)\n",
        "print(f'Cross-entropy on train data: {log_loss(y_train, y_probab_train, labels=labels)}')\n",
        "print(f'Cross-entropy on test data: {log_loss(y_val, y_probab_test, labels=labels)}')\n",
        "print('---'*10)"
      ],
      "metadata": {
        "colab": {
          "base_uri": "https://localhost:8080/"
        },
        "id": "0GcJ-DaAVZFA",
        "outputId": "92e8c11c-9926-4173-9d51-dcab38532f94"
      },
      "execution_count": null,
      "outputs": [
        {
          "output_type": "stream",
          "name": "stdout",
          "text": [
            "Accuracy on train data: 0.6882891414141414\n",
            "Accuracy on test data: 0.4917878930079775\n",
            "------------------------------\n",
            "F1-score on train data: 0.6836331877709291\n",
            "F1-score on test data: 0.3545702612910124\n",
            "------------------------------\n",
            "Cross-entropy on train data: 1.4310877547307561\n",
            "Cross-entropy on test data: 1.48234380766628\n",
            "------------------------------\n"
          ]
        }
      ]
    },
    {
      "cell_type": "markdown",
      "source": [
        "2nd Round"
      ],
      "metadata": {
        "id": "PioGwpPZV06H"
      }
    },
    {
      "cell_type": "code",
      "source": [
        "\n",
        "space={\n",
        "    'criterion': hp.choice('criterion',('gini', 'entropy')),\n",
        "    'n_estimators': hp.quniform('n_estimators', 200,2000,200),\n",
        "    'random_state': RSEED,\n",
        "    'bootstrap':hp.choice('bootstrap',('True', 'False')),\n",
        "    'max_features':hp.choice('max_features',('auto', 'sqrt')),\n",
        "    'min_samples_leaf': hp.quniform('min_samples_leaf',4,6,2),\n",
        "    'max_depth': hp.quniform('max_depth', 10, 110,11),\n",
        "    'min_samples_split':hp.quniform('min_samples_split',10,25,5),\n",
        "    }\n",
        "print(hyperopt.pyll.stochastic.sample(space))"
      ],
      "metadata": {
        "colab": {
          "base_uri": "https://localhost:8080/"
        },
        "id": "iN2U6NFMjOEf",
        "outputId": "33c7bc71-e451-4551-bcbd-c6b561ed27be"
      },
      "execution_count": null,
      "outputs": [
        {
          "output_type": "stream",
          "name": "stdout",
          "text": [
            "{'bootstrap': 'True', 'criterion': 'entropy', 'max_depth': 110.0, 'max_features': 'sqrt', 'min_samples_leaf': 4.0, 'min_samples_split': 25.0, 'n_estimators': 400.0, 'random_state': 42}\n"
          ]
        }
      ]
    },
    {
      "cell_type": "code",
      "source": [
        "def objective(space):\n",
        "    rfc = RandomForestClassifier(\n",
        "        criterion =space['criterion'],\n",
        "        n_estimators=int(space['n_estimators']),\n",
        "        random_state=space['random_state'],\n",
        "        bootstrap =space['bootstrap'],\n",
        "        max_features =space['max_features'],\n",
        "         min_samples_leaf=int(space['min_samples_leaf']),\n",
        "        max_depth=int(space['max_depth']),\n",
        "        min_samples_split=int(space['min_samples_split']) \n",
        "        )\n",
        "    \n",
        "    evaluation = [\n",
        "                  ( X_train, y_train), \n",
        "                  ( X_val, y_val)\n",
        "    ]\n",
        "                \n",
        "    rfc.fit(\n",
        "        X_train, y_train\n",
        "        )\n",
        "    \n",
        "    y_pred_val = rfc.predict(X_val)\n",
        "    f1 = f1_score(y_val, y_pred_val, average=\"macro\")\n",
        "    print (\"SCORE:\", f1)\n",
        "    return {'loss': -f1, 'status': STATUS_OK }"
      ],
      "metadata": {
        "id": "NIouum7QjNk2"
      },
      "execution_count": null,
      "outputs": []
    },
    {
      "cell_type": "code",
      "source": [
        "trials = Trials()\n",
        "\n",
        "best_hyperparams = fmin(fn = objective,\n",
        "                        space = space,\n",
        "                        algo = tpe.suggest,\n",
        "                        max_evals = 30,\n",
        "                        trials = trials)"
      ],
      "metadata": {
        "colab": {
          "base_uri": "https://localhost:8080/"
        },
        "id": "pFjKfDGAjNTO",
        "outputId": "4f0b517d-184d-47c4-a3cd-bc7e847a2248"
      },
      "execution_count": null,
      "outputs": [
        {
          "output_type": "stream",
          "name": "stdout",
          "text": [
            "SCORE:\n",
            "0.4275209686489616\n",
            "SCORE:\n",
            "0.4104194601738944\n",
            "SCORE:\n",
            "0.426268859953671\n",
            "SCORE:\n",
            "0.41943001770830446\n",
            "SCORE:\n",
            "0.4067888069157578\n",
            "SCORE:\n",
            "0.42741002384733556\n",
            "SCORE:\n",
            "0.40288949505165167\n",
            "SCORE:\n",
            "0.42524987347648097\n",
            "SCORE:\n",
            "0.4351450151673339\n",
            "SCORE:\n",
            "0.41327201238580713\n",
            "SCORE:\n",
            "0.4244361656637772\n",
            "SCORE:\n",
            "0.41233734492473645\n",
            "SCORE:\n",
            "0.41296514839073784\n",
            "SCORE:\n",
            "0.41156977719352206\n",
            "SCORE:\n",
            "0.4261694857143402\n",
            "SCORE:\n",
            "0.4181700207391175\n",
            "SCORE:\n",
            "0.4082755441141816\n",
            "SCORE:\n",
            "0.426268859953671\n",
            "SCORE:\n",
            "0.4189605467272247\n",
            "SCORE:\n",
            "0.4352576284890531\n",
            "SCORE:\n",
            "0.37122366129309037\n",
            "SCORE:\n",
            "0.3712643724928292\n",
            "SCORE:\n",
            "0.4340504743523874\n",
            "SCORE:\n",
            "0.435797712692577\n",
            "SCORE:\n",
            "0.4363314925164333\n",
            "SCORE:\n",
            "0.4363314925164333\n",
            "SCORE:\n",
            "0.4363314925164333\n",
            "SCORE:\n",
            "0.4363314925164333\n",
            "SCORE:\n",
            "0.43668492006600396\n",
            "SCORE:\n",
            "0.43668492006600396\n",
            "100%|██████████| 30/30 [5:45:28<00:00, 690.96s/it, best loss: -0.43668492006600396]\n"
          ]
        }
      ]
    },
    {
      "cell_type": "code",
      "source": [
        "print(\"The best hyperparameters are : \",\"\\n\")\n",
        "print(best_hyperparams)"
      ],
      "metadata": {
        "colab": {
          "base_uri": "https://localhost:8080/"
        },
        "id": "RKbNdxVUjNIn",
        "outputId": "8a46b222-26f8-4be5-bb04-a82c06bcbea6"
      },
      "execution_count": null,
      "outputs": [
        {
          "output_type": "stream",
          "name": "stdout",
          "text": [
            "The best hyperparameters are :  \n",
            "\n",
            "{'bootstrap': 0, 'criterion': 0, 'max_depth': 88.0, 'max_features': 1, 'min_samples_leaf': 4.0, 'min_samples_split': 10.0, 'n_estimators': 2000.0}\n"
          ]
        }
      ]
    },
    {
      "cell_type": "code",
      "source": [
        "best= RandomForestClassifier(n_estimators=2000,\n",
        "                                                    min_samples_split = 10,\n",
        "                                                    min_samples_leaf = 4,\n",
        "                                                    max_features = 1,\n",
        "                                                    max_depth = 88,\n",
        "                                                    bootstrap = 0)"
      ],
      "metadata": {
        "id": "MsXT-ji9jM7o"
      },
      "execution_count": null,
      "outputs": []
    },
    {
      "cell_type": "code",
      "source": [
        "best.fit(X_train, y_train)"
      ],
      "metadata": {
        "colab": {
          "base_uri": "https://localhost:8080/"
        },
        "id": "ewPCZFk9VzPV",
        "outputId": "ba893cc9-c30f-4d7e-ac81-00f2b844c956"
      },
      "execution_count": null,
      "outputs": [
        {
          "output_type": "execute_result",
          "data": {
            "text/plain": [
              "RandomForestClassifier(bootstrap=0, max_depth=88, max_features=1,\n",
              "                       min_samples_leaf=4, min_samples_split=10,\n",
              "                       n_estimators=2000)"
            ]
          },
          "metadata": {},
          "execution_count": 17
        }
      ]
    },
    {
      "cell_type": "code",
      "source": [
        "y_predu_train = best.predict(X_train)\n",
        "y_predu_test = best.predict(X_val)\n",
        "y_probab_train = best.predict_proba(X_train)\n",
        "y_probab_test = best.predict_proba(X_val)"
      ],
      "metadata": {
        "id": "HnEGR78sj9h4"
      },
      "execution_count": null,
      "outputs": []
    },
    {
      "cell_type": "code",
      "source": [
        "\n",
        "print(f'Accuracy on train data: {accuracy_score(y_train, y_predu_train)}')\n",
        "print(f'Accuracy on test data: {accuracy_score(y_val, y_predu_test)}')\n",
        "print('---'*10)\n",
        "print(f'F1-score on train data: {f1_score(y_train, y_predu_train, average=\"macro\")}')\n",
        "print(f'F1-score on test data: {f1_score(y_val, y_predu_test, average=\"macro\")}')\n",
        "print('---'*10)\n",
        "print(f'Cross-entropy on train data: {log_loss(y_train, y_probab_train, labels=labels)}')\n",
        "print(f'Cross-entropy on test data: {log_loss(y_val, y_probab_test, labels=labels)}')\n",
        "print('---'*10)"
      ],
      "metadata": {
        "colab": {
          "base_uri": "https://localhost:8080/"
        },
        "id": "c469euaMj9IG",
        "outputId": "46e94423-906d-4563-ace0-5aeac5262617"
      },
      "execution_count": null,
      "outputs": [
        {
          "output_type": "stream",
          "name": "stdout",
          "text": [
            "Accuracy on train data: 0.9930292508417509\n",
            "Accuracy on test data: 0.5709056780854059\n",
            "------------------------------\n",
            "F1-score on train data: 0.9930380095369691\n",
            "F1-score on test data: 0.43595085330059785\n",
            "------------------------------\n",
            "Cross-entropy on train data: 0.6793454111532213\n",
            "Cross-entropy on test data: 1.2866951265147946\n",
            "------------------------------\n"
          ]
        }
      ]
    },
    {
      "cell_type": "markdown",
      "source": [
        "## Random Hyperparameter Grid\n",
        "To use RandomizedSearchCV, we first need to create a parameter grid to sample from during fitting:\n"
      ],
      "metadata": {
        "id": "4J9x3hLI-kLc"
      }
    },
    {
      "cell_type": "code",
      "execution_count": null,
      "metadata": {
        "colab": {
          "base_uri": "https://localhost:8080/"
        },
        "id": "LNENnqP-jytc",
        "outputId": "ab980530-4ee0-43e9-8829-7fa9465eb9bd"
      },
      "outputs": [
        {
          "output_type": "stream",
          "name": "stdout",
          "text": [
            "{'bootstrap': [True, False],\n",
            " 'max_depth': [10, 20, 30, 40, 50, 60, 70, 80, 90, 100, 110, None],\n",
            " 'max_features': ['auto', 'sqrt'],\n",
            " 'min_samples_leaf': [1, 2, 4],\n",
            " 'min_samples_split': [2, 5, 10],\n",
            " 'n_estimators': [10, 42, 74, 106, 138, 171, 203, 235, 267, 300]}\n"
          ]
        },
        {
          "output_type": "execute_result",
          "data": {
            "text/plain": [
              "{'bootstrap': [True, False],\n",
              " 'max_depth': [10, 20, 30, 40, 50, 60, 70, 80, 90, 100, None],\n",
              " 'max_features': ['auto', 'sqrt'],\n",
              " 'min_samples_leaf': [1, 2, 4],\n",
              " 'min_samples_split': [2, 5, 10],\n",
              " 'n_estimators': [200, 400, 600, 800, 1000, 1200, 1400, 1600, 1800, 2000]}"
            ]
          },
          "metadata": {},
          "execution_count": 20
        }
      ],
      "source": [
        "from sklearn.model_selection import RandomizedSearchCV\n",
        "from pprint import pprint\n",
        "# Number of trees in random forest\n",
        "n_estimators = [int(x) for x in np.linspace(start = 10, stop = 300, num = 10)]\n",
        "# Number of features to consider at every split\n",
        "max_features = ['auto', 'sqrt']\n",
        "# Maximum number of levels in tree\n",
        "max_depth = [int(x) for x in np.linspace(10, 110, num = 11)]\n",
        "max_depth.append(None)\n",
        "# Minimum number of samples required to split a node\n",
        "min_samples_split = [2, 5, 10]\n",
        "# Minimum number of samples required at each leaf node\n",
        "min_samples_leaf = [1, 2, 4]\n",
        "# Method of selecting samples for training each tree\n",
        "bootstrap = [True, False]\n",
        "# Create the random grid\n",
        "random_grid = {'n_estimators': n_estimators,\n",
        "               'max_features': max_features,\n",
        "               'max_depth': max_depth,\n",
        "               'min_samples_split': min_samples_split,\n",
        "               'min_samples_leaf': min_samples_leaf,\n",
        "               'bootstrap': bootstrap}\n",
        "pprint(random_grid)\n",
        "{'bootstrap': [True, False],\n",
        " 'max_depth': [10, 20, 30, 40, 50, 60, 70, 80, 90, 100, None],\n",
        " 'max_features': ['auto', 'sqrt'],\n",
        " 'min_samples_leaf': [1, 2, 4],\n",
        " 'min_samples_split': [2, 5, 10],\n",
        " 'n_estimators': [200, 400, 600, 800, 1000, 1200, 1400, 1600, 1800, 2000]}"
      ]
    },
    {
      "cell_type": "markdown",
      "source": [
        "Now, we instantiate the random search and fit it"
      ],
      "metadata": {
        "id": "QuEylmKtQVzQ"
      }
    },
    {
      "cell_type": "code",
      "execution_count": null,
      "metadata": {
        "id": "MjzX2Hf8jytd",
        "colab": {
          "base_uri": "https://localhost:8080/"
        },
        "outputId": "ce6667f6-56e1-41d6-8a0e-80e860d4b9f7"
      },
      "outputs": [
        {
          "output_type": "stream",
          "name": "stdout",
          "text": [
            "Fitting 3 folds for each of 10 candidates, totalling 30 fits\n"
          ]
        },
        {
          "output_type": "stream",
          "name": "stderr",
          "text": [
            "[Parallel(n_jobs=-1)]: Using backend LokyBackend with 4 concurrent workers.\n",
            "[Parallel(n_jobs=-1)]: Done  42 tasks      | elapsed:   20.3s\n",
            "[Parallel(n_jobs=-1)]: Done 192 tasks      | elapsed:  1.4min\n",
            "[Parallel(n_jobs=-1)]: Done 235 out of 235 | elapsed:  1.7min finished\n",
            "[Parallel(n_jobs=4)]: Using backend ThreadingBackend with 4 concurrent workers.\n",
            "[Parallel(n_jobs=4)]: Done  42 tasks      | elapsed:    0.1s\n",
            "[Parallel(n_jobs=4)]: Done 192 tasks      | elapsed:    0.3s\n",
            "[Parallel(n_jobs=4)]: Done 235 out of 235 | elapsed:    0.3s finished\n"
          ]
        },
        {
          "output_type": "stream",
          "name": "stdout",
          "text": [
            "[CV] END bootstrap=False, max_depth=110, max_features=sqrt, min_samples_leaf=2, min_samples_split=10, n_estimators=235; total time= 1.7min\n"
          ]
        },
        {
          "output_type": "stream",
          "name": "stderr",
          "text": [
            "[Parallel(n_jobs=-1)]: Using backend LokyBackend with 4 concurrent workers.\n",
            "[Parallel(n_jobs=-1)]: Done  42 tasks      | elapsed:   19.3s\n",
            "[Parallel(n_jobs=-1)]: Done 192 tasks      | elapsed:  1.4min\n",
            "[Parallel(n_jobs=-1)]: Done 235 out of 235 | elapsed:  1.7min finished\n",
            "[Parallel(n_jobs=4)]: Using backend ThreadingBackend with 4 concurrent workers.\n",
            "[Parallel(n_jobs=4)]: Done  42 tasks      | elapsed:    0.1s\n",
            "[Parallel(n_jobs=4)]: Done 192 tasks      | elapsed:    0.3s\n",
            "[Parallel(n_jobs=4)]: Done 235 out of 235 | elapsed:    0.3s finished\n"
          ]
        },
        {
          "output_type": "stream",
          "name": "stdout",
          "text": [
            "[CV] END bootstrap=False, max_depth=110, max_features=sqrt, min_samples_leaf=2, min_samples_split=10, n_estimators=235; total time= 1.7min\n"
          ]
        },
        {
          "output_type": "stream",
          "name": "stderr",
          "text": [
            "[Parallel(n_jobs=-1)]: Using backend LokyBackend with 4 concurrent workers.\n",
            "[Parallel(n_jobs=-1)]: Done  42 tasks      | elapsed:   20.2s\n",
            "[Parallel(n_jobs=-1)]: Done 192 tasks      | elapsed:  1.5min\n",
            "[Parallel(n_jobs=-1)]: Done 235 out of 235 | elapsed:  1.8min finished\n",
            "[Parallel(n_jobs=4)]: Using backend ThreadingBackend with 4 concurrent workers.\n",
            "[Parallel(n_jobs=4)]: Done  42 tasks      | elapsed:    0.1s\n",
            "[Parallel(n_jobs=4)]: Done 192 tasks      | elapsed:    0.3s\n",
            "[Parallel(n_jobs=4)]: Done 235 out of 235 | elapsed:    0.3s finished\n",
            "[Parallel(n_jobs=-1)]: Using backend LokyBackend with 4 concurrent workers.\n"
          ]
        },
        {
          "output_type": "stream",
          "name": "stdout",
          "text": [
            "[CV] END bootstrap=False, max_depth=110, max_features=sqrt, min_samples_leaf=2, min_samples_split=10, n_estimators=235; total time= 1.8min\n"
          ]
        },
        {
          "output_type": "stream",
          "name": "stderr",
          "text": [
            "[Parallel(n_jobs=-1)]: Done  42 out of  42 | elapsed:   11.1s finished\n",
            "[Parallel(n_jobs=4)]: Using backend ThreadingBackend with 4 concurrent workers.\n",
            "[Parallel(n_jobs=4)]: Done  42 out of  42 | elapsed:    0.1s finished\n"
          ]
        },
        {
          "output_type": "stream",
          "name": "stdout",
          "text": [
            "[CV] END bootstrap=True, max_depth=80, max_features=auto, min_samples_leaf=4, min_samples_split=10, n_estimators=42; total time=  11.4s\n"
          ]
        },
        {
          "output_type": "stream",
          "name": "stderr",
          "text": [
            "[Parallel(n_jobs=-1)]: Using backend LokyBackend with 4 concurrent workers.\n",
            "[Parallel(n_jobs=-1)]: Done  42 out of  42 | elapsed:   11.1s finished\n",
            "[Parallel(n_jobs=4)]: Using backend ThreadingBackend with 4 concurrent workers.\n",
            "[Parallel(n_jobs=4)]: Done  42 out of  42 | elapsed:    0.1s finished\n"
          ]
        },
        {
          "output_type": "stream",
          "name": "stdout",
          "text": [
            "[CV] END bootstrap=True, max_depth=80, max_features=auto, min_samples_leaf=4, min_samples_split=10, n_estimators=42; total time=  11.4s\n"
          ]
        },
        {
          "output_type": "stream",
          "name": "stderr",
          "text": [
            "[Parallel(n_jobs=-1)]: Using backend LokyBackend with 4 concurrent workers.\n",
            "[Parallel(n_jobs=-1)]: Done  42 out of  42 | elapsed:   11.5s finished\n",
            "[Parallel(n_jobs=4)]: Using backend ThreadingBackend with 4 concurrent workers.\n",
            "[Parallel(n_jobs=4)]: Done  42 out of  42 | elapsed:    0.1s finished\n"
          ]
        },
        {
          "output_type": "stream",
          "name": "stdout",
          "text": [
            "[CV] END bootstrap=True, max_depth=80, max_features=auto, min_samples_leaf=4, min_samples_split=10, n_estimators=42; total time=  11.8s\n"
          ]
        },
        {
          "output_type": "stream",
          "name": "stderr",
          "text": [
            "[Parallel(n_jobs=-1)]: Using backend LokyBackend with 4 concurrent workers.\n",
            "[Parallel(n_jobs=-1)]: Done  42 tasks      | elapsed:   18.6s\n",
            "[Parallel(n_jobs=-1)]: Done 106 out of 106 | elapsed:   45.3s finished\n",
            "[Parallel(n_jobs=4)]: Using backend ThreadingBackend with 4 concurrent workers.\n",
            "[Parallel(n_jobs=4)]: Done  42 tasks      | elapsed:    0.1s\n",
            "[Parallel(n_jobs=4)]: Done 106 out of 106 | elapsed:    0.2s finished\n",
            "[Parallel(n_jobs=-1)]: Using backend LokyBackend with 4 concurrent workers.\n"
          ]
        },
        {
          "output_type": "stream",
          "name": "stdout",
          "text": [
            "[CV] END bootstrap=False, max_depth=90, max_features=auto, min_samples_leaf=4, min_samples_split=2, n_estimators=106; total time=  45.7s\n"
          ]
        },
        {
          "output_type": "stream",
          "name": "stderr",
          "text": [
            "[Parallel(n_jobs=-1)]: Done  42 tasks      | elapsed:   18.7s\n",
            "[Parallel(n_jobs=-1)]: Done 106 out of 106 | elapsed:   45.4s finished\n",
            "[Parallel(n_jobs=4)]: Using backend ThreadingBackend with 4 concurrent workers.\n",
            "[Parallel(n_jobs=4)]: Done  42 tasks      | elapsed:    0.1s\n",
            "[Parallel(n_jobs=4)]: Done 106 out of 106 | elapsed:    0.2s finished\n",
            "[Parallel(n_jobs=-1)]: Using backend LokyBackend with 4 concurrent workers.\n"
          ]
        },
        {
          "output_type": "stream",
          "name": "stdout",
          "text": [
            "[CV] END bootstrap=False, max_depth=90, max_features=auto, min_samples_leaf=4, min_samples_split=2, n_estimators=106; total time=  45.7s\n"
          ]
        },
        {
          "output_type": "stream",
          "name": "stderr",
          "text": [
            "[Parallel(n_jobs=-1)]: Done  42 tasks      | elapsed:   19.7s\n",
            "[Parallel(n_jobs=-1)]: Done 106 out of 106 | elapsed:   47.8s finished\n",
            "[Parallel(n_jobs=4)]: Using backend ThreadingBackend with 4 concurrent workers.\n",
            "[Parallel(n_jobs=4)]: Done  42 tasks      | elapsed:    0.1s\n",
            "[Parallel(n_jobs=4)]: Done 106 out of 106 | elapsed:    0.2s finished\n",
            "[Parallel(n_jobs=-1)]: Using backend LokyBackend with 4 concurrent workers.\n"
          ]
        },
        {
          "output_type": "stream",
          "name": "stdout",
          "text": [
            "[CV] END bootstrap=False, max_depth=90, max_features=auto, min_samples_leaf=4, min_samples_split=2, n_estimators=106; total time=  48.2s\n"
          ]
        },
        {
          "output_type": "stream",
          "name": "stderr",
          "text": [
            "[Parallel(n_jobs=-1)]: Done  42 tasks      | elapsed:   11.9s\n",
            "[Parallel(n_jobs=-1)]: Done 171 out of 171 | elapsed:   46.8s finished\n",
            "[Parallel(n_jobs=4)]: Using backend ThreadingBackend with 4 concurrent workers.\n",
            "[Parallel(n_jobs=4)]: Done  42 tasks      | elapsed:    0.1s\n",
            "[Parallel(n_jobs=4)]: Done 171 out of 171 | elapsed:    0.3s finished\n",
            "[Parallel(n_jobs=-1)]: Using backend LokyBackend with 4 concurrent workers.\n"
          ]
        },
        {
          "output_type": "stream",
          "name": "stdout",
          "text": [
            "[CV] END bootstrap=True, max_depth=20, max_features=auto, min_samples_leaf=2, min_samples_split=2, n_estimators=171; total time=  47.3s\n"
          ]
        },
        {
          "output_type": "stream",
          "name": "stderr",
          "text": [
            "[Parallel(n_jobs=-1)]: Done  42 tasks      | elapsed:   12.1s\n",
            "[Parallel(n_jobs=-1)]: Done 171 out of 171 | elapsed:   47.0s finished\n",
            "[Parallel(n_jobs=4)]: Using backend ThreadingBackend with 4 concurrent workers.\n",
            "[Parallel(n_jobs=4)]: Done  42 tasks      | elapsed:    0.1s\n",
            "[Parallel(n_jobs=4)]: Done 171 out of 171 | elapsed:    0.3s finished\n",
            "[Parallel(n_jobs=-1)]: Using backend LokyBackend with 4 concurrent workers.\n"
          ]
        },
        {
          "output_type": "stream",
          "name": "stdout",
          "text": [
            "[CV] END bootstrap=True, max_depth=20, max_features=auto, min_samples_leaf=2, min_samples_split=2, n_estimators=171; total time=  47.4s\n"
          ]
        },
        {
          "output_type": "stream",
          "name": "stderr",
          "text": [
            "[Parallel(n_jobs=-1)]: Done  42 tasks      | elapsed:   12.5s\n",
            "[Parallel(n_jobs=-1)]: Done 171 out of 171 | elapsed:   48.6s finished\n",
            "[Parallel(n_jobs=4)]: Using backend ThreadingBackend with 4 concurrent workers.\n",
            "[Parallel(n_jobs=4)]: Done  42 tasks      | elapsed:    0.1s\n",
            "[Parallel(n_jobs=4)]: Done 171 out of 171 | elapsed:    0.2s finished\n",
            "[Parallel(n_jobs=-1)]: Using backend LokyBackend with 4 concurrent workers.\n"
          ]
        },
        {
          "output_type": "stream",
          "name": "stdout",
          "text": [
            "[CV] END bootstrap=True, max_depth=20, max_features=auto, min_samples_leaf=2, min_samples_split=2, n_estimators=171; total time=  49.1s\n"
          ]
        },
        {
          "output_type": "stream",
          "name": "stderr",
          "text": [
            "[Parallel(n_jobs=-1)]: Done  42 tasks      | elapsed:   11.5s\n",
            "[Parallel(n_jobs=-1)]: Done 192 tasks      | elapsed:   50.2s\n",
            "[Parallel(n_jobs=-1)]: Done 267 out of 267 | elapsed:  1.2min finished\n",
            "[Parallel(n_jobs=4)]: Using backend ThreadingBackend with 4 concurrent workers.\n",
            "[Parallel(n_jobs=4)]: Done  42 tasks      | elapsed:    0.1s\n",
            "[Parallel(n_jobs=4)]: Done 192 tasks      | elapsed:    0.3s\n",
            "[Parallel(n_jobs=4)]: Done 267 out of 267 | elapsed:    0.4s finished\n"
          ]
        },
        {
          "output_type": "stream",
          "name": "stdout",
          "text": [
            "[CV] END bootstrap=True, max_depth=20, max_features=sqrt, min_samples_leaf=4, min_samples_split=2, n_estimators=267; total time= 1.2min\n"
          ]
        },
        {
          "output_type": "stream",
          "name": "stderr",
          "text": [
            "[Parallel(n_jobs=-1)]: Using backend LokyBackend with 4 concurrent workers.\n",
            "[Parallel(n_jobs=-1)]: Done  42 tasks      | elapsed:   11.4s\n",
            "[Parallel(n_jobs=-1)]: Done 192 tasks      | elapsed:   50.6s\n",
            "[Parallel(n_jobs=-1)]: Done 267 out of 267 | elapsed:  1.2min finished\n",
            "[Parallel(n_jobs=4)]: Using backend ThreadingBackend with 4 concurrent workers.\n",
            "[Parallel(n_jobs=4)]: Done  42 tasks      | elapsed:    0.1s\n",
            "[Parallel(n_jobs=4)]: Done 192 tasks      | elapsed:    0.3s\n",
            "[Parallel(n_jobs=4)]: Done 267 out of 267 | elapsed:    0.4s finished\n"
          ]
        },
        {
          "output_type": "stream",
          "name": "stdout",
          "text": [
            "[CV] END bootstrap=True, max_depth=20, max_features=sqrt, min_samples_leaf=4, min_samples_split=2, n_estimators=267; total time= 1.2min\n"
          ]
        },
        {
          "output_type": "stream",
          "name": "stderr",
          "text": [
            "[Parallel(n_jobs=-1)]: Using backend LokyBackend with 4 concurrent workers.\n",
            "[Parallel(n_jobs=-1)]: Done  42 tasks      | elapsed:   12.0s\n",
            "[Parallel(n_jobs=-1)]: Done 192 tasks      | elapsed:   52.6s\n",
            "[Parallel(n_jobs=-1)]: Done 267 out of 267 | elapsed:  1.2min finished\n",
            "[Parallel(n_jobs=4)]: Using backend ThreadingBackend with 4 concurrent workers.\n",
            "[Parallel(n_jobs=4)]: Done  42 tasks      | elapsed:    0.1s\n",
            "[Parallel(n_jobs=4)]: Done 192 tasks      | elapsed:    0.3s\n",
            "[Parallel(n_jobs=4)]: Done 267 out of 267 | elapsed:    0.4s finished\n",
            "[Parallel(n_jobs=-1)]: Using backend LokyBackend with 4 concurrent workers.\n"
          ]
        },
        {
          "output_type": "stream",
          "name": "stdout",
          "text": [
            "[CV] END bootstrap=True, max_depth=20, max_features=sqrt, min_samples_leaf=4, min_samples_split=2, n_estimators=267; total time= 1.2min\n"
          ]
        },
        {
          "output_type": "stream",
          "name": "stderr",
          "text": [
            "[Parallel(n_jobs=-1)]: Done  42 tasks      | elapsed:   20.0s\n",
            "[Parallel(n_jobs=-1)]: Done  74 out of  74 | elapsed:   34.0s finished\n",
            "[Parallel(n_jobs=4)]: Using backend ThreadingBackend with 4 concurrent workers.\n",
            "[Parallel(n_jobs=4)]: Done  42 tasks      | elapsed:    0.1s\n",
            "[Parallel(n_jobs=4)]: Done  74 out of  74 | elapsed:    0.1s finished\n",
            "[Parallel(n_jobs=-1)]: Using backend LokyBackend with 4 concurrent workers.\n"
          ]
        },
        {
          "output_type": "stream",
          "name": "stdout",
          "text": [
            "[CV] END bootstrap=False, max_depth=110, max_features=sqrt, min_samples_leaf=1, min_samples_split=5, n_estimators=74; total time=  34.3s\n"
          ]
        },
        {
          "output_type": "stream",
          "name": "stderr",
          "text": [
            "[Parallel(n_jobs=-1)]: Done  42 tasks      | elapsed:   20.0s\n",
            "[Parallel(n_jobs=-1)]: Done  74 out of  74 | elapsed:   34.0s finished\n",
            "[Parallel(n_jobs=4)]: Using backend ThreadingBackend with 4 concurrent workers.\n",
            "[Parallel(n_jobs=4)]: Done  42 tasks      | elapsed:    0.1s\n",
            "[Parallel(n_jobs=4)]: Done  74 out of  74 | elapsed:    0.1s finished\n",
            "[Parallel(n_jobs=-1)]: Using backend LokyBackend with 4 concurrent workers.\n"
          ]
        },
        {
          "output_type": "stream",
          "name": "stdout",
          "text": [
            "[CV] END bootstrap=False, max_depth=110, max_features=sqrt, min_samples_leaf=1, min_samples_split=5, n_estimators=74; total time=  34.4s\n"
          ]
        },
        {
          "output_type": "stream",
          "name": "stderr",
          "text": [
            "[Parallel(n_jobs=-1)]: Done  42 tasks      | elapsed:   21.1s\n",
            "[Parallel(n_jobs=-1)]: Done  74 out of  74 | elapsed:   36.0s finished\n",
            "[Parallel(n_jobs=4)]: Using backend ThreadingBackend with 4 concurrent workers.\n",
            "[Parallel(n_jobs=4)]: Done  42 tasks      | elapsed:    0.1s\n",
            "[Parallel(n_jobs=4)]: Done  74 out of  74 | elapsed:    0.1s finished\n",
            "[Parallel(n_jobs=-1)]: Using backend LokyBackend with 4 concurrent workers.\n"
          ]
        },
        {
          "output_type": "stream",
          "name": "stdout",
          "text": [
            "[CV] END bootstrap=False, max_depth=110, max_features=sqrt, min_samples_leaf=1, min_samples_split=5, n_estimators=74; total time=  36.4s\n"
          ]
        },
        {
          "output_type": "stream",
          "name": "stderr",
          "text": [
            "[Parallel(n_jobs=-1)]: Done  42 tasks      | elapsed:   20.1s\n",
            "[Parallel(n_jobs=-1)]: Done 192 tasks      | elapsed:  1.5min\n",
            "[Parallel(n_jobs=-1)]: Done 267 out of 267 | elapsed:  2.0min finished\n",
            "[Parallel(n_jobs=4)]: Using backend ThreadingBackend with 4 concurrent workers.\n",
            "[Parallel(n_jobs=4)]: Done  42 tasks      | elapsed:    0.1s\n",
            "[Parallel(n_jobs=4)]: Done 192 tasks      | elapsed:    0.3s\n",
            "[Parallel(n_jobs=4)]: Done 267 out of 267 | elapsed:    0.4s finished\n"
          ]
        },
        {
          "output_type": "stream",
          "name": "stdout",
          "text": [
            "[CV] END bootstrap=False, max_depth=40, max_features=auto, min_samples_leaf=1, min_samples_split=2, n_estimators=267; total time= 2.0min\n"
          ]
        },
        {
          "output_type": "stream",
          "name": "stderr",
          "text": [
            "[Parallel(n_jobs=-1)]: Using backend LokyBackend with 4 concurrent workers.\n",
            "[Parallel(n_jobs=-1)]: Done  42 tasks      | elapsed:   20.1s\n",
            "[Parallel(n_jobs=-1)]: Done 192 tasks      | elapsed:  1.5min\n",
            "[Parallel(n_jobs=-1)]: Done 267 out of 267 | elapsed:  2.0min finished\n",
            "[Parallel(n_jobs=4)]: Using backend ThreadingBackend with 4 concurrent workers.\n",
            "[Parallel(n_jobs=4)]: Done  42 tasks      | elapsed:    0.1s\n",
            "[Parallel(n_jobs=4)]: Done 192 tasks      | elapsed:    0.3s\n",
            "[Parallel(n_jobs=4)]: Done 267 out of 267 | elapsed:    0.4s finished\n"
          ]
        },
        {
          "output_type": "stream",
          "name": "stdout",
          "text": [
            "[CV] END bootstrap=False, max_depth=40, max_features=auto, min_samples_leaf=1, min_samples_split=2, n_estimators=267; total time= 2.0min\n"
          ]
        },
        {
          "output_type": "stream",
          "name": "stderr",
          "text": [
            "[Parallel(n_jobs=-1)]: Using backend LokyBackend with 4 concurrent workers.\n",
            "[Parallel(n_jobs=-1)]: Done  42 tasks      | elapsed:   21.2s\n",
            "[Parallel(n_jobs=-1)]: Done 192 tasks      | elapsed:  1.6min\n",
            "[Parallel(n_jobs=-1)]: Done 267 out of 267 | elapsed:  2.2min finished\n",
            "[Parallel(n_jobs=4)]: Using backend ThreadingBackend with 4 concurrent workers.\n",
            "[Parallel(n_jobs=4)]: Done  42 tasks      | elapsed:    0.1s\n",
            "[Parallel(n_jobs=4)]: Done 192 tasks      | elapsed:    0.3s\n",
            "[Parallel(n_jobs=4)]: Done 267 out of 267 | elapsed:    0.4s finished\n"
          ]
        },
        {
          "output_type": "stream",
          "name": "stdout",
          "text": [
            "[CV] END bootstrap=False, max_depth=40, max_features=auto, min_samples_leaf=1, min_samples_split=2, n_estimators=267; total time= 2.2min\n"
          ]
        },
        {
          "output_type": "stream",
          "name": "stderr",
          "text": [
            "[Parallel(n_jobs=-1)]: Using backend LokyBackend with 4 concurrent workers.\n",
            "[Parallel(n_jobs=-1)]: Done  42 tasks      | elapsed:   19.9s\n",
            "[Parallel(n_jobs=-1)]: Done  74 out of  74 | elapsed:   33.9s finished\n",
            "[Parallel(n_jobs=4)]: Using backend ThreadingBackend with 4 concurrent workers.\n",
            "[Parallel(n_jobs=4)]: Done  42 tasks      | elapsed:    0.1s\n",
            "[Parallel(n_jobs=4)]: Done  74 out of  74 | elapsed:    0.1s finished\n",
            "[Parallel(n_jobs=-1)]: Using backend LokyBackend with 4 concurrent workers.\n"
          ]
        },
        {
          "output_type": "stream",
          "name": "stdout",
          "text": [
            "[CV] END bootstrap=False, max_depth=60, max_features=sqrt, min_samples_leaf=1, min_samples_split=2, n_estimators=74; total time=  34.2s\n"
          ]
        },
        {
          "output_type": "stream",
          "name": "stderr",
          "text": [
            "[Parallel(n_jobs=-1)]: Done  42 tasks      | elapsed:   19.9s\n",
            "[Parallel(n_jobs=-1)]: Done  74 out of  74 | elapsed:   34.0s finished\n",
            "[Parallel(n_jobs=4)]: Using backend ThreadingBackend with 4 concurrent workers.\n",
            "[Parallel(n_jobs=4)]: Done  42 tasks      | elapsed:    0.1s\n",
            "[Parallel(n_jobs=4)]: Done  74 out of  74 | elapsed:    0.1s finished\n",
            "[Parallel(n_jobs=-1)]: Using backend LokyBackend with 4 concurrent workers.\n"
          ]
        },
        {
          "output_type": "stream",
          "name": "stdout",
          "text": [
            "[CV] END bootstrap=False, max_depth=60, max_features=sqrt, min_samples_leaf=1, min_samples_split=2, n_estimators=74; total time=  34.4s\n"
          ]
        },
        {
          "output_type": "stream",
          "name": "stderr",
          "text": [
            "[Parallel(n_jobs=-1)]: Done  42 tasks      | elapsed:   21.0s\n",
            "[Parallel(n_jobs=-1)]: Done  74 out of  74 | elapsed:   35.8s finished\n",
            "[Parallel(n_jobs=4)]: Using backend ThreadingBackend with 4 concurrent workers.\n",
            "[Parallel(n_jobs=4)]: Done  42 tasks      | elapsed:    0.1s\n",
            "[Parallel(n_jobs=4)]: Done  74 out of  74 | elapsed:    0.1s finished\n",
            "[Parallel(n_jobs=-1)]: Using backend LokyBackend with 4 concurrent workers.\n"
          ]
        },
        {
          "output_type": "stream",
          "name": "stdout",
          "text": [
            "[CV] END bootstrap=False, max_depth=60, max_features=sqrt, min_samples_leaf=1, min_samples_split=2, n_estimators=74; total time=  36.2s\n"
          ]
        },
        {
          "output_type": "stream",
          "name": "stderr",
          "text": [
            "[Parallel(n_jobs=-1)]: Done  10 out of  10 | elapsed:    3.0s finished\n",
            "[Parallel(n_jobs=4)]: Using backend ThreadingBackend with 4 concurrent workers.\n",
            "[Parallel(n_jobs=4)]: Done  10 out of  10 | elapsed:    0.0s finished\n"
          ]
        },
        {
          "output_type": "stream",
          "name": "stdout",
          "text": [
            "[CV] END bootstrap=True, max_depth=100, max_features=sqrt, min_samples_leaf=2, min_samples_split=5, n_estimators=10; total time=   3.2s\n"
          ]
        },
        {
          "output_type": "stream",
          "name": "stderr",
          "text": [
            "[Parallel(n_jobs=-1)]: Using backend LokyBackend with 4 concurrent workers.\n",
            "[Parallel(n_jobs=-1)]: Done  10 out of  10 | elapsed:    3.0s finished\n",
            "[Parallel(n_jobs=4)]: Using backend ThreadingBackend with 4 concurrent workers.\n",
            "[Parallel(n_jobs=4)]: Done  10 out of  10 | elapsed:    0.0s finished\n"
          ]
        },
        {
          "output_type": "stream",
          "name": "stdout",
          "text": [
            "[CV] END bootstrap=True, max_depth=100, max_features=sqrt, min_samples_leaf=2, min_samples_split=5, n_estimators=10; total time=   3.2s\n"
          ]
        },
        {
          "output_type": "stream",
          "name": "stderr",
          "text": [
            "[Parallel(n_jobs=-1)]: Using backend LokyBackend with 4 concurrent workers.\n",
            "[Parallel(n_jobs=-1)]: Done  10 out of  10 | elapsed:    3.0s finished\n",
            "[Parallel(n_jobs=4)]: Using backend ThreadingBackend with 4 concurrent workers.\n",
            "[Parallel(n_jobs=4)]: Done  10 out of  10 | elapsed:    0.0s finished\n"
          ]
        },
        {
          "output_type": "stream",
          "name": "stdout",
          "text": [
            "[CV] END bootstrap=True, max_depth=100, max_features=sqrt, min_samples_leaf=2, min_samples_split=5, n_estimators=10; total time=   3.3s\n"
          ]
        },
        {
          "output_type": "stream",
          "name": "stderr",
          "text": [
            "[Parallel(n_jobs=-1)]: Using backend LokyBackend with 4 concurrent workers.\n",
            "[Parallel(n_jobs=-1)]: Done  42 out of  42 | elapsed:   18.1s finished\n",
            "[Parallel(n_jobs=4)]: Using backend ThreadingBackend with 4 concurrent workers.\n",
            "[Parallel(n_jobs=4)]: Done  42 out of  42 | elapsed:    0.1s finished\n"
          ]
        },
        {
          "output_type": "stream",
          "name": "stdout",
          "text": [
            "[CV] END bootstrap=False, max_depth=20, max_features=auto, min_samples_leaf=4, min_samples_split=10, n_estimators=42; total time=  18.3s\n"
          ]
        },
        {
          "output_type": "stream",
          "name": "stderr",
          "text": [
            "[Parallel(n_jobs=-1)]: Using backend LokyBackend with 4 concurrent workers.\n",
            "[Parallel(n_jobs=-1)]: Done  42 out of  42 | elapsed:   18.1s finished\n",
            "[Parallel(n_jobs=4)]: Using backend ThreadingBackend with 4 concurrent workers.\n",
            "[Parallel(n_jobs=4)]: Done  42 out of  42 | elapsed:    0.1s finished\n"
          ]
        },
        {
          "output_type": "stream",
          "name": "stdout",
          "text": [
            "[CV] END bootstrap=False, max_depth=20, max_features=auto, min_samples_leaf=4, min_samples_split=10, n_estimators=42; total time=  18.4s\n"
          ]
        },
        {
          "output_type": "stream",
          "name": "stderr",
          "text": [
            "[Parallel(n_jobs=-1)]: Using backend LokyBackend with 4 concurrent workers.\n",
            "[Parallel(n_jobs=-1)]: Done  42 out of  42 | elapsed:   19.0s finished\n",
            "[Parallel(n_jobs=4)]: Using backend ThreadingBackend with 4 concurrent workers.\n",
            "[Parallel(n_jobs=4)]: Done  42 out of  42 | elapsed:    0.1s finished\n"
          ]
        },
        {
          "output_type": "stream",
          "name": "stdout",
          "text": [
            "[CV] END bootstrap=False, max_depth=20, max_features=auto, min_samples_leaf=4, min_samples_split=10, n_estimators=42; total time=  19.3s\n"
          ]
        },
        {
          "output_type": "stream",
          "name": "stderr",
          "text": [
            "[Parallel(n_jobs=-1)]: Using backend ThreadingBackend with 4 concurrent workers.\n",
            "[Parallel(n_jobs=-1)]: Done  42 tasks      | elapsed:   32.0s\n",
            "[Parallel(n_jobs=-1)]: Done 192 tasks      | elapsed:  2.3min\n",
            "[Parallel(n_jobs=-1)]: Done 267 out of 267 | elapsed:  3.2min finished\n"
          ]
        },
        {
          "output_type": "execute_result",
          "data": {
            "text/plain": [
              "RandomizedSearchCV(cv=3,\n",
              "                   estimator=RandomForestClassifier(criterion='entropy',\n",
              "                                                    max_depth=10,\n",
              "                                                    n_estimators=200, n_jobs=-1,\n",
              "                                                    random_state=42,\n",
              "                                                    verbose=1),\n",
              "                   param_distributions={'bootstrap': [True, False],\n",
              "                                        'max_depth': [10, 20, 30, 40, 50, 60,\n",
              "                                                      70, 80, 90, 100, 110,\n",
              "                                                      None],\n",
              "                                        'max_features': ['auto', 'sqrt'],\n",
              "                                        'min_samples_leaf': [1, 2, 4],\n",
              "                                        'min_samples_split': [2, 5, 10],\n",
              "                                        'n_estimators': [10, 42, 74, 106, 138,\n",
              "                                                         171, 203, 235, 267,\n",
              "                                                         300]},\n",
              "                   verbose=2)"
            ]
          },
          "metadata": {},
          "execution_count": 21
        }
      ],
      "source": [
        "\n",
        "from sklearn.ensemble import RandomForestClassifier\n",
        "from sklearn.model_selection import GridSearchCV\n",
        "rf = RandomForestClassifier(n_estimators = 200, random_state = RSEED, n_jobs = -1, verbose=1,max_features='auto', max_depth=10, criterion='entropy')\n",
        "# Use the random grid to search for best hyperparameters\n",
        "# Random search of parameters, using 3 fold cross validation, \n",
        "# search across 100 different combinations, and use all available cores\n",
        "rf_random = RandomizedSearchCV(estimator=rf, param_distributions=random_grid, n_iter=10, cv=3, verbose=2)\n",
        "# Fit the random search model\n",
        "rf_random.fit(X_train, y_train)"
      ]
    },
    {
      "cell_type": "markdown",
      "source": [
        "We can view the best parameters from fitting the random search ,from these results we will do our best model"
      ],
      "metadata": {
        "id": "xPBrU6FEQoEv"
      }
    },
    {
      "cell_type": "code",
      "execution_count": null,
      "metadata": {
        "id": "cVd7yPhhjytd",
        "colab": {
          "base_uri": "https://localhost:8080/"
        },
        "outputId": "8a7f76b1-5b4c-4065-ed04-08ed42897bdd"
      },
      "outputs": [
        {
          "output_type": "execute_result",
          "data": {
            "text/plain": [
              "{'bootstrap': False,\n",
              " 'max_depth': 40,\n",
              " 'max_features': 'auto',\n",
              " 'min_samples_leaf': 1,\n",
              " 'min_samples_split': 2,\n",
              " 'n_estimators': 267}"
            ]
          },
          "metadata": {},
          "execution_count": 22
        }
      ],
      "source": [
        "best_random = rf_random.best_params_\n",
        "best_random"
      ]
    },
    {
      "cell_type": "code",
      "source": [
        "best= RandomForestClassifier(n_estimators=267,\n",
        "                                                    min_samples_split = 2,\n",
        "                                                    min_samples_leaf = 1,\n",
        "                                                    max_features = 'auto',\n",
        "                                                    max_depth = 40,\n",
        "                                                    bootstrap = False)"
      ],
      "metadata": {
        "id": "G-uNd40fOoOx"
      },
      "execution_count": null,
      "outputs": []
    },
    {
      "cell_type": "code",
      "source": [
        "best.fit(X_train, y_train)"
      ],
      "metadata": {
        "colab": {
          "base_uri": "https://localhost:8080/"
        },
        "id": "movzC622AI_P",
        "outputId": "d10ee935-6a28-497d-a746-4b7dbd1c06eb"
      },
      "execution_count": null,
      "outputs": [
        {
          "output_type": "execute_result",
          "data": {
            "text/plain": [
              "RandomForestClassifier(bootstrap=False, max_depth=40, n_estimators=267)"
            ]
          },
          "metadata": {},
          "execution_count": 24
        }
      ]
    },
    {
      "cell_type": "code",
      "execution_count": null,
      "metadata": {
        "id": "NErKNmdyjyte"
      },
      "outputs": [],
      "source": [
        "y_predi_train = best.predict(X_train)\n",
        "y_predi_test = best.predict(X_val)"
      ]
    },
    {
      "cell_type": "code",
      "source": [
        "y_proba_train = best.predict_proba(X_train)\n",
        "y_proba_test = best.predict_proba(X_val)"
      ],
      "metadata": {
        "id": "3Iq992vd7_sG"
      },
      "execution_count": null,
      "outputs": []
    },
    {
      "cell_type": "markdown",
      "source": [
        "Here is the Result using RandomizedsearchCV , comparing with the result of the baseline model ,we can see that the scores increased but still overfitting "
      ],
      "metadata": {
        "id": "EsfoZ8q-JAOS"
      }
    },
    {
      "cell_type": "code",
      "source": [
        "\n",
        "print(f'Accuracy on train data: {accuracy_score(y_train, y_predi_train)}')\n",
        "print(f'Accuracy on test data: {accuracy_score(y_val, y_predi_test)}')\n",
        "print('---'*10)\n",
        "print(f'F1-score on train data: {f1_score(y_train, y_predi_train, average=\"macro\")}')\n",
        "print(f'F1-score on test data: {f1_score(y_val, y_predi_test, average=\"macro\")}')\n",
        "print('---'*10)\n",
        "print(f'Cross-entropy on train data: {log_loss(y_train, y_proba_train, labels=labels)}')\n",
        "print(f'Cross-entropy on test data: {log_loss(y_val, y_proba_test, labels=labels)}')\n",
        "print('---'*10)"
      ],
      "metadata": {
        "colab": {
          "base_uri": "https://localhost:8080/"
        },
        "id": "U3N22mI7AGd_",
        "outputId": "078af9ea-e483-49cc-8af7-d759dfe80796"
      },
      "execution_count": null,
      "outputs": [
        {
          "output_type": "stream",
          "name": "stdout",
          "text": [
            "Accuracy on train data: 1.0\n",
            "Accuracy on test data: 0.6100422336931018\n",
            "------------------------------\n",
            "F1-score on train data: 1.0\n",
            "F1-score on test data: 0.47644495715286994\n",
            "------------------------------\n",
            "Cross-entropy on train data: 1.1209557333598322e-05\n",
            "Cross-entropy on test data: 1.0816152230082536\n",
            "------------------------------\n"
          ]
        }
      ]
    },
    {
      "cell_type": "markdown",
      "source": [
        "## Error Analysis \n"
      ],
      "metadata": {
        "id": "ItXnT-2_pz7V"
      }
    },
    {
      "cell_type": "markdown",
      "source": [
        "###Feature Importance \n",
        "We want to take a look in the features we have and see which one are really important ,To get the feature importances from the Random Forest model use the feature_importances_ attribute"
      ],
      "metadata": {
        "id": "vMV0GFuHHkFp"
      }
    },
    {
      "cell_type": "code",
      "source": [
        "# feature importance of the baseline model\n",
        "feature_imp = pd.Series(rf.feature_importances_,X_train.columns).sort_values(ascending=False)\n",
        "feature_imp"
      ],
      "metadata": {
        "colab": {
          "base_uri": "https://localhost:8080/"
        },
        "id": "bEEn-G0vICT7",
        "outputId": "84c0c812-d000-488c-bbc4-85d4f981643e"
      },
      "execution_count": null,
      "outputs": [
        {
          "output_type": "execute_result",
          "data": {
            "text/plain": [
              "NDVI_9    0.060823\n",
              "PVR_8     0.050328\n",
              "NDVI_8    0.047991\n",
              "PVR_9     0.040070\n",
              "PVR_11    0.038398\n",
              "            ...   \n",
              "B11_8     0.005966\n",
              "B11_10    0.005822\n",
              "B04_10    0.005800\n",
              "B03_10    0.005717\n",
              "B02_10    0.005712\n",
              "Length: 63, dtype: float64"
            ]
          },
          "metadata": {},
          "execution_count": 32
        }
      ]
    },
    {
      "cell_type": "markdown",
      "source": [
        "Let’s plot the importances (chart will be easier to interpret than values)"
      ],
      "metadata": {
        "id": "8QeH7sevJP3y"
      }
    },
    {
      "cell_type": "code",
      "source": [
        "\n",
        "# Creating a bar plot\n",
        "cmap =sns.color_palette('crest')\n",
        "plt.figure(figsize = (20, 17))\n",
        "sns.set(style=\"whitegrid\", font_scale = 1.3)\n",
        "sns.barplot(x=feature_imp, y=feature_imp.index)\n",
        "# Add labels to your graph\n",
        "plt.xlabel('Feature Importance Score')\n",
        "plt.ylabel('Features')\n",
        "plt.title(\"Visualizing Important Features\")\n",
        "plt.legend()\n",
        "plt.show()"
      ],
      "metadata": {
        "colab": {
          "base_uri": "https://localhost:8080/",
          "height": 550
        },
        "id": "rk_k_l-zIE1K",
        "outputId": "3bea817f-ca0b-4291-cf46-c054adeea0e4"
      },
      "execution_count": null,
      "outputs": [
        {
          "output_type": "stream",
          "name": "stderr",
          "text": [
            "No handles with labels found to put in legend.\n"
          ]
        },
        {
          "output_type": "display_data",
          "data": {
            "text/plain": [
              "<Figure size 1440x1224 with 1 Axes>"
            ],
            "image/png": "[encoded data removed]"
          },
          "metadata": {
            "needs_background": "light"
          }
        }
      ]
    },
    {
      "cell_type": "markdown",
      "source": [
        "We observe that, the six index features are found most important"
      ],
      "metadata": {
        "id": "nigsVzDUKQPu"
      }
    },
    {
      "cell_type": "markdown",
      "source": [
        "### Confusion matrix"
      ],
      "metadata": {
        "id": "BzlY1H6JHrRS"
      }
    },
    {
      "cell_type": "code",
      "source": [
        "# View confusion matrix for test data and predictions\n",
        "confusion_matrix(y_val, y_predi_test)"
      ],
      "metadata": {
        "colab": {
          "base_uri": "https://localhost:8080/"
        },
        "id": "OPo1yNZmFJIJ",
        "outputId": "07fd7ed6-4006-4cb2-f91a-bbbfdc5555dd"
      },
      "execution_count": null,
      "outputs": [
        {
          "output_type": "execute_result",
          "data": {
            "text/plain": [
              "array([[1037,  179,   63,   94,   53,  158,  365,   41,    0],\n",
              "       [ 245, 1860,  110,  287,  192,  326,  193,   86,    0],\n",
              "       [  60,  112,  927,  186,  225,   88,   63,  147,    0],\n",
              "       [ 104,  498,  113, 5183,  120,   70,   56,   24,    0],\n",
              "       [  30,   96,  198,  124, 1054,   55,   29,  152,    0],\n",
              "       [ 168,  186,   91,   32,  121,  948,  408,   65,    0],\n",
              "       [ 238,  111,   50,   24,   48,  317, 1894,   52,    0],\n",
              "       [  38,   28,    2,    3,    3,   55,  149,   97,    0],\n",
              "       [  11,   22,   80,    8,  112,   32,   20,  894,    0]])"
            ]
          },
          "metadata": {},
          "execution_count": 34
        }
      ]
    },
    {
      "cell_type": "code",
      "source": [
        "# Get and reshape confusion matrix data\n",
        "matrix = confusion_matrix(y_val, y_predi_test)\n",
        "matrix = matrix.astype('float') / matrix.sum(axis=1)[:, np.newaxis]\n",
        "\n",
        "# Build the plot\n",
        "plt.figure(figsize=(16,7))\n",
        "sns.set(font_scale=1.4)\n",
        "sns.heatmap(matrix, annot=True, annot_kws={'size':10},\n",
        "            cmap=plt.cm.Greens, linewidths=0.2)\n",
        "\n",
        "# Add labels to the plot\n",
        "class_names = ['Lucerne / Medics', 'Planted pastures', 'Fallow', \n",
        "               'Wine grapes', 'Weeds', 'Small grain grazing',    \n",
        "               'Wheat','Canola','Rooibos']\n",
        "tick_marks = np.arange(len(class_names))\n",
        "tick_marks2 = tick_marks + 0.5\n",
        "plt.xticks(tick_marks, class_names, rotation=25)\n",
        "plt.yticks(tick_marks2, class_names, rotation=0)\n",
        "plt.xlabel('Predicted label')\n",
        "plt.ylabel('True label')\n",
        "plt.title('Confusion Matrix for Random Forest Model')\n",
        "plt.show()"
      ],
      "metadata": {
        "colab": {
          "base_uri": "https://localhost:8080/",
          "height": 343
        },
        "id": "tODzBofhFJEy",
        "outputId": "484b015e-73c9-45b6-c722-4511485473c4"
      },
      "execution_count": null,
      "outputs": [
        {
          "output_type": "display_data",
          "data": {
            "text/plain": [
              "<Figure size 1152x504 with 2 Axes>"
            ],
            "image/png": "[encoded data removed]"
          },
          "metadata": {}
        }
      ]
    },
    {
      "cell_type": "markdown",
      "source": [
        "## Principal Components Analysis(PCA)\n",
        "Using dimension reduction, we can approximate the original dataset with fewer variables, while reducing computational power to run our model. Using PCA."
      ],
      "metadata": {
        "id": "twf4xxCLrUeC"
      }
    },
    {
      "cell_type": "code",
      "source": [
        "X_train.shape"
      ],
      "metadata": {
        "colab": {
          "base_uri": "https://localhost:8080/"
        },
        "id": "vtSCIRU2FJBh",
        "outputId": "e2028443-3382-4fea-d5f3-dd86aae7e4e2"
      },
      "execution_count": null,
      "outputs": [
        {
          "output_type": "execute_result",
          "data": {
            "text/plain": [
              "(38016, 63)"
            ]
          },
          "metadata": {},
          "execution_count": 36
        }
      ]
    },
    {
      "cell_type": "code",
      "source": [
        "X_train.columns"
      ],
      "metadata": {
        "colab": {
          "base_uri": "https://localhost:8080/"
        },
        "id": "XoqU7wvoZUM1",
        "outputId": "a3e91865-f4cd-4dfb-c995-008e63e5cbc2"
      },
      "execution_count": null,
      "outputs": [
        {
          "output_type": "execute_result",
          "data": {
            "text/plain": [
              "Index(['PVR_10', 'PVR_11', 'PVR_5', 'PVR_6', 'PVR_7', 'PVR_8', 'PVR_9',\n",
              "       'WET_10', 'WET_11', 'WET_5', 'WET_6', 'WET_7', 'WET_8', 'WET_9',\n",
              "       'NDVI_10', 'NDVI_11', 'NDVI_5', 'NDVI_6', 'NDVI_7', 'NDVI_8', 'NDVI_9',\n",
              "       'B12_10', 'B12_11', 'B12_5', 'B12_6', 'B12_7', 'B12_8', 'B12_9',\n",
              "       'B11_10', 'B11_11', 'B11_5', 'B11_6', 'B11_7', 'B11_8', 'B11_9',\n",
              "       'B02_10', 'B02_11', 'B02_5', 'B02_6', 'B02_7', 'B02_8', 'B02_9',\n",
              "       'B04_10', 'B04_11', 'B04_5', 'B04_6', 'B04_7', 'B04_8', 'B04_9',\n",
              "       'B03_10', 'B03_11', 'B03_5', 'B03_6', 'B03_7', 'B03_8', 'B03_9',\n",
              "       'B08_10', 'B08_11', 'B08_5', 'B08_6', 'B08_7', 'B08_8', 'B08_9'],\n",
              "      dtype='object')"
            ]
          },
          "metadata": {},
          "execution_count": 37
        }
      ]
    },
    {
      "cell_type": "code",
      "source": [
        "\n",
        "pca_test = PCA(n_components=63)\n",
        "pca_test.fit(X_train)\n",
        "sns.set(style='whitegrid')\n",
        "plt.plot(np.cumsum(pca_test.explained_variance_ratio_))\n",
        "plt.xlabel('number of components')\n",
        "plt.ylabel('cumulative explained variance')\n",
        "plt.axvline(linewidth=4, color='r', linestyle = '--', x=10, ymin=0, ymax=1)\n",
        "display(plt.show())\n",
        "evr = pca_test.explained_variance_ratio_\n",
        "cvr = np.cumsum(pca_test.explained_variance_ratio_)\n",
        "pca_df = pd.DataFrame()\n",
        "pca_df['Cumulative Variance Ratio'] = cvr\n",
        "pca_df['Explained Variance Ratio'] = evr\n",
        "display(pca_df.head(10))"
      ],
      "metadata": {
        "colab": {
          "base_uri": "https://localhost:8080/",
          "height": 649
        },
        "id": "YdTVEQLVFI1h",
        "outputId": "c528627b-006b-4c61-fd4b-f58e46d44329"
      },
      "execution_count": null,
      "outputs": [
        {
          "output_type": "display_data",
          "data": {
            "text/plain": [
              "<Figure size 432x288 with 1 Axes>"
            ],
            "image/png": "[encoded data removed]"
          },
          "metadata": {}
        },
        {
          "output_type": "display_data",
          "data": {
            "text/plain": [
              "None"
            ]
          },
          "metadata": {}
        },
        {
          "output_type": "display_data",
          "data": {
            "text/plain": [
              "   Cumulative Variance Ratio  Explained Variance Ratio\n",
              "0                   0.214377                  0.214377\n",
              "1                   0.380162                  0.165785\n",
              "2                   0.510257                  0.130095\n",
              "3                   0.632776                  0.122519\n",
              "4                   0.741409                  0.108633\n",
              "5                   0.838945                  0.097537\n",
              "6                   0.916885                  0.077940\n",
              "7                   0.934209                  0.017325\n",
              "8                   0.950590                  0.016380\n",
              "9                   0.961195                  0.010605"
            ],
            "text/html": [
              "\n",
              "  <div id=\"df-2ed84d7c-2709-4feb-b9e4-f4002040b9cf\">\n",
              "    <div class=\"colab-df-container\">\n",
              "      <div>\n",
              "<style scoped>\n",
              "    .dataframe tbody tr th:only-of-type {\n",
              "        vertical-align: middle;\n",
              "    }\n",
              "\n",
              "    .dataframe tbody tr th {\n",
              "        vertical-align: top;\n",
              "    }\n",
              "\n",
              "    .dataframe thead th {\n",
              "        text-align: right;\n",
              "    }\n",
              "</style>\n",
              "<table border=\"1\" class=\"dataframe\">\n",
              "  <thead>\n",
              "    <tr style=\"text-align: right;\">\n",
              "      <th></th>\n",
              "      <th>Cumulative Variance Ratio</th>\n",
              "      <th>Explained Variance Ratio</th>\n",
              "    </tr>\n",
              "  </thead>\n",
              "  <tbody>\n",
              "    <tr>\n",
              "      <th>0</th>\n",
              "      <td>0.214377</td>\n",
              "      <td>0.214377</td>\n",
              "    </tr>\n",
              "    <tr>\n",
              "      <th>1</th>\n",
              "      <td>0.380162</td>\n",
              "      <td>0.165785</td>\n",
              "    </tr>\n",
              "    <tr>\n",
              "      <th>2</th>\n",
              "      <td>0.510257</td>\n",
              "      <td>0.130095</td>\n",
              "    </tr>\n",
              "    <tr>\n",
              "      <th>3</th>\n",
              "      <td>0.632776</td>\n",
              "      <td>0.122519</td>\n",
              "    </tr>\n",
              "    <tr>\n",
              "      <th>4</th>\n",
              "      <td>0.741409</td>\n",
              "      <td>0.108633</td>\n",
              "    </tr>\n",
              "    <tr>\n",
              "      <th>5</th>\n",
              "      <td>0.838945</td>\n",
              "      <td>0.097537</td>\n",
              "    </tr>\n",
              "    <tr>\n",
              "      <th>6</th>\n",
              "      <td>0.916885</td>\n",
              "      <td>0.077940</td>\n",
              "    </tr>\n",
              "    <tr>\n",
              "      <th>7</th>\n",
              "      <td>0.934209</td>\n",
              "      <td>0.017325</td>\n",
              "    </tr>\n",
              "    <tr>\n",
              "      <th>8</th>\n",
              "      <td>0.950590</td>\n",
              "      <td>0.016380</td>\n",
              "    </tr>\n",
              "    <tr>\n",
              "      <th>9</th>\n",
              "      <td>0.961195</td>\n",
              "      <td>0.010605</td>\n",
              "    </tr>\n",
              "  </tbody>\n",
              "</table>\n",
              "</div>\n",
              "      <button class=\"colab-df-convert\" onclick=\"convertToInteractive('df-2ed84d7c-2709-4feb-b9e4-f4002040b9cf')\"\n",
              "              title=\"Convert this dataframe to an interactive table.\"\n",
              "              style=\"display:none;\">\n",
              "        \n",
              "  <svg xmlns=\"http://www.w3.org/2000/svg\" height=\"24px\"viewBox=\"0 0 24 24\"\n",
              "       width=\"24px\">\n",
              "    <path d=\"M0 0h24v24H0V0z\" fill=\"none\"/>\n",
              "    <path d=\"M18.56 5.44l.94 2.06.94-2.06 2.06-.94-2.06-.94-.94-2.06-.94 2.06-2.06.94zm-11 1L8.5 8.5l.94-2.06 2.06-.94-2.06-.94L8.5 2.5l-.94 2.06-2.06.94zm10 10l.94 2.06.94-2.06 2.06-.94-2.06-.94-.94-2.06-.94 2.06-2.06.94z\"/><path d=\"M17.41 7.96l-1.37-1.37c-.4-.4-.92-.59-1.43-.59-.52 0-1.04.2-1.43.59L10.3 9.45l-7.72 7.72c-.78.78-.78 2.05 0 2.83L4 21.41c.39.39.9.59 1.41.59.51 0 1.02-.2 1.41-.59l7.78-7.78 2.81-2.81c.8-.78.8-2.07 0-2.86zM5.41 20L4 18.59l7.72-7.72 1.47 1.35L5.41 20z\"/>\n",
              "  </svg>\n",
              "      </button>\n",
              "      \n",
              "  <style>\n",
              "    .colab-df-container {\n",
              "      display:flex;\n",
              "      flex-wrap:wrap;\n",
              "      gap: 12px;\n",
              "    }\n",
              "\n",
              "    .colab-df-convert {\n",
              "      background-color: #E8F0FE;\n",
              "      border: none;\n",
              "      border-radius: 50%;\n",
              "      cursor: pointer;\n",
              "      display: none;\n",
              "      fill: #1967D2;\n",
              "      height: 32px;\n",
              "      padding: 0 0 0 0;\n",
              "      width: 32px;\n",
              "    }\n",
              "\n",
              "    .colab-df-convert:hover {\n",
              "      background-color: #E2EBFA;\n",
              "      box-shadow: 0px 1px 2px rgba(60, 64, 67, 0.3), 0px 1px 3px 1px rgba(60, 64, 67, 0.15);\n",
              "      fill: #174EA6;\n",
              "    }\n",
              "\n",
              "    [theme=dark] .colab-df-convert {\n",
              "      background-color: #3B4455;\n",
              "      fill: #D2E3FC;\n",
              "    }\n",
              "\n",
              "    [theme=dark] .colab-df-convert:hover {\n",
              "      background-color: #434B5C;\n",
              "      box-shadow: 0px 1px 3px 1px rgba(0, 0, 0, 0.15);\n",
              "      filter: drop-shadow(0px 1px 2px rgba(0, 0, 0, 0.3));\n",
              "      fill: #FFFFFF;\n",
              "    }\n",
              "  </style>\n",
              "\n",
              "      <script>\n",
              "        const buttonEl =\n",
              "          document.querySelector('#df-2ed84d7c-2709-4feb-b9e4-f4002040b9cf button.colab-df-convert');\n",
              "        buttonEl.style.display =\n",
              "          google.colab.kernel.accessAllowed ? 'block' : 'none';\n",
              "\n",
              "        async function convertToInteractive(key) {\n",
              "          const element = document.querySelector('#df-2ed84d7c-2709-4feb-b9e4-f4002040b9cf');\n",
              "          const dataTable =\n",
              "            await google.colab.kernel.invokeFunction('convertToInteractive',\n",
              "                                                     [key], {});\n",
              "          if (!dataTable) return;\n",
              "\n",
              "          const docLinkHtml = 'Like what you see? Visit the ' +\n",
              "            '<a target=\"_blank\" href=https://colab.research.google.com/notebooks/data_table.ipynb>data table notebook</a>'\n",
              "            + ' to learn more about interactive tables.';\n",
              "          element.innerHTML = '';\n",
              "          dataTable['output_type'] = 'display_data';\n",
              "          await google.colab.output.renderOutput(dataTable, element);\n",
              "          const docLink = document.createElement('div');\n",
              "          docLink.innerHTML = docLinkHtml;\n",
              "          element.appendChild(docLink);\n",
              "        }\n",
              "      </script>\n",
              "    </div>\n",
              "  </div>\n",
              "  "
            ]
          },
          "metadata": {}
        }
      ]
    },
    {
      "cell_type": "markdown",
      "source": [
        "20 Principal Components explain the most variance.on plot we can see that after 20 components there is no variance.So by using PCA, the dimensions are reduces from 63 to 10"
      ],
      "metadata": {
        "id": "KHk1P379VpRs"
      }
    },
    {
      "cell_type": "code",
      "source": [
        "pca = PCA(n_components=10)\n",
        "pca.fit(X_train)\n",
        "X_train_pca = pca.transform(X_train)\n",
        "X_val_pca = pca.transform(X_val)"
      ],
      "metadata": {
        "id": "LIUk2pgeU3PU"
      },
      "execution_count": null,
      "outputs": []
    },
    {
      "cell_type": "markdown",
      "source": [
        "Each component is a linear combination of the original variables with corresponding “weights”. We can see these “weights” for each PCA component by creating a dataframe."
      ],
      "metadata": {
        "id": "mE70c_O-YW69"
      }
    },
    {
      "cell_type": "code",
      "source": [
        "pca_dims = []\n",
        "for x in range(0, len(pca_df)):\n",
        "    pca_dims.append('PCA Component {}'.format(x))\n",
        "pca_test_df = pd.DataFrame(pca_test.components_, columns=X_train.columns, index=pca_dims)\n",
        "pca_test_df.head(10).T"
      ],
      "metadata": {
        "colab": {
          "base_uri": "https://localhost:8080/",
          "height": 522
        },
        "id": "G_1ST3DNU3A3",
        "outputId": "7dd0b67d-f793-47b9-ee9a-89910b336ed8"
      },
      "execution_count": null,
      "outputs": [
        {
          "output_type": "execute_result",
          "data": {
            "text/plain": [
              "        PCA Component 0  PCA Component 1  PCA Component 2  PCA Component 3  \\\n",
              "PVR_10        -0.000093         0.000033         0.000014        -0.000027   \n",
              "PVR_11         0.000034        -0.000066         0.000057         0.000035   \n",
              "PVR_5          0.000023         0.000105         0.000255         0.000009   \n",
              "PVR_6         -0.000071        -0.000102         0.000031         0.000049   \n",
              "PVR_7         -0.000099        -0.000077         0.000052        -0.000041   \n",
              "...                 ...              ...              ...              ...   \n",
              "B08_5          0.025534         0.110473         0.348293         0.092367   \n",
              "B08_6         -0.183473        -0.209014         0.110345         0.159740   \n",
              "B08_7         -0.145698        -0.100528        -0.020586        -0.002413   \n",
              "B08_8         -0.065995        -0.050496        -0.093451         0.179870   \n",
              "B08_9          0.080147         0.129511        -0.117321         0.229913   \n",
              "\n",
              "        PCA Component 4  PCA Component 5  PCA Component 6  PCA Component 7  \\\n",
              "PVR_10        -0.000056         0.000029         0.000035        -0.000256   \n",
              "PVR_11        -0.000172         0.000023         0.000034        -0.000129   \n",
              "PVR_5          0.000067         0.000068         0.000067        -0.000164   \n",
              "PVR_6          0.000008        -0.000043        -0.000019        -0.000096   \n",
              "PVR_7         -0.000019         0.000042         0.000161        -0.000166   \n",
              "...                 ...              ...              ...              ...   \n",
              "B08_5          0.077253         0.077210         0.077841         0.045619   \n",
              "B08_6          0.042133        -0.200393        -0.110922        -0.063190   \n",
              "B08_7         -0.048941         0.046699         0.330561         0.099344   \n",
              "B08_8          0.078587         0.285681        -0.061382        -0.043454   \n",
              "B08_9          0.064560        -0.142786         0.143805        -0.106106   \n",
              "\n",
              "        PCA Component 8  PCA Component 9  \n",
              "PVR_10        -0.000104        -0.000015  \n",
              "PVR_11        -0.000031        -0.000008  \n",
              "PVR_5         -0.000055         0.000238  \n",
              "PVR_6         -0.000227        -0.000015  \n",
              "PVR_7         -0.000160         0.000061  \n",
              "...                 ...              ...  \n",
              "B08_5          0.041261        -0.096718  \n",
              "B08_6          0.156310        -0.003310  \n",
              "B08_7          0.039333         0.006819  \n",
              "B08_8         -0.058382         0.016838  \n",
              "B08_9         -0.066822         0.002765  \n",
              "\n",
              "[63 rows x 10 columns]"
            ],
            "text/html": [
              "\n",
              "  <div id=\"df-20b88c59-791d-4a9a-a30e-7439fd186fd9\">\n",
              "    <div class=\"colab-df-container\">\n",
              "      <div>\n",
              "<style scoped>\n",
              "    .dataframe tbody tr th:only-of-type {\n",
              "        vertical-align: middle;\n",
              "    }\n",
              "\n",
              "    .dataframe tbody tr th {\n",
              "        vertical-align: top;\n",
              "    }\n",
              "\n",
              "    .dataframe thead th {\n",
              "        text-align: right;\n",
              "    }\n",
              "</style>\n",
              "<table border=\"1\" class=\"dataframe\">\n",
              "  <thead>\n",
              "    <tr style=\"text-align: right;\">\n",
              "      <th></th>\n",
              "      <th>PCA Component 0</th>\n",
              "      <th>PCA Component 1</th>\n",
              "      <th>PCA Component 2</th>\n",
              "      <th>PCA Component 3</th>\n",
              "      <th>PCA Component 4</th>\n",
              "      <th>PCA Component 5</th>\n",
              "      <th>PCA Component 6</th>\n",
              "      <th>PCA Component 7</th>\n",
              "      <th>PCA Component 8</th>\n",
              "      <th>PCA Component 9</th>\n",
              "    </tr>\n",
              "  </thead>\n",
              "  <tbody>\n",
              "    <tr>\n",
              "      <th>PVR_10</th>\n",
              "      <td>-0.000093</td>\n",
              "      <td>0.000033</td>\n",
              "      <td>0.000014</td>\n",
              "      <td>-0.000027</td>\n",
              "      <td>-0.000056</td>\n",
              "      <td>0.000029</td>\n",
              "      <td>0.000035</td>\n",
              "      <td>-0.000256</td>\n",
              "      <td>-0.000104</td>\n",
              "      <td>-0.000015</td>\n",
              "    </tr>\n",
              "    <tr>\n",
              "      <th>PVR_11</th>\n",
              "      <td>0.000034</td>\n",
              "      <td>-0.000066</td>\n",
              "      <td>0.000057</td>\n",
              "      <td>0.000035</td>\n",
              "      <td>-0.000172</td>\n",
              "      <td>0.000023</td>\n",
              "      <td>0.000034</td>\n",
              "      <td>-0.000129</td>\n",
              "      <td>-0.000031</td>\n",
              "      <td>-0.000008</td>\n",
              "    </tr>\n",
              "    <tr>\n",
              "      <th>PVR_5</th>\n",
              "      <td>0.000023</td>\n",
              "      <td>0.000105</td>\n",
              "      <td>0.000255</td>\n",
              "      <td>0.000009</td>\n",
              "      <td>0.000067</td>\n",
              "      <td>0.000068</td>\n",
              "      <td>0.000067</td>\n",
              "      <td>-0.000164</td>\n",
              "      <td>-0.000055</td>\n",
              "      <td>0.000238</td>\n",
              "    </tr>\n",
              "    <tr>\n",
              "      <th>PVR_6</th>\n",
              "      <td>-0.000071</td>\n",
              "      <td>-0.000102</td>\n",
              "      <td>0.000031</td>\n",
              "      <td>0.000049</td>\n",
              "      <td>0.000008</td>\n",
              "      <td>-0.000043</td>\n",
              "      <td>-0.000019</td>\n",
              "      <td>-0.000096</td>\n",
              "      <td>-0.000227</td>\n",
              "      <td>-0.000015</td>\n",
              "    </tr>\n",
              "    <tr>\n",
              "      <th>PVR_7</th>\n",
              "      <td>-0.000099</td>\n",
              "      <td>-0.000077</td>\n",
              "      <td>0.000052</td>\n",
              "      <td>-0.000041</td>\n",
              "      <td>-0.000019</td>\n",
              "      <td>0.000042</td>\n",
              "      <td>0.000161</td>\n",
              "      <td>-0.000166</td>\n",
              "      <td>-0.000160</td>\n",
              "      <td>0.000061</td>\n",
              "    </tr>\n",
              "    <tr>\n",
              "      <th>...</th>\n",
              "      <td>...</td>\n",
              "      <td>...</td>\n",
              "      <td>...</td>\n",
              "      <td>...</td>\n",
              "      <td>...</td>\n",
              "      <td>...</td>\n",
              "      <td>...</td>\n",
              "      <td>...</td>\n",
              "      <td>...</td>\n",
              "      <td>...</td>\n",
              "    </tr>\n",
              "    <tr>\n",
              "      <th>B08_5</th>\n",
              "      <td>0.025534</td>\n",
              "      <td>0.110473</td>\n",
              "      <td>0.348293</td>\n",
              "      <td>0.092367</td>\n",
              "      <td>0.077253</td>\n",
              "      <td>0.077210</td>\n",
              "      <td>0.077841</td>\n",
              "      <td>0.045619</td>\n",
              "      <td>0.041261</td>\n",
              "      <td>-0.096718</td>\n",
              "    </tr>\n",
              "    <tr>\n",
              "      <th>B08_6</th>\n",
              "      <td>-0.183473</td>\n",
              "      <td>-0.209014</td>\n",
              "      <td>0.110345</td>\n",
              "      <td>0.159740</td>\n",
              "      <td>0.042133</td>\n",
              "      <td>-0.200393</td>\n",
              "      <td>-0.110922</td>\n",
              "      <td>-0.063190</td>\n",
              "      <td>0.156310</td>\n",
              "      <td>-0.003310</td>\n",
              "    </tr>\n",
              "    <tr>\n",
              "      <th>B08_7</th>\n",
              "      <td>-0.145698</td>\n",
              "      <td>-0.100528</td>\n",
              "      <td>-0.020586</td>\n",
              "      <td>-0.002413</td>\n",
              "      <td>-0.048941</td>\n",
              "      <td>0.046699</td>\n",
              "      <td>0.330561</td>\n",
              "      <td>0.099344</td>\n",
              "      <td>0.039333</td>\n",
              "      <td>0.006819</td>\n",
              "    </tr>\n",
              "    <tr>\n",
              "      <th>B08_8</th>\n",
              "      <td>-0.065995</td>\n",
              "      <td>-0.050496</td>\n",
              "      <td>-0.093451</td>\n",
              "      <td>0.179870</td>\n",
              "      <td>0.078587</td>\n",
              "      <td>0.285681</td>\n",
              "      <td>-0.061382</td>\n",
              "      <td>-0.043454</td>\n",
              "      <td>-0.058382</td>\n",
              "      <td>0.016838</td>\n",
              "    </tr>\n",
              "    <tr>\n",
              "      <th>B08_9</th>\n",
              "      <td>0.080147</td>\n",
              "      <td>0.129511</td>\n",
              "      <td>-0.117321</td>\n",
              "      <td>0.229913</td>\n",
              "      <td>0.064560</td>\n",
              "      <td>-0.142786</td>\n",
              "      <td>0.143805</td>\n",
              "      <td>-0.106106</td>\n",
              "      <td>-0.066822</td>\n",
              "      <td>0.002765</td>\n",
              "    </tr>\n",
              "  </tbody>\n",
              "</table>\n",
              "<p>63 rows × 10 columns</p>\n",
              "</div>\n",
              "      <button class=\"colab-df-convert\" onclick=\"convertToInteractive('df-20b88c59-791d-4a9a-a30e-7439fd186fd9')\"\n",
              "              title=\"Convert this dataframe to an interactive table.\"\n",
              "              style=\"display:none;\">\n",
              "        \n",
              "  <svg xmlns=\"http://www.w3.org/2000/svg\" height=\"24px\"viewBox=\"0 0 24 24\"\n",
              "       width=\"24px\">\n",
              "    <path d=\"M0 0h24v24H0V0z\" fill=\"none\"/>\n",
              "    <path d=\"M18.56 5.44l.94 2.06.94-2.06 2.06-.94-2.06-.94-.94-2.06-.94 2.06-2.06.94zm-11 1L8.5 8.5l.94-2.06 2.06-.94-2.06-.94L8.5 2.5l-.94 2.06-2.06.94zm10 10l.94 2.06.94-2.06 2.06-.94-2.06-.94-.94-2.06-.94 2.06-2.06.94z\"/><path d=\"M17.41 7.96l-1.37-1.37c-.4-.4-.92-.59-1.43-.59-.52 0-1.04.2-1.43.59L10.3 9.45l-7.72 7.72c-.78.78-.78 2.05 0 2.83L4 21.41c.39.39.9.59 1.41.59.51 0 1.02-.2 1.41-.59l7.78-7.78 2.81-2.81c.8-.78.8-2.07 0-2.86zM5.41 20L4 18.59l7.72-7.72 1.47 1.35L5.41 20z\"/>\n",
              "  </svg>\n",
              "      </button>\n",
              "      \n",
              "  <style>\n",
              "    .colab-df-container {\n",
              "      display:flex;\n",
              "      flex-wrap:wrap;\n",
              "      gap: 12px;\n",
              "    }\n",
              "\n",
              "    .colab-df-convert {\n",
              "      background-color: #E8F0FE;\n",
              "      border: none;\n",
              "      border-radius: 50%;\n",
              "      cursor: pointer;\n",
              "      display: none;\n",
              "      fill: #1967D2;\n",
              "      height: 32px;\n",
              "      padding: 0 0 0 0;\n",
              "      width: 32px;\n",
              "    }\n",
              "\n",
              "    .colab-df-convert:hover {\n",
              "      background-color: #E2EBFA;\n",
              "      box-shadow: 0px 1px 2px rgba(60, 64, 67, 0.3), 0px 1px 3px 1px rgba(60, 64, 67, 0.15);\n",
              "      fill: #174EA6;\n",
              "    }\n",
              "\n",
              "    [theme=dark] .colab-df-convert {\n",
              "      background-color: #3B4455;\n",
              "      fill: #D2E3FC;\n",
              "    }\n",
              "\n",
              "    [theme=dark] .colab-df-convert:hover {\n",
              "      background-color: #434B5C;\n",
              "      box-shadow: 0px 1px 3px 1px rgba(0, 0, 0, 0.15);\n",
              "      filter: drop-shadow(0px 1px 2px rgba(0, 0, 0, 0.3));\n",
              "      fill: #FFFFFF;\n",
              "    }\n",
              "  </style>\n",
              "\n",
              "      <script>\n",
              "        const buttonEl =\n",
              "          document.querySelector('#df-20b88c59-791d-4a9a-a30e-7439fd186fd9 button.colab-df-convert');\n",
              "        buttonEl.style.display =\n",
              "          google.colab.kernel.accessAllowed ? 'block' : 'none';\n",
              "\n",
              "        async function convertToInteractive(key) {\n",
              "          const element = document.querySelector('#df-20b88c59-791d-4a9a-a30e-7439fd186fd9');\n",
              "          const dataTable =\n",
              "            await google.colab.kernel.invokeFunction('convertToInteractive',\n",
              "                                                     [key], {});\n",
              "          if (!dataTable) return;\n",
              "\n",
              "          const docLinkHtml = 'Like what you see? Visit the ' +\n",
              "            '<a target=\"_blank\" href=https://colab.research.google.com/notebooks/data_table.ipynb>data table notebook</a>'\n",
              "            + ' to learn more about interactive tables.';\n",
              "          element.innerHTML = '';\n",
              "          dataTable['output_type'] = 'display_data';\n",
              "          await google.colab.output.renderOutput(dataTable, element);\n",
              "          const docLink = document.createElement('div');\n",
              "          docLink.innerHTML = docLinkHtml;\n",
              "          element.appendChild(docLink);\n",
              "        }\n",
              "      </script>\n",
              "    </div>\n",
              "  </div>\n",
              "  "
            ]
          },
          "metadata": {},
          "execution_count": 49
        }
      ]
    },
    {
      "cell_type": "markdown",
      "source": [
        "Now, we can fit our X_train_scaled_pca and y_train data to the Random Forest model, to see if we get any improvement on the model’s predictions."
      ],
      "metadata": {
        "id": "lME2ad_DYxxK"
      }
    },
    {
      "cell_type": "code",
      "source": [
        "rfc = RandomForestClassifier(n_estimators=42,\n",
        "                                                    min_samples_split = 2,\n",
        "                                                    min_samples_leaf = 2,\n",
        "                                                    max_features = 'auto',\n",
        "                                                    max_depth = 30,\n",
        "                                                    bootstrap = False)\n",
        "rfc.fit(X_train_pca, y_train)\n",
        "#display(rfc.score(X_train_pca, y_train))"
      ],
      "metadata": {
        "colab": {
          "base_uri": "https://localhost:8080/"
        },
        "id": "L4H2h6SUU2xK",
        "outputId": "cc83689f-f2a7-4723-e2b1-06e366303157"
      },
      "execution_count": null,
      "outputs": [
        {
          "output_type": "execute_result",
          "data": {
            "text/plain": [
              "RandomForestClassifier(bootstrap=False, max_depth=30, min_samples_leaf=2,\n",
              "                       n_estimators=42)"
            ]
          },
          "metadata": {},
          "execution_count": 50
        }
      ]
    },
    {
      "cell_type": "code",
      "source": [
        "y_predi_train = rfc.predict(X_train_pca)\n",
        "y_predi_test = rfc.predict(X_val_pca)"
      ],
      "metadata": {
        "id": "6zUTaD8DaQHg"
      },
      "execution_count": null,
      "outputs": []
    },
    {
      "cell_type": "code",
      "source": [
        "y_proba_train = rfc.predict_proba(X_train_pca)\n",
        "y_proba_test = rfc.predict_proba(X_val_pca)"
      ],
      "metadata": {
        "id": "Bj17WJiEaZzR"
      },
      "execution_count": null,
      "outputs": []
    },
    {
      "cell_type": "markdown",
      "source": [
        "From this result we can see no much improvement to avoid the overfitting"
      ],
      "metadata": {
        "id": "uExie38FY_29"
      }
    },
    {
      "cell_type": "code",
      "source": [
        "from sklearn.metrics import accuracy_score, f1_score, log_loss\n",
        "\n",
        "print(f'Accuracy on train data: {accuracy_score(y_train, y_predi_train)}')\n",
        "print(f'Accuracy on test data: {accuracy_score(y_val, y_predi_test)}')\n",
        "print('---'*10)\n",
        "print(f'F1-score on train data: {f1_score(y_train, y_predi_train, average=\"macro\")}')\n",
        "print(f'F1-score on test data: {f1_score(y_val, y_predi_test, average=\"macro\")}')\n",
        "print('---'*10)\n",
        "print(f'Cross-entropy on train data: {log_loss(y_train, y_proba_train, labels=labels)}')\n",
        "print(f'Cross-entropy on test data: {log_loss(y_val, y_proba_test, labels=labels)}')\n",
        "print('---'*10)"
      ],
      "metadata": {
        "colab": {
          "base_uri": "https://localhost:8080/"
        },
        "id": "KSEhW6xJaZeZ",
        "outputId": "c6085a39-d72e-44ae-c6e7-edb6f9038261"
      },
      "execution_count": null,
      "outputs": [
        {
          "output_type": "stream",
          "name": "stdout",
          "text": [
            "Accuracy on train data: 1.0\n",
            "Accuracy on test data: 0.4702956358517128\n",
            "------------------------------\n",
            "F1-score on train data: 1.0\n",
            "F1-score on test data: 0.3600215747690842\n",
            "------------------------------\n",
            "Cross-entropy on train data: 0.2150972694694973\n",
            "Cross-entropy on test data: 1.4722697819568982\n",
            "------------------------------\n"
          ]
        }
      ]
    }
  ],
  "metadata": {
    "colab": {
      "collapsed_sections": [],
      "machine_shape": "hm",
      "name": "Random_forest model.ipynb",
      "provenance": [],
      "toc_visible": true,
      "include_colab_link": true
    },
    "gpuClass": "standard",
    "kernelspec": {
      "display_name": "Python 3.9.8 ('.venv': venv)",
      "language": "python",
      "name": "python3"
    },
    "language_info": {
      "codemirror_mode": {
        "name": "ipython",
        "version": 3
      },
      "file_extension": ".py",
      "mimetype": "text/x-python",
      "name": "python",
      "nbconvert_exporter": "python",
      "pygments_lexer": "ipython3",
      "version": "3.9.8"
    },
    "orig_nbformat": 4,
    "vscode": {
      "interpreter": {
        "hash": "558383d52a52ef837c60afaa896631003b5778f054e8f204669e9936cd627072"
      }
    }
  },
  "nbformat": 4,
  "nbformat_minor": 0
}