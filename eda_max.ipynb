{
 "cells": [
  {
   "cell_type": "markdown",
   "metadata": {},
   "source": [
    "# EDA notebook\n",
    "*by Max*\n",
    "\n",
    "In this notebook I'll will do a general EDA on the data."
   ]
  },
  {
   "cell_type": "markdown",
   "metadata": {},
   "source": [
    "We start with importing the modules and loading the data."
   ]
  },
  {
   "cell_type": "code",
   "execution_count": null,
   "metadata": {},
   "outputs": [],
   "source": [
    "# Import the needed modules\n",
    "import numpy as np\n",
    "import pandas as pd"
   ]
  },
  {
   "cell_type": "code",
   "execution_count": null,
   "metadata": {},
   "outputs": [],
   "source": [
    "# Set the directory of the data \n",
    "OUTPUT_DIR = './data'\n",
    "# Load the base data from the CSV files\n",
    "df_meta = pd.read_pickle(f'{OUTPUT_DIR}/meta_data_fields_bands.pkl')\n",
    "df = pd.read_csv(f'{OUTPUT_DIR}/mean_band_perField_perDate.csv')"
   ]
  }
 ],
 "metadata": {
  "language_info": {
   "name": "python"
  },
  "orig_nbformat": 4
 },
 "nbformat": 4,
 "nbformat_minor": 2
}
